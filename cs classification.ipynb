{
 "cells": [
  {
   "cell_type": "markdown",
   "metadata": {},
   "source": [
    "# Problem statement:\n",
    "## Given the details such as basic bank detail, credit related information, age, occupation etc. \n",
    "## Classify people into three credit categories. The classes are Good, Standard, and Poor."
   ]
  },
  {
   "cell_type": "markdown",
   "metadata": {},
   "source": [
    "# Importing libraries"
   ]
  },
  {
   "cell_type": "code",
   "execution_count": 1,
   "metadata": {
    "ExecuteTime": {
     "end_time": "2022-10-06T15:41:58.182338Z",
     "start_time": "2022-10-06T15:41:55.605366Z"
    },
    "execution": {
     "iopub.execute_input": "2022-09-27T14:34:29.981284Z",
     "iopub.status.busy": "2022-09-27T14:34:29.980748Z",
     "iopub.status.idle": "2022-09-27T14:34:29.988290Z",
     "shell.execute_reply": "2022-09-27T14:34:29.986637Z",
     "shell.execute_reply.started": "2022-09-27T14:34:29.981242Z"
    }
   },
   "outputs": [],
   "source": [
    "import pandas as pd\n",
    "import numpy as np\n",
    "import matplotlib.pyplot as plt\n",
    "import seaborn as sns\n",
    "import warnings\n",
    "warnings.filterwarnings(\"ignore\")"
   ]
  },
  {
   "cell_type": "code",
   "execution_count": 2,
   "metadata": {
    "ExecuteTime": {
     "end_time": "2022-10-06T15:41:58.194413Z",
     "start_time": "2022-10-06T15:41:58.183349Z"
    },
    "execution": {
     "iopub.execute_input": "2022-09-27T14:34:30.032821Z",
     "iopub.status.busy": "2022-09-27T14:34:30.031734Z",
     "iopub.status.idle": "2022-09-27T14:34:30.036981Z",
     "shell.execute_reply": "2022-09-27T14:34:30.036096Z",
     "shell.execute_reply.started": "2022-09-27T14:34:30.032777Z"
    }
   },
   "outputs": [],
   "source": [
    "train_path = r'E:\\kaggle\\Credit_score_classification\\train/train.csv'\n",
    "test_path = r'E:\\kaggle\\Credit_score_classification\\test/test.csv'"
   ]
  },
  {
   "cell_type": "markdown",
   "metadata": {},
   "source": [
    "# Importing custom scoring and model comparison libraries"
   ]
  },
  {
   "cell_type": "code",
   "execution_count": 3,
   "metadata": {
    "ExecuteTime": {
     "end_time": "2022-10-06T15:41:59.384643Z",
     "start_time": "2022-10-06T15:41:58.194413Z"
    },
    "execution": {
     "iopub.execute_input": "2022-09-27T14:34:30.119422Z",
     "iopub.status.busy": "2022-09-27T14:34:30.118689Z",
     "iopub.status.idle": "2022-09-27T14:34:30.126273Z",
     "shell.execute_reply": "2022-09-27T14:34:30.125152Z",
     "shell.execute_reply.started": "2022-09-27T14:34:30.119372Z"
    }
   },
   "outputs": [],
   "source": [
    "#import sys\n",
    "    # caution: path[0] is reserved for script path (or '' in REPL)\n",
    "#sys.path.insert(1, '../input/scoring')\n",
    "\n",
    "import all_score_report,all_model_comparison"
   ]
  },
  {
   "cell_type": "code",
   "execution_count": 4,
   "metadata": {
    "ExecuteTime": {
     "end_time": "2022-10-06T15:42:00.131685Z",
     "start_time": "2022-10-06T15:41:59.384643Z"
    },
    "execution": {
     "iopub.execute_input": "2022-09-27T14:34:30.371314Z",
     "iopub.status.busy": "2022-09-27T14:34:30.370904Z",
     "iopub.status.idle": "2022-09-27T14:34:31.148823Z",
     "shell.execute_reply": "2022-09-27T14:34:31.147664Z",
     "shell.execute_reply.started": "2022-09-27T14:34:30.371281Z"
    }
   },
   "outputs": [],
   "source": [
    "train_df = pd.read_csv(train_path)"
   ]
  },
  {
   "cell_type": "code",
   "execution_count": 5,
   "metadata": {
    "ExecuteTime": {
     "end_time": "2022-10-06T15:42:00.184316Z",
     "start_time": "2022-10-06T15:42:00.132659Z"
    },
    "execution": {
     "iopub.execute_input": "2022-09-27T14:34:31.152041Z",
     "iopub.status.busy": "2022-09-27T14:34:31.151531Z",
     "iopub.status.idle": "2022-09-27T14:34:31.182512Z",
     "shell.execute_reply": "2022-09-27T14:34:31.181527Z",
     "shell.execute_reply.started": "2022-09-27T14:34:31.151982Z"
    }
   },
   "outputs": [
    {
     "data": {
      "text/html": [
       "<div>\n",
       "<style scoped>\n",
       "    .dataframe tbody tr th:only-of-type {\n",
       "        vertical-align: middle;\n",
       "    }\n",
       "\n",
       "    .dataframe tbody tr th {\n",
       "        vertical-align: top;\n",
       "    }\n",
       "\n",
       "    .dataframe thead th {\n",
       "        text-align: right;\n",
       "    }\n",
       "</style>\n",
       "<table border=\"1\" class=\"dataframe\">\n",
       "  <thead>\n",
       "    <tr style=\"text-align: right;\">\n",
       "      <th></th>\n",
       "      <th>ID</th>\n",
       "      <th>Customer_ID</th>\n",
       "      <th>Month</th>\n",
       "      <th>Name</th>\n",
       "      <th>Age</th>\n",
       "      <th>SSN</th>\n",
       "      <th>Occupation</th>\n",
       "      <th>Annual_Income</th>\n",
       "      <th>Monthly_Inhand_Salary</th>\n",
       "      <th>Num_Bank_Accounts</th>\n",
       "      <th>...</th>\n",
       "      <th>Credit_Mix</th>\n",
       "      <th>Outstanding_Debt</th>\n",
       "      <th>Credit_Utilization_Ratio</th>\n",
       "      <th>Credit_History_Age</th>\n",
       "      <th>Payment_of_Min_Amount</th>\n",
       "      <th>Total_EMI_per_month</th>\n",
       "      <th>Amount_invested_monthly</th>\n",
       "      <th>Payment_Behaviour</th>\n",
       "      <th>Monthly_Balance</th>\n",
       "      <th>Credit_Score</th>\n",
       "    </tr>\n",
       "  </thead>\n",
       "  <tbody>\n",
       "    <tr>\n",
       "      <th>0</th>\n",
       "      <td>0x1602</td>\n",
       "      <td>CUS_0xd40</td>\n",
       "      <td>January</td>\n",
       "      <td>Aaron Maashoh</td>\n",
       "      <td>23</td>\n",
       "      <td>821-00-0265</td>\n",
       "      <td>Scientist</td>\n",
       "      <td>19114.12</td>\n",
       "      <td>1824.843333</td>\n",
       "      <td>3</td>\n",
       "      <td>...</td>\n",
       "      <td>_</td>\n",
       "      <td>809.98</td>\n",
       "      <td>26.822620</td>\n",
       "      <td>22 Years and 1 Months</td>\n",
       "      <td>No</td>\n",
       "      <td>49.574949</td>\n",
       "      <td>80.41529544</td>\n",
       "      <td>High_spent_Small_value_payments</td>\n",
       "      <td>312.4940887</td>\n",
       "      <td>Good</td>\n",
       "    </tr>\n",
       "    <tr>\n",
       "      <th>1</th>\n",
       "      <td>0x1603</td>\n",
       "      <td>CUS_0xd40</td>\n",
       "      <td>February</td>\n",
       "      <td>Aaron Maashoh</td>\n",
       "      <td>23</td>\n",
       "      <td>821-00-0265</td>\n",
       "      <td>Scientist</td>\n",
       "      <td>19114.12</td>\n",
       "      <td>NaN</td>\n",
       "      <td>3</td>\n",
       "      <td>...</td>\n",
       "      <td>Good</td>\n",
       "      <td>809.98</td>\n",
       "      <td>31.944960</td>\n",
       "      <td>NaN</td>\n",
       "      <td>No</td>\n",
       "      <td>49.574949</td>\n",
       "      <td>118.2802216</td>\n",
       "      <td>Low_spent_Large_value_payments</td>\n",
       "      <td>284.6291625</td>\n",
       "      <td>Good</td>\n",
       "    </tr>\n",
       "    <tr>\n",
       "      <th>2</th>\n",
       "      <td>0x1604</td>\n",
       "      <td>CUS_0xd40</td>\n",
       "      <td>March</td>\n",
       "      <td>Aaron Maashoh</td>\n",
       "      <td>-500</td>\n",
       "      <td>821-00-0265</td>\n",
       "      <td>Scientist</td>\n",
       "      <td>19114.12</td>\n",
       "      <td>NaN</td>\n",
       "      <td>3</td>\n",
       "      <td>...</td>\n",
       "      <td>Good</td>\n",
       "      <td>809.98</td>\n",
       "      <td>28.609352</td>\n",
       "      <td>22 Years and 3 Months</td>\n",
       "      <td>No</td>\n",
       "      <td>49.574949</td>\n",
       "      <td>81.69952126</td>\n",
       "      <td>Low_spent_Medium_value_payments</td>\n",
       "      <td>331.2098629</td>\n",
       "      <td>Good</td>\n",
       "    </tr>\n",
       "    <tr>\n",
       "      <th>3</th>\n",
       "      <td>0x1605</td>\n",
       "      <td>CUS_0xd40</td>\n",
       "      <td>April</td>\n",
       "      <td>Aaron Maashoh</td>\n",
       "      <td>23</td>\n",
       "      <td>821-00-0265</td>\n",
       "      <td>Scientist</td>\n",
       "      <td>19114.12</td>\n",
       "      <td>NaN</td>\n",
       "      <td>3</td>\n",
       "      <td>...</td>\n",
       "      <td>Good</td>\n",
       "      <td>809.98</td>\n",
       "      <td>31.377862</td>\n",
       "      <td>22 Years and 4 Months</td>\n",
       "      <td>No</td>\n",
       "      <td>49.574949</td>\n",
       "      <td>199.4580744</td>\n",
       "      <td>Low_spent_Small_value_payments</td>\n",
       "      <td>223.4513097</td>\n",
       "      <td>Good</td>\n",
       "    </tr>\n",
       "    <tr>\n",
       "      <th>4</th>\n",
       "      <td>0x1606</td>\n",
       "      <td>CUS_0xd40</td>\n",
       "      <td>May</td>\n",
       "      <td>Aaron Maashoh</td>\n",
       "      <td>23</td>\n",
       "      <td>821-00-0265</td>\n",
       "      <td>Scientist</td>\n",
       "      <td>19114.12</td>\n",
       "      <td>1824.843333</td>\n",
       "      <td>3</td>\n",
       "      <td>...</td>\n",
       "      <td>Good</td>\n",
       "      <td>809.98</td>\n",
       "      <td>24.797347</td>\n",
       "      <td>22 Years and 5 Months</td>\n",
       "      <td>No</td>\n",
       "      <td>49.574949</td>\n",
       "      <td>41.42015309</td>\n",
       "      <td>High_spent_Medium_value_payments</td>\n",
       "      <td>341.489231</td>\n",
       "      <td>Good</td>\n",
       "    </tr>\n",
       "  </tbody>\n",
       "</table>\n",
       "<p>5 rows × 28 columns</p>\n",
       "</div>"
      ],
      "text/plain": [
       "       ID Customer_ID     Month           Name   Age          SSN Occupation  \\\n",
       "0  0x1602   CUS_0xd40   January  Aaron Maashoh    23  821-00-0265  Scientist   \n",
       "1  0x1603   CUS_0xd40  February  Aaron Maashoh    23  821-00-0265  Scientist   \n",
       "2  0x1604   CUS_0xd40     March  Aaron Maashoh  -500  821-00-0265  Scientist   \n",
       "3  0x1605   CUS_0xd40     April  Aaron Maashoh    23  821-00-0265  Scientist   \n",
       "4  0x1606   CUS_0xd40       May  Aaron Maashoh    23  821-00-0265  Scientist   \n",
       "\n",
       "  Annual_Income  Monthly_Inhand_Salary  Num_Bank_Accounts  ...  Credit_Mix  \\\n",
       "0      19114.12            1824.843333                  3  ...           _   \n",
       "1      19114.12                    NaN                  3  ...        Good   \n",
       "2      19114.12                    NaN                  3  ...        Good   \n",
       "3      19114.12                    NaN                  3  ...        Good   \n",
       "4      19114.12            1824.843333                  3  ...        Good   \n",
       "\n",
       "   Outstanding_Debt Credit_Utilization_Ratio     Credit_History_Age  \\\n",
       "0            809.98                26.822620  22 Years and 1 Months   \n",
       "1            809.98                31.944960                    NaN   \n",
       "2            809.98                28.609352  22 Years and 3 Months   \n",
       "3            809.98                31.377862  22 Years and 4 Months   \n",
       "4            809.98                24.797347  22 Years and 5 Months   \n",
       "\n",
       "   Payment_of_Min_Amount Total_EMI_per_month Amount_invested_monthly  \\\n",
       "0                     No           49.574949             80.41529544   \n",
       "1                     No           49.574949             118.2802216   \n",
       "2                     No           49.574949             81.69952126   \n",
       "3                     No           49.574949             199.4580744   \n",
       "4                     No           49.574949             41.42015309   \n",
       "\n",
       "                  Payment_Behaviour Monthly_Balance Credit_Score  \n",
       "0   High_spent_Small_value_payments     312.4940887         Good  \n",
       "1    Low_spent_Large_value_payments     284.6291625         Good  \n",
       "2   Low_spent_Medium_value_payments     331.2098629         Good  \n",
       "3    Low_spent_Small_value_payments     223.4513097         Good  \n",
       "4  High_spent_Medium_value_payments      341.489231         Good  \n",
       "\n",
       "[5 rows x 28 columns]"
      ]
     },
     "execution_count": 5,
     "metadata": {},
     "output_type": "execute_result"
    }
   ],
   "source": [
    "train_df.head()"
   ]
  },
  {
   "cell_type": "code",
   "execution_count": 6,
   "metadata": {
    "ExecuteTime": {
     "end_time": "2022-10-06T15:42:00.200303Z",
     "start_time": "2022-10-06T15:42:00.184316Z"
    },
    "execution": {
     "iopub.execute_input": "2022-09-27T14:34:31.184775Z",
     "iopub.status.busy": "2022-09-27T14:34:31.184136Z",
     "iopub.status.idle": "2022-09-27T14:34:31.197410Z",
     "shell.execute_reply": "2022-09-27T14:34:31.196154Z",
     "shell.execute_reply.started": "2022-09-27T14:34:31.184739Z"
    }
   },
   "outputs": [
    {
     "data": {
      "text/plain": [
       "(100000, 28)"
      ]
     },
     "execution_count": 6,
     "metadata": {},
     "output_type": "execute_result"
    }
   ],
   "source": [
    "train_df.shape"
   ]
  },
  {
   "cell_type": "code",
   "execution_count": 7,
   "metadata": {
    "ExecuteTime": {
     "end_time": "2022-10-06T15:42:00.674983Z",
     "start_time": "2022-10-06T15:42:00.200303Z"
    },
    "execution": {
     "iopub.execute_input": "2022-09-27T14:34:31.201871Z",
     "iopub.status.busy": "2022-09-27T14:34:31.201357Z",
     "iopub.status.idle": "2022-09-27T14:34:31.438921Z",
     "shell.execute_reply": "2022-09-27T14:34:31.437790Z",
     "shell.execute_reply.started": "2022-09-27T14:34:31.201823Z"
    }
   },
   "outputs": [
    {
     "data": {
      "text/plain": [
       "ID                          100000\n",
       "Customer_ID                  12500\n",
       "Month                            8\n",
       "Name                         10139\n",
       "Age                           1788\n",
       "SSN                          12501\n",
       "Occupation                      16\n",
       "Annual_Income                18940\n",
       "Monthly_Inhand_Salary        13235\n",
       "Num_Bank_Accounts              943\n",
       "Num_Credit_Card               1179\n",
       "Interest_Rate                 1750\n",
       "Num_of_Loan                    434\n",
       "Type_of_Loan                  6260\n",
       "Delay_from_due_date             73\n",
       "Num_of_Delayed_Payment         749\n",
       "Changed_Credit_Limit          3635\n",
       "Num_Credit_Inquiries          1223\n",
       "Credit_Mix                       4\n",
       "Outstanding_Debt             13178\n",
       "Credit_Utilization_Ratio     99998\n",
       "Credit_History_Age             404\n",
       "Payment_of_Min_Amount            3\n",
       "Total_EMI_per_month          14950\n",
       "Amount_invested_monthly      91049\n",
       "Payment_Behaviour                7\n",
       "Monthly_Balance              98790\n",
       "Credit_Score                     3\n",
       "dtype: int64"
      ]
     },
     "execution_count": 7,
     "metadata": {},
     "output_type": "execute_result"
    }
   ],
   "source": [
    "train_df.nunique()"
   ]
  },
  {
   "cell_type": "code",
   "execution_count": 8,
   "metadata": {
    "ExecuteTime": {
     "end_time": "2022-10-06T15:42:01.095331Z",
     "start_time": "2022-10-06T15:42:00.674983Z"
    },
    "execution": {
     "iopub.execute_input": "2022-09-27T14:34:31.441044Z",
     "iopub.status.busy": "2022-09-27T14:34:31.440698Z",
     "iopub.status.idle": "2022-09-27T14:34:31.752439Z",
     "shell.execute_reply": "2022-09-27T14:34:31.751424Z",
     "shell.execute_reply.started": "2022-09-27T14:34:31.441014Z"
    }
   },
   "outputs": [],
   "source": [
    "train_df=train_df.drop_duplicates()"
   ]
  },
  {
   "cell_type": "code",
   "execution_count": 9,
   "metadata": {
    "ExecuteTime": {
     "end_time": "2022-10-06T15:42:01.112363Z",
     "start_time": "2022-10-06T15:42:01.096300Z"
    },
    "execution": {
     "iopub.execute_input": "2022-09-27T14:34:31.754556Z",
     "iopub.status.busy": "2022-09-27T14:34:31.754083Z",
     "iopub.status.idle": "2022-09-27T14:34:31.762317Z",
     "shell.execute_reply": "2022-09-27T14:34:31.761194Z",
     "shell.execute_reply.started": "2022-09-27T14:34:31.754511Z"
    }
   },
   "outputs": [
    {
     "data": {
      "text/plain": [
       "(100000, 28)"
      ]
     },
     "execution_count": 9,
     "metadata": {},
     "output_type": "execute_result"
    }
   ],
   "source": [
    "train_df.shape"
   ]
  },
  {
   "cell_type": "code",
   "execution_count": 10,
   "metadata": {
    "ExecuteTime": {
     "end_time": "2022-10-06T15:42:01.124690Z",
     "start_time": "2022-10-06T15:42:01.113267Z"
    },
    "execution": {
     "iopub.execute_input": "2022-09-27T14:34:31.764856Z",
     "iopub.status.busy": "2022-09-27T14:34:31.763949Z",
     "iopub.status.idle": "2022-09-27T14:34:31.781868Z",
     "shell.execute_reply": "2022-09-27T14:34:31.780528Z",
     "shell.execute_reply.started": "2022-09-27T14:34:31.764812Z"
    }
   },
   "outputs": [
    {
     "data": {
      "text/plain": [
       "ID                           object\n",
       "Customer_ID                  object\n",
       "Month                        object\n",
       "Name                         object\n",
       "Age                          object\n",
       "SSN                          object\n",
       "Occupation                   object\n",
       "Annual_Income                object\n",
       "Monthly_Inhand_Salary       float64\n",
       "Num_Bank_Accounts             int64\n",
       "Num_Credit_Card               int64\n",
       "Interest_Rate                 int64\n",
       "Num_of_Loan                  object\n",
       "Type_of_Loan                 object\n",
       "Delay_from_due_date           int64\n",
       "Num_of_Delayed_Payment       object\n",
       "Changed_Credit_Limit         object\n",
       "Num_Credit_Inquiries        float64\n",
       "Credit_Mix                   object\n",
       "Outstanding_Debt             object\n",
       "Credit_Utilization_Ratio    float64\n",
       "Credit_History_Age           object\n",
       "Payment_of_Min_Amount        object\n",
       "Total_EMI_per_month         float64\n",
       "Amount_invested_monthly      object\n",
       "Payment_Behaviour            object\n",
       "Monthly_Balance              object\n",
       "Credit_Score                 object\n",
       "dtype: object"
      ]
     },
     "execution_count": 10,
     "metadata": {},
     "output_type": "execute_result"
    }
   ],
   "source": [
    "train_df.dtypes"
   ]
  },
  {
   "cell_type": "code",
   "execution_count": 11,
   "metadata": {
    "ExecuteTime": {
     "end_time": "2022-10-06T15:42:01.234421Z",
     "start_time": "2022-10-06T15:42:01.124690Z"
    },
    "execution": {
     "iopub.execute_input": "2022-09-27T14:34:31.784076Z",
     "iopub.status.busy": "2022-09-27T14:34:31.783604Z",
     "iopub.status.idle": "2022-09-27T14:34:31.882882Z",
     "shell.execute_reply": "2022-09-27T14:34:31.881627Z",
     "shell.execute_reply.started": "2022-09-27T14:34:31.784024Z"
    }
   },
   "outputs": [
    {
     "data": {
      "text/plain": [
       "ID                           0.000\n",
       "Customer_ID                  0.000\n",
       "Month                        0.000\n",
       "Name                         9.985\n",
       "Age                          0.000\n",
       "SSN                          0.000\n",
       "Occupation                   0.000\n",
       "Annual_Income                0.000\n",
       "Monthly_Inhand_Salary       15.002\n",
       "Num_Bank_Accounts            0.000\n",
       "Num_Credit_Card              0.000\n",
       "Interest_Rate                0.000\n",
       "Num_of_Loan                  0.000\n",
       "Type_of_Loan                11.408\n",
       "Delay_from_due_date          0.000\n",
       "Num_of_Delayed_Payment       7.002\n",
       "Changed_Credit_Limit         0.000\n",
       "Num_Credit_Inquiries         1.965\n",
       "Credit_Mix                   0.000\n",
       "Outstanding_Debt             0.000\n",
       "Credit_Utilization_Ratio     0.000\n",
       "Credit_History_Age           9.030\n",
       "Payment_of_Min_Amount        0.000\n",
       "Total_EMI_per_month          0.000\n",
       "Amount_invested_monthly      4.479\n",
       "Payment_Behaviour            0.000\n",
       "Monthly_Balance              1.200\n",
       "Credit_Score                 0.000\n",
       "dtype: float64"
      ]
     },
     "execution_count": 11,
     "metadata": {},
     "output_type": "execute_result"
    }
   ],
   "source": [
    "train_df.isnull().mean()*100"
   ]
  },
  {
   "cell_type": "code",
   "execution_count": 12,
   "metadata": {
    "ExecuteTime": {
     "end_time": "2022-10-06T15:42:01.274192Z",
     "start_time": "2022-10-06T15:42:01.234421Z"
    },
    "execution": {
     "iopub.execute_input": "2022-09-27T14:34:31.884964Z",
     "iopub.status.busy": "2022-09-27T14:34:31.884619Z",
     "iopub.status.idle": "2022-09-27T14:34:31.915174Z",
     "shell.execute_reply": "2022-09-27T14:34:31.913791Z",
     "shell.execute_reply.started": "2022-09-27T14:34:31.884932Z"
    }
   },
   "outputs": [
    {
     "data": {
      "text/html": [
       "<div>\n",
       "<style scoped>\n",
       "    .dataframe tbody tr th:only-of-type {\n",
       "        vertical-align: middle;\n",
       "    }\n",
       "\n",
       "    .dataframe tbody tr th {\n",
       "        vertical-align: top;\n",
       "    }\n",
       "\n",
       "    .dataframe thead th {\n",
       "        text-align: right;\n",
       "    }\n",
       "</style>\n",
       "<table border=\"1\" class=\"dataframe\">\n",
       "  <thead>\n",
       "    <tr style=\"text-align: right;\">\n",
       "      <th></th>\n",
       "      <th>ID</th>\n",
       "      <th>Customer_ID</th>\n",
       "      <th>Month</th>\n",
       "      <th>Name</th>\n",
       "      <th>Age</th>\n",
       "      <th>SSN</th>\n",
       "      <th>Occupation</th>\n",
       "      <th>Annual_Income</th>\n",
       "      <th>Monthly_Inhand_Salary</th>\n",
       "      <th>Num_Bank_Accounts</th>\n",
       "      <th>...</th>\n",
       "      <th>Credit_Mix</th>\n",
       "      <th>Outstanding_Debt</th>\n",
       "      <th>Credit_Utilization_Ratio</th>\n",
       "      <th>Credit_History_Age</th>\n",
       "      <th>Payment_of_Min_Amount</th>\n",
       "      <th>Total_EMI_per_month</th>\n",
       "      <th>Amount_invested_monthly</th>\n",
       "      <th>Payment_Behaviour</th>\n",
       "      <th>Monthly_Balance</th>\n",
       "      <th>Credit_Score</th>\n",
       "    </tr>\n",
       "  </thead>\n",
       "  <tbody>\n",
       "    <tr>\n",
       "      <th>0</th>\n",
       "      <td>0x1602</td>\n",
       "      <td>CUS_0xd40</td>\n",
       "      <td>January</td>\n",
       "      <td>Aaron Maashoh</td>\n",
       "      <td>23</td>\n",
       "      <td>821-00-0265</td>\n",
       "      <td>Scientist</td>\n",
       "      <td>19114.12</td>\n",
       "      <td>1824.843333</td>\n",
       "      <td>3</td>\n",
       "      <td>...</td>\n",
       "      <td>_</td>\n",
       "      <td>809.98</td>\n",
       "      <td>26.822620</td>\n",
       "      <td>22 Years and 1 Months</td>\n",
       "      <td>No</td>\n",
       "      <td>49.574949</td>\n",
       "      <td>80.41529544</td>\n",
       "      <td>High_spent_Small_value_payments</td>\n",
       "      <td>312.4940887</td>\n",
       "      <td>Good</td>\n",
       "    </tr>\n",
       "    <tr>\n",
       "      <th>1</th>\n",
       "      <td>0x1603</td>\n",
       "      <td>CUS_0xd40</td>\n",
       "      <td>February</td>\n",
       "      <td>Aaron Maashoh</td>\n",
       "      <td>23</td>\n",
       "      <td>821-00-0265</td>\n",
       "      <td>Scientist</td>\n",
       "      <td>19114.12</td>\n",
       "      <td>NaN</td>\n",
       "      <td>3</td>\n",
       "      <td>...</td>\n",
       "      <td>Good</td>\n",
       "      <td>809.98</td>\n",
       "      <td>31.944960</td>\n",
       "      <td>NaN</td>\n",
       "      <td>No</td>\n",
       "      <td>49.574949</td>\n",
       "      <td>118.2802216</td>\n",
       "      <td>Low_spent_Large_value_payments</td>\n",
       "      <td>284.6291625</td>\n",
       "      <td>Good</td>\n",
       "    </tr>\n",
       "    <tr>\n",
       "      <th>2</th>\n",
       "      <td>0x1604</td>\n",
       "      <td>CUS_0xd40</td>\n",
       "      <td>March</td>\n",
       "      <td>Aaron Maashoh</td>\n",
       "      <td>-500</td>\n",
       "      <td>821-00-0265</td>\n",
       "      <td>Scientist</td>\n",
       "      <td>19114.12</td>\n",
       "      <td>NaN</td>\n",
       "      <td>3</td>\n",
       "      <td>...</td>\n",
       "      <td>Good</td>\n",
       "      <td>809.98</td>\n",
       "      <td>28.609352</td>\n",
       "      <td>22 Years and 3 Months</td>\n",
       "      <td>No</td>\n",
       "      <td>49.574949</td>\n",
       "      <td>81.69952126</td>\n",
       "      <td>Low_spent_Medium_value_payments</td>\n",
       "      <td>331.2098629</td>\n",
       "      <td>Good</td>\n",
       "    </tr>\n",
       "    <tr>\n",
       "      <th>3</th>\n",
       "      <td>0x1605</td>\n",
       "      <td>CUS_0xd40</td>\n",
       "      <td>April</td>\n",
       "      <td>Aaron Maashoh</td>\n",
       "      <td>23</td>\n",
       "      <td>821-00-0265</td>\n",
       "      <td>Scientist</td>\n",
       "      <td>19114.12</td>\n",
       "      <td>NaN</td>\n",
       "      <td>3</td>\n",
       "      <td>...</td>\n",
       "      <td>Good</td>\n",
       "      <td>809.98</td>\n",
       "      <td>31.377862</td>\n",
       "      <td>22 Years and 4 Months</td>\n",
       "      <td>No</td>\n",
       "      <td>49.574949</td>\n",
       "      <td>199.4580744</td>\n",
       "      <td>Low_spent_Small_value_payments</td>\n",
       "      <td>223.4513097</td>\n",
       "      <td>Good</td>\n",
       "    </tr>\n",
       "    <tr>\n",
       "      <th>4</th>\n",
       "      <td>0x1606</td>\n",
       "      <td>CUS_0xd40</td>\n",
       "      <td>May</td>\n",
       "      <td>Aaron Maashoh</td>\n",
       "      <td>23</td>\n",
       "      <td>821-00-0265</td>\n",
       "      <td>Scientist</td>\n",
       "      <td>19114.12</td>\n",
       "      <td>1824.843333</td>\n",
       "      <td>3</td>\n",
       "      <td>...</td>\n",
       "      <td>Good</td>\n",
       "      <td>809.98</td>\n",
       "      <td>24.797347</td>\n",
       "      <td>22 Years and 5 Months</td>\n",
       "      <td>No</td>\n",
       "      <td>49.574949</td>\n",
       "      <td>41.42015309</td>\n",
       "      <td>High_spent_Medium_value_payments</td>\n",
       "      <td>341.489231</td>\n",
       "      <td>Good</td>\n",
       "    </tr>\n",
       "  </tbody>\n",
       "</table>\n",
       "<p>5 rows × 28 columns</p>\n",
       "</div>"
      ],
      "text/plain": [
       "       ID Customer_ID     Month           Name   Age          SSN Occupation  \\\n",
       "0  0x1602   CUS_0xd40   January  Aaron Maashoh    23  821-00-0265  Scientist   \n",
       "1  0x1603   CUS_0xd40  February  Aaron Maashoh    23  821-00-0265  Scientist   \n",
       "2  0x1604   CUS_0xd40     March  Aaron Maashoh  -500  821-00-0265  Scientist   \n",
       "3  0x1605   CUS_0xd40     April  Aaron Maashoh    23  821-00-0265  Scientist   \n",
       "4  0x1606   CUS_0xd40       May  Aaron Maashoh    23  821-00-0265  Scientist   \n",
       "\n",
       "  Annual_Income  Monthly_Inhand_Salary  Num_Bank_Accounts  ...  Credit_Mix  \\\n",
       "0      19114.12            1824.843333                  3  ...           _   \n",
       "1      19114.12                    NaN                  3  ...        Good   \n",
       "2      19114.12                    NaN                  3  ...        Good   \n",
       "3      19114.12                    NaN                  3  ...        Good   \n",
       "4      19114.12            1824.843333                  3  ...        Good   \n",
       "\n",
       "   Outstanding_Debt Credit_Utilization_Ratio     Credit_History_Age  \\\n",
       "0            809.98                26.822620  22 Years and 1 Months   \n",
       "1            809.98                31.944960                    NaN   \n",
       "2            809.98                28.609352  22 Years and 3 Months   \n",
       "3            809.98                31.377862  22 Years and 4 Months   \n",
       "4            809.98                24.797347  22 Years and 5 Months   \n",
       "\n",
       "   Payment_of_Min_Amount Total_EMI_per_month Amount_invested_monthly  \\\n",
       "0                     No           49.574949             80.41529544   \n",
       "1                     No           49.574949             118.2802216   \n",
       "2                     No           49.574949             81.69952126   \n",
       "3                     No           49.574949             199.4580744   \n",
       "4                     No           49.574949             41.42015309   \n",
       "\n",
       "                  Payment_Behaviour Monthly_Balance Credit_Score  \n",
       "0   High_spent_Small_value_payments     312.4940887         Good  \n",
       "1    Low_spent_Large_value_payments     284.6291625         Good  \n",
       "2   Low_spent_Medium_value_payments     331.2098629         Good  \n",
       "3    Low_spent_Small_value_payments     223.4513097         Good  \n",
       "4  High_spent_Medium_value_payments      341.489231         Good  \n",
       "\n",
       "[5 rows x 28 columns]"
      ]
     },
     "execution_count": 12,
     "metadata": {},
     "output_type": "execute_result"
    }
   ],
   "source": [
    "train_df.head()"
   ]
  },
  {
   "cell_type": "markdown",
   "metadata": {},
   "source": [
    "### ID has all unique values so let's drop that, cust_id and name should be same because they represent the same thing but, the unique name are less than unique cust_id because name column has many missing values and cust_id doesn't have missing value so we can easily drop name column, SSN also has same unique values as cust_id so that can also be dropped."
   ]
  },
  {
   "cell_type": "code",
   "execution_count": 13,
   "metadata": {
    "ExecuteTime": {
     "end_time": "2022-10-06T15:42:01.295291Z",
     "start_time": "2022-10-06T15:42:01.274192Z"
    },
    "execution": {
     "iopub.execute_input": "2022-09-27T14:34:31.919934Z",
     "iopub.status.busy": "2022-09-27T14:34:31.919072Z",
     "iopub.status.idle": "2022-09-27T14:34:31.950666Z",
     "shell.execute_reply": "2022-09-27T14:34:31.949062Z",
     "shell.execute_reply.started": "2022-09-27T14:34:31.919888Z"
    }
   },
   "outputs": [],
   "source": [
    "train_df= train_df.drop([\"ID\",\"Name\",\"SSN\"],1)"
   ]
  },
  {
   "cell_type": "code",
   "execution_count": 14,
   "metadata": {
    "ExecuteTime": {
     "end_time": "2022-10-06T15:42:01.312489Z",
     "start_time": "2022-10-06T15:42:01.296287Z"
    },
    "execution": {
     "iopub.execute_input": "2022-09-27T14:34:31.952489Z",
     "iopub.status.busy": "2022-09-27T14:34:31.952125Z",
     "iopub.status.idle": "2022-09-27T14:34:31.958418Z",
     "shell.execute_reply": "2022-09-27T14:34:31.957090Z",
     "shell.execute_reply.started": "2022-09-27T14:34:31.952454Z"
    }
   },
   "outputs": [],
   "source": [
    "pd.set_option(\"display.max_columns\",None)"
   ]
  },
  {
   "cell_type": "code",
   "execution_count": 15,
   "metadata": {
    "ExecuteTime": {
     "end_time": "2022-10-06T15:42:01.354833Z",
     "start_time": "2022-10-06T15:42:01.312489Z"
    },
    "execution": {
     "iopub.execute_input": "2022-09-27T14:34:31.961348Z",
     "iopub.status.busy": "2022-09-27T14:34:31.960149Z",
     "iopub.status.idle": "2022-09-27T14:34:31.992462Z",
     "shell.execute_reply": "2022-09-27T14:34:31.991032Z",
     "shell.execute_reply.started": "2022-09-27T14:34:31.961299Z"
    }
   },
   "outputs": [
    {
     "data": {
      "text/html": [
       "<div>\n",
       "<style scoped>\n",
       "    .dataframe tbody tr th:only-of-type {\n",
       "        vertical-align: middle;\n",
       "    }\n",
       "\n",
       "    .dataframe tbody tr th {\n",
       "        vertical-align: top;\n",
       "    }\n",
       "\n",
       "    .dataframe thead th {\n",
       "        text-align: right;\n",
       "    }\n",
       "</style>\n",
       "<table border=\"1\" class=\"dataframe\">\n",
       "  <thead>\n",
       "    <tr style=\"text-align: right;\">\n",
       "      <th></th>\n",
       "      <th>Customer_ID</th>\n",
       "      <th>Month</th>\n",
       "      <th>Age</th>\n",
       "      <th>Occupation</th>\n",
       "      <th>Annual_Income</th>\n",
       "      <th>Monthly_Inhand_Salary</th>\n",
       "      <th>Num_Bank_Accounts</th>\n",
       "      <th>Num_Credit_Card</th>\n",
       "      <th>Interest_Rate</th>\n",
       "      <th>Num_of_Loan</th>\n",
       "      <th>Type_of_Loan</th>\n",
       "      <th>Delay_from_due_date</th>\n",
       "      <th>Num_of_Delayed_Payment</th>\n",
       "      <th>Changed_Credit_Limit</th>\n",
       "      <th>Num_Credit_Inquiries</th>\n",
       "      <th>Credit_Mix</th>\n",
       "      <th>Outstanding_Debt</th>\n",
       "      <th>Credit_Utilization_Ratio</th>\n",
       "      <th>Credit_History_Age</th>\n",
       "      <th>Payment_of_Min_Amount</th>\n",
       "      <th>Total_EMI_per_month</th>\n",
       "      <th>Amount_invested_monthly</th>\n",
       "      <th>Payment_Behaviour</th>\n",
       "      <th>Monthly_Balance</th>\n",
       "      <th>Credit_Score</th>\n",
       "    </tr>\n",
       "  </thead>\n",
       "  <tbody>\n",
       "    <tr>\n",
       "      <th>0</th>\n",
       "      <td>CUS_0xd40</td>\n",
       "      <td>January</td>\n",
       "      <td>23</td>\n",
       "      <td>Scientist</td>\n",
       "      <td>19114.12</td>\n",
       "      <td>1824.843333</td>\n",
       "      <td>3</td>\n",
       "      <td>4</td>\n",
       "      <td>3</td>\n",
       "      <td>4</td>\n",
       "      <td>Auto Loan, Credit-Builder Loan, Personal Loan,...</td>\n",
       "      <td>3</td>\n",
       "      <td>7</td>\n",
       "      <td>11.27</td>\n",
       "      <td>4.0</td>\n",
       "      <td>_</td>\n",
       "      <td>809.98</td>\n",
       "      <td>26.822620</td>\n",
       "      <td>22 Years and 1 Months</td>\n",
       "      <td>No</td>\n",
       "      <td>49.574949</td>\n",
       "      <td>80.41529544</td>\n",
       "      <td>High_spent_Small_value_payments</td>\n",
       "      <td>312.4940887</td>\n",
       "      <td>Good</td>\n",
       "    </tr>\n",
       "    <tr>\n",
       "      <th>1</th>\n",
       "      <td>CUS_0xd40</td>\n",
       "      <td>February</td>\n",
       "      <td>23</td>\n",
       "      <td>Scientist</td>\n",
       "      <td>19114.12</td>\n",
       "      <td>NaN</td>\n",
       "      <td>3</td>\n",
       "      <td>4</td>\n",
       "      <td>3</td>\n",
       "      <td>4</td>\n",
       "      <td>Auto Loan, Credit-Builder Loan, Personal Loan,...</td>\n",
       "      <td>-1</td>\n",
       "      <td>NaN</td>\n",
       "      <td>11.27</td>\n",
       "      <td>4.0</td>\n",
       "      <td>Good</td>\n",
       "      <td>809.98</td>\n",
       "      <td>31.944960</td>\n",
       "      <td>NaN</td>\n",
       "      <td>No</td>\n",
       "      <td>49.574949</td>\n",
       "      <td>118.2802216</td>\n",
       "      <td>Low_spent_Large_value_payments</td>\n",
       "      <td>284.6291625</td>\n",
       "      <td>Good</td>\n",
       "    </tr>\n",
       "    <tr>\n",
       "      <th>2</th>\n",
       "      <td>CUS_0xd40</td>\n",
       "      <td>March</td>\n",
       "      <td>-500</td>\n",
       "      <td>Scientist</td>\n",
       "      <td>19114.12</td>\n",
       "      <td>NaN</td>\n",
       "      <td>3</td>\n",
       "      <td>4</td>\n",
       "      <td>3</td>\n",
       "      <td>4</td>\n",
       "      <td>Auto Loan, Credit-Builder Loan, Personal Loan,...</td>\n",
       "      <td>3</td>\n",
       "      <td>7</td>\n",
       "      <td>_</td>\n",
       "      <td>4.0</td>\n",
       "      <td>Good</td>\n",
       "      <td>809.98</td>\n",
       "      <td>28.609352</td>\n",
       "      <td>22 Years and 3 Months</td>\n",
       "      <td>No</td>\n",
       "      <td>49.574949</td>\n",
       "      <td>81.69952126</td>\n",
       "      <td>Low_spent_Medium_value_payments</td>\n",
       "      <td>331.2098629</td>\n",
       "      <td>Good</td>\n",
       "    </tr>\n",
       "    <tr>\n",
       "      <th>3</th>\n",
       "      <td>CUS_0xd40</td>\n",
       "      <td>April</td>\n",
       "      <td>23</td>\n",
       "      <td>Scientist</td>\n",
       "      <td>19114.12</td>\n",
       "      <td>NaN</td>\n",
       "      <td>3</td>\n",
       "      <td>4</td>\n",
       "      <td>3</td>\n",
       "      <td>4</td>\n",
       "      <td>Auto Loan, Credit-Builder Loan, Personal Loan,...</td>\n",
       "      <td>5</td>\n",
       "      <td>4</td>\n",
       "      <td>6.27</td>\n",
       "      <td>4.0</td>\n",
       "      <td>Good</td>\n",
       "      <td>809.98</td>\n",
       "      <td>31.377862</td>\n",
       "      <td>22 Years and 4 Months</td>\n",
       "      <td>No</td>\n",
       "      <td>49.574949</td>\n",
       "      <td>199.4580744</td>\n",
       "      <td>Low_spent_Small_value_payments</td>\n",
       "      <td>223.4513097</td>\n",
       "      <td>Good</td>\n",
       "    </tr>\n",
       "    <tr>\n",
       "      <th>4</th>\n",
       "      <td>CUS_0xd40</td>\n",
       "      <td>May</td>\n",
       "      <td>23</td>\n",
       "      <td>Scientist</td>\n",
       "      <td>19114.12</td>\n",
       "      <td>1824.843333</td>\n",
       "      <td>3</td>\n",
       "      <td>4</td>\n",
       "      <td>3</td>\n",
       "      <td>4</td>\n",
       "      <td>Auto Loan, Credit-Builder Loan, Personal Loan,...</td>\n",
       "      <td>6</td>\n",
       "      <td>NaN</td>\n",
       "      <td>11.27</td>\n",
       "      <td>4.0</td>\n",
       "      <td>Good</td>\n",
       "      <td>809.98</td>\n",
       "      <td>24.797347</td>\n",
       "      <td>22 Years and 5 Months</td>\n",
       "      <td>No</td>\n",
       "      <td>49.574949</td>\n",
       "      <td>41.42015309</td>\n",
       "      <td>High_spent_Medium_value_payments</td>\n",
       "      <td>341.489231</td>\n",
       "      <td>Good</td>\n",
       "    </tr>\n",
       "  </tbody>\n",
       "</table>\n",
       "</div>"
      ],
      "text/plain": [
       "  Customer_ID     Month   Age Occupation Annual_Income  Monthly_Inhand_Salary  \\\n",
       "0   CUS_0xd40   January    23  Scientist      19114.12            1824.843333   \n",
       "1   CUS_0xd40  February    23  Scientist      19114.12                    NaN   \n",
       "2   CUS_0xd40     March  -500  Scientist      19114.12                    NaN   \n",
       "3   CUS_0xd40     April    23  Scientist      19114.12                    NaN   \n",
       "4   CUS_0xd40       May    23  Scientist      19114.12            1824.843333   \n",
       "\n",
       "   Num_Bank_Accounts  Num_Credit_Card  Interest_Rate Num_of_Loan  \\\n",
       "0                  3                4              3           4   \n",
       "1                  3                4              3           4   \n",
       "2                  3                4              3           4   \n",
       "3                  3                4              3           4   \n",
       "4                  3                4              3           4   \n",
       "\n",
       "                                        Type_of_Loan  Delay_from_due_date  \\\n",
       "0  Auto Loan, Credit-Builder Loan, Personal Loan,...                    3   \n",
       "1  Auto Loan, Credit-Builder Loan, Personal Loan,...                   -1   \n",
       "2  Auto Loan, Credit-Builder Loan, Personal Loan,...                    3   \n",
       "3  Auto Loan, Credit-Builder Loan, Personal Loan,...                    5   \n",
       "4  Auto Loan, Credit-Builder Loan, Personal Loan,...                    6   \n",
       "\n",
       "  Num_of_Delayed_Payment Changed_Credit_Limit  Num_Credit_Inquiries  \\\n",
       "0                      7                11.27                   4.0   \n",
       "1                    NaN                11.27                   4.0   \n",
       "2                      7                    _                   4.0   \n",
       "3                      4                 6.27                   4.0   \n",
       "4                    NaN                11.27                   4.0   \n",
       "\n",
       "  Credit_Mix Outstanding_Debt  Credit_Utilization_Ratio  \\\n",
       "0          _           809.98                 26.822620   \n",
       "1       Good           809.98                 31.944960   \n",
       "2       Good           809.98                 28.609352   \n",
       "3       Good           809.98                 31.377862   \n",
       "4       Good           809.98                 24.797347   \n",
       "\n",
       "      Credit_History_Age Payment_of_Min_Amount  Total_EMI_per_month  \\\n",
       "0  22 Years and 1 Months                    No            49.574949   \n",
       "1                    NaN                    No            49.574949   \n",
       "2  22 Years and 3 Months                    No            49.574949   \n",
       "3  22 Years and 4 Months                    No            49.574949   \n",
       "4  22 Years and 5 Months                    No            49.574949   \n",
       "\n",
       "  Amount_invested_monthly                 Payment_Behaviour Monthly_Balance  \\\n",
       "0             80.41529544   High_spent_Small_value_payments     312.4940887   \n",
       "1             118.2802216    Low_spent_Large_value_payments     284.6291625   \n",
       "2             81.69952126   Low_spent_Medium_value_payments     331.2098629   \n",
       "3             199.4580744    Low_spent_Small_value_payments     223.4513097   \n",
       "4             41.42015309  High_spent_Medium_value_payments      341.489231   \n",
       "\n",
       "  Credit_Score  \n",
       "0         Good  \n",
       "1         Good  \n",
       "2         Good  \n",
       "3         Good  \n",
       "4         Good  "
      ]
     },
     "execution_count": 15,
     "metadata": {},
     "output_type": "execute_result"
    }
   ],
   "source": [
    "train_df.head()"
   ]
  },
  {
   "cell_type": "code",
   "execution_count": 16,
   "metadata": {
    "ExecuteTime": {
     "end_time": "2022-10-06T15:42:01.374183Z",
     "start_time": "2022-10-06T15:42:01.354833Z"
    },
    "execution": {
     "iopub.execute_input": "2022-09-27T14:34:31.994506Z",
     "iopub.status.busy": "2022-09-27T14:34:31.994143Z",
     "iopub.status.idle": "2022-09-27T14:34:32.005696Z",
     "shell.execute_reply": "2022-09-27T14:34:32.004818Z",
     "shell.execute_reply.started": "2022-09-27T14:34:31.994460Z"
    }
   },
   "outputs": [
    {
     "data": {
      "text/plain": [
       "Customer_ID                  object\n",
       "Month                        object\n",
       "Age                          object\n",
       "Occupation                   object\n",
       "Annual_Income                object\n",
       "Monthly_Inhand_Salary       float64\n",
       "Num_Bank_Accounts             int64\n",
       "Num_Credit_Card               int64\n",
       "Interest_Rate                 int64\n",
       "Num_of_Loan                  object\n",
       "Type_of_Loan                 object\n",
       "Delay_from_due_date           int64\n",
       "Num_of_Delayed_Payment       object\n",
       "Changed_Credit_Limit         object\n",
       "Num_Credit_Inquiries        float64\n",
       "Credit_Mix                   object\n",
       "Outstanding_Debt             object\n",
       "Credit_Utilization_Ratio    float64\n",
       "Credit_History_Age           object\n",
       "Payment_of_Min_Amount        object\n",
       "Total_EMI_per_month         float64\n",
       "Amount_invested_monthly      object\n",
       "Payment_Behaviour            object\n",
       "Monthly_Balance              object\n",
       "Credit_Score                 object\n",
       "dtype: object"
      ]
     },
     "execution_count": 16,
     "metadata": {},
     "output_type": "execute_result"
    }
   ],
   "source": [
    "train_df.dtypes"
   ]
  },
  {
   "cell_type": "markdown",
   "metadata": {},
   "source": [
    "### Observation: Age is numerical column but due to garbage values it is showing object datatype, Same for Annual_Income, Num_of_Loan, Num_of_Delayed_Payment, Changed_Credit_Limit, Outstanding_Debt, Amount_invested_monthly, Monthly_Balance"
   ]
  },
  {
   "cell_type": "code",
   "execution_count": 17,
   "metadata": {
    "ExecuteTime": {
     "end_time": "2022-10-06T15:42:01.382077Z",
     "start_time": "2022-10-06T15:42:01.374183Z"
    },
    "execution": {
     "iopub.execute_input": "2022-09-27T14:34:32.007688Z",
     "iopub.status.busy": "2022-09-27T14:34:32.006887Z",
     "iopub.status.idle": "2022-09-27T14:34:32.014562Z",
     "shell.execute_reply": "2022-09-27T14:34:32.013657Z",
     "shell.execute_reply.started": "2022-09-27T14:34:32.007648Z"
    }
   },
   "outputs": [],
   "source": [
    "list_of_data_conversion_col = [\"Age\", \"Annual_Income\", \"Num_of_Loan\", \"Num_of_Delayed_Payment\", \"Changed_Credit_Limit\",\n",
    "                               \"Outstanding_Debt\", \"Amount_invested_monthly\", \"Monthly_Balance\"]"
   ]
  },
  {
   "cell_type": "code",
   "execution_count": 18,
   "metadata": {
    "ExecuteTime": {
     "end_time": "2022-10-06T15:42:01.709636Z",
     "start_time": "2022-10-06T15:42:01.382077Z"
    },
    "execution": {
     "iopub.execute_input": "2022-09-27T14:34:32.016513Z",
     "iopub.status.busy": "2022-09-27T14:34:32.015845Z",
     "iopub.status.idle": "2022-09-27T14:34:32.452039Z",
     "shell.execute_reply": "2022-09-27T14:34:32.450791Z",
     "shell.execute_reply.started": "2022-09-27T14:34:32.016479Z"
    }
   },
   "outputs": [],
   "source": [
    "for col in list_of_data_conversion_col:\n",
    "    train_df[col] = pd.to_numeric(train_df[col],errors=\"coerce\") "
   ]
  },
  {
   "cell_type": "code",
   "execution_count": 19,
   "metadata": {
    "ExecuteTime": {
     "end_time": "2022-10-06T15:42:01.717458Z",
     "start_time": "2022-10-06T15:42:01.710197Z"
    },
    "execution": {
     "iopub.execute_input": "2022-09-27T14:34:32.454506Z",
     "iopub.status.busy": "2022-09-27T14:34:32.453763Z",
     "iopub.status.idle": "2022-09-27T14:34:32.465623Z",
     "shell.execute_reply": "2022-09-27T14:34:32.464140Z",
     "shell.execute_reply.started": "2022-09-27T14:34:32.454451Z"
    }
   },
   "outputs": [
    {
     "data": {
      "text/plain": [
       "Customer_ID                  object\n",
       "Month                        object\n",
       "Age                         float64\n",
       "Occupation                   object\n",
       "Annual_Income               float64\n",
       "Monthly_Inhand_Salary       float64\n",
       "Num_Bank_Accounts             int64\n",
       "Num_Credit_Card               int64\n",
       "Interest_Rate                 int64\n",
       "Num_of_Loan                 float64\n",
       "Type_of_Loan                 object\n",
       "Delay_from_due_date           int64\n",
       "Num_of_Delayed_Payment      float64\n",
       "Changed_Credit_Limit        float64\n",
       "Num_Credit_Inquiries        float64\n",
       "Credit_Mix                   object\n",
       "Outstanding_Debt            float64\n",
       "Credit_Utilization_Ratio    float64\n",
       "Credit_History_Age           object\n",
       "Payment_of_Min_Amount        object\n",
       "Total_EMI_per_month         float64\n",
       "Amount_invested_monthly     float64\n",
       "Payment_Behaviour            object\n",
       "Monthly_Balance             float64\n",
       "Credit_Score                 object\n",
       "dtype: object"
      ]
     },
     "execution_count": 19,
     "metadata": {},
     "output_type": "execute_result"
    }
   ],
   "source": [
    "train_df.dtypes"
   ]
  },
  {
   "cell_type": "markdown",
   "metadata": {},
   "source": [
    "### Now the datatypes look good but, there will be more missing values as we have replaced unknown values in object dataframe to NaN during type casting"
   ]
  },
  {
   "cell_type": "code",
   "execution_count": 20,
   "metadata": {
    "ExecuteTime": {
     "end_time": "2022-10-06T15:42:01.823965Z",
     "start_time": "2022-10-06T15:42:01.718509Z"
    },
    "execution": {
     "iopub.execute_input": "2022-09-27T14:34:32.467862Z",
     "iopub.status.busy": "2022-09-27T14:34:32.467450Z",
     "iopub.status.idle": "2022-09-27T14:34:32.527768Z",
     "shell.execute_reply": "2022-09-27T14:34:32.526676Z",
     "shell.execute_reply.started": "2022-09-27T14:34:32.467831Z"
    }
   },
   "outputs": [
    {
     "data": {
      "text/plain": [
       "Customer_ID                  0.000\n",
       "Month                        0.000\n",
       "Age                          4.939\n",
       "Occupation                   0.000\n",
       "Annual_Income                6.980\n",
       "Monthly_Inhand_Salary       15.002\n",
       "Num_Bank_Accounts            0.000\n",
       "Num_Credit_Card              0.000\n",
       "Interest_Rate                0.000\n",
       "Num_of_Loan                  4.785\n",
       "Type_of_Loan                11.408\n",
       "Delay_from_due_date          0.000\n",
       "Num_of_Delayed_Payment       9.746\n",
       "Changed_Credit_Limit         2.091\n",
       "Num_Credit_Inquiries         1.965\n",
       "Credit_Mix                   0.000\n",
       "Outstanding_Debt             1.009\n",
       "Credit_Utilization_Ratio     0.000\n",
       "Credit_History_Age           9.030\n",
       "Payment_of_Min_Amount        0.000\n",
       "Total_EMI_per_month          0.000\n",
       "Amount_invested_monthly      8.784\n",
       "Payment_Behaviour            0.000\n",
       "Monthly_Balance              1.209\n",
       "Credit_Score                 0.000\n",
       "dtype: float64"
      ]
     },
     "execution_count": 20,
     "metadata": {},
     "output_type": "execute_result"
    }
   ],
   "source": [
    "train_df.isnull().mean()*100"
   ]
  },
  {
   "cell_type": "markdown",
   "metadata": {},
   "source": [
    "## Before imputing missing values let's have look at data distribution for missing values columns"
   ]
  },
  {
   "cell_type": "code",
   "execution_count": 21,
   "metadata": {
    "ExecuteTime": {
     "end_time": "2022-10-06T15:42:01.884307Z",
     "start_time": "2022-10-06T15:42:01.823965Z"
    },
    "execution": {
     "iopub.execute_input": "2022-09-27T14:34:32.529827Z",
     "iopub.status.busy": "2022-09-27T14:34:32.529340Z",
     "iopub.status.idle": "2022-09-27T14:34:32.583909Z",
     "shell.execute_reply": "2022-09-27T14:34:32.582851Z",
     "shell.execute_reply.started": "2022-09-27T14:34:32.529781Z"
    }
   },
   "outputs": [],
   "source": [
    "missing_values_list = train_df.columns[train_df.isnull().sum() >0]"
   ]
  },
  {
   "cell_type": "code",
   "execution_count": 22,
   "metadata": {
    "ExecuteTime": {
     "end_time": "2022-10-06T15:42:01.905239Z",
     "start_time": "2022-10-06T15:42:01.884307Z"
    },
    "execution": {
     "iopub.execute_input": "2022-09-27T14:34:32.587089Z",
     "iopub.status.busy": "2022-09-27T14:34:32.586561Z",
     "iopub.status.idle": "2022-09-27T14:34:32.595716Z",
     "shell.execute_reply": "2022-09-27T14:34:32.594462Z",
     "shell.execute_reply.started": "2022-09-27T14:34:32.587041Z"
    }
   },
   "outputs": [
    {
     "data": {
      "text/plain": [
       "Index(['Age', 'Annual_Income', 'Monthly_Inhand_Salary', 'Num_of_Loan',\n",
       "       'Type_of_Loan', 'Num_of_Delayed_Payment', 'Changed_Credit_Limit',\n",
       "       'Num_Credit_Inquiries', 'Outstanding_Debt', 'Credit_History_Age',\n",
       "       'Amount_invested_monthly', 'Monthly_Balance'],\n",
       "      dtype='object')"
      ]
     },
     "execution_count": 22,
     "metadata": {},
     "output_type": "execute_result"
    }
   ],
   "source": [
    "missing_values_list"
   ]
  },
  {
   "cell_type": "code",
   "execution_count": 23,
   "metadata": {
    "ExecuteTime": {
     "end_time": "2022-10-06T15:42:02.032838Z",
     "start_time": "2022-10-06T15:42:01.906166Z"
    },
    "execution": {
     "iopub.execute_input": "2022-09-27T14:34:32.601278Z",
     "iopub.status.busy": "2022-09-27T14:34:32.600797Z",
     "iopub.status.idle": "2022-09-27T14:34:32.740715Z",
     "shell.execute_reply": "2022-09-27T14:34:32.739805Z",
     "shell.execute_reply.started": "2022-09-27T14:34:32.601237Z"
    }
   },
   "outputs": [
    {
     "data": {
      "text/html": [
       "<div>\n",
       "<style scoped>\n",
       "    .dataframe tbody tr th:only-of-type {\n",
       "        vertical-align: middle;\n",
       "    }\n",
       "\n",
       "    .dataframe tbody tr th {\n",
       "        vertical-align: top;\n",
       "    }\n",
       "\n",
       "    .dataframe thead th {\n",
       "        text-align: right;\n",
       "    }\n",
       "</style>\n",
       "<table border=\"1\" class=\"dataframe\">\n",
       "  <thead>\n",
       "    <tr style=\"text-align: right;\">\n",
       "      <th></th>\n",
       "      <th>Age</th>\n",
       "      <th>Annual_Income</th>\n",
       "      <th>Monthly_Inhand_Salary</th>\n",
       "      <th>Num_Bank_Accounts</th>\n",
       "      <th>Num_Credit_Card</th>\n",
       "      <th>Interest_Rate</th>\n",
       "      <th>Num_of_Loan</th>\n",
       "      <th>Delay_from_due_date</th>\n",
       "      <th>Num_of_Delayed_Payment</th>\n",
       "      <th>Changed_Credit_Limit</th>\n",
       "      <th>Num_Credit_Inquiries</th>\n",
       "      <th>Outstanding_Debt</th>\n",
       "      <th>Credit_Utilization_Ratio</th>\n",
       "      <th>Total_EMI_per_month</th>\n",
       "      <th>Amount_invested_monthly</th>\n",
       "      <th>Monthly_Balance</th>\n",
       "    </tr>\n",
       "  </thead>\n",
       "  <tbody>\n",
       "    <tr>\n",
       "      <th>count</th>\n",
       "      <td>95061.000000</td>\n",
       "      <td>9.302000e+04</td>\n",
       "      <td>84998.000000</td>\n",
       "      <td>100000.000000</td>\n",
       "      <td>100000.00000</td>\n",
       "      <td>100000.000000</td>\n",
       "      <td>95215.000000</td>\n",
       "      <td>100000.000000</td>\n",
       "      <td>90254.000000</td>\n",
       "      <td>97909.000000</td>\n",
       "      <td>98035.000000</td>\n",
       "      <td>98991.000000</td>\n",
       "      <td>100000.000000</td>\n",
       "      <td>100000.000000</td>\n",
       "      <td>91216.000000</td>\n",
       "      <td>98791.000000</td>\n",
       "    </tr>\n",
       "    <tr>\n",
       "      <th>mean</th>\n",
       "      <td>110.934505</td>\n",
       "      <td>1.785790e+05</td>\n",
       "      <td>4194.170850</td>\n",
       "      <td>17.091280</td>\n",
       "      <td>22.47443</td>\n",
       "      <td>72.466040</td>\n",
       "      <td>2.780339</td>\n",
       "      <td>21.068780</td>\n",
       "      <td>31.033051</td>\n",
       "      <td>10.389025</td>\n",
       "      <td>27.754251</td>\n",
       "      <td>1426.503700</td>\n",
       "      <td>32.285173</td>\n",
       "      <td>1403.118217</td>\n",
       "      <td>195.539456</td>\n",
       "      <td>402.551258</td>\n",
       "    </tr>\n",
       "    <tr>\n",
       "      <th>std</th>\n",
       "      <td>689.407864</td>\n",
       "      <td>1.442878e+06</td>\n",
       "      <td>3183.686167</td>\n",
       "      <td>117.404834</td>\n",
       "      <td>129.05741</td>\n",
       "      <td>466.422621</td>\n",
       "      <td>62.500940</td>\n",
       "      <td>14.860104</td>\n",
       "      <td>226.955758</td>\n",
       "      <td>6.789496</td>\n",
       "      <td>193.177339</td>\n",
       "      <td>1155.045753</td>\n",
       "      <td>5.116875</td>\n",
       "      <td>8306.041270</td>\n",
       "      <td>199.564527</td>\n",
       "      <td>213.925499</td>\n",
       "    </tr>\n",
       "    <tr>\n",
       "      <th>min</th>\n",
       "      <td>-500.000000</td>\n",
       "      <td>7.005930e+03</td>\n",
       "      <td>303.645417</td>\n",
       "      <td>-1.000000</td>\n",
       "      <td>0.00000</td>\n",
       "      <td>1.000000</td>\n",
       "      <td>-100.000000</td>\n",
       "      <td>-5.000000</td>\n",
       "      <td>-3.000000</td>\n",
       "      <td>-6.490000</td>\n",
       "      <td>0.000000</td>\n",
       "      <td>0.230000</td>\n",
       "      <td>20.000000</td>\n",
       "      <td>0.000000</td>\n",
       "      <td>0.000000</td>\n",
       "      <td>0.007760</td>\n",
       "    </tr>\n",
       "    <tr>\n",
       "      <th>25%</th>\n",
       "      <td>24.000000</td>\n",
       "      <td>1.943560e+04</td>\n",
       "      <td>1625.568229</td>\n",
       "      <td>3.000000</td>\n",
       "      <td>4.00000</td>\n",
       "      <td>8.000000</td>\n",
       "      <td>1.000000</td>\n",
       "      <td>10.000000</td>\n",
       "      <td>9.000000</td>\n",
       "      <td>5.320000</td>\n",
       "      <td>3.000000</td>\n",
       "      <td>566.080000</td>\n",
       "      <td>28.052567</td>\n",
       "      <td>30.306660</td>\n",
       "      <td>72.236692</td>\n",
       "      <td>270.106630</td>\n",
       "    </tr>\n",
       "    <tr>\n",
       "      <th>50%</th>\n",
       "      <td>33.000000</td>\n",
       "      <td>3.755074e+04</td>\n",
       "      <td>3093.745000</td>\n",
       "      <td>6.000000</td>\n",
       "      <td>5.00000</td>\n",
       "      <td>13.000000</td>\n",
       "      <td>3.000000</td>\n",
       "      <td>18.000000</td>\n",
       "      <td>14.000000</td>\n",
       "      <td>9.400000</td>\n",
       "      <td>6.000000</td>\n",
       "      <td>1166.370000</td>\n",
       "      <td>32.305784</td>\n",
       "      <td>69.249473</td>\n",
       "      <td>128.954538</td>\n",
       "      <td>336.731225</td>\n",
       "    </tr>\n",
       "    <tr>\n",
       "      <th>75%</th>\n",
       "      <td>42.000000</td>\n",
       "      <td>7.284338e+04</td>\n",
       "      <td>5957.448333</td>\n",
       "      <td>7.000000</td>\n",
       "      <td>7.00000</td>\n",
       "      <td>20.000000</td>\n",
       "      <td>5.000000</td>\n",
       "      <td>28.000000</td>\n",
       "      <td>18.000000</td>\n",
       "      <td>14.870000</td>\n",
       "      <td>9.000000</td>\n",
       "      <td>1948.200000</td>\n",
       "      <td>36.496663</td>\n",
       "      <td>161.224249</td>\n",
       "      <td>236.815814</td>\n",
       "      <td>470.262938</td>\n",
       "    </tr>\n",
       "    <tr>\n",
       "      <th>max</th>\n",
       "      <td>8698.000000</td>\n",
       "      <td>2.419806e+07</td>\n",
       "      <td>15204.633330</td>\n",
       "      <td>1798.000000</td>\n",
       "      <td>1499.00000</td>\n",
       "      <td>5797.000000</td>\n",
       "      <td>1496.000000</td>\n",
       "      <td>67.000000</td>\n",
       "      <td>4397.000000</td>\n",
       "      <td>36.970000</td>\n",
       "      <td>2597.000000</td>\n",
       "      <td>4998.070000</td>\n",
       "      <td>50.000000</td>\n",
       "      <td>82331.000000</td>\n",
       "      <td>1977.326102</td>\n",
       "      <td>1602.040519</td>\n",
       "    </tr>\n",
       "  </tbody>\n",
       "</table>\n",
       "</div>"
      ],
      "text/plain": [
       "                Age  Annual_Income  Monthly_Inhand_Salary  Num_Bank_Accounts  \\\n",
       "count  95061.000000   9.302000e+04           84998.000000      100000.000000   \n",
       "mean     110.934505   1.785790e+05            4194.170850          17.091280   \n",
       "std      689.407864   1.442878e+06            3183.686167         117.404834   \n",
       "min     -500.000000   7.005930e+03             303.645417          -1.000000   \n",
       "25%       24.000000   1.943560e+04            1625.568229           3.000000   \n",
       "50%       33.000000   3.755074e+04            3093.745000           6.000000   \n",
       "75%       42.000000   7.284338e+04            5957.448333           7.000000   \n",
       "max     8698.000000   2.419806e+07           15204.633330        1798.000000   \n",
       "\n",
       "       Num_Credit_Card  Interest_Rate   Num_of_Loan  Delay_from_due_date  \\\n",
       "count     100000.00000  100000.000000  95215.000000        100000.000000   \n",
       "mean          22.47443      72.466040      2.780339            21.068780   \n",
       "std          129.05741     466.422621     62.500940            14.860104   \n",
       "min            0.00000       1.000000   -100.000000            -5.000000   \n",
       "25%            4.00000       8.000000      1.000000            10.000000   \n",
       "50%            5.00000      13.000000      3.000000            18.000000   \n",
       "75%            7.00000      20.000000      5.000000            28.000000   \n",
       "max         1499.00000    5797.000000   1496.000000            67.000000   \n",
       "\n",
       "       Num_of_Delayed_Payment  Changed_Credit_Limit  Num_Credit_Inquiries  \\\n",
       "count            90254.000000          97909.000000          98035.000000   \n",
       "mean                31.033051             10.389025             27.754251   \n",
       "std                226.955758              6.789496            193.177339   \n",
       "min                 -3.000000             -6.490000              0.000000   \n",
       "25%                  9.000000              5.320000              3.000000   \n",
       "50%                 14.000000              9.400000              6.000000   \n",
       "75%                 18.000000             14.870000              9.000000   \n",
       "max               4397.000000             36.970000           2597.000000   \n",
       "\n",
       "       Outstanding_Debt  Credit_Utilization_Ratio  Total_EMI_per_month  \\\n",
       "count      98991.000000             100000.000000        100000.000000   \n",
       "mean        1426.503700                 32.285173          1403.118217   \n",
       "std         1155.045753                  5.116875          8306.041270   \n",
       "min            0.230000                 20.000000             0.000000   \n",
       "25%          566.080000                 28.052567            30.306660   \n",
       "50%         1166.370000                 32.305784            69.249473   \n",
       "75%         1948.200000                 36.496663           161.224249   \n",
       "max         4998.070000                 50.000000         82331.000000   \n",
       "\n",
       "       Amount_invested_monthly  Monthly_Balance  \n",
       "count             91216.000000     98791.000000  \n",
       "mean                195.539456       402.551258  \n",
       "std                 199.564527       213.925499  \n",
       "min                   0.000000         0.007760  \n",
       "25%                  72.236692       270.106630  \n",
       "50%                 128.954538       336.731225  \n",
       "75%                 236.815814       470.262938  \n",
       "max                1977.326102      1602.040519  "
      ]
     },
     "execution_count": 23,
     "metadata": {},
     "output_type": "execute_result"
    }
   ],
   "source": [
    "train_df.describe()"
   ]
  },
  {
   "cell_type": "markdown",
   "metadata": {},
   "source": [
    "### Still, due to random values in many columns we can see that the std is very high compared to mean\n",
    "### Age can't be -500, Num_Bank_Accounts can't be -1,Num_of_Loan can't be -100,Delay_from_due_date can't be -5, Num_of_Delayed_Payment can't be -3, Changed_Credit_Limit can't be -6.49"
   ]
  },
  {
   "cell_type": "code",
   "execution_count": 24,
   "metadata": {
    "ExecuteTime": {
     "end_time": "2022-10-06T15:42:02.085427Z",
     "start_time": "2022-10-06T15:42:02.036416Z"
    },
    "execution": {
     "iopub.execute_input": "2022-09-27T14:34:32.742407Z",
     "iopub.status.busy": "2022-09-27T14:34:32.742068Z",
     "iopub.status.idle": "2022-09-27T14:34:32.774143Z",
     "shell.execute_reply": "2022-09-27T14:34:32.772704Z",
     "shell.execute_reply.started": "2022-09-27T14:34:32.742375Z"
    }
   },
   "outputs": [
    {
     "name": "stdout",
     "output_type": "stream",
     "text": [
      "[-500.]\n",
      " \n",
      "[-1]\n",
      " \n",
      "[   2    7    0    8    1    6    4    5    9    3   10 1488 1332  494\n",
      " 1414 1724   45  210   26  942  632  482  844 1798 1123 1624  688 1636\n",
      "  423  243 1124 1153  616 1440 1676 1166  609  136 1310 1616  610  912\n",
      "   -1  449 1323  575  771 1604 1033  385  318 1669   11 1627 1760 1345\n",
      "   69  421  383  584]\n",
      " \n",
      "[-1 -2 -3 -5 -4]\n",
      " \n",
      "[-1. -3. -2.]\n",
      " \n",
      "[-2.01 -1.01 -3.01 -1.24 -4.14 -0.14 -2.87 -2.46 -4.26 -1.26 -1.33 -1.49\n",
      " -0.31 -1.48 -1.06 -2.17 -1.1  -0.05 -5.48 -4.48 -1.28 -1.93 -1.94 -5.02\n",
      " -4.2  -0.04 -2.11 -3.37 -3.43 -0.43 -3.69 -2.69 -3.52 -0.32 -3.58 -4.76\n",
      " -1.76 -0.5  -1.8  -0.8  -3.5  -3.93 -5.78 -1.29 -0.29 -3.67 -1.21 -2.52\n",
      " -0.52 -4.19 -0.74 -2.34 -0.34 -0.26 -1.65 -0.02 -1.16 -2.16 -5.63 -2.37\n",
      " -2.49 -0.08 -4.33 -6.48 -0.48 -0.7  -1.64 -0.62 -1.13 -2.13 -4.59 -2.35\n",
      " -4.35 -3.34 -4.88 -0.59 -0.61 -1.83 -2.95 -0.95 -1.95 -4.36 -1.61 -6.31\n",
      " -5.31 -3.98 -0.24 -1.89 -3.36 -3.68 -2.31 -4.31 -1.31 -1.52 -1.08 -4.15\n",
      " -3.15 -4.98 -5.5  -2.55 -1.77 -0.66 -1.92 -3.05 -1.35 -5.74 -2.74 -3.74\n",
      " -0.6  -6.2  -4.03 -1.41 -5.41 -4.41 -2.93 -5.05 -4.05 -0.44 -3.42 -1.4\n",
      " -2.4  -2.67 -2.63 -1.39 -1.85 -3.11 -3.06 -0.2  -1.59 -0.36 -1.55 -4.65\n",
      " -4.77 -0.77 -4.75 -5.75 -2.59 -4.32 -2.05 -0.16 -5.37 -1.99 -0.83 -3.13\n",
      " -0.39 -0.89 -0.01 -2.06 -2.91 -4.3  -3.12 -2.7  -0.93 -2.08 -0.47 -5.65\n",
      " -5.29 -0.35 -2.62 -1.09 -1.14 -3.03 -2.54 -0.92 -5.93 -2.28 -1.42 -0.19\n",
      " -3.04 -2.04 -5.1  -2.43 -1.97 -1.74 -1.03 -0.41 -0.23 -5.49 -0.67 -2.76\n",
      " -0.03 -2.83 -5.22 -4.87 -1.57 -3.57 -4.89 -3.25 -0.78 -1.73 -3.39 -1.79\n",
      " -1.82 -2.82 -3.82 -5.17 -4.4  -3.4  -0.4  -2.14 -0.49 -0.45 -3.46 -3.2\n",
      " -5.55 -0.46 -0.07 -5.03 -5.35 -0.09 -2.38 -0.38 -1.38 -1.36 -3.6  -2.03\n",
      " -1.2  -2.2  -1.44 -0.9  -1.02 -4.73 -2.86 -4.37 -1.37 -1.04 -0.3  -3.9\n",
      " -1.58 -2.58 -4.54 -1.54 -1.51 -1.86 -1.63 -0.13 -1.18 -1.62 -0.97 -4.04\n",
      " -1.12 -0.98 -0.87 -5.85 -0.73 -3.09 -4.01 -5.01 -3.29 -1.17 -3.78 -0.58\n",
      " -4.7  -5.7  -4.28 -3.24 -1.3  -2.18 -0.18 -0.91 -3.62 -4.57 -2.27 -4.82\n",
      " -0.82 -0.53 -2.3  -0.55 -2.5  -2.21 -4.21 -5.2  -0.27 -0.1  -3.1  -3.54\n",
      " -2.32 -5.38 -1.05 -2.45 -4.45 -0.76 -3.76 -2.73 -0.64 -0.42 -4.42 -4.62\n",
      " -5.25 -6.02 -4.63 -5.21 -5.24 -0.25 -2.25 -2.41 -4.06 -5.32 -1.32 -4.46\n",
      " -2.39 -3.88 -0.12 -2.44 -2.97 -1.45 -1.43 -0.37 -3.75 -4.22 -1.67 -4.99\n",
      " -2.64 -2.42 -5.19 -0.15 -3.66 -3.89 -4.49 -3.55 -1.75 -4.23 -1.53 -3.44\n",
      " -0.85 -2.07 -5.58 -5.3  -3.3  -1.   -2.81 -0.11 -3.14 -4.97 -4.08 -3.86\n",
      " -4.27 -1.27 -2.88 -4.95 -6.39 -4.25 -0.79 -1.23 -3.23 -3.81 -0.54 -4.58\n",
      " -0.57 -5.61 -3.17 -3.38 -3.08 -1.66 -2.24 -3.51 -0.51 -5.52 -2.15 -3.79\n",
      " -5.34 -0.28 -1.78 -5.12 -2.65 -6.35 -3.22 -4.5  -2.85 -6.1  -4.53 -0.22\n",
      " -2.22 -1.22 -0.84 -1.91 -1.84 -1.11 -5.11 -2.78 -2.8  -2.84 -3.83 -0.94\n",
      " -6.28 -0.17 -0.65 -4.09 -2.51 -2.29 -4.84 -3.53 -5.92 -1.96 -4.11 -6.44\n",
      " -6.32 -0.63 -4.69 -4.52 -3.28 -2.66 -0.72 -2.56 -3.07 -6.27 -3.31 -4.1\n",
      " -6.37 -3.77 -6.01 -2.89 -5.99 -2.99 -0.56 -0.86 -2.36 -5.23 -3.8  -3.27\n",
      " -4.51 -4.9  -3.41 -3.65 -4.24 -5.76 -0.99 -6.43 -5.43 -0.71 -1.71 -3.48\n",
      " -3.99 -6.25 -6.45 -1.07 -1.87 -3.63 -4.47 -4.79 -2.12 -3.73 -6.07 -6.03\n",
      " -5.   -4.13 -6.13 -4.02 -5.66 -0.88 -0.06 -4.68 -3.45 -1.88 -4.16 -3.71\n",
      " -3.64 -6.23 -2.47 -3.47 -0.33 -2.72 -2.   -1.56 -0.68 -5.9  -2.61 -3.61\n",
      " -4.43 -5.95 -5.57 -2.94 -3.94 -1.69 -2.26 -2.79 -3.84 -1.34 -3.35 -6.19\n",
      " -2.68 -2.19 -6.   -4.38 -1.5  -5.77 -3.92 -3.85 -1.72 -4.72 -1.81 -3.59\n",
      " -3.16 -6.49 -5.82 -3.19 -3.97 -2.98 -2.77 -2.02 -3.56 -0.96 -5.86 -4.86\n",
      " -2.6  -4.94 -4.17 -0.75 -5.8  -1.98 -3.18 -2.53 -5.42 -2.48 -3.87 -6.33\n",
      " -4.67 -2.75 -4.55 -0.81 -2.96 -2.33 -2.71 -3.49 -1.19 -4.34 -4.74 -1.6\n",
      " -0.69 -4.78 -4.39 -4.8 ]\n"
     ]
    }
   ],
   "source": [
    "print(train_df[train_df[\"Age\"]<0][\"Age\"].unique())\n",
    "print(\" \")\n",
    "print(train_df[train_df[\"Num_Bank_Accounts\"]<0][\"Num_Bank_Accounts\"].unique())\n",
    "print(\" \")\n",
    "print(train_df[train_df[\"Num_of_Loan\"]<0][\"Num_Bank_Accounts\"].unique())\n",
    "print(\" \")\n",
    "print(train_df[train_df[\"Delay_from_due_date\"]<0][\"Delay_from_due_date\"].unique())\n",
    "print(\" \")\n",
    "print(train_df[train_df[\"Num_of_Delayed_Payment\"]<0][\"Num_of_Delayed_Payment\"].unique())\n",
    "print(\" \")\n",
    "print(train_df[train_df[\"Changed_Credit_Limit\"]<0][\"Changed_Credit_Limit\"].unique())"
   ]
  },
  {
   "cell_type": "code",
   "execution_count": 25,
   "metadata": {
    "ExecuteTime": {
     "end_time": "2022-10-06T15:42:02.144010Z",
     "start_time": "2022-10-06T15:42:02.085427Z"
    },
    "execution": {
     "iopub.execute_input": "2022-09-27T14:34:32.776496Z",
     "iopub.status.busy": "2022-09-27T14:34:32.775958Z",
     "iopub.status.idle": "2022-09-27T14:34:32.792681Z",
     "shell.execute_reply": "2022-09-27T14:34:32.791129Z",
     "shell.execute_reply.started": "2022-09-27T14:34:32.776462Z"
    }
   },
   "outputs": [],
   "source": [
    "train_df[\"Age\"] = train_df[\"Age\"].replace(-500,np.nan) \n",
    "train_df[\"Num_Bank_Accounts\"] = train_df[\"Num_Bank_Accounts\"].replace(-1,np.nan) \n",
    "train_df[\"Delay_from_due_date\"] = train_df[\"Delay_from_due_date\"].replace([-1,-2,-3,-4,-5],np.nan) \n",
    "train_df[\"Num_of_Delayed_Payment\"] = train_df[\"Num_of_Delayed_Payment\"].replace([-1,-2,-3],np.nan) \n"
   ]
  },
  {
   "cell_type": "code",
   "execution_count": 26,
   "metadata": {
    "ExecuteTime": {
     "end_time": "2022-10-06T15:42:02.165244Z",
     "start_time": "2022-10-06T15:42:02.144010Z"
    },
    "execution": {
     "iopub.execute_input": "2022-09-27T14:34:32.794745Z",
     "iopub.status.busy": "2022-09-27T14:34:32.794300Z",
     "iopub.status.idle": "2022-09-27T14:34:32.803556Z",
     "shell.execute_reply": "2022-09-27T14:34:32.801935Z",
     "shell.execute_reply.started": "2022-09-27T14:34:32.794707Z"
    }
   },
   "outputs": [],
   "source": [
    "filt = train_df[\"Changed_Credit_Limit\"]<0\n",
    "train_df[\"Changed_Credit_Limit\"].loc[filt]=np.nan"
   ]
  },
  {
   "cell_type": "code",
   "execution_count": 27,
   "metadata": {
    "ExecuteTime": {
     "end_time": "2022-10-06T15:42:02.174285Z",
     "start_time": "2022-10-06T15:42:02.166285Z"
    },
    "execution": {
     "iopub.execute_input": "2022-09-27T14:34:32.805644Z",
     "iopub.status.busy": "2022-09-27T14:34:32.805126Z",
     "iopub.status.idle": "2022-09-27T14:34:32.816897Z",
     "shell.execute_reply": "2022-09-27T14:34:32.815302Z",
     "shell.execute_reply.started": "2022-09-27T14:34:32.805572Z"
    }
   },
   "outputs": [],
   "source": [
    "filt = train_df[\"Num_of_Loan\"]<0\n",
    "train_df[\"Num_of_Loan\"].loc[filt]=np.nan"
   ]
  },
  {
   "cell_type": "code",
   "execution_count": 28,
   "metadata": {
    "ExecuteTime": {
     "end_time": "2022-10-06T15:42:02.285492Z",
     "start_time": "2022-10-06T15:42:02.174285Z"
    },
    "execution": {
     "iopub.execute_input": "2022-09-27T14:34:32.818892Z",
     "iopub.status.busy": "2022-09-27T14:34:32.818460Z",
     "iopub.status.idle": "2022-09-27T14:34:32.971684Z",
     "shell.execute_reply": "2022-09-27T14:34:32.970251Z",
     "shell.execute_reply.started": "2022-09-27T14:34:32.818856Z"
    }
   },
   "outputs": [
    {
     "data": {
      "text/html": [
       "<div>\n",
       "<style scoped>\n",
       "    .dataframe tbody tr th:only-of-type {\n",
       "        vertical-align: middle;\n",
       "    }\n",
       "\n",
       "    .dataframe tbody tr th {\n",
       "        vertical-align: top;\n",
       "    }\n",
       "\n",
       "    .dataframe thead th {\n",
       "        text-align: right;\n",
       "    }\n",
       "</style>\n",
       "<table border=\"1\" class=\"dataframe\">\n",
       "  <thead>\n",
       "    <tr style=\"text-align: right;\">\n",
       "      <th></th>\n",
       "      <th>Age</th>\n",
       "      <th>Annual_Income</th>\n",
       "      <th>Monthly_Inhand_Salary</th>\n",
       "      <th>Num_Bank_Accounts</th>\n",
       "      <th>Num_Credit_Card</th>\n",
       "      <th>Interest_Rate</th>\n",
       "      <th>Num_of_Loan</th>\n",
       "      <th>Delay_from_due_date</th>\n",
       "      <th>Num_of_Delayed_Payment</th>\n",
       "      <th>Changed_Credit_Limit</th>\n",
       "      <th>Num_Credit_Inquiries</th>\n",
       "      <th>Outstanding_Debt</th>\n",
       "      <th>Credit_Utilization_Ratio</th>\n",
       "      <th>Total_EMI_per_month</th>\n",
       "      <th>Amount_invested_monthly</th>\n",
       "      <th>Monthly_Balance</th>\n",
       "    </tr>\n",
       "  </thead>\n",
       "  <tbody>\n",
       "    <tr>\n",
       "      <th>count</th>\n",
       "      <td>94175.000000</td>\n",
       "      <td>9.302000e+04</td>\n",
       "      <td>84998.000000</td>\n",
       "      <td>99979.000000</td>\n",
       "      <td>100000.00000</td>\n",
       "      <td>100000.000000</td>\n",
       "      <td>91339.000000</td>\n",
       "      <td>99409.000000</td>\n",
       "      <td>89632.000000</td>\n",
       "      <td>96323.000000</td>\n",
       "      <td>98035.000000</td>\n",
       "      <td>98991.000000</td>\n",
       "      <td>100000.000000</td>\n",
       "      <td>100000.000000</td>\n",
       "      <td>91216.000000</td>\n",
       "      <td>98791.000000</td>\n",
       "    </tr>\n",
       "    <tr>\n",
       "      <th>mean</th>\n",
       "      <td>116.682187</td>\n",
       "      <td>1.785790e+05</td>\n",
       "      <td>4194.170850</td>\n",
       "      <td>17.095080</td>\n",
       "      <td>22.47443</td>\n",
       "      <td>72.466040</td>\n",
       "      <td>7.141856</td>\n",
       "      <td>21.207245</td>\n",
       "      <td>31.259863</td>\n",
       "      <td>10.599042</td>\n",
       "      <td>27.754251</td>\n",
       "      <td>1426.503700</td>\n",
       "      <td>32.285173</td>\n",
       "      <td>1403.118217</td>\n",
       "      <td>195.539456</td>\n",
       "      <td>402.551258</td>\n",
       "    </tr>\n",
       "    <tr>\n",
       "      <th>std</th>\n",
       "      <td>690.079845</td>\n",
       "      <td>1.442878e+06</td>\n",
       "      <td>3183.686167</td>\n",
       "      <td>117.416871</td>\n",
       "      <td>129.05741</td>\n",
       "      <td>466.422621</td>\n",
       "      <td>60.040246</td>\n",
       "      <td>14.794693</td>\n",
       "      <td>227.725486</td>\n",
       "      <td>6.639966</td>\n",
       "      <td>193.177339</td>\n",
       "      <td>1155.045753</td>\n",
       "      <td>5.116875</td>\n",
       "      <td>8306.041270</td>\n",
       "      <td>199.564527</td>\n",
       "      <td>213.925499</td>\n",
       "    </tr>\n",
       "    <tr>\n",
       "      <th>min</th>\n",
       "      <td>14.000000</td>\n",
       "      <td>7.005930e+03</td>\n",
       "      <td>303.645417</td>\n",
       "      <td>0.000000</td>\n",
       "      <td>0.00000</td>\n",
       "      <td>1.000000</td>\n",
       "      <td>0.000000</td>\n",
       "      <td>0.000000</td>\n",
       "      <td>0.000000</td>\n",
       "      <td>0.000000</td>\n",
       "      <td>0.000000</td>\n",
       "      <td>0.230000</td>\n",
       "      <td>20.000000</td>\n",
       "      <td>0.000000</td>\n",
       "      <td>0.000000</td>\n",
       "      <td>0.007760</td>\n",
       "    </tr>\n",
       "    <tr>\n",
       "      <th>25%</th>\n",
       "      <td>25.000000</td>\n",
       "      <td>1.943560e+04</td>\n",
       "      <td>1625.568229</td>\n",
       "      <td>3.000000</td>\n",
       "      <td>4.00000</td>\n",
       "      <td>8.000000</td>\n",
       "      <td>2.000000</td>\n",
       "      <td>10.000000</td>\n",
       "      <td>9.000000</td>\n",
       "      <td>5.570000</td>\n",
       "      <td>3.000000</td>\n",
       "      <td>566.080000</td>\n",
       "      <td>28.052567</td>\n",
       "      <td>30.306660</td>\n",
       "      <td>72.236692</td>\n",
       "      <td>270.106630</td>\n",
       "    </tr>\n",
       "    <tr>\n",
       "      <th>50%</th>\n",
       "      <td>33.000000</td>\n",
       "      <td>3.755074e+04</td>\n",
       "      <td>3093.745000</td>\n",
       "      <td>6.000000</td>\n",
       "      <td>5.00000</td>\n",
       "      <td>13.000000</td>\n",
       "      <td>3.000000</td>\n",
       "      <td>18.000000</td>\n",
       "      <td>14.000000</td>\n",
       "      <td>9.520000</td>\n",
       "      <td>6.000000</td>\n",
       "      <td>1166.370000</td>\n",
       "      <td>32.305784</td>\n",
       "      <td>69.249473</td>\n",
       "      <td>128.954538</td>\n",
       "      <td>336.731225</td>\n",
       "    </tr>\n",
       "    <tr>\n",
       "      <th>75%</th>\n",
       "      <td>42.000000</td>\n",
       "      <td>7.284338e+04</td>\n",
       "      <td>5957.448333</td>\n",
       "      <td>7.000000</td>\n",
       "      <td>7.00000</td>\n",
       "      <td>20.000000</td>\n",
       "      <td>5.000000</td>\n",
       "      <td>28.000000</td>\n",
       "      <td>18.000000</td>\n",
       "      <td>15.010000</td>\n",
       "      <td>9.000000</td>\n",
       "      <td>1948.200000</td>\n",
       "      <td>36.496663</td>\n",
       "      <td>161.224249</td>\n",
       "      <td>236.815814</td>\n",
       "      <td>470.262938</td>\n",
       "    </tr>\n",
       "    <tr>\n",
       "      <th>max</th>\n",
       "      <td>8698.000000</td>\n",
       "      <td>2.419806e+07</td>\n",
       "      <td>15204.633330</td>\n",
       "      <td>1798.000000</td>\n",
       "      <td>1499.00000</td>\n",
       "      <td>5797.000000</td>\n",
       "      <td>1496.000000</td>\n",
       "      <td>67.000000</td>\n",
       "      <td>4397.000000</td>\n",
       "      <td>36.970000</td>\n",
       "      <td>2597.000000</td>\n",
       "      <td>4998.070000</td>\n",
       "      <td>50.000000</td>\n",
       "      <td>82331.000000</td>\n",
       "      <td>1977.326102</td>\n",
       "      <td>1602.040519</td>\n",
       "    </tr>\n",
       "  </tbody>\n",
       "</table>\n",
       "</div>"
      ],
      "text/plain": [
       "                Age  Annual_Income  Monthly_Inhand_Salary  Num_Bank_Accounts  \\\n",
       "count  94175.000000   9.302000e+04           84998.000000       99979.000000   \n",
       "mean     116.682187   1.785790e+05            4194.170850          17.095080   \n",
       "std      690.079845   1.442878e+06            3183.686167         117.416871   \n",
       "min       14.000000   7.005930e+03             303.645417           0.000000   \n",
       "25%       25.000000   1.943560e+04            1625.568229           3.000000   \n",
       "50%       33.000000   3.755074e+04            3093.745000           6.000000   \n",
       "75%       42.000000   7.284338e+04            5957.448333           7.000000   \n",
       "max     8698.000000   2.419806e+07           15204.633330        1798.000000   \n",
       "\n",
       "       Num_Credit_Card  Interest_Rate   Num_of_Loan  Delay_from_due_date  \\\n",
       "count     100000.00000  100000.000000  91339.000000         99409.000000   \n",
       "mean          22.47443      72.466040      7.141856            21.207245   \n",
       "std          129.05741     466.422621     60.040246            14.794693   \n",
       "min            0.00000       1.000000      0.000000             0.000000   \n",
       "25%            4.00000       8.000000      2.000000            10.000000   \n",
       "50%            5.00000      13.000000      3.000000            18.000000   \n",
       "75%            7.00000      20.000000      5.000000            28.000000   \n",
       "max         1499.00000    5797.000000   1496.000000            67.000000   \n",
       "\n",
       "       Num_of_Delayed_Payment  Changed_Credit_Limit  Num_Credit_Inquiries  \\\n",
       "count            89632.000000          96323.000000          98035.000000   \n",
       "mean                31.259863             10.599042             27.754251   \n",
       "std                227.725486              6.639966            193.177339   \n",
       "min                  0.000000              0.000000              0.000000   \n",
       "25%                  9.000000              5.570000              3.000000   \n",
       "50%                 14.000000              9.520000              6.000000   \n",
       "75%                 18.000000             15.010000              9.000000   \n",
       "max               4397.000000             36.970000           2597.000000   \n",
       "\n",
       "       Outstanding_Debt  Credit_Utilization_Ratio  Total_EMI_per_month  \\\n",
       "count      98991.000000             100000.000000        100000.000000   \n",
       "mean        1426.503700                 32.285173          1403.118217   \n",
       "std         1155.045753                  5.116875          8306.041270   \n",
       "min            0.230000                 20.000000             0.000000   \n",
       "25%          566.080000                 28.052567            30.306660   \n",
       "50%         1166.370000                 32.305784            69.249473   \n",
       "75%         1948.200000                 36.496663           161.224249   \n",
       "max         4998.070000                 50.000000         82331.000000   \n",
       "\n",
       "       Amount_invested_monthly  Monthly_Balance  \n",
       "count             91216.000000     98791.000000  \n",
       "mean                195.539456       402.551258  \n",
       "std                 199.564527       213.925499  \n",
       "min                   0.000000         0.007760  \n",
       "25%                  72.236692       270.106630  \n",
       "50%                 128.954538       336.731225  \n",
       "75%                 236.815814       470.262938  \n",
       "max                1977.326102      1602.040519  "
      ]
     },
     "execution_count": 28,
     "metadata": {},
     "output_type": "execute_result"
    }
   ],
   "source": [
    "train_df.describe()"
   ]
  },
  {
   "cell_type": "markdown",
   "metadata": {},
   "source": [
    "## There are still some garbage values because Age is having max as 8698 which is not possible, so before imputing missing value, we need to remove outliers, otherwise far values will have effect on mean, median values while imputing"
   ]
  },
  {
   "cell_type": "code",
   "execution_count": 29,
   "metadata": {
    "ExecuteTime": {
     "end_time": "2022-10-06T15:42:02.301533Z",
     "start_time": "2022-10-06T15:42:02.286372Z"
    },
    "execution": {
     "iopub.execute_input": "2022-09-27T14:34:32.973941Z",
     "iopub.status.busy": "2022-09-27T14:34:32.973554Z",
     "iopub.status.idle": "2022-09-27T14:34:32.980554Z",
     "shell.execute_reply": "2022-09-27T14:34:32.979643Z",
     "shell.execute_reply.started": "2022-09-27T14:34:32.973906Z"
    }
   },
   "outputs": [],
   "source": [
    "def remove_outliers_box(df,col):\n",
    "    tf= np.percentile(df[col].dropna(),25)\n",
    "    sf= np.percentile(df[col].dropna(),75)\n",
    "    iqr = sf-tf\n",
    "    ll= tf-(1.5*iqr)\n",
    "    ul= sf+(1.5*iqr)\n",
    "    filt = (df[col]>=ll)&(df[col]<=ul)\n",
    "    fin_df=df.loc[filt]\n",
    "    return fin_df\n",
    "    "
   ]
  },
  {
   "cell_type": "code",
   "execution_count": 30,
   "metadata": {
    "ExecuteTime": {
     "end_time": "2022-10-06T15:42:02.312581Z",
     "start_time": "2022-10-06T15:42:02.302494Z"
    },
    "execution": {
     "iopub.execute_input": "2022-09-27T14:34:32.982579Z",
     "iopub.status.busy": "2022-09-27T14:34:32.982162Z",
     "iopub.status.idle": "2022-09-27T14:34:32.995912Z",
     "shell.execute_reply": "2022-09-27T14:34:32.994686Z",
     "shell.execute_reply.started": "2022-09-27T14:34:32.982545Z"
    }
   },
   "outputs": [],
   "source": [
    "def remove_outliers_zscore(df,col):\n",
    "    std= df[col].std()\n",
    "    mean= df[col].mean()\n",
    "    ll= mean-(3*std)\n",
    "    ul= mean+(3*std)\n",
    "    filt = (df[col]>=ll)&(df[col]<=ul)\n",
    "    fin_df=df.loc[filt]\n",
    "    return fin_df"
   ]
  },
  {
   "cell_type": "code",
   "execution_count": 31,
   "metadata": {
    "ExecuteTime": {
     "end_time": "2022-10-06T15:42:02.331885Z",
     "start_time": "2022-10-06T15:42:02.312581Z"
    },
    "execution": {
     "iopub.execute_input": "2022-09-27T14:34:32.998800Z",
     "iopub.status.busy": "2022-09-27T14:34:32.998220Z",
     "iopub.status.idle": "2022-09-27T14:34:33.011987Z",
     "shell.execute_reply": "2022-09-27T14:34:33.010749Z",
     "shell.execute_reply.started": "2022-09-27T14:34:32.998758Z"
    }
   },
   "outputs": [
    {
     "data": {
      "text/plain": [
       "(100000, 25)"
      ]
     },
     "execution_count": 31,
     "metadata": {},
     "output_type": "execute_result"
    }
   ],
   "source": [
    "train_df.shape"
   ]
  },
  {
   "cell_type": "code",
   "execution_count": 32,
   "metadata": {
    "ExecuteTime": {
     "end_time": "2022-10-06T15:42:02.343738Z",
     "start_time": "2022-10-06T15:42:02.332948Z"
    },
    "execution": {
     "iopub.execute_input": "2022-09-27T14:34:33.014291Z",
     "iopub.status.busy": "2022-09-27T14:34:33.013812Z",
     "iopub.status.idle": "2022-09-27T14:34:33.023756Z",
     "shell.execute_reply": "2022-09-27T14:34:33.022773Z",
     "shell.execute_reply.started": "2022-09-27T14:34:33.014245Z"
    }
   },
   "outputs": [],
   "source": [
    "list_of_numeric_col=[]\n",
    "for col in train_df.columns:\n",
    "    if train_df[col].dtype != \"O\":\n",
    "        list_of_numeric_col.append(col)\n",
    "        \n",
    "    "
   ]
  },
  {
   "cell_type": "code",
   "execution_count": 33,
   "metadata": {
    "ExecuteTime": {
     "end_time": "2022-10-06T15:42:02.359811Z",
     "start_time": "2022-10-06T15:42:02.343738Z"
    },
    "execution": {
     "iopub.execute_input": "2022-09-27T14:34:33.030098Z",
     "iopub.status.busy": "2022-09-27T14:34:33.028678Z",
     "iopub.status.idle": "2022-09-27T14:34:33.040012Z",
     "shell.execute_reply": "2022-09-27T14:34:33.038812Z",
     "shell.execute_reply.started": "2022-09-27T14:34:33.030032Z"
    }
   },
   "outputs": [
    {
     "data": {
      "text/plain": [
       "['Age',\n",
       " 'Annual_Income',\n",
       " 'Monthly_Inhand_Salary',\n",
       " 'Num_Bank_Accounts',\n",
       " 'Num_Credit_Card',\n",
       " 'Interest_Rate',\n",
       " 'Num_of_Loan',\n",
       " 'Delay_from_due_date',\n",
       " 'Num_of_Delayed_Payment',\n",
       " 'Changed_Credit_Limit',\n",
       " 'Num_Credit_Inquiries',\n",
       " 'Outstanding_Debt',\n",
       " 'Credit_Utilization_Ratio',\n",
       " 'Total_EMI_per_month',\n",
       " 'Amount_invested_monthly',\n",
       " 'Monthly_Balance']"
      ]
     },
     "execution_count": 33,
     "metadata": {},
     "output_type": "execute_result"
    }
   ],
   "source": [
    "list_of_numeric_col"
   ]
  },
  {
   "cell_type": "code",
   "execution_count": 34,
   "metadata": {
    "ExecuteTime": {
     "end_time": "2022-10-06T15:42:02.374532Z",
     "start_time": "2022-10-06T15:42:02.360760Z"
    },
    "execution": {
     "iopub.execute_input": "2022-09-27T14:34:33.041664Z",
     "iopub.status.busy": "2022-09-27T14:34:33.041184Z",
     "iopub.status.idle": "2022-09-27T14:34:33.060511Z",
     "shell.execute_reply": "2022-09-27T14:34:33.059181Z",
     "shell.execute_reply.started": "2022-09-27T14:34:33.041610Z"
    }
   },
   "outputs": [],
   "source": [
    "new_df = train_df.copy()"
   ]
  },
  {
   "cell_type": "code",
   "execution_count": 35,
   "metadata": {
    "ExecuteTime": {
     "end_time": "2022-10-06T15:42:02.595039Z",
     "start_time": "2022-10-06T15:42:02.374532Z"
    },
    "execution": {
     "iopub.execute_input": "2022-09-27T14:34:33.062849Z",
     "iopub.status.busy": "2022-09-27T14:34:33.062335Z",
     "iopub.status.idle": "2022-09-27T14:34:33.325641Z",
     "shell.execute_reply": "2022-09-27T14:34:33.323872Z",
     "shell.execute_reply.started": "2022-09-27T14:34:33.062800Z"
    }
   },
   "outputs": [
    {
     "name": "stdout",
     "output_type": "stream",
     "text": [
      "Before (100000, 25)\n",
      "After (92365, 25)\n",
      "Before (92365, 25)\n",
      "After (83505, 25)\n",
      "Before (83505, 25)\n",
      "After (70459, 25)\n",
      "Before (70459, 25)\n",
      "After (69515, 25)\n",
      "Before (69515, 25)\n",
      "After (67908, 25)\n",
      "Before (67908, 25)\n",
      "After (66491, 25)\n",
      "Before (66491, 25)\n",
      "After (60361, 25)\n",
      "Before (60361, 25)\n",
      "After (57551, 25)\n",
      "Before (57551, 25)\n",
      "After (51168, 25)\n",
      "Before (51168, 25)\n",
      "After (48922, 25)\n",
      "Before (48922, 25)\n",
      "After (47144, 25)\n",
      "Before (47144, 25)\n",
      "After (43878, 25)\n",
      "Before (43878, 25)\n",
      "After (43878, 25)\n",
      "Before (43878, 25)\n",
      "After (40796, 25)\n",
      "Before (40796, 25)\n",
      "After (34277, 25)\n",
      "Before (34277, 25)\n",
      "After (31720, 25)\n"
     ]
    }
   ],
   "source": [
    "for col in list_of_numeric_col:\n",
    "    print(\"Before\",new_df.shape)\n",
    "    new_df = remove_outliers_box(new_df,col)\n",
    "    print(\"After\",new_df.shape)\n",
    "\n"
   ]
  },
  {
   "cell_type": "code",
   "execution_count": 36,
   "metadata": {
    "ExecuteTime": {
     "end_time": "2022-10-06T15:42:02.633516Z",
     "start_time": "2022-10-06T15:42:02.595039Z"
    },
    "execution": {
     "iopub.execute_input": "2022-09-27T14:34:33.327682Z",
     "iopub.status.busy": "2022-09-27T14:34:33.327260Z",
     "iopub.status.idle": "2022-09-27T14:34:33.362471Z",
     "shell.execute_reply": "2022-09-27T14:34:33.361239Z",
     "shell.execute_reply.started": "2022-09-27T14:34:33.327647Z"
    }
   },
   "outputs": [],
   "source": [
    "train_df=train_df.reset_index().drop(\"index\",1)"
   ]
  },
  {
   "cell_type": "code",
   "execution_count": 37,
   "metadata": {
    "ExecuteTime": {
     "end_time": "2022-10-06T15:42:02.654479Z",
     "start_time": "2022-10-06T15:42:02.633516Z"
    },
    "execution": {
     "iopub.execute_input": "2022-09-27T14:34:33.364060Z",
     "iopub.status.busy": "2022-09-27T14:34:33.363735Z",
     "iopub.status.idle": "2022-09-27T14:34:33.371222Z",
     "shell.execute_reply": "2022-09-27T14:34:33.369946Z",
     "shell.execute_reply.started": "2022-09-27T14:34:33.364030Z"
    }
   },
   "outputs": [
    {
     "data": {
      "text/plain": [
       "(100000, 25)"
      ]
     },
     "execution_count": 37,
     "metadata": {},
     "output_type": "execute_result"
    }
   ],
   "source": [
    "train_df.shape"
   ]
  },
  {
   "cell_type": "markdown",
   "metadata": {},
   "source": [
    "### After removing all the outliers it looks like the dataset has reduce to 31% of total, so a new approach is required, instead of removing outlier we can consider the outlier values as nan and then impute them instead of dropping those values "
   ]
  },
  {
   "cell_type": "markdown",
   "metadata": {},
   "source": [
    "### But before that let's check for these thigs in test dataframe"
   ]
  },
  {
   "cell_type": "code",
   "execution_count": 38,
   "metadata": {
    "ExecuteTime": {
     "end_time": "2022-10-06T15:42:03.051321Z",
     "start_time": "2022-10-06T15:42:02.654479Z"
    },
    "execution": {
     "iopub.execute_input": "2022-09-27T14:34:33.373214Z",
     "iopub.status.busy": "2022-09-27T14:34:33.372802Z",
     "iopub.status.idle": "2022-09-27T14:34:33.784143Z",
     "shell.execute_reply": "2022-09-27T14:34:33.782906Z",
     "shell.execute_reply.started": "2022-09-27T14:34:33.373152Z"
    }
   },
   "outputs": [],
   "source": [
    "test_df = pd.read_csv(test_path)"
   ]
  },
  {
   "cell_type": "code",
   "execution_count": 39,
   "metadata": {
    "ExecuteTime": {
     "end_time": "2022-10-06T15:42:03.066984Z",
     "start_time": "2022-10-06T15:42:03.051321Z"
    },
    "execution": {
     "iopub.execute_input": "2022-09-27T14:34:33.786733Z",
     "iopub.status.busy": "2022-09-27T14:34:33.785994Z",
     "iopub.status.idle": "2022-09-27T14:34:33.794928Z",
     "shell.execute_reply": "2022-09-27T14:34:33.793673Z",
     "shell.execute_reply.started": "2022-09-27T14:34:33.786685Z"
    }
   },
   "outputs": [
    {
     "data": {
      "text/plain": [
       "(50000, 27)"
      ]
     },
     "execution_count": 39,
     "metadata": {},
     "output_type": "execute_result"
    }
   ],
   "source": [
    "test_df.shape"
   ]
  },
  {
   "cell_type": "code",
   "execution_count": 40,
   "metadata": {
    "ExecuteTime": {
     "end_time": "2022-10-06T15:42:03.122576Z",
     "start_time": "2022-10-06T15:42:03.068004Z"
    },
    "execution": {
     "iopub.execute_input": "2022-09-27T14:34:33.800185Z",
     "iopub.status.busy": "2022-09-27T14:34:33.799823Z",
     "iopub.status.idle": "2022-09-27T14:34:33.822436Z",
     "shell.execute_reply": "2022-09-27T14:34:33.821431Z",
     "shell.execute_reply.started": "2022-09-27T14:34:33.800153Z"
    }
   },
   "outputs": [],
   "source": [
    "test_df=test_df.drop([\"ID\",\"Name\",\"SSN\"],1)"
   ]
  },
  {
   "cell_type": "code",
   "execution_count": 41,
   "metadata": {
    "ExecuteTime": {
     "end_time": "2022-10-06T15:42:03.142632Z",
     "start_time": "2022-10-06T15:42:03.122576Z"
    },
    "execution": {
     "iopub.execute_input": "2022-09-27T14:34:33.825029Z",
     "iopub.status.busy": "2022-09-27T14:34:33.824541Z",
     "iopub.status.idle": "2022-09-27T14:34:33.834343Z",
     "shell.execute_reply": "2022-09-27T14:34:33.832746Z",
     "shell.execute_reply.started": "2022-09-27T14:34:33.824981Z"
    }
   },
   "outputs": [
    {
     "data": {
      "text/plain": [
       "Customer_ID                  object\n",
       "Month                        object\n",
       "Age                          object\n",
       "Occupation                   object\n",
       "Annual_Income                object\n",
       "Monthly_Inhand_Salary       float64\n",
       "Num_Bank_Accounts             int64\n",
       "Num_Credit_Card               int64\n",
       "Interest_Rate                 int64\n",
       "Num_of_Loan                  object\n",
       "Type_of_Loan                 object\n",
       "Delay_from_due_date           int64\n",
       "Num_of_Delayed_Payment       object\n",
       "Changed_Credit_Limit         object\n",
       "Num_Credit_Inquiries        float64\n",
       "Credit_Mix                   object\n",
       "Outstanding_Debt             object\n",
       "Credit_Utilization_Ratio    float64\n",
       "Credit_History_Age           object\n",
       "Payment_of_Min_Amount        object\n",
       "Total_EMI_per_month         float64\n",
       "Amount_invested_monthly      object\n",
       "Payment_Behaviour            object\n",
       "Monthly_Balance              object\n",
       "dtype: object"
      ]
     },
     "execution_count": 41,
     "metadata": {},
     "output_type": "execute_result"
    }
   ],
   "source": [
    "test_df.dtypes"
   ]
  },
  {
   "cell_type": "code",
   "execution_count": 42,
   "metadata": {
    "ExecuteTime": {
     "end_time": "2022-10-06T15:42:03.334371Z",
     "start_time": "2022-10-06T15:42:03.143683Z"
    },
    "execution": {
     "iopub.execute_input": "2022-09-27T14:34:33.836080Z",
     "iopub.status.busy": "2022-09-27T14:34:33.835612Z",
     "iopub.status.idle": "2022-09-27T14:34:34.054235Z",
     "shell.execute_reply": "2022-09-27T14:34:34.053008Z",
     "shell.execute_reply.started": "2022-09-27T14:34:33.836035Z"
    }
   },
   "outputs": [],
   "source": [
    "for col in list_of_data_conversion_col:\n",
    "    test_df[col] = pd.to_numeric(test_df[col],errors=\"coerce\") "
   ]
  },
  {
   "cell_type": "code",
   "execution_count": 43,
   "metadata": {
    "ExecuteTime": {
     "end_time": "2022-10-06T15:42:03.357402Z",
     "start_time": "2022-10-06T15:42:03.334371Z"
    },
    "execution": {
     "iopub.execute_input": "2022-09-27T14:34:34.056266Z",
     "iopub.status.busy": "2022-09-27T14:34:34.055823Z",
     "iopub.status.idle": "2022-09-27T14:34:34.066470Z",
     "shell.execute_reply": "2022-09-27T14:34:34.065153Z",
     "shell.execute_reply.started": "2022-09-27T14:34:34.056221Z"
    }
   },
   "outputs": [
    {
     "data": {
      "text/plain": [
       "Customer_ID                  object\n",
       "Month                        object\n",
       "Age                         float64\n",
       "Occupation                   object\n",
       "Annual_Income               float64\n",
       "Monthly_Inhand_Salary       float64\n",
       "Num_Bank_Accounts             int64\n",
       "Num_Credit_Card               int64\n",
       "Interest_Rate                 int64\n",
       "Num_of_Loan                 float64\n",
       "Type_of_Loan                 object\n",
       "Delay_from_due_date           int64\n",
       "Num_of_Delayed_Payment      float64\n",
       "Changed_Credit_Limit        float64\n",
       "Num_Credit_Inquiries        float64\n",
       "Credit_Mix                   object\n",
       "Outstanding_Debt            float64\n",
       "Credit_Utilization_Ratio    float64\n",
       "Credit_History_Age           object\n",
       "Payment_of_Min_Amount        object\n",
       "Total_EMI_per_month         float64\n",
       "Amount_invested_monthly     float64\n",
       "Payment_Behaviour            object\n",
       "Monthly_Balance             float64\n",
       "dtype: object"
      ]
     },
     "execution_count": 43,
     "metadata": {},
     "output_type": "execute_result"
    }
   ],
   "source": [
    "test_df.dtypes"
   ]
  },
  {
   "cell_type": "code",
   "execution_count": 44,
   "metadata": {
    "ExecuteTime": {
     "end_time": "2022-10-06T15:42:03.489730Z",
     "start_time": "2022-10-06T15:42:03.358520Z"
    },
    "execution": {
     "iopub.execute_input": "2022-09-27T14:34:34.069072Z",
     "iopub.status.busy": "2022-09-27T14:34:34.068390Z",
     "iopub.status.idle": "2022-09-27T14:34:34.171971Z",
     "shell.execute_reply": "2022-09-27T14:34:34.170753Z",
     "shell.execute_reply.started": "2022-09-27T14:34:34.068998Z"
    }
   },
   "outputs": [
    {
     "data": {
      "text/html": [
       "<div>\n",
       "<style scoped>\n",
       "    .dataframe tbody tr th:only-of-type {\n",
       "        vertical-align: middle;\n",
       "    }\n",
       "\n",
       "    .dataframe tbody tr th {\n",
       "        vertical-align: top;\n",
       "    }\n",
       "\n",
       "    .dataframe thead th {\n",
       "        text-align: right;\n",
       "    }\n",
       "</style>\n",
       "<table border=\"1\" class=\"dataframe\">\n",
       "  <thead>\n",
       "    <tr style=\"text-align: right;\">\n",
       "      <th></th>\n",
       "      <th>Age</th>\n",
       "      <th>Annual_Income</th>\n",
       "      <th>Monthly_Inhand_Salary</th>\n",
       "      <th>Num_Bank_Accounts</th>\n",
       "      <th>Num_Credit_Card</th>\n",
       "      <th>Interest_Rate</th>\n",
       "      <th>Num_of_Loan</th>\n",
       "      <th>Delay_from_due_date</th>\n",
       "      <th>Num_of_Delayed_Payment</th>\n",
       "      <th>Changed_Credit_Limit</th>\n",
       "      <th>Num_Credit_Inquiries</th>\n",
       "      <th>Outstanding_Debt</th>\n",
       "      <th>Credit_Utilization_Ratio</th>\n",
       "      <th>Total_EMI_per_month</th>\n",
       "      <th>Amount_invested_monthly</th>\n",
       "      <th>Monthly_Balance</th>\n",
       "    </tr>\n",
       "  </thead>\n",
       "  <tbody>\n",
       "    <tr>\n",
       "      <th>count</th>\n",
       "      <td>47523.000000</td>\n",
       "      <td>4.648000e+04</td>\n",
       "      <td>42502.000000</td>\n",
       "      <td>50000.000000</td>\n",
       "      <td>50000.000000</td>\n",
       "      <td>50000.000000</td>\n",
       "      <td>47564.000000</td>\n",
       "      <td>50000.000000</td>\n",
       "      <td>45075.000000</td>\n",
       "      <td>48941.000000</td>\n",
       "      <td>48965.000000</td>\n",
       "      <td>49509.000000</td>\n",
       "      <td>50000.000000</td>\n",
       "      <td>50000.000000</td>\n",
       "      <td>45554.000000</td>\n",
       "      <td>49432.000000</td>\n",
       "    </tr>\n",
       "    <tr>\n",
       "      <th>mean</th>\n",
       "      <td>110.120994</td>\n",
       "      <td>1.651169e+05</td>\n",
       "      <td>4182.004291</td>\n",
       "      <td>16.838260</td>\n",
       "      <td>22.921480</td>\n",
       "      <td>68.772640</td>\n",
       "      <td>3.267787</td>\n",
       "      <td>21.052640</td>\n",
       "      <td>30.744737</td>\n",
       "      <td>10.374844</td>\n",
       "      <td>30.080200</td>\n",
       "      <td>1425.488588</td>\n",
       "      <td>32.279581</td>\n",
       "      <td>1491.304305</td>\n",
       "      <td>194.835617</td>\n",
       "      <td>403.066257</td>\n",
       "    </tr>\n",
       "    <tr>\n",
       "      <th>std</th>\n",
       "      <td>682.295531</td>\n",
       "      <td>1.341967e+06</td>\n",
       "      <td>3174.109304</td>\n",
       "      <td>116.396848</td>\n",
       "      <td>129.314804</td>\n",
       "      <td>451.602363</td>\n",
       "      <td>67.139627</td>\n",
       "      <td>14.860397</td>\n",
       "      <td>220.188421</td>\n",
       "      <td>6.780628</td>\n",
       "      <td>196.984121</td>\n",
       "      <td>1155.312552</td>\n",
       "      <td>5.106238</td>\n",
       "      <td>8595.647887</td>\n",
       "      <td>196.654604</td>\n",
       "      <td>213.685108</td>\n",
       "    </tr>\n",
       "    <tr>\n",
       "      <th>min</th>\n",
       "      <td>-500.000000</td>\n",
       "      <td>7.005930e+03</td>\n",
       "      <td>303.645417</td>\n",
       "      <td>-1.000000</td>\n",
       "      <td>0.000000</td>\n",
       "      <td>1.000000</td>\n",
       "      <td>-100.000000</td>\n",
       "      <td>-5.000000</td>\n",
       "      <td>-3.000000</td>\n",
       "      <td>-6.450000</td>\n",
       "      <td>0.000000</td>\n",
       "      <td>0.230000</td>\n",
       "      <td>20.509652</td>\n",
       "      <td>0.000000</td>\n",
       "      <td>0.000000</td>\n",
       "      <td>0.103402</td>\n",
       "    </tr>\n",
       "    <tr>\n",
       "      <th>25%</th>\n",
       "      <td>25.000000</td>\n",
       "      <td>1.943560e+04</td>\n",
       "      <td>1625.188333</td>\n",
       "      <td>3.000000</td>\n",
       "      <td>4.000000</td>\n",
       "      <td>8.000000</td>\n",
       "      <td>1.000000</td>\n",
       "      <td>10.000000</td>\n",
       "      <td>9.000000</td>\n",
       "      <td>5.340000</td>\n",
       "      <td>4.000000</td>\n",
       "      <td>565.340000</td>\n",
       "      <td>28.061040</td>\n",
       "      <td>32.222388</td>\n",
       "      <td>72.212975</td>\n",
       "      <td>270.498156</td>\n",
       "    </tr>\n",
       "    <tr>\n",
       "      <th>50%</th>\n",
       "      <td>34.000000</td>\n",
       "      <td>3.757587e+04</td>\n",
       "      <td>3086.305000</td>\n",
       "      <td>6.000000</td>\n",
       "      <td>5.000000</td>\n",
       "      <td>13.000000</td>\n",
       "      <td>3.000000</td>\n",
       "      <td>18.000000</td>\n",
       "      <td>14.000000</td>\n",
       "      <td>9.410000</td>\n",
       "      <td>7.000000</td>\n",
       "      <td>1164.470000</td>\n",
       "      <td>32.280390</td>\n",
       "      <td>74.733349</td>\n",
       "      <td>129.032119</td>\n",
       "      <td>336.984582</td>\n",
       "    </tr>\n",
       "    <tr>\n",
       "      <th>75%</th>\n",
       "      <td>43.000000</td>\n",
       "      <td>7.276004e+04</td>\n",
       "      <td>5934.189094</td>\n",
       "      <td>7.000000</td>\n",
       "      <td>7.000000</td>\n",
       "      <td>20.000000</td>\n",
       "      <td>5.000000</td>\n",
       "      <td>28.000000</td>\n",
       "      <td>18.000000</td>\n",
       "      <td>14.800000</td>\n",
       "      <td>10.000000</td>\n",
       "      <td>1943.210000</td>\n",
       "      <td>36.468591</td>\n",
       "      <td>176.157491</td>\n",
       "      <td>236.867011</td>\n",
       "      <td>470.867640</td>\n",
       "    </tr>\n",
       "    <tr>\n",
       "      <th>max</th>\n",
       "      <td>8688.000000</td>\n",
       "      <td>2.413726e+07</td>\n",
       "      <td>15204.633333</td>\n",
       "      <td>1798.000000</td>\n",
       "      <td>1499.000000</td>\n",
       "      <td>5799.000000</td>\n",
       "      <td>1496.000000</td>\n",
       "      <td>67.000000</td>\n",
       "      <td>4399.000000</td>\n",
       "      <td>36.650000</td>\n",
       "      <td>2593.000000</td>\n",
       "      <td>4998.070000</td>\n",
       "      <td>48.540663</td>\n",
       "      <td>82398.000000</td>\n",
       "      <td>1908.124400</td>\n",
       "      <td>1606.518192</td>\n",
       "    </tr>\n",
       "  </tbody>\n",
       "</table>\n",
       "</div>"
      ],
      "text/plain": [
       "                Age  Annual_Income  Monthly_Inhand_Salary  Num_Bank_Accounts  \\\n",
       "count  47523.000000   4.648000e+04           42502.000000       50000.000000   \n",
       "mean     110.120994   1.651169e+05            4182.004291          16.838260   \n",
       "std      682.295531   1.341967e+06            3174.109304         116.396848   \n",
       "min     -500.000000   7.005930e+03             303.645417          -1.000000   \n",
       "25%       25.000000   1.943560e+04            1625.188333           3.000000   \n",
       "50%       34.000000   3.757587e+04            3086.305000           6.000000   \n",
       "75%       43.000000   7.276004e+04            5934.189094           7.000000   \n",
       "max     8688.000000   2.413726e+07           15204.633333        1798.000000   \n",
       "\n",
       "       Num_Credit_Card  Interest_Rate   Num_of_Loan  Delay_from_due_date  \\\n",
       "count     50000.000000   50000.000000  47564.000000         50000.000000   \n",
       "mean         22.921480      68.772640      3.267787            21.052640   \n",
       "std         129.314804     451.602363     67.139627            14.860397   \n",
       "min           0.000000       1.000000   -100.000000            -5.000000   \n",
       "25%           4.000000       8.000000      1.000000            10.000000   \n",
       "50%           5.000000      13.000000      3.000000            18.000000   \n",
       "75%           7.000000      20.000000      5.000000            28.000000   \n",
       "max        1499.000000    5799.000000   1496.000000            67.000000   \n",
       "\n",
       "       Num_of_Delayed_Payment  Changed_Credit_Limit  Num_Credit_Inquiries  \\\n",
       "count            45075.000000          48941.000000          48965.000000   \n",
       "mean                30.744737             10.374844             30.080200   \n",
       "std                220.188421              6.780628            196.984121   \n",
       "min                 -3.000000             -6.450000              0.000000   \n",
       "25%                  9.000000              5.340000              4.000000   \n",
       "50%                 14.000000              9.410000              7.000000   \n",
       "75%                 18.000000             14.800000             10.000000   \n",
       "max               4399.000000             36.650000           2593.000000   \n",
       "\n",
       "       Outstanding_Debt  Credit_Utilization_Ratio  Total_EMI_per_month  \\\n",
       "count      49509.000000              50000.000000         50000.000000   \n",
       "mean        1425.488588                 32.279581          1491.304305   \n",
       "std         1155.312552                  5.106238          8595.647887   \n",
       "min            0.230000                 20.509652             0.000000   \n",
       "25%          565.340000                 28.061040            32.222388   \n",
       "50%         1164.470000                 32.280390            74.733349   \n",
       "75%         1943.210000                 36.468591           176.157491   \n",
       "max         4998.070000                 48.540663         82398.000000   \n",
       "\n",
       "       Amount_invested_monthly  Monthly_Balance  \n",
       "count             45554.000000     49432.000000  \n",
       "mean                194.835617       403.066257  \n",
       "std                 196.654604       213.685108  \n",
       "min                   0.000000         0.103402  \n",
       "25%                  72.212975       270.498156  \n",
       "50%                 129.032119       336.984582  \n",
       "75%                 236.867011       470.867640  \n",
       "max                1908.124400      1606.518192  "
      ]
     },
     "execution_count": 44,
     "metadata": {},
     "output_type": "execute_result"
    }
   ],
   "source": [
    "test_df.describe()"
   ]
  },
  {
   "cell_type": "code",
   "execution_count": 45,
   "metadata": {
    "ExecuteTime": {
     "end_time": "2022-10-06T15:42:03.535275Z",
     "start_time": "2022-10-06T15:42:03.491789Z"
    },
    "execution": {
     "iopub.execute_input": "2022-09-27T14:34:34.174109Z",
     "iopub.status.busy": "2022-09-27T14:34:34.173642Z",
     "iopub.status.idle": "2022-09-27T14:34:34.200196Z",
     "shell.execute_reply": "2022-09-27T14:34:34.199080Z",
     "shell.execute_reply.started": "2022-09-27T14:34:34.174064Z"
    }
   },
   "outputs": [
    {
     "name": "stdout",
     "output_type": "stream",
     "text": [
      "[-500.]\n",
      " \n",
      "[-1]\n",
      " \n",
      "[   2    7  936    3    4    9    5    1   10    6    8    0 1507  997\n",
      " 1457  968 1542 1540  900  422  293  656   53 1247 1416  580  167 1420\n",
      "   74  773 1142  883 1327  468  940  114   23  895  219   11  676  201\n",
      " 1522  741 1395  976]\n",
      " \n",
      "[-1 -2 -4 -3 -5]\n",
      " \n",
      "[-1. -2. -3.]\n",
      " \n",
      "[-0.24 -6.14 -5.78 -2.48 -4.51 -1.25 -2.47 -3.47 -4.11 -0.37 -2.9  -0.05\n",
      " -6.2  -3.72 -5.31 -3.06 -0.6  -0.58 -5.76 -3.78 -0.38 -2.25 -2.03 -2.67\n",
      " -3.59 -3.22 -0.52 -0.19 -1.26 -1.22 -2.02 -3.08 -2.08 -3.92 -3.13 -4.12\n",
      " -5.45 -2.84 -1.59 -3.18 -1.95 -0.48 -3.9  -0.6  -1.47 -2.31 -0.98 -2.35\n",
      " -5.41 -6.41 -4.7  -2.87 -1.98 -4.98 -2.18 -4.39 -0.41 -0.88 -1.05 -1.81\n",
      " -1.55 -4.93 -0.77 -2.05 -3.28 -0.97 -0.16 -2.5  -4.13 -0.13 -1.65 -1.39\n",
      " -0.36 -1.93 -4.08 -0.65 -3.29 -1.29 -1.09 -5.04 -0.03 -3.93 -5.93 -1.16\n",
      " -1.73 -1.97 -3.49 -3.84 -0.67 -0.28 -3.15 -4.22 -0.87 -2.33 -3.25 -2.41\n",
      " -3.1  -2.79 -0.19 -1.17 -5.4  -3.75 -2.54 -5.43 -2.16 -0.25 -5.89 -3.95\n",
      " -1.84 -5.59 -1.1  -0.47 -0.55 -3.55 -4.39 -0.46 -1.28 -2.91 -1.46 -5.03\n",
      " -3.17 -1.4  -2.17 -0.17 -0.39 -1.82 -3.   -1.43 -1.3  -0.54 -4.76 -2.3\n",
      " -1.9  -0.78 -3.63 -0.63 -0.69 -2.62 -0.99 -5.99 -0.32 -3.01 -6.29 -3.52\n",
      " -0.23 -1.47 -1.78 -0.84 -5.11 -1.7  -0.7  -1.54 -0.06 -0.2  -3.58 -0.48\n",
      " -3.54 -0.3  -0.5  -6.4  -4.54 -3.48 -1.58 -1.66 -0.69 -2.69 -3.39 -0.39\n",
      " -1.04 -5.17 -6.03 -2.27 -1.69 -4.79 -5.38 -2.53 -0.79 -1.79 -3.45 -6.45\n",
      " -3.19 -1.14 -4.48 -4.97 -3.97 -2.28 -2.97 -2.7  -3.07 -2.82 -0.59 -2.24\n",
      " -4.41 -6.32 -2.46 -2.   -3.83 -2.86 -5.86 -3.2  -1.2  -0.1  -0.42 -3.42\n",
      " -1.41 -0.99 -0.74 -0.01 -1.08 -4.83 -6.35 -1.19 -1.07 -4.67 -4.63 -2.66\n",
      " -0.92 -1.92 -4.16 -0.44 -1.45 -0.94 -1.85 -0.07 -2.07 -4.3  -2.57 -3.86\n",
      " -0.4  -5.81 -3.81 -0.93 -3.51 -0.47 -1.06 -2.86 -3.09 -0.97 -1.05 -4.04\n",
      " -1.67 -2.06 -2.38 -2.58 -2.34 -2.75 -0.64 -0.26 -0.15 -1.   -1.75 -2.57\n",
      " -2.85 -2.65 -0.28 -0.65 -4.81 -2.52 -5.08 -6.1  -0.27 -5.2  -4.55 -3.4\n",
      " -0.12 -1.03 -0.49 -2.04 -0.57 -0.33 -0.93 -4.1  -0.1  -5.1  -0.22 -1.8\n",
      " -3.46 -4.17 -0.84 -1.91 -6.25 -0.82 -0.39 -0.2  -2.83 -2.01 -2.63 -4.94\n",
      " -1.94 -2.11 -1.33 -5.37 -1.57 -0.53 -1.31 -4.31 -5.15 -6.28 -1.13 -2.19\n",
      " -4.14 -2.77 -4.77 -1.64 -5.91 -4.91 -0.17 -3.56 -5.14 -3.27 -4.42 -1.22\n",
      " -6.37 -1.37 -6.01 -0.06 -4.03 -4.44 -5.75 -2.39 -2.36 -5.   -3.7  -4.27\n",
      " -1.56 -4.37 -4.14 -2.14 -0.73 -5.51 -4.99 -0.89 -2.13 -0.23 -1.65 -2.94\n",
      " -3.16 -3.88 -1.72 -2.8  -3.62 -1.51 -2.88 -5.73 -2.12 -1.34 -1.2  -0.61\n",
      " -2.59 -1.48 -0.35 -1.32 -0.32 -0.9  -2.76 -2.71 -1.23 -0.12 -6.19 -3.33\n",
      " -0.41 -0.1  -2.36 -0.36 -6.15 -0.97 -4.75 -1.43 -3.36 -2.9  -4.45 -5.22\n",
      " -5.27 -6.24 -4.07 -3.12 -2.44 -2.93 -2.26 -5.32 -0.26 -0.43 -1.1  -3.03\n",
      " -1.24 -1.61 -5.85 -3.14 -1.44 -2.89 -4.15 -0.15 -3.43 -1.83 -4.19 -4.4\n",
      " -3.26 -6.3  -3.04 -0.71 -0.61 -2.2  -0.85 -0.44 -3.76 -0.11 -0.86 -4.2\n",
      " -1.35 -1.24 -5.8  -0.94 -0.49 -5.97 -4.03 -0.75 -5.23 -2.96 -6.43 -1.53\n",
      " -5.18 -4.43 -2.43 -0.36 -2.55 -0.29 -0.45 -0.31 -2.56 -1.27 -2.64 -5.35\n",
      " -3.24 -0.96 -0.72 -2.78 -3.31 -0.64 -2.44 -1.07 -5.39 -0.8  -1.73 -4.52\n",
      " -3.41 -2.42 -5.42 -2.49 -1.49 -5.77 -2.74 -2.72 -3.57 -0.22 -5.61 -2.07\n",
      " -2.22 -4.29 -0.83 -6.33 -5.82 -4.74 -2.81 -4.68 -0.34 -1.74 -0.35 -3.11\n",
      " -5.36 -2.37 -0.27 -1.36 -0.86 -5.67 -1.11 -4.01 -3.21 -4.11 -4.36 -2.4\n",
      " -0.07 -3.23 -2.23 -0.39 -0.08 -1.36 -2.6  -1.6  -4.6 ]\n"
     ]
    }
   ],
   "source": [
    "print(test_df[test_df[\"Age\"]<0][\"Age\"].unique())\n",
    "print(\" \")\n",
    "print(test_df[test_df[\"Num_Bank_Accounts\"]<0][\"Num_Bank_Accounts\"].unique())\n",
    "print(\" \")\n",
    "print(test_df[test_df[\"Num_of_Loan\"]<0][\"Num_Bank_Accounts\"].unique())\n",
    "print(\" \")\n",
    "print(test_df[test_df[\"Delay_from_due_date\"]<0][\"Delay_from_due_date\"].unique())\n",
    "print(\" \")\n",
    "print(test_df[test_df[\"Num_of_Delayed_Payment\"]<0][\"Num_of_Delayed_Payment\"].unique())\n",
    "print(\" \")\n",
    "print(test_df[test_df[\"Changed_Credit_Limit\"]<0][\"Changed_Credit_Limit\"].unique())"
   ]
  },
  {
   "cell_type": "code",
   "execution_count": 46,
   "metadata": {
    "ExecuteTime": {
     "end_time": "2022-10-06T15:42:03.584670Z",
     "start_time": "2022-10-06T15:42:03.535275Z"
    },
    "execution": {
     "iopub.execute_input": "2022-09-27T14:34:34.202326Z",
     "iopub.status.busy": "2022-09-27T14:34:34.201889Z",
     "iopub.status.idle": "2022-09-27T14:34:34.217968Z",
     "shell.execute_reply": "2022-09-27T14:34:34.216650Z",
     "shell.execute_reply.started": "2022-09-27T14:34:34.202282Z"
    }
   },
   "outputs": [],
   "source": [
    "test_df[\"Age\"] = test_df[\"Age\"].replace(-500,np.nan) \n",
    "test_df[\"Num_Bank_Accounts\"] = test_df[\"Num_Bank_Accounts\"].replace(-1,np.nan) \n",
    "test_df[\"Delay_from_due_date\"] = test_df[\"Delay_from_due_date\"].replace([-1,-2,-3,-4,-5],np.nan) \n",
    "test_df[\"Num_of_Delayed_Payment\"] = test_df[\"Num_of_Delayed_Payment\"].replace([-1,-2,-3],np.nan) "
   ]
  },
  {
   "cell_type": "code",
   "execution_count": 47,
   "metadata": {
    "ExecuteTime": {
     "end_time": "2022-10-06T15:42:03.605374Z",
     "start_time": "2022-10-06T15:42:03.584670Z"
    },
    "execution": {
     "iopub.execute_input": "2022-09-27T14:34:34.220988Z",
     "iopub.status.busy": "2022-09-27T14:34:34.220605Z",
     "iopub.status.idle": "2022-09-27T14:34:34.228378Z",
     "shell.execute_reply": "2022-09-27T14:34:34.226829Z",
     "shell.execute_reply.started": "2022-09-27T14:34:34.220953Z"
    }
   },
   "outputs": [],
   "source": [
    "filt = test_df[\"Changed_Credit_Limit\"]<0\n",
    "test_df[\"Changed_Credit_Limit\"].loc[filt]=np.nan"
   ]
  },
  {
   "cell_type": "code",
   "execution_count": 48,
   "metadata": {
    "ExecuteTime": {
     "end_time": "2022-10-06T15:42:03.632100Z",
     "start_time": "2022-10-06T15:42:03.605374Z"
    },
    "execution": {
     "iopub.execute_input": "2022-09-27T14:34:34.230928Z",
     "iopub.status.busy": "2022-09-27T14:34:34.230408Z",
     "iopub.status.idle": "2022-09-27T14:34:34.240337Z",
     "shell.execute_reply": "2022-09-27T14:34:34.239377Z",
     "shell.execute_reply.started": "2022-09-27T14:34:34.230891Z"
    }
   },
   "outputs": [],
   "source": [
    "filt = test_df[\"Num_of_Loan\"]<0\n",
    "test_df[\"Num_of_Loan\"].loc[filt]=np.nan"
   ]
  },
  {
   "cell_type": "code",
   "execution_count": 49,
   "metadata": {
    "ExecuteTime": {
     "end_time": "2022-10-06T15:42:03.674292Z",
     "start_time": "2022-10-06T15:42:03.635629Z"
    },
    "execution": {
     "iopub.execute_input": "2022-09-27T14:34:34.242436Z",
     "iopub.status.busy": "2022-09-27T14:34:34.241885Z",
     "iopub.status.idle": "2022-09-27T14:34:34.260788Z",
     "shell.execute_reply": "2022-09-27T14:34:34.259400Z",
     "shell.execute_reply.started": "2022-09-27T14:34:34.242392Z"
    }
   },
   "outputs": [
    {
     "name": "stdout",
     "output_type": "stream",
     "text": [
      "[]\n",
      " \n",
      "[]\n",
      " \n",
      "[]\n",
      " \n",
      "[]\n",
      " \n",
      "[]\n",
      " \n",
      "[]\n"
     ]
    }
   ],
   "source": [
    "print(test_df[test_df[\"Age\"]<0][\"Age\"].unique())\n",
    "print(\" \")\n",
    "print(test_df[test_df[\"Num_Bank_Accounts\"]<0][\"Num_Bank_Accounts\"].unique())\n",
    "print(\" \")\n",
    "print(test_df[test_df[\"Num_of_Loan\"]<0][\"Num_Bank_Accounts\"].unique())\n",
    "print(\" \")\n",
    "print(test_df[test_df[\"Delay_from_due_date\"]<0][\"Delay_from_due_date\"].unique())\n",
    "print(\" \")\n",
    "print(test_df[test_df[\"Num_of_Delayed_Payment\"]<0][\"Num_of_Delayed_Payment\"].unique())\n",
    "print(\" \")\n",
    "print(test_df[test_df[\"Changed_Credit_Limit\"]<0][\"Changed_Credit_Limit\"].unique())"
   ]
  },
  {
   "cell_type": "code",
   "execution_count": 50,
   "metadata": {
    "ExecuteTime": {
     "end_time": "2022-10-06T15:42:03.789995Z",
     "start_time": "2022-10-06T15:42:03.674292Z"
    },
    "execution": {
     "iopub.execute_input": "2022-09-27T14:34:34.262530Z",
     "iopub.status.busy": "2022-09-27T14:34:34.262200Z",
     "iopub.status.idle": "2022-09-27T14:34:34.358693Z",
     "shell.execute_reply": "2022-09-27T14:34:34.357578Z",
     "shell.execute_reply.started": "2022-09-27T14:34:34.262501Z"
    }
   },
   "outputs": [
    {
     "data": {
      "text/html": [
       "<div>\n",
       "<style scoped>\n",
       "    .dataframe tbody tr th:only-of-type {\n",
       "        vertical-align: middle;\n",
       "    }\n",
       "\n",
       "    .dataframe tbody tr th {\n",
       "        vertical-align: top;\n",
       "    }\n",
       "\n",
       "    .dataframe thead th {\n",
       "        text-align: right;\n",
       "    }\n",
       "</style>\n",
       "<table border=\"1\" class=\"dataframe\">\n",
       "  <thead>\n",
       "    <tr style=\"text-align: right;\">\n",
       "      <th></th>\n",
       "      <th>Age</th>\n",
       "      <th>Annual_Income</th>\n",
       "      <th>Monthly_Inhand_Salary</th>\n",
       "      <th>Num_Bank_Accounts</th>\n",
       "      <th>Num_Credit_Card</th>\n",
       "      <th>Interest_Rate</th>\n",
       "      <th>Num_of_Loan</th>\n",
       "      <th>Delay_from_due_date</th>\n",
       "      <th>Num_of_Delayed_Payment</th>\n",
       "      <th>Changed_Credit_Limit</th>\n",
       "      <th>Num_Credit_Inquiries</th>\n",
       "      <th>Outstanding_Debt</th>\n",
       "      <th>Credit_Utilization_Ratio</th>\n",
       "      <th>Total_EMI_per_month</th>\n",
       "      <th>Amount_invested_monthly</th>\n",
       "      <th>Monthly_Balance</th>\n",
       "    </tr>\n",
       "  </thead>\n",
       "  <tbody>\n",
       "    <tr>\n",
       "      <th>count</th>\n",
       "      <td>47059.000000</td>\n",
       "      <td>4.648000e+04</td>\n",
       "      <td>42502.000000</td>\n",
       "      <td>49984.000000</td>\n",
       "      <td>50000.000000</td>\n",
       "      <td>50000.000000</td>\n",
       "      <td>45590.000000</td>\n",
       "      <td>49702.000000</td>\n",
       "      <td>44800.000000</td>\n",
       "      <td>48106.000000</td>\n",
       "      <td>48965.000000</td>\n",
       "      <td>49509.000000</td>\n",
       "      <td>50000.000000</td>\n",
       "      <td>50000.000000</td>\n",
       "      <td>45554.000000</td>\n",
       "      <td>49432.000000</td>\n",
       "    </tr>\n",
       "    <tr>\n",
       "      <th>mean</th>\n",
       "      <td>116.136764</td>\n",
       "      <td>1.651169e+05</td>\n",
       "      <td>4182.004291</td>\n",
       "      <td>16.843970</td>\n",
       "      <td>22.921480</td>\n",
       "      <td>68.772640</td>\n",
       "      <td>7.739175</td>\n",
       "      <td>21.193071</td>\n",
       "      <td>30.944085</td>\n",
       "      <td>10.597252</td>\n",
       "      <td>30.080200</td>\n",
       "      <td>1425.488588</td>\n",
       "      <td>32.279581</td>\n",
       "      <td>1491.304305</td>\n",
       "      <td>194.835617</td>\n",
       "      <td>403.066257</td>\n",
       "    </tr>\n",
       "    <tr>\n",
       "      <th>std</th>\n",
       "      <td>682.942717</td>\n",
       "      <td>1.341967e+06</td>\n",
       "      <td>3174.109304</td>\n",
       "      <td>116.415039</td>\n",
       "      <td>129.314804</td>\n",
       "      <td>451.602363</td>\n",
       "      <td>64.970451</td>\n",
       "      <td>14.793139</td>\n",
       "      <td>220.848449</td>\n",
       "      <td>6.620188</td>\n",
       "      <td>196.984121</td>\n",
       "      <td>1155.312552</td>\n",
       "      <td>5.106238</td>\n",
       "      <td>8595.647887</td>\n",
       "      <td>196.654604</td>\n",
       "      <td>213.685108</td>\n",
       "    </tr>\n",
       "    <tr>\n",
       "      <th>min</th>\n",
       "      <td>14.000000</td>\n",
       "      <td>7.005930e+03</td>\n",
       "      <td>303.645417</td>\n",
       "      <td>0.000000</td>\n",
       "      <td>0.000000</td>\n",
       "      <td>1.000000</td>\n",
       "      <td>0.000000</td>\n",
       "      <td>0.000000</td>\n",
       "      <td>0.000000</td>\n",
       "      <td>0.000000</td>\n",
       "      <td>0.000000</td>\n",
       "      <td>0.230000</td>\n",
       "      <td>20.509652</td>\n",
       "      <td>0.000000</td>\n",
       "      <td>0.000000</td>\n",
       "      <td>0.103402</td>\n",
       "    </tr>\n",
       "    <tr>\n",
       "      <th>25%</th>\n",
       "      <td>25.000000</td>\n",
       "      <td>1.943560e+04</td>\n",
       "      <td>1625.188333</td>\n",
       "      <td>3.000000</td>\n",
       "      <td>4.000000</td>\n",
       "      <td>8.000000</td>\n",
       "      <td>2.000000</td>\n",
       "      <td>10.000000</td>\n",
       "      <td>9.000000</td>\n",
       "      <td>5.600000</td>\n",
       "      <td>4.000000</td>\n",
       "      <td>565.340000</td>\n",
       "      <td>28.061040</td>\n",
       "      <td>32.222388</td>\n",
       "      <td>72.212975</td>\n",
       "      <td>270.498156</td>\n",
       "    </tr>\n",
       "    <tr>\n",
       "      <th>50%</th>\n",
       "      <td>34.000000</td>\n",
       "      <td>3.757587e+04</td>\n",
       "      <td>3086.305000</td>\n",
       "      <td>6.000000</td>\n",
       "      <td>5.000000</td>\n",
       "      <td>13.000000</td>\n",
       "      <td>3.000000</td>\n",
       "      <td>18.000000</td>\n",
       "      <td>14.000000</td>\n",
       "      <td>9.530000</td>\n",
       "      <td>7.000000</td>\n",
       "      <td>1164.470000</td>\n",
       "      <td>32.280390</td>\n",
       "      <td>74.733349</td>\n",
       "      <td>129.032119</td>\n",
       "      <td>336.984582</td>\n",
       "    </tr>\n",
       "    <tr>\n",
       "      <th>75%</th>\n",
       "      <td>43.000000</td>\n",
       "      <td>7.276004e+04</td>\n",
       "      <td>5934.189094</td>\n",
       "      <td>7.000000</td>\n",
       "      <td>7.000000</td>\n",
       "      <td>20.000000</td>\n",
       "      <td>5.000000</td>\n",
       "      <td>28.000000</td>\n",
       "      <td>18.000000</td>\n",
       "      <td>14.980000</td>\n",
       "      <td>10.000000</td>\n",
       "      <td>1943.210000</td>\n",
       "      <td>36.468591</td>\n",
       "      <td>176.157491</td>\n",
       "      <td>236.867011</td>\n",
       "      <td>470.867640</td>\n",
       "    </tr>\n",
       "    <tr>\n",
       "      <th>max</th>\n",
       "      <td>8688.000000</td>\n",
       "      <td>2.413726e+07</td>\n",
       "      <td>15204.633333</td>\n",
       "      <td>1798.000000</td>\n",
       "      <td>1499.000000</td>\n",
       "      <td>5799.000000</td>\n",
       "      <td>1496.000000</td>\n",
       "      <td>67.000000</td>\n",
       "      <td>4399.000000</td>\n",
       "      <td>36.650000</td>\n",
       "      <td>2593.000000</td>\n",
       "      <td>4998.070000</td>\n",
       "      <td>48.540663</td>\n",
       "      <td>82398.000000</td>\n",
       "      <td>1908.124400</td>\n",
       "      <td>1606.518192</td>\n",
       "    </tr>\n",
       "  </tbody>\n",
       "</table>\n",
       "</div>"
      ],
      "text/plain": [
       "                Age  Annual_Income  Monthly_Inhand_Salary  Num_Bank_Accounts  \\\n",
       "count  47059.000000   4.648000e+04           42502.000000       49984.000000   \n",
       "mean     116.136764   1.651169e+05            4182.004291          16.843970   \n",
       "std      682.942717   1.341967e+06            3174.109304         116.415039   \n",
       "min       14.000000   7.005930e+03             303.645417           0.000000   \n",
       "25%       25.000000   1.943560e+04            1625.188333           3.000000   \n",
       "50%       34.000000   3.757587e+04            3086.305000           6.000000   \n",
       "75%       43.000000   7.276004e+04            5934.189094           7.000000   \n",
       "max     8688.000000   2.413726e+07           15204.633333        1798.000000   \n",
       "\n",
       "       Num_Credit_Card  Interest_Rate   Num_of_Loan  Delay_from_due_date  \\\n",
       "count     50000.000000   50000.000000  45590.000000         49702.000000   \n",
       "mean         22.921480      68.772640      7.739175            21.193071   \n",
       "std         129.314804     451.602363     64.970451            14.793139   \n",
       "min           0.000000       1.000000      0.000000             0.000000   \n",
       "25%           4.000000       8.000000      2.000000            10.000000   \n",
       "50%           5.000000      13.000000      3.000000            18.000000   \n",
       "75%           7.000000      20.000000      5.000000            28.000000   \n",
       "max        1499.000000    5799.000000   1496.000000            67.000000   \n",
       "\n",
       "       Num_of_Delayed_Payment  Changed_Credit_Limit  Num_Credit_Inquiries  \\\n",
       "count            44800.000000          48106.000000          48965.000000   \n",
       "mean                30.944085             10.597252             30.080200   \n",
       "std                220.848449              6.620188            196.984121   \n",
       "min                  0.000000              0.000000              0.000000   \n",
       "25%                  9.000000              5.600000              4.000000   \n",
       "50%                 14.000000              9.530000              7.000000   \n",
       "75%                 18.000000             14.980000             10.000000   \n",
       "max               4399.000000             36.650000           2593.000000   \n",
       "\n",
       "       Outstanding_Debt  Credit_Utilization_Ratio  Total_EMI_per_month  \\\n",
       "count      49509.000000              50000.000000         50000.000000   \n",
       "mean        1425.488588                 32.279581          1491.304305   \n",
       "std         1155.312552                  5.106238          8595.647887   \n",
       "min            0.230000                 20.509652             0.000000   \n",
       "25%          565.340000                 28.061040            32.222388   \n",
       "50%         1164.470000                 32.280390            74.733349   \n",
       "75%         1943.210000                 36.468591           176.157491   \n",
       "max         4998.070000                 48.540663         82398.000000   \n",
       "\n",
       "       Amount_invested_monthly  Monthly_Balance  \n",
       "count             45554.000000     49432.000000  \n",
       "mean                194.835617       403.066257  \n",
       "std                 196.654604       213.685108  \n",
       "min                   0.000000         0.103402  \n",
       "25%                  72.212975       270.498156  \n",
       "50%                 129.032119       336.984582  \n",
       "75%                 236.867011       470.867640  \n",
       "max                1908.124400      1606.518192  "
      ]
     },
     "execution_count": 50,
     "metadata": {},
     "output_type": "execute_result"
    }
   ],
   "source": [
    "test_df.describe()"
   ]
  },
  {
   "cell_type": "markdown",
   "metadata": {},
   "source": [
    "### just like train data test data also has outliers like Age of 8688 and so on, hence we can't directly remove outliers from train data"
   ]
  },
  {
   "cell_type": "code",
   "execution_count": 51,
   "metadata": {
    "ExecuteTime": {
     "end_time": "2022-10-06T15:42:03.812549Z",
     "start_time": "2022-10-06T15:42:03.789995Z"
    },
    "execution": {
     "iopub.execute_input": "2022-09-27T14:34:34.360568Z",
     "iopub.status.busy": "2022-09-27T14:34:34.360239Z",
     "iopub.status.idle": "2022-09-27T14:34:34.367489Z",
     "shell.execute_reply": "2022-09-27T14:34:34.366404Z",
     "shell.execute_reply.started": "2022-09-27T14:34:34.360540Z"
    }
   },
   "outputs": [
    {
     "data": {
      "text/plain": [
       "(100000, 25)"
      ]
     },
     "execution_count": 51,
     "metadata": {},
     "output_type": "execute_result"
    }
   ],
   "source": [
    "train_df.shape"
   ]
  },
  {
   "cell_type": "code",
   "execution_count": 52,
   "metadata": {
    "ExecuteTime": {
     "end_time": "2022-10-06T15:42:03.835206Z",
     "start_time": "2022-10-06T15:42:03.812549Z"
    },
    "execution": {
     "iopub.execute_input": "2022-09-27T14:34:34.372255Z",
     "iopub.status.busy": "2022-09-27T14:34:34.371868Z",
     "iopub.status.idle": "2022-09-27T14:34:34.380436Z",
     "shell.execute_reply": "2022-09-27T14:34:34.379098Z",
     "shell.execute_reply.started": "2022-09-27T14:34:34.372223Z"
    }
   },
   "outputs": [],
   "source": [
    "def replace_outliers_box(df,col):\n",
    "    tf= np.percentile(df[col].dropna(),25)\n",
    "    sf= np.percentile(df[col].dropna(),75)\n",
    "    iqr = sf-tf\n",
    "    ll= tf-(1.5*iqr)\n",
    "    ul= sf+(1.5*iqr)\n",
    "    filt = (df[col]<=ll)|(df[col]>=ul)\n",
    "    df[col].loc[filt]=np.nan\n",
    "    return df"
   ]
  },
  {
   "cell_type": "code",
   "execution_count": 53,
   "metadata": {
    "ExecuteTime": {
     "end_time": "2022-10-06T15:42:03.863468Z",
     "start_time": "2022-10-06T15:42:03.836472Z"
    },
    "execution": {
     "iopub.execute_input": "2022-09-27T14:34:34.382672Z",
     "iopub.status.busy": "2022-09-27T14:34:34.382137Z",
     "iopub.status.idle": "2022-09-27T14:34:34.396445Z",
     "shell.execute_reply": "2022-09-27T14:34:34.395277Z",
     "shell.execute_reply.started": "2022-09-27T14:34:34.382625Z"
    }
   },
   "outputs": [],
   "source": [
    "def replace_outliers_zscore(df,col):\n",
    "    std= df[col].std()\n",
    "    mean= df[col].mean()\n",
    "    ll= mean-(3*std)\n",
    "    ul= mean+(3*std)\n",
    "\n",
    "    filt = (df[col]<=ll)|(df[col]>=ul)\n",
    "    df[col].loc[filt]=np.nan\n",
    "    \n",
    "    return df"
   ]
  },
  {
   "cell_type": "code",
   "execution_count": 54,
   "metadata": {
    "ExecuteTime": {
     "end_time": "2022-10-06T15:42:03.879055Z",
     "start_time": "2022-10-06T15:42:03.863468Z"
    },
    "execution": {
     "iopub.execute_input": "2022-09-27T14:34:34.398578Z",
     "iopub.status.busy": "2022-09-27T14:34:34.398088Z",
     "iopub.status.idle": "2022-09-27T14:34:34.415298Z",
     "shell.execute_reply": "2022-09-27T14:34:34.414098Z",
     "shell.execute_reply.started": "2022-09-27T14:34:34.398533Z"
    }
   },
   "outputs": [],
   "source": [
    "trial_df = train_df.copy()"
   ]
  },
  {
   "cell_type": "code",
   "execution_count": 55,
   "metadata": {
    "ExecuteTime": {
     "end_time": "2022-10-06T15:42:03.961068Z",
     "start_time": "2022-10-06T15:42:03.879055Z"
    },
    "execution": {
     "iopub.execute_input": "2022-09-27T14:34:34.417652Z",
     "iopub.status.busy": "2022-09-27T14:34:34.417166Z",
     "iopub.status.idle": "2022-09-27T14:34:34.471498Z",
     "shell.execute_reply": "2022-09-27T14:34:34.470223Z",
     "shell.execute_reply.started": "2022-09-27T14:34:34.417607Z"
    }
   },
   "outputs": [
    {
     "data": {
      "text/plain": [
       "Customer_ID                  0.000\n",
       "Month                        0.000\n",
       "Age                          5.825\n",
       "Occupation                   0.000\n",
       "Annual_Income                6.980\n",
       "Monthly_Inhand_Salary       15.002\n",
       "Num_Bank_Accounts            0.021\n",
       "Num_Credit_Card              0.000\n",
       "Interest_Rate                0.000\n",
       "Num_of_Loan                  8.661\n",
       "Type_of_Loan                11.408\n",
       "Delay_from_due_date          0.591\n",
       "Num_of_Delayed_Payment      10.368\n",
       "Changed_Credit_Limit         3.677\n",
       "Num_Credit_Inquiries         1.965\n",
       "Credit_Mix                   0.000\n",
       "Outstanding_Debt             1.009\n",
       "Credit_Utilization_Ratio     0.000\n",
       "Credit_History_Age           9.030\n",
       "Payment_of_Min_Amount        0.000\n",
       "Total_EMI_per_month          0.000\n",
       "Amount_invested_monthly      8.784\n",
       "Payment_Behaviour            0.000\n",
       "Monthly_Balance              1.209\n",
       "Credit_Score                 0.000\n",
       "dtype: float64"
      ]
     },
     "execution_count": 55,
     "metadata": {},
     "output_type": "execute_result"
    }
   ],
   "source": [
    "trial_df.isnull().mean()*100"
   ]
  },
  {
   "cell_type": "code",
   "execution_count": 56,
   "metadata": {
    "ExecuteTime": {
     "end_time": "2022-10-06T15:42:04.164109Z",
     "start_time": "2022-10-06T15:42:03.962004Z"
    },
    "execution": {
     "iopub.execute_input": "2022-09-27T14:34:34.473642Z",
     "iopub.status.busy": "2022-09-27T14:34:34.473153Z",
     "iopub.status.idle": "2022-09-27T14:34:34.565598Z",
     "shell.execute_reply": "2022-09-27T14:34:34.564222Z",
     "shell.execute_reply.started": "2022-09-27T14:34:34.473578Z"
    }
   },
   "outputs": [
    {
     "name": "stdout",
     "output_type": "stream",
     "text": [
      "Before Age (100000, 25)\n",
      "After Age (100000, 25)\n",
      "Before Annual_Income (100000, 25)\n",
      "After Annual_Income (100000, 25)\n",
      "Before Monthly_Inhand_Salary (100000, 25)\n",
      "After Monthly_Inhand_Salary (100000, 25)\n",
      "Before Num_Bank_Accounts (100000, 25)\n",
      "After Num_Bank_Accounts (100000, 25)\n",
      "Before Num_Credit_Card (100000, 25)\n",
      "After Num_Credit_Card (100000, 25)\n",
      "Before Interest_Rate (100000, 25)\n",
      "After Interest_Rate (100000, 25)\n",
      "Before Num_of_Loan (100000, 25)\n",
      "After Num_of_Loan (100000, 25)\n",
      "Before Delay_from_due_date (100000, 25)\n",
      "After Delay_from_due_date (100000, 25)\n",
      "Before Num_of_Delayed_Payment (100000, 25)\n",
      "After Num_of_Delayed_Payment (100000, 25)\n",
      "Before Changed_Credit_Limit (100000, 25)\n",
      "After Changed_Credit_Limit (100000, 25)\n",
      "Before Num_Credit_Inquiries (100000, 25)\n",
      "After Num_Credit_Inquiries (100000, 25)\n",
      "Before Outstanding_Debt (100000, 25)\n",
      "After Outstanding_Debt (100000, 25)\n",
      "Before Credit_Utilization_Ratio (100000, 25)\n",
      "After Credit_Utilization_Ratio (100000, 25)\n",
      "Before Total_EMI_per_month (100000, 25)\n",
      "After Total_EMI_per_month (100000, 25)\n",
      "Before Amount_invested_monthly (100000, 25)\n",
      "After Amount_invested_monthly (100000, 25)\n",
      "Before Monthly_Balance (100000, 25)\n",
      "After Monthly_Balance (100000, 25)\n"
     ]
    }
   ],
   "source": [
    "for col in list_of_numeric_col:\n",
    "    print(\"Before\",col,trial_df.shape)\n",
    "    \n",
    "    trial_df = replace_outliers_box(trial_df,col)\n",
    "    print(\"After\",col,trial_df.shape)"
   ]
  },
  {
   "cell_type": "code",
   "execution_count": 57,
   "metadata": {
    "ExecuteTime": {
     "end_time": "2022-10-06T15:42:04.230669Z",
     "start_time": "2022-10-06T15:42:04.164109Z"
    },
    "execution": {
     "iopub.execute_input": "2022-09-27T14:34:34.567915Z",
     "iopub.status.busy": "2022-09-27T14:34:34.567438Z",
     "iopub.status.idle": "2022-09-27T14:34:34.622290Z",
     "shell.execute_reply": "2022-09-27T14:34:34.620912Z",
     "shell.execute_reply.started": "2022-09-27T14:34:34.567870Z"
    }
   },
   "outputs": [
    {
     "data": {
      "text/plain": [
       "Customer_ID                  0.000\n",
       "Month                        0.000\n",
       "Age                          7.635\n",
       "Occupation                   0.000\n",
       "Annual_Income                9.542\n",
       "Monthly_Inhand_Salary       16.685\n",
       "Num_Bank_Accounts            1.336\n",
       "Num_Credit_Card              2.271\n",
       "Interest_Rate                2.034\n",
       "Num_of_Loan                  9.108\n",
       "Type_of_Loan                11.408\n",
       "Delay_from_due_date          5.153\n",
       "Num_of_Delayed_Payment      11.085\n",
       "Changed_Credit_Limit         4.358\n",
       "Num_Credit_Inquiries         3.615\n",
       "Credit_Mix                   0.000\n",
       "Outstanding_Debt             6.223\n",
       "Credit_Utilization_Ratio     0.004\n",
       "Credit_History_Age           9.030\n",
       "Payment_of_Min_Amount        0.000\n",
       "Total_EMI_per_month          6.795\n",
       "Amount_invested_monthly     16.352\n",
       "Payment_Behaviour            0.000\n",
       "Monthly_Balance              8.836\n",
       "Credit_Score                 0.000\n",
       "dtype: float64"
      ]
     },
     "execution_count": 57,
     "metadata": {},
     "output_type": "execute_result"
    }
   ],
   "source": [
    "trial_df.isnull().mean()*100"
   ]
  },
  {
   "cell_type": "code",
   "execution_count": 58,
   "metadata": {
    "ExecuteTime": {
     "end_time": "2022-10-06T15:42:04.704604Z",
     "start_time": "2022-10-06T15:42:04.235257Z"
    },
    "execution": {
     "iopub.execute_input": "2022-09-27T14:34:34.623798Z",
     "iopub.status.busy": "2022-09-27T14:34:34.623443Z",
     "iopub.status.idle": "2022-09-27T14:34:34.774992Z",
     "shell.execute_reply": "2022-09-27T14:34:34.773022Z",
     "shell.execute_reply.started": "2022-09-27T14:34:34.623767Z"
    }
   },
   "outputs": [
    {
     "data": {
      "text/html": [
       "<div>\n",
       "<style scoped>\n",
       "    .dataframe tbody tr th:only-of-type {\n",
       "        vertical-align: middle;\n",
       "    }\n",
       "\n",
       "    .dataframe tbody tr th {\n",
       "        vertical-align: top;\n",
       "    }\n",
       "\n",
       "    .dataframe thead th {\n",
       "        text-align: right;\n",
       "    }\n",
       "</style>\n",
       "<table border=\"1\" class=\"dataframe\">\n",
       "  <thead>\n",
       "    <tr style=\"text-align: right;\">\n",
       "      <th></th>\n",
       "      <th>Age</th>\n",
       "      <th>Annual_Income</th>\n",
       "      <th>Monthly_Inhand_Salary</th>\n",
       "      <th>Num_Bank_Accounts</th>\n",
       "      <th>Num_Credit_Card</th>\n",
       "      <th>Interest_Rate</th>\n",
       "      <th>Num_of_Loan</th>\n",
       "      <th>Delay_from_due_date</th>\n",
       "      <th>Num_of_Delayed_Payment</th>\n",
       "      <th>Changed_Credit_Limit</th>\n",
       "      <th>Num_Credit_Inquiries</th>\n",
       "      <th>Outstanding_Debt</th>\n",
       "      <th>Credit_Utilization_Ratio</th>\n",
       "      <th>Total_EMI_per_month</th>\n",
       "      <th>Amount_invested_monthly</th>\n",
       "      <th>Monthly_Balance</th>\n",
       "    </tr>\n",
       "  </thead>\n",
       "  <tbody>\n",
       "    <tr>\n",
       "      <th>count</th>\n",
       "      <td>92365.000000</td>\n",
       "      <td>90458.000000</td>\n",
       "      <td>83315.000000</td>\n",
       "      <td>98664.000000</td>\n",
       "      <td>97729.000000</td>\n",
       "      <td>97966.000000</td>\n",
       "      <td>90892.000000</td>\n",
       "      <td>94847.000000</td>\n",
       "      <td>88915.000000</td>\n",
       "      <td>95642.000000</td>\n",
       "      <td>96385.000000</td>\n",
       "      <td>93777.000000</td>\n",
       "      <td>99996.000000</td>\n",
       "      <td>93205.000000</td>\n",
       "      <td>83648.000000</td>\n",
       "      <td>91164.000000</td>\n",
       "    </tr>\n",
       "    <tr>\n",
       "      <th>mean</th>\n",
       "      <td>33.314145</td>\n",
       "      <td>48370.116233</td>\n",
       "      <td>3999.762856</td>\n",
       "      <td>5.368980</td>\n",
       "      <td>5.533322</td>\n",
       "      <td>14.531603</td>\n",
       "      <td>3.534172</td>\n",
       "      <td>19.400371</td>\n",
       "      <td>13.424529</td>\n",
       "      <td>10.456733</td>\n",
       "      <td>5.781117</td>\n",
       "      <td>1254.704400</td>\n",
       "      <td>32.284480</td>\n",
       "      <td>89.861141</td>\n",
       "      <td>147.556202</td>\n",
       "      <td>356.368169</td>\n",
       "    </tr>\n",
       "    <tr>\n",
       "      <th>std</th>\n",
       "      <td>10.770143</td>\n",
       "      <td>35191.331168</td>\n",
       "      <td>2901.824960</td>\n",
       "      <td>2.592451</td>\n",
       "      <td>2.067703</td>\n",
       "      <td>8.739748</td>\n",
       "      <td>2.447488</td>\n",
       "      <td>12.567192</td>\n",
       "      <td>6.207212</td>\n",
       "      <td>6.443643</td>\n",
       "      <td>3.860712</td>\n",
       "      <td>918.492724</td>\n",
       "      <td>5.115807</td>\n",
       "      <td>82.779840</td>\n",
       "      <td>105.039605</td>\n",
       "      <td>141.465349</td>\n",
       "    </tr>\n",
       "    <tr>\n",
       "      <th>min</th>\n",
       "      <td>14.000000</td>\n",
       "      <td>7005.930000</td>\n",
       "      <td>303.645417</td>\n",
       "      <td>0.000000</td>\n",
       "      <td>0.000000</td>\n",
       "      <td>1.000000</td>\n",
       "      <td>0.000000</td>\n",
       "      <td>0.000000</td>\n",
       "      <td>0.000000</td>\n",
       "      <td>0.000000</td>\n",
       "      <td>0.000000</td>\n",
       "      <td>0.230000</td>\n",
       "      <td>20.000000</td>\n",
       "      <td>0.000000</td>\n",
       "      <td>0.000000</td>\n",
       "      <td>0.007760</td>\n",
       "    </tr>\n",
       "    <tr>\n",
       "      <th>25%</th>\n",
       "      <td>24.000000</td>\n",
       "      <td>19197.300000</td>\n",
       "      <td>1612.487500</td>\n",
       "      <td>3.000000</td>\n",
       "      <td>4.000000</td>\n",
       "      <td>7.000000</td>\n",
       "      <td>2.000000</td>\n",
       "      <td>10.000000</td>\n",
       "      <td>9.000000</td>\n",
       "      <td>5.540000</td>\n",
       "      <td>3.000000</td>\n",
       "      <td>539.740000</td>\n",
       "      <td>28.052509</td>\n",
       "      <td>28.012865</td>\n",
       "      <td>68.230062</td>\n",
       "      <td>265.408058</td>\n",
       "    </tr>\n",
       "    <tr>\n",
       "      <th>50%</th>\n",
       "      <td>33.000000</td>\n",
       "      <td>36379.240000</td>\n",
       "      <td>3038.445000</td>\n",
       "      <td>5.000000</td>\n",
       "      <td>5.000000</td>\n",
       "      <td>13.000000</td>\n",
       "      <td>3.000000</td>\n",
       "      <td>17.000000</td>\n",
       "      <td>14.000000</td>\n",
       "      <td>9.470000</td>\n",
       "      <td>5.000000</td>\n",
       "      <td>1100.840000</td>\n",
       "      <td>32.305569</td>\n",
       "      <td>63.322644</td>\n",
       "      <td>118.264814</td>\n",
       "      <td>324.773104</td>\n",
       "    </tr>\n",
       "    <tr>\n",
       "      <th>75%</th>\n",
       "      <td>42.000000</td>\n",
       "      <td>69857.985000</td>\n",
       "      <td>5783.456667</td>\n",
       "      <td>7.000000</td>\n",
       "      <td>7.000000</td>\n",
       "      <td>20.000000</td>\n",
       "      <td>5.000000</td>\n",
       "      <td>27.000000</td>\n",
       "      <td>18.000000</td>\n",
       "      <td>14.820000</td>\n",
       "      <td>8.000000</td>\n",
       "      <td>1690.550000</td>\n",
       "      <td>36.496206</td>\n",
       "      <td>132.865336</td>\n",
       "      <td>198.130293</td>\n",
       "      <td>426.878751</td>\n",
       "    </tr>\n",
       "    <tr>\n",
       "      <th>max</th>\n",
       "      <td>56.000000</td>\n",
       "      <td>152947.120000</td>\n",
       "      <td>12452.330000</td>\n",
       "      <td>11.000000</td>\n",
       "      <td>11.000000</td>\n",
       "      <td>34.000000</td>\n",
       "      <td>9.000000</td>\n",
       "      <td>54.000000</td>\n",
       "      <td>28.000000</td>\n",
       "      <td>29.160000</td>\n",
       "      <td>17.000000</td>\n",
       "      <td>4019.020000</td>\n",
       "      <td>49.064277</td>\n",
       "      <td>357.406068</td>\n",
       "      <td>483.676135</td>\n",
       "      <td>770.412022</td>\n",
       "    </tr>\n",
       "  </tbody>\n",
       "</table>\n",
       "</div>"
      ],
      "text/plain": [
       "                Age  Annual_Income  Monthly_Inhand_Salary  Num_Bank_Accounts  \\\n",
       "count  92365.000000   90458.000000           83315.000000       98664.000000   \n",
       "mean      33.314145   48370.116233            3999.762856           5.368980   \n",
       "std       10.770143   35191.331168            2901.824960           2.592451   \n",
       "min       14.000000    7005.930000             303.645417           0.000000   \n",
       "25%       24.000000   19197.300000            1612.487500           3.000000   \n",
       "50%       33.000000   36379.240000            3038.445000           5.000000   \n",
       "75%       42.000000   69857.985000            5783.456667           7.000000   \n",
       "max       56.000000  152947.120000           12452.330000          11.000000   \n",
       "\n",
       "       Num_Credit_Card  Interest_Rate   Num_of_Loan  Delay_from_due_date  \\\n",
       "count     97729.000000   97966.000000  90892.000000         94847.000000   \n",
       "mean          5.533322      14.531603      3.534172            19.400371   \n",
       "std           2.067703       8.739748      2.447488            12.567192   \n",
       "min           0.000000       1.000000      0.000000             0.000000   \n",
       "25%           4.000000       7.000000      2.000000            10.000000   \n",
       "50%           5.000000      13.000000      3.000000            17.000000   \n",
       "75%           7.000000      20.000000      5.000000            27.000000   \n",
       "max          11.000000      34.000000      9.000000            54.000000   \n",
       "\n",
       "       Num_of_Delayed_Payment  Changed_Credit_Limit  Num_Credit_Inquiries  \\\n",
       "count            88915.000000          95642.000000          96385.000000   \n",
       "mean                13.424529             10.456733              5.781117   \n",
       "std                  6.207212              6.443643              3.860712   \n",
       "min                  0.000000              0.000000              0.000000   \n",
       "25%                  9.000000              5.540000              3.000000   \n",
       "50%                 14.000000              9.470000              5.000000   \n",
       "75%                 18.000000             14.820000              8.000000   \n",
       "max                 28.000000             29.160000             17.000000   \n",
       "\n",
       "       Outstanding_Debt  Credit_Utilization_Ratio  Total_EMI_per_month  \\\n",
       "count      93777.000000              99996.000000         93205.000000   \n",
       "mean        1254.704400                 32.284480            89.861141   \n",
       "std          918.492724                  5.115807            82.779840   \n",
       "min            0.230000                 20.000000             0.000000   \n",
       "25%          539.740000                 28.052509            28.012865   \n",
       "50%         1100.840000                 32.305569            63.322644   \n",
       "75%         1690.550000                 36.496206           132.865336   \n",
       "max         4019.020000                 49.064277           357.406068   \n",
       "\n",
       "       Amount_invested_monthly  Monthly_Balance  \n",
       "count             83648.000000     91164.000000  \n",
       "mean                147.556202       356.368169  \n",
       "std                 105.039605       141.465349  \n",
       "min                   0.000000         0.007760  \n",
       "25%                  68.230062       265.408058  \n",
       "50%                 118.264814       324.773104  \n",
       "75%                 198.130293       426.878751  \n",
       "max                 483.676135       770.412022  "
      ]
     },
     "execution_count": 58,
     "metadata": {},
     "output_type": "execute_result"
    }
   ],
   "source": [
    "trial_df.describe()"
   ]
  },
  {
   "cell_type": "markdown",
   "metadata": {},
   "source": [
    "### Instead of removing outliers we replaced them with nan values, this idea lloks good because we are not loosing much information as earlier. Let's do this for test_df also"
   ]
  },
  {
   "cell_type": "code",
   "execution_count": 59,
   "metadata": {
    "ExecuteTime": {
     "end_time": "2022-10-06T15:42:04.724479Z",
     "start_time": "2022-10-06T15:42:04.704604Z"
    },
    "execution": {
     "iopub.execute_input": "2022-09-27T14:34:34.777230Z",
     "iopub.status.busy": "2022-09-27T14:34:34.776745Z",
     "iopub.status.idle": "2022-09-27T14:34:34.785808Z",
     "shell.execute_reply": "2022-09-27T14:34:34.784515Z",
     "shell.execute_reply.started": "2022-09-27T14:34:34.777183Z"
    }
   },
   "outputs": [],
   "source": [
    "test_copy = test_df.copy()"
   ]
  },
  {
   "cell_type": "code",
   "execution_count": 60,
   "metadata": {
    "ExecuteTime": {
     "end_time": "2022-10-06T15:42:04.784401Z",
     "start_time": "2022-10-06T15:42:04.724479Z"
    },
    "execution": {
     "iopub.execute_input": "2022-09-27T14:34:34.790408Z",
     "iopub.status.busy": "2022-09-27T14:34:34.790010Z",
     "iopub.status.idle": "2022-09-27T14:34:34.821832Z",
     "shell.execute_reply": "2022-09-27T14:34:34.820535Z",
     "shell.execute_reply.started": "2022-09-27T14:34:34.790356Z"
    }
   },
   "outputs": [
    {
     "data": {
      "text/plain": [
       "Customer_ID                  0.000\n",
       "Month                        0.000\n",
       "Age                          5.882\n",
       "Occupation                   0.000\n",
       "Annual_Income                7.040\n",
       "Monthly_Inhand_Salary       14.996\n",
       "Num_Bank_Accounts            0.032\n",
       "Num_Credit_Card              0.000\n",
       "Interest_Rate                0.000\n",
       "Num_of_Loan                  8.820\n",
       "Type_of_Loan                11.408\n",
       "Delay_from_due_date          0.596\n",
       "Num_of_Delayed_Payment      10.400\n",
       "Changed_Credit_Limit         3.788\n",
       "Num_Credit_Inquiries         2.070\n",
       "Credit_Mix                   0.000\n",
       "Outstanding_Debt             0.982\n",
       "Credit_Utilization_Ratio     0.000\n",
       "Credit_History_Age           8.940\n",
       "Payment_of_Min_Amount        0.000\n",
       "Total_EMI_per_month          0.000\n",
       "Amount_invested_monthly      8.892\n",
       "Payment_Behaviour            0.000\n",
       "Monthly_Balance              1.136\n",
       "dtype: float64"
      ]
     },
     "execution_count": 60,
     "metadata": {},
     "output_type": "execute_result"
    }
   ],
   "source": [
    "test_copy.isnull().mean()*100"
   ]
  },
  {
   "cell_type": "code",
   "execution_count": 61,
   "metadata": {
    "ExecuteTime": {
     "end_time": "2022-10-06T15:42:04.932272Z",
     "start_time": "2022-10-06T15:42:04.784401Z"
    },
    "execution": {
     "iopub.execute_input": "2022-09-27T14:34:34.823982Z",
     "iopub.status.busy": "2022-09-27T14:34:34.823510Z",
     "iopub.status.idle": "2022-09-27T14:34:34.888867Z",
     "shell.execute_reply": "2022-09-27T14:34:34.887625Z",
     "shell.execute_reply.started": "2022-09-27T14:34:34.823937Z"
    }
   },
   "outputs": [
    {
     "name": "stdout",
     "output_type": "stream",
     "text": [
      "Before Age (50000, 24)\n",
      "After Age (50000, 24)\n",
      "Before Annual_Income (50000, 24)\n",
      "After Annual_Income (50000, 24)\n",
      "Before Monthly_Inhand_Salary (50000, 24)\n",
      "After Monthly_Inhand_Salary (50000, 24)\n",
      "Before Num_Bank_Accounts (50000, 24)\n",
      "After Num_Bank_Accounts (50000, 24)\n",
      "Before Num_Credit_Card (50000, 24)\n",
      "After Num_Credit_Card (50000, 24)\n",
      "Before Interest_Rate (50000, 24)\n",
      "After Interest_Rate (50000, 24)\n",
      "Before Num_of_Loan (50000, 24)\n",
      "After Num_of_Loan (50000, 24)\n",
      "Before Delay_from_due_date (50000, 24)\n",
      "After Delay_from_due_date (50000, 24)\n",
      "Before Num_of_Delayed_Payment (50000, 24)\n",
      "After Num_of_Delayed_Payment (50000, 24)\n",
      "Before Changed_Credit_Limit (50000, 24)\n",
      "After Changed_Credit_Limit (50000, 24)\n",
      "Before Num_Credit_Inquiries (50000, 24)\n",
      "After Num_Credit_Inquiries (50000, 24)\n",
      "Before Outstanding_Debt (50000, 24)\n",
      "After Outstanding_Debt (50000, 24)\n",
      "Before Credit_Utilization_Ratio (50000, 24)\n",
      "After Credit_Utilization_Ratio (50000, 24)\n",
      "Before Total_EMI_per_month (50000, 24)\n",
      "After Total_EMI_per_month (50000, 24)\n",
      "Before Amount_invested_monthly (50000, 24)\n",
      "After Amount_invested_monthly (50000, 24)\n",
      "Before Monthly_Balance (50000, 24)\n",
      "After Monthly_Balance (50000, 24)\n"
     ]
    }
   ],
   "source": [
    "for col in list_of_numeric_col:\n",
    "    print(\"Before\",col,test_copy.shape)\n",
    "    \n",
    "    test_copy = replace_outliers_box(test_copy,col)\n",
    "    print(\"After\",col,test_copy.shape)"
   ]
  },
  {
   "cell_type": "code",
   "execution_count": 62,
   "metadata": {
    "ExecuteTime": {
     "end_time": "2022-10-06T15:42:04.987235Z",
     "start_time": "2022-10-06T15:42:04.936319Z"
    },
    "execution": {
     "iopub.execute_input": "2022-09-27T14:34:34.890378Z",
     "iopub.status.busy": "2022-09-27T14:34:34.890069Z",
     "iopub.status.idle": "2022-09-27T14:34:34.920472Z",
     "shell.execute_reply": "2022-09-27T14:34:34.919089Z",
     "shell.execute_reply.started": "2022-09-27T14:34:34.890349Z"
    }
   },
   "outputs": [
    {
     "data": {
      "text/plain": [
       "Customer_ID                  0.000\n",
       "Month                        0.000\n",
       "Age                          7.676\n",
       "Occupation                   0.000\n",
       "Annual_Income                9.664\n",
       "Monthly_Inhand_Salary       16.706\n",
       "Num_Bank_Accounts            1.302\n",
       "Num_Credit_Card              2.358\n",
       "Interest_Rate                1.932\n",
       "Num_of_Loan                  9.320\n",
       "Type_of_Loan                11.408\n",
       "Delay_from_due_date          5.180\n",
       "Num_of_Delayed_Payment      11.162\n",
       "Changed_Credit_Limit         4.514\n",
       "Num_Credit_Inquiries         3.762\n",
       "Credit_Mix                   0.000\n",
       "Outstanding_Debt             6.216\n",
       "Credit_Utilization_Ratio     0.000\n",
       "Credit_History_Age           8.940\n",
       "Payment_of_Min_Amount        0.000\n",
       "Total_EMI_per_month          7.866\n",
       "Amount_invested_monthly     16.472\n",
       "Payment_Behaviour            0.000\n",
       "Monthly_Balance              8.802\n",
       "dtype: float64"
      ]
     },
     "execution_count": 62,
     "metadata": {},
     "output_type": "execute_result"
    }
   ],
   "source": [
    "test_copy.isnull().mean()*100"
   ]
  },
  {
   "cell_type": "code",
   "execution_count": 63,
   "metadata": {
    "ExecuteTime": {
     "end_time": "2022-10-06T15:42:05.164440Z",
     "start_time": "2022-10-06T15:42:04.988257Z"
    },
    "execution": {
     "iopub.execute_input": "2022-09-27T14:34:34.922463Z",
     "iopub.status.busy": "2022-09-27T14:34:34.921950Z",
     "iopub.status.idle": "2022-09-27T14:34:35.028380Z",
     "shell.execute_reply": "2022-09-27T14:34:35.027118Z",
     "shell.execute_reply.started": "2022-09-27T14:34:34.922417Z"
    }
   },
   "outputs": [
    {
     "data": {
      "text/html": [
       "<div>\n",
       "<style scoped>\n",
       "    .dataframe tbody tr th:only-of-type {\n",
       "        vertical-align: middle;\n",
       "    }\n",
       "\n",
       "    .dataframe tbody tr th {\n",
       "        vertical-align: top;\n",
       "    }\n",
       "\n",
       "    .dataframe thead th {\n",
       "        text-align: right;\n",
       "    }\n",
       "</style>\n",
       "<table border=\"1\" class=\"dataframe\">\n",
       "  <thead>\n",
       "    <tr style=\"text-align: right;\">\n",
       "      <th></th>\n",
       "      <th>Age</th>\n",
       "      <th>Annual_Income</th>\n",
       "      <th>Monthly_Inhand_Salary</th>\n",
       "      <th>Num_Bank_Accounts</th>\n",
       "      <th>Num_Credit_Card</th>\n",
       "      <th>Interest_Rate</th>\n",
       "      <th>Num_of_Loan</th>\n",
       "      <th>Delay_from_due_date</th>\n",
       "      <th>Num_of_Delayed_Payment</th>\n",
       "      <th>Changed_Credit_Limit</th>\n",
       "      <th>Num_Credit_Inquiries</th>\n",
       "      <th>Outstanding_Debt</th>\n",
       "      <th>Credit_Utilization_Ratio</th>\n",
       "      <th>Total_EMI_per_month</th>\n",
       "      <th>Amount_invested_monthly</th>\n",
       "      <th>Monthly_Balance</th>\n",
       "    </tr>\n",
       "  </thead>\n",
       "  <tbody>\n",
       "    <tr>\n",
       "      <th>count</th>\n",
       "      <td>46162.000000</td>\n",
       "      <td>45168.000000</td>\n",
       "      <td>41647.000000</td>\n",
       "      <td>49349.000000</td>\n",
       "      <td>48821.000000</td>\n",
       "      <td>49034.000000</td>\n",
       "      <td>45340.000000</td>\n",
       "      <td>47410.000000</td>\n",
       "      <td>44419.000000</td>\n",
       "      <td>47743.000000</td>\n",
       "      <td>48119.000000</td>\n",
       "      <td>46892.000000</td>\n",
       "      <td>50000.000000</td>\n",
       "      <td>46067.000000</td>\n",
       "      <td>41764.000000</td>\n",
       "      <td>45599.000000</td>\n",
       "    </tr>\n",
       "    <tr>\n",
       "      <th>mean</th>\n",
       "      <td>33.817057</td>\n",
       "      <td>48303.730594</td>\n",
       "      <td>3985.060740</td>\n",
       "      <td>5.369491</td>\n",
       "      <td>5.532640</td>\n",
       "      <td>14.531550</td>\n",
       "      <td>3.533635</td>\n",
       "      <td>19.378950</td>\n",
       "      <td>13.422995</td>\n",
       "      <td>10.447310</td>\n",
       "      <td>7.288555</td>\n",
       "      <td>1253.125642</td>\n",
       "      <td>32.279581</td>\n",
       "      <td>96.314044</td>\n",
       "      <td>147.513623</td>\n",
       "      <td>356.913786</td>\n",
       "    </tr>\n",
       "    <tr>\n",
       "      <th>std</th>\n",
       "      <td>10.770468</td>\n",
       "      <td>35123.439134</td>\n",
       "      <td>2888.291618</td>\n",
       "      <td>2.593141</td>\n",
       "      <td>2.072494</td>\n",
       "      <td>8.743684</td>\n",
       "      <td>2.445604</td>\n",
       "      <td>12.558673</td>\n",
       "      <td>6.207377</td>\n",
       "      <td>6.415892</td>\n",
       "      <td>3.953627</td>\n",
       "      <td>918.049189</td>\n",
       "      <td>5.106238</td>\n",
       "      <td>89.300893</td>\n",
       "      <td>105.230755</td>\n",
       "      <td>141.833437</td>\n",
       "    </tr>\n",
       "    <tr>\n",
       "      <th>min</th>\n",
       "      <td>14.000000</td>\n",
       "      <td>7005.930000</td>\n",
       "      <td>303.645417</td>\n",
       "      <td>0.000000</td>\n",
       "      <td>0.000000</td>\n",
       "      <td>1.000000</td>\n",
       "      <td>0.000000</td>\n",
       "      <td>0.000000</td>\n",
       "      <td>0.000000</td>\n",
       "      <td>0.000000</td>\n",
       "      <td>0.000000</td>\n",
       "      <td>0.230000</td>\n",
       "      <td>20.509652</td>\n",
       "      <td>0.000000</td>\n",
       "      <td>0.000000</td>\n",
       "      <td>0.103402</td>\n",
       "    </tr>\n",
       "    <tr>\n",
       "      <th>25%</th>\n",
       "      <td>25.000000</td>\n",
       "      <td>19190.670000</td>\n",
       "      <td>1610.647500</td>\n",
       "      <td>3.000000</td>\n",
       "      <td>4.000000</td>\n",
       "      <td>7.000000</td>\n",
       "      <td>2.000000</td>\n",
       "      <td>10.000000</td>\n",
       "      <td>9.000000</td>\n",
       "      <td>5.570000</td>\n",
       "      <td>4.000000</td>\n",
       "      <td>538.375000</td>\n",
       "      <td>28.061040</td>\n",
       "      <td>29.579944</td>\n",
       "      <td>68.337855</td>\n",
       "      <td>265.651699</td>\n",
       "    </tr>\n",
       "    <tr>\n",
       "      <th>50%</th>\n",
       "      <td>33.000000</td>\n",
       "      <td>36379.240000</td>\n",
       "      <td>3031.493333</td>\n",
       "      <td>5.000000</td>\n",
       "      <td>5.000000</td>\n",
       "      <td>13.000000</td>\n",
       "      <td>3.000000</td>\n",
       "      <td>17.000000</td>\n",
       "      <td>14.000000</td>\n",
       "      <td>9.480000</td>\n",
       "      <td>7.000000</td>\n",
       "      <td>1098.560000</td>\n",
       "      <td>32.280390</td>\n",
       "      <td>66.796732</td>\n",
       "      <td>117.764854</td>\n",
       "      <td>324.880943</td>\n",
       "    </tr>\n",
       "    <tr>\n",
       "      <th>75%</th>\n",
       "      <td>42.000000</td>\n",
       "      <td>69712.265000</td>\n",
       "      <td>5754.610000</td>\n",
       "      <td>7.000000</td>\n",
       "      <td>7.000000</td>\n",
       "      <td>20.000000</td>\n",
       "      <td>5.000000</td>\n",
       "      <td>27.000000</td>\n",
       "      <td>18.000000</td>\n",
       "      <td>14.750000</td>\n",
       "      <td>10.000000</td>\n",
       "      <td>1686.780000</td>\n",
       "      <td>36.468591</td>\n",
       "      <td>143.508855</td>\n",
       "      <td>199.419969</td>\n",
       "      <td>428.266419</td>\n",
       "    </tr>\n",
       "    <tr>\n",
       "      <th>max</th>\n",
       "      <td>56.000000</td>\n",
       "      <td>152574.760000</td>\n",
       "      <td>12395.060000</td>\n",
       "      <td>11.000000</td>\n",
       "      <td>11.000000</td>\n",
       "      <td>34.000000</td>\n",
       "      <td>9.000000</td>\n",
       "      <td>54.000000</td>\n",
       "      <td>28.000000</td>\n",
       "      <td>29.040000</td>\n",
       "      <td>17.000000</td>\n",
       "      <td>4006.340000</td>\n",
       "      <td>48.540663</td>\n",
       "      <td>391.629370</td>\n",
       "      <td>483.820896</td>\n",
       "      <td>771.387452</td>\n",
       "    </tr>\n",
       "  </tbody>\n",
       "</table>\n",
       "</div>"
      ],
      "text/plain": [
       "                Age  Annual_Income  Monthly_Inhand_Salary  Num_Bank_Accounts  \\\n",
       "count  46162.000000   45168.000000           41647.000000       49349.000000   \n",
       "mean      33.817057   48303.730594            3985.060740           5.369491   \n",
       "std       10.770468   35123.439134            2888.291618           2.593141   \n",
       "min       14.000000    7005.930000             303.645417           0.000000   \n",
       "25%       25.000000   19190.670000            1610.647500           3.000000   \n",
       "50%       33.000000   36379.240000            3031.493333           5.000000   \n",
       "75%       42.000000   69712.265000            5754.610000           7.000000   \n",
       "max       56.000000  152574.760000           12395.060000          11.000000   \n",
       "\n",
       "       Num_Credit_Card  Interest_Rate   Num_of_Loan  Delay_from_due_date  \\\n",
       "count     48821.000000   49034.000000  45340.000000         47410.000000   \n",
       "mean          5.532640      14.531550      3.533635            19.378950   \n",
       "std           2.072494       8.743684      2.445604            12.558673   \n",
       "min           0.000000       1.000000      0.000000             0.000000   \n",
       "25%           4.000000       7.000000      2.000000            10.000000   \n",
       "50%           5.000000      13.000000      3.000000            17.000000   \n",
       "75%           7.000000      20.000000      5.000000            27.000000   \n",
       "max          11.000000      34.000000      9.000000            54.000000   \n",
       "\n",
       "       Num_of_Delayed_Payment  Changed_Credit_Limit  Num_Credit_Inquiries  \\\n",
       "count            44419.000000          47743.000000          48119.000000   \n",
       "mean                13.422995             10.447310              7.288555   \n",
       "std                  6.207377              6.415892              3.953627   \n",
       "min                  0.000000              0.000000              0.000000   \n",
       "25%                  9.000000              5.570000              4.000000   \n",
       "50%                 14.000000              9.480000              7.000000   \n",
       "75%                 18.000000             14.750000             10.000000   \n",
       "max                 28.000000             29.040000             17.000000   \n",
       "\n",
       "       Outstanding_Debt  Credit_Utilization_Ratio  Total_EMI_per_month  \\\n",
       "count      46892.000000              50000.000000         46067.000000   \n",
       "mean        1253.125642                 32.279581            96.314044   \n",
       "std          918.049189                  5.106238            89.300893   \n",
       "min            0.230000                 20.509652             0.000000   \n",
       "25%          538.375000                 28.061040            29.579944   \n",
       "50%         1098.560000                 32.280390            66.796732   \n",
       "75%         1686.780000                 36.468591           143.508855   \n",
       "max         4006.340000                 48.540663           391.629370   \n",
       "\n",
       "       Amount_invested_monthly  Monthly_Balance  \n",
       "count             41764.000000     45599.000000  \n",
       "mean                147.513623       356.913786  \n",
       "std                 105.230755       141.833437  \n",
       "min                   0.000000         0.103402  \n",
       "25%                  68.337855       265.651699  \n",
       "50%                 117.764854       324.880943  \n",
       "75%                 199.419969       428.266419  \n",
       "max                 483.820896       771.387452  "
      ]
     },
     "execution_count": 63,
     "metadata": {},
     "output_type": "execute_result"
    }
   ],
   "source": [
    "test_copy.describe()"
   ]
  },
  {
   "cell_type": "markdown",
   "metadata": {},
   "source": [
    "# So now our training dataframe is trial_df and testing df is test_copy"
   ]
  },
  {
   "cell_type": "markdown",
   "metadata": {},
   "source": [
    "## Next task is to impute missing values"
   ]
  },
  {
   "cell_type": "code",
   "execution_count": 64,
   "metadata": {
    "ExecuteTime": {
     "end_time": "2022-10-06T15:42:05.225355Z",
     "start_time": "2022-10-06T15:42:05.169670Z"
    },
    "execution": {
     "iopub.execute_input": "2022-09-27T14:34:35.030931Z",
     "iopub.status.busy": "2022-09-27T14:34:35.030197Z",
     "iopub.status.idle": "2022-09-27T14:34:35.084291Z",
     "shell.execute_reply": "2022-09-27T14:34:35.082978Z",
     "shell.execute_reply.started": "2022-09-27T14:34:35.030883Z"
    }
   },
   "outputs": [
    {
     "data": {
      "text/plain": [
       "Customer_ID                  0.000\n",
       "Month                        0.000\n",
       "Age                          7.635\n",
       "Occupation                   0.000\n",
       "Annual_Income                9.542\n",
       "Monthly_Inhand_Salary       16.685\n",
       "Num_Bank_Accounts            1.336\n",
       "Num_Credit_Card              2.271\n",
       "Interest_Rate                2.034\n",
       "Num_of_Loan                  9.108\n",
       "Type_of_Loan                11.408\n",
       "Delay_from_due_date          5.153\n",
       "Num_of_Delayed_Payment      11.085\n",
       "Changed_Credit_Limit         4.358\n",
       "Num_Credit_Inquiries         3.615\n",
       "Credit_Mix                   0.000\n",
       "Outstanding_Debt             6.223\n",
       "Credit_Utilization_Ratio     0.004\n",
       "Credit_History_Age           9.030\n",
       "Payment_of_Min_Amount        0.000\n",
       "Total_EMI_per_month          6.795\n",
       "Amount_invested_monthly     16.352\n",
       "Payment_Behaviour            0.000\n",
       "Monthly_Balance              8.836\n",
       "Credit_Score                 0.000\n",
       "dtype: float64"
      ]
     },
     "execution_count": 64,
     "metadata": {},
     "output_type": "execute_result"
    }
   ],
   "source": [
    "trial_df.isnull().mean()*100"
   ]
  },
  {
   "cell_type": "markdown",
   "metadata": {},
   "source": [
    "## For simplicity we will replace all the missing values in numerical column with mean values"
   ]
  },
  {
   "cell_type": "code",
   "execution_count": 65,
   "metadata": {
    "ExecuteTime": {
     "end_time": "2022-10-06T15:42:05.235309Z",
     "start_time": "2022-10-06T15:42:05.226238Z"
    },
    "execution": {
     "iopub.execute_input": "2022-09-27T14:34:35.086431Z",
     "iopub.status.busy": "2022-09-27T14:34:35.085955Z",
     "iopub.status.idle": "2022-09-27T14:34:35.092507Z",
     "shell.execute_reply": "2022-09-27T14:34:35.091305Z",
     "shell.execute_reply.started": "2022-09-27T14:34:35.086386Z"
    }
   },
   "outputs": [],
   "source": [
    "numeric_missing_value_col_list=[]"
   ]
  },
  {
   "cell_type": "code",
   "execution_count": 66,
   "metadata": {
    "ExecuteTime": {
     "end_time": "2022-10-06T15:42:05.311618Z",
     "start_time": "2022-10-06T15:42:05.236824Z"
    },
    "execution": {
     "iopub.execute_input": "2022-09-27T14:34:35.095103Z",
     "iopub.status.busy": "2022-09-27T14:34:35.094266Z",
     "iopub.status.idle": "2022-09-27T14:34:35.158608Z",
     "shell.execute_reply": "2022-09-27T14:34:35.157420Z",
     "shell.execute_reply.started": "2022-09-27T14:34:35.095058Z"
    }
   },
   "outputs": [],
   "source": [
    "for col in trial_df.columns:\n",
    "    if (trial_df[col].isnull().sum()>0) & (trial_df[col].dtype !=\"O\"):\n",
    "        numeric_missing_value_col_list.append(col)"
   ]
  },
  {
   "cell_type": "code",
   "execution_count": 67,
   "metadata": {
    "ExecuteTime": {
     "end_time": "2022-10-06T15:42:05.324692Z",
     "start_time": "2022-10-06T15:42:05.312437Z"
    },
    "execution": {
     "iopub.execute_input": "2022-09-27T14:34:35.163428Z",
     "iopub.status.busy": "2022-09-27T14:34:35.163047Z",
     "iopub.status.idle": "2022-09-27T14:34:35.170354Z",
     "shell.execute_reply": "2022-09-27T14:34:35.169076Z",
     "shell.execute_reply.started": "2022-09-27T14:34:35.163395Z"
    }
   },
   "outputs": [],
   "source": [
    "trial_df[\"Num_of_Loan\"]=trial_df[\"Num_of_Loan\"].astype(\"float\")"
   ]
  },
  {
   "cell_type": "code",
   "execution_count": 68,
   "metadata": {
    "ExecuteTime": {
     "end_time": "2022-10-06T15:42:05.344687Z",
     "start_time": "2022-10-06T15:42:05.336654Z"
    },
    "execution": {
     "iopub.execute_input": "2022-09-27T14:34:35.171878Z",
     "iopub.status.busy": "2022-09-27T14:34:35.171519Z",
     "iopub.status.idle": "2022-09-27T14:34:35.184417Z",
     "shell.execute_reply": "2022-09-27T14:34:35.183215Z",
     "shell.execute_reply.started": "2022-09-27T14:34:35.171847Z"
    }
   },
   "outputs": [
    {
     "data": {
      "text/plain": [
       "['Age',\n",
       " 'Annual_Income',\n",
       " 'Monthly_Inhand_Salary',\n",
       " 'Num_Bank_Accounts',\n",
       " 'Num_Credit_Card',\n",
       " 'Interest_Rate',\n",
       " 'Num_of_Loan',\n",
       " 'Delay_from_due_date',\n",
       " 'Num_of_Delayed_Payment',\n",
       " 'Changed_Credit_Limit',\n",
       " 'Num_Credit_Inquiries',\n",
       " 'Outstanding_Debt',\n",
       " 'Credit_Utilization_Ratio',\n",
       " 'Total_EMI_per_month',\n",
       " 'Amount_invested_monthly',\n",
       " 'Monthly_Balance']"
      ]
     },
     "execution_count": 68,
     "metadata": {},
     "output_type": "execute_result"
    }
   ],
   "source": [
    "numeric_missing_value_col_list"
   ]
  },
  {
   "cell_type": "code",
   "execution_count": 69,
   "metadata": {
    "ExecuteTime": {
     "end_time": "2022-10-06T15:42:05.395283Z",
     "start_time": "2022-10-06T15:42:05.344687Z"
    },
    "execution": {
     "iopub.execute_input": "2022-09-27T14:34:35.186399Z",
     "iopub.status.busy": "2022-09-27T14:34:35.186075Z",
     "iopub.status.idle": "2022-09-27T14:34:35.238373Z",
     "shell.execute_reply": "2022-09-27T14:34:35.237357Z",
     "shell.execute_reply.started": "2022-09-27T14:34:35.186368Z"
    }
   },
   "outputs": [],
   "source": [
    "for col in numeric_missing_value_col_list:\n",
    "    trial_df[col]=trial_df[col].fillna(trial_df[col].median())"
   ]
  },
  {
   "cell_type": "code",
   "execution_count": 70,
   "metadata": {
    "ExecuteTime": {
     "end_time": "2022-10-06T15:42:05.474613Z",
     "start_time": "2022-10-06T15:42:05.395283Z"
    },
    "execution": {
     "iopub.execute_input": "2022-09-27T14:34:35.240792Z",
     "iopub.status.busy": "2022-09-27T14:34:35.240290Z",
     "iopub.status.idle": "2022-09-27T14:34:35.293102Z",
     "shell.execute_reply": "2022-09-27T14:34:35.291927Z",
     "shell.execute_reply.started": "2022-09-27T14:34:35.240745Z"
    }
   },
   "outputs": [
    {
     "data": {
      "text/plain": [
       "Customer_ID                  0.000\n",
       "Month                        0.000\n",
       "Age                          0.000\n",
       "Occupation                   0.000\n",
       "Annual_Income                0.000\n",
       "Monthly_Inhand_Salary        0.000\n",
       "Num_Bank_Accounts            0.000\n",
       "Num_Credit_Card              0.000\n",
       "Interest_Rate                0.000\n",
       "Num_of_Loan                  0.000\n",
       "Type_of_Loan                11.408\n",
       "Delay_from_due_date          0.000\n",
       "Num_of_Delayed_Payment       0.000\n",
       "Changed_Credit_Limit         0.000\n",
       "Num_Credit_Inquiries         0.000\n",
       "Credit_Mix                   0.000\n",
       "Outstanding_Debt             0.000\n",
       "Credit_Utilization_Ratio     0.000\n",
       "Credit_History_Age           9.030\n",
       "Payment_of_Min_Amount        0.000\n",
       "Total_EMI_per_month          0.000\n",
       "Amount_invested_monthly      0.000\n",
       "Payment_Behaviour            0.000\n",
       "Monthly_Balance              0.000\n",
       "Credit_Score                 0.000\n",
       "dtype: float64"
      ]
     },
     "execution_count": 70,
     "metadata": {},
     "output_type": "execute_result"
    }
   ],
   "source": [
    "trial_df.isnull().mean()*100"
   ]
  },
  {
   "cell_type": "code",
   "execution_count": 71,
   "metadata": {
    "ExecuteTime": {
     "end_time": "2022-10-06T15:42:05.535246Z",
     "start_time": "2022-10-06T15:42:05.474613Z"
    },
    "execution": {
     "iopub.execute_input": "2022-09-27T14:34:35.294866Z",
     "iopub.status.busy": "2022-09-27T14:34:35.294410Z",
     "iopub.status.idle": "2022-09-27T14:34:35.338137Z",
     "shell.execute_reply": "2022-09-27T14:34:35.336949Z",
     "shell.execute_reply.started": "2022-09-27T14:34:35.294824Z"
    }
   },
   "outputs": [],
   "source": [
    "for col in numeric_missing_value_col_list:\n",
    "    test_copy[col]=test_copy[col].fillna(trial_df[col].median())"
   ]
  },
  {
   "cell_type": "code",
   "execution_count": 72,
   "metadata": {
    "ExecuteTime": {
     "end_time": "2022-10-06T15:42:05.590502Z",
     "start_time": "2022-10-06T15:42:05.545146Z"
    },
    "execution": {
     "iopub.execute_input": "2022-09-27T14:34:35.340558Z",
     "iopub.status.busy": "2022-09-27T14:34:35.340239Z",
     "iopub.status.idle": "2022-09-27T14:34:35.369173Z",
     "shell.execute_reply": "2022-09-27T14:34:35.367996Z",
     "shell.execute_reply.started": "2022-09-27T14:34:35.340527Z"
    }
   },
   "outputs": [
    {
     "data": {
      "text/plain": [
       "Customer_ID                  0.000\n",
       "Month                        0.000\n",
       "Age                          0.000\n",
       "Occupation                   0.000\n",
       "Annual_Income                0.000\n",
       "Monthly_Inhand_Salary        0.000\n",
       "Num_Bank_Accounts            0.000\n",
       "Num_Credit_Card              0.000\n",
       "Interest_Rate                0.000\n",
       "Num_of_Loan                  0.000\n",
       "Type_of_Loan                11.408\n",
       "Delay_from_due_date          0.000\n",
       "Num_of_Delayed_Payment       0.000\n",
       "Changed_Credit_Limit         0.000\n",
       "Num_Credit_Inquiries         0.000\n",
       "Credit_Mix                   0.000\n",
       "Outstanding_Debt             0.000\n",
       "Credit_Utilization_Ratio     0.000\n",
       "Credit_History_Age           8.940\n",
       "Payment_of_Min_Amount        0.000\n",
       "Total_EMI_per_month          0.000\n",
       "Amount_invested_monthly      0.000\n",
       "Payment_Behaviour            0.000\n",
       "Monthly_Balance              0.000\n",
       "dtype: float64"
      ]
     },
     "execution_count": 72,
     "metadata": {},
     "output_type": "execute_result"
    }
   ],
   "source": [
    "test_copy.isnull().mean()*100"
   ]
  },
  {
   "cell_type": "code",
   "execution_count": 73,
   "metadata": {
    "ExecuteTime": {
     "end_time": "2022-10-06T15:42:05.675318Z",
     "start_time": "2022-10-06T15:42:05.590502Z"
    },
    "execution": {
     "iopub.execute_input": "2022-09-27T14:34:35.370862Z",
     "iopub.status.busy": "2022-09-27T14:34:35.370425Z",
     "iopub.status.idle": "2022-09-27T14:34:35.419859Z",
     "shell.execute_reply": "2022-09-27T14:34:35.418765Z",
     "shell.execute_reply.started": "2022-09-27T14:34:35.370831Z"
    }
   },
   "outputs": [],
   "source": [
    "trial_df=trial_df.reset_index().drop(\"index\",1)\n",
    "test_copy=test_copy.reset_index().drop(\"index\",1)"
   ]
  },
  {
   "cell_type": "code",
   "execution_count": 74,
   "metadata": {
    "ExecuteTime": {
     "end_time": "2022-10-06T15:42:05.692396Z",
     "start_time": "2022-10-06T15:42:05.676368Z"
    },
    "execution": {
     "iopub.execute_input": "2022-09-27T14:34:35.422499Z",
     "iopub.status.busy": "2022-09-27T14:34:35.421576Z",
     "iopub.status.idle": "2022-09-27T14:34:35.427719Z",
     "shell.execute_reply": "2022-09-27T14:34:35.426657Z",
     "shell.execute_reply.started": "2022-09-27T14:34:35.422452Z"
    }
   },
   "outputs": [],
   "source": [
    "pd.set_option(\"display.max_rows\",50)"
   ]
  },
  {
   "cell_type": "code",
   "execution_count": 75,
   "metadata": {
    "ExecuteTime": {
     "end_time": "2022-10-06T15:42:05.742616Z",
     "start_time": "2022-10-06T15:42:05.692396Z"
    },
    "execution": {
     "iopub.execute_input": "2022-09-27T14:34:35.430973Z",
     "iopub.status.busy": "2022-09-27T14:34:35.430666Z",
     "iopub.status.idle": "2022-09-27T14:34:35.449950Z",
     "shell.execute_reply": "2022-09-27T14:34:35.448726Z",
     "shell.execute_reply.started": "2022-09-27T14:34:35.430945Z"
    }
   },
   "outputs": [
    {
     "data": {
      "text/plain": [
       "6260"
      ]
     },
     "execution_count": 75,
     "metadata": {},
     "output_type": "execute_result"
    }
   ],
   "source": [
    "trial_df[\"Type_of_Loan\"].nunique()"
   ]
  },
  {
   "cell_type": "code",
   "execution_count": 76,
   "metadata": {
    "ExecuteTime": {
     "end_time": "2022-10-06T15:42:05.754360Z",
     "start_time": "2022-10-06T15:42:05.744425Z"
    },
    "execution": {
     "iopub.execute_input": "2022-09-27T14:34:35.452675Z",
     "iopub.status.busy": "2022-09-27T14:34:35.451683Z",
     "iopub.status.idle": "2022-09-27T14:34:35.463128Z",
     "shell.execute_reply": "2022-09-27T14:34:35.461966Z",
     "shell.execute_reply.started": "2022-09-27T14:34:35.452636Z"
    }
   },
   "outputs": [
    {
     "data": {
      "text/plain": [
       "dtype('O')"
      ]
     },
     "execution_count": 76,
     "metadata": {},
     "output_type": "execute_result"
    }
   ],
   "source": [
    "trial_df[\"Credit_History_Age\"].dtype"
   ]
  },
  {
   "cell_type": "code",
   "execution_count": 77,
   "metadata": {
    "ExecuteTime": {
     "end_time": "2022-10-06T15:42:05.804963Z",
     "start_time": "2022-10-06T15:42:05.756447Z"
    },
    "execution": {
     "iopub.execute_input": "2022-09-27T14:34:35.470557Z",
     "iopub.status.busy": "2022-09-27T14:34:35.469781Z",
     "iopub.status.idle": "2022-09-27T14:34:35.499638Z",
     "shell.execute_reply": "2022-09-27T14:34:35.498659Z",
     "shell.execute_reply.started": "2022-09-27T14:34:35.470500Z"
    }
   },
   "outputs": [],
   "source": [
    "trial_df[\"Credit_History_Age\"]=trial_df[\"Credit_History_Age\"].fillna(\"-9999\")\n",
    "trial_df[\"Type_of_Loan\"]=trial_df[\"Type_of_Loan\"].fillna(\"-9999\")\n",
    "test_copy[\"Credit_History_Age\"]=test_copy[\"Credit_History_Age\"].fillna(\"-9999\")\n",
    "test_copy[\"Type_of_Loan\"]=test_copy[\"Type_of_Loan\"].fillna(\"-9999\")"
   ]
  },
  {
   "cell_type": "code",
   "execution_count": 78,
   "metadata": {
    "ExecuteTime": {
     "end_time": "2022-10-06T15:42:05.823240Z",
     "start_time": "2022-10-06T15:42:05.807218Z"
    },
    "execution": {
     "iopub.execute_input": "2022-09-27T14:34:35.521890Z",
     "iopub.status.busy": "2022-09-27T14:34:35.520806Z",
     "iopub.status.idle": "2022-09-27T14:34:35.529764Z",
     "shell.execute_reply": "2022-09-27T14:34:35.528870Z",
     "shell.execute_reply.started": "2022-09-27T14:34:35.521839Z"
    }
   },
   "outputs": [],
   "source": [
    "trial_df[\"Credit_History_Age_1\"] = 0\n",
    "trial_df[\"Credit_History_Age_2\"] = 0\n",
    "test_copy[\"Credit_History_Age_1\"] = 0\n",
    "test_copy[\"Credit_History_Age_2\"] = 0\n"
   ]
  },
  {
   "cell_type": "code",
   "execution_count": 79,
   "metadata": {
    "ExecuteTime": {
     "end_time": "2022-10-06T15:42:05.845056Z",
     "start_time": "2022-10-06T15:42:05.823240Z"
    },
    "execution": {
     "iopub.execute_input": "2022-09-27T14:34:35.566542Z",
     "iopub.status.busy": "2022-09-27T14:34:35.566127Z",
     "iopub.status.idle": "2022-09-27T14:34:35.573610Z",
     "shell.execute_reply": "2022-09-27T14:34:35.572433Z",
     "shell.execute_reply.started": "2022-09-27T14:34:35.566505Z"
    }
   },
   "outputs": [
    {
     "data": {
      "text/plain": [
       "'22 Years and 1 Months'"
      ]
     },
     "execution_count": 79,
     "metadata": {},
     "output_type": "execute_result"
    }
   ],
   "source": [
    "trial_df[\"Credit_History_Age\"].iloc[0,]"
   ]
  },
  {
   "cell_type": "code",
   "execution_count": 80,
   "metadata": {
    "ExecuteTime": {
     "end_time": "2022-10-06T15:42:05.861213Z",
     "start_time": "2022-10-06T15:42:05.845056Z"
    },
    "execution": {
     "iopub.execute_input": "2022-09-27T14:34:35.609858Z",
     "iopub.status.busy": "2022-09-27T14:34:35.609072Z",
     "iopub.status.idle": "2022-09-27T14:34:35.616567Z",
     "shell.execute_reply": "2022-09-27T14:34:35.615304Z",
     "shell.execute_reply.started": "2022-09-27T14:34:35.609821Z"
    }
   },
   "outputs": [
    {
     "data": {
      "text/plain": [
       "'22'"
      ]
     },
     "execution_count": 80,
     "metadata": {},
     "output_type": "execute_result"
    }
   ],
   "source": [
    "trial_df[\"Credit_History_Age\"].iloc[0,].split()[0]"
   ]
  },
  {
   "cell_type": "code",
   "execution_count": 81,
   "metadata": {
    "ExecuteTime": {
     "end_time": "2022-10-06T15:42:05.890764Z",
     "start_time": "2022-10-06T15:42:05.865242Z"
    },
    "execution": {
     "iopub.execute_input": "2022-09-27T14:34:35.656633Z",
     "iopub.status.busy": "2022-09-27T14:34:35.656213Z",
     "iopub.status.idle": "2022-09-27T14:34:35.664566Z",
     "shell.execute_reply": "2022-09-27T14:34:35.663744Z",
     "shell.execute_reply.started": "2022-09-27T14:34:35.656575Z"
    }
   },
   "outputs": [
    {
     "data": {
      "text/plain": [
       "'1'"
      ]
     },
     "execution_count": 81,
     "metadata": {},
     "output_type": "execute_result"
    }
   ],
   "source": [
    "trial_df[\"Credit_History_Age\"].iloc[0,].split()[3]"
   ]
  },
  {
   "cell_type": "code",
   "execution_count": 82,
   "metadata": {
    "ExecuteTime": {
     "end_time": "2022-10-06T15:43:30.322576Z",
     "start_time": "2022-10-06T15:42:05.890764Z"
    },
    "execution": {
     "iopub.execute_input": "2022-09-27T14:34:35.711366Z",
     "iopub.status.busy": "2022-09-27T14:34:35.710958Z",
     "iopub.status.idle": "2022-09-27T14:36:15.710465Z",
     "shell.execute_reply": "2022-09-27T14:36:15.708842Z",
     "shell.execute_reply.started": "2022-09-27T14:34:35.711332Z"
    }
   },
   "outputs": [],
   "source": [
    "for k in range(len(trial_df[\"Credit_History_Age\"])):\n",
    "    if trial_df[\"Credit_History_Age\"].iloc[k,] != \"-9999\":\n",
    "        trial_df[\"Credit_History_Age_1\"].iloc[k,] = trial_df[\"Credit_History_Age\"].iloc[k,].split()[0]\n",
    "        trial_df[\"Credit_History_Age_2\"].iloc[k,] = trial_df[\"Credit_History_Age\"].iloc[k,].split()[3]"
   ]
  },
  {
   "cell_type": "code",
   "execution_count": 83,
   "metadata": {
    "ExecuteTime": {
     "end_time": "2022-10-06T15:44:18.299794Z",
     "start_time": "2022-10-06T15:43:30.323476Z"
    },
    "execution": {
     "iopub.execute_input": "2022-09-27T14:36:15.713076Z",
     "iopub.status.busy": "2022-09-27T14:36:15.712687Z",
     "iopub.status.idle": "2022-09-27T14:37:05.574432Z",
     "shell.execute_reply": "2022-09-27T14:37:05.573331Z",
     "shell.execute_reply.started": "2022-09-27T14:36:15.713039Z"
    }
   },
   "outputs": [],
   "source": [
    "for k in range(len(test_copy[\"Credit_History_Age\"])):\n",
    "    if test_copy[\"Credit_History_Age\"].iloc[k,] != \"-9999\":\n",
    "        test_copy[\"Credit_History_Age_1\"].iloc[k,] = test_copy[\"Credit_History_Age\"].iloc[k,].split()[0]\n",
    "        test_copy[\"Credit_History_Age_2\"].iloc[k,] = test_copy[\"Credit_History_Age\"].iloc[k,].split()[3]"
   ]
  },
  {
   "cell_type": "code",
   "execution_count": 84,
   "metadata": {
    "ExecuteTime": {
     "end_time": "2022-10-06T15:44:18.391008Z",
     "start_time": "2022-10-06T15:44:18.299794Z"
    },
    "execution": {
     "iopub.execute_input": "2022-09-27T14:37:05.576485Z",
     "iopub.status.busy": "2022-09-27T14:37:05.576032Z",
     "iopub.status.idle": "2022-09-27T14:37:05.597082Z",
     "shell.execute_reply": "2022-09-27T14:37:05.596019Z",
     "shell.execute_reply.started": "2022-09-27T14:37:05.576440Z"
    }
   },
   "outputs": [],
   "source": [
    "trial_df[\"Credit_History_Age\"] = ((trial_df[\"Credit_History_Age_1\"]*12)+(trial_df[\"Credit_History_Age_2\"]))/12\n",
    "test_copy[\"Credit_History_Age\"] = ((test_copy[\"Credit_History_Age_1\"]*12)+(test_copy[\"Credit_History_Age_2\"]))/12"
   ]
  },
  {
   "cell_type": "code",
   "execution_count": 85,
   "metadata": {
    "ExecuteTime": {
     "end_time": "2022-10-06T15:44:18.411479Z",
     "start_time": "2022-10-06T15:44:18.391008Z"
    },
    "execution": {
     "iopub.execute_input": "2022-09-27T14:37:05.601318Z",
     "iopub.status.busy": "2022-09-27T14:37:05.600071Z",
     "iopub.status.idle": "2022-09-27T14:37:05.610759Z",
     "shell.execute_reply": "2022-09-27T14:37:05.609198Z",
     "shell.execute_reply.started": "2022-09-27T14:37:05.601270Z"
    }
   },
   "outputs": [],
   "source": [
    "trial_df[\"Credit_History_Age\"]=trial_df[\"Credit_History_Age\"].replace(0,np.nan)\n",
    "test_copy[\"Credit_History_Age\"]=test_copy[\"Credit_History_Age\"].replace(0,np.nan)"
   ]
  },
  {
   "cell_type": "code",
   "execution_count": 86,
   "metadata": {
    "ExecuteTime": {
     "end_time": "2022-10-06T15:44:18.427524Z",
     "start_time": "2022-10-06T15:44:18.411479Z"
    },
    "execution": {
     "iopub.execute_input": "2022-09-27T14:37:05.613634Z",
     "iopub.status.busy": "2022-09-27T14:37:05.612811Z",
     "iopub.status.idle": "2022-09-27T14:37:05.623922Z",
     "shell.execute_reply": "2022-09-27T14:37:05.623025Z",
     "shell.execute_reply.started": "2022-09-27T14:37:05.613568Z"
    }
   },
   "outputs": [
    {
     "data": {
      "text/plain": [
       "9.030000000000001"
      ]
     },
     "execution_count": 86,
     "metadata": {},
     "output_type": "execute_result"
    }
   ],
   "source": [
    "trial_df[\"Credit_History_Age\"].isnull().mean()*100"
   ]
  },
  {
   "cell_type": "code",
   "execution_count": 87,
   "metadata": {
    "ExecuteTime": {
     "end_time": "2022-10-06T15:44:18.449115Z",
     "start_time": "2022-10-06T15:44:18.427524Z"
    },
    "execution": {
     "iopub.execute_input": "2022-09-27T14:37:05.626061Z",
     "iopub.status.busy": "2022-09-27T14:37:05.625041Z",
     "iopub.status.idle": "2022-09-27T14:37:05.636857Z",
     "shell.execute_reply": "2022-09-27T14:37:05.635664Z",
     "shell.execute_reply.started": "2022-09-27T14:37:05.626028Z"
    }
   },
   "outputs": [
    {
     "data": {
      "text/plain": [
       "8.94"
      ]
     },
     "execution_count": 87,
     "metadata": {},
     "output_type": "execute_result"
    }
   ],
   "source": [
    "test_copy[\"Credit_History_Age\"].isnull().mean()*100"
   ]
  },
  {
   "cell_type": "code",
   "execution_count": 88,
   "metadata": {
    "ExecuteTime": {
     "end_time": "2022-10-06T15:44:18.492837Z",
     "start_time": "2022-10-06T15:44:18.450091Z"
    },
    "execution": {
     "iopub.execute_input": "2022-09-27T14:37:05.639625Z",
     "iopub.status.busy": "2022-09-27T14:37:05.638742Z",
     "iopub.status.idle": "2022-09-27T14:37:05.682006Z",
     "shell.execute_reply": "2022-09-27T14:37:05.681165Z",
     "shell.execute_reply.started": "2022-09-27T14:37:05.639576Z"
    }
   },
   "outputs": [],
   "source": [
    "trial_df=trial_df.drop([\"Credit_History_Age_1\",\"Credit_History_Age_2\"],1)\n",
    "test_copy=test_copy.drop([\"Credit_History_Age_1\",\"Credit_History_Age_2\"],1)"
   ]
  },
  {
   "cell_type": "code",
   "execution_count": 89,
   "metadata": {
    "ExecuteTime": {
     "end_time": "2022-10-06T15:44:18.531858Z",
     "start_time": "2022-10-06T15:44:18.493711Z"
    },
    "execution": {
     "iopub.execute_input": "2022-09-27T14:37:05.683797Z",
     "iopub.status.busy": "2022-09-27T14:37:05.683419Z",
     "iopub.status.idle": "2022-09-27T14:37:05.707494Z",
     "shell.execute_reply": "2022-09-27T14:37:05.706351Z",
     "shell.execute_reply.started": "2022-09-27T14:37:05.683762Z"
    }
   },
   "outputs": [
    {
     "data": {
      "text/plain": [
       "6261"
      ]
     },
     "execution_count": 89,
     "metadata": {},
     "output_type": "execute_result"
    }
   ],
   "source": [
    "trial_df[\"Type_of_Loan\"].nunique()"
   ]
  },
  {
   "cell_type": "code",
   "execution_count": 90,
   "metadata": {
    "ExecuteTime": {
     "end_time": "2022-10-06T15:44:18.561512Z",
     "start_time": "2022-10-06T15:44:18.531858Z"
    },
    "execution": {
     "iopub.execute_input": "2022-09-27T14:37:05.709368Z",
     "iopub.status.busy": "2022-09-27T14:37:05.708930Z",
     "iopub.status.idle": "2022-09-27T14:37:05.726957Z",
     "shell.execute_reply": "2022-09-27T14:37:05.725639Z",
     "shell.execute_reply.started": "2022-09-27T14:37:05.709326Z"
    }
   },
   "outputs": [
    {
     "data": {
      "text/plain": [
       "6261"
      ]
     },
     "execution_count": 90,
     "metadata": {},
     "output_type": "execute_result"
    }
   ],
   "source": [
    "test_copy[\"Type_of_Loan\"].nunique()"
   ]
  },
  {
   "cell_type": "markdown",
   "metadata": {},
   "source": [
    "### There are too many unique categorical values in Type of loan column so let's drop it in both train and test data"
   ]
  },
  {
   "cell_type": "code",
   "execution_count": 91,
   "metadata": {
    "ExecuteTime": {
     "end_time": "2022-10-06T15:44:18.600415Z",
     "start_time": "2022-10-06T15:44:18.561512Z"
    },
    "execution": {
     "iopub.execute_input": "2022-09-27T14:37:05.732200Z",
     "iopub.status.busy": "2022-09-27T14:37:05.731829Z",
     "iopub.status.idle": "2022-09-27T14:37:05.756701Z",
     "shell.execute_reply": "2022-09-27T14:37:05.755186Z",
     "shell.execute_reply.started": "2022-09-27T14:37:05.732165Z"
    }
   },
   "outputs": [],
   "source": [
    "trial_df=trial_df.drop(\"Type_of_Loan\",1)\n",
    "test_copy=test_copy.drop(\"Type_of_Loan\",1)"
   ]
  },
  {
   "cell_type": "code",
   "execution_count": 92,
   "metadata": {
    "ExecuteTime": {
     "end_time": "2022-10-06T15:44:18.611533Z",
     "start_time": "2022-10-06T15:44:18.600415Z"
    },
    "execution": {
     "iopub.execute_input": "2022-09-27T14:37:05.758888Z",
     "iopub.status.busy": "2022-09-27T14:37:05.758240Z",
     "iopub.status.idle": "2022-09-27T14:37:05.768965Z",
     "shell.execute_reply": "2022-09-27T14:37:05.767731Z",
     "shell.execute_reply.started": "2022-09-27T14:37:05.758850Z"
    }
   },
   "outputs": [],
   "source": [
    "trial_df[\"Credit_History_Age\"]=trial_df[\"Credit_History_Age\"].fillna(trial_df[\"Credit_History_Age\"].mean())\n",
    "test_copy[\"Credit_History_Age\"]=test_copy[\"Credit_History_Age\"].fillna(test_copy[\"Credit_History_Age\"].mean())"
   ]
  },
  {
   "cell_type": "code",
   "execution_count": 93,
   "metadata": {
    "ExecuteTime": {
     "end_time": "2022-10-06T15:44:18.671876Z",
     "start_time": "2022-10-06T15:44:18.611533Z"
    },
    "execution": {
     "iopub.execute_input": "2022-09-27T14:37:05.771104Z",
     "iopub.status.busy": "2022-09-27T14:37:05.770602Z",
     "iopub.status.idle": "2022-09-27T14:37:05.817680Z",
     "shell.execute_reply": "2022-09-27T14:37:05.816418Z",
     "shell.execute_reply.started": "2022-09-27T14:37:05.771061Z"
    }
   },
   "outputs": [
    {
     "data": {
      "text/plain": [
       "Customer_ID                 0.0\n",
       "Month                       0.0\n",
       "Age                         0.0\n",
       "Occupation                  0.0\n",
       "Annual_Income               0.0\n",
       "Monthly_Inhand_Salary       0.0\n",
       "Num_Bank_Accounts           0.0\n",
       "Num_Credit_Card             0.0\n",
       "Interest_Rate               0.0\n",
       "Num_of_Loan                 0.0\n",
       "Delay_from_due_date         0.0\n",
       "Num_of_Delayed_Payment      0.0\n",
       "Changed_Credit_Limit        0.0\n",
       "Num_Credit_Inquiries        0.0\n",
       "Credit_Mix                  0.0\n",
       "Outstanding_Debt            0.0\n",
       "Credit_Utilization_Ratio    0.0\n",
       "Credit_History_Age          0.0\n",
       "Payment_of_Min_Amount       0.0\n",
       "Total_EMI_per_month         0.0\n",
       "Amount_invested_monthly     0.0\n",
       "Payment_Behaviour           0.0\n",
       "Monthly_Balance             0.0\n",
       "Credit_Score                0.0\n",
       "dtype: float64"
      ]
     },
     "execution_count": 93,
     "metadata": {},
     "output_type": "execute_result"
    }
   ],
   "source": [
    "trial_df.isnull().mean()*100"
   ]
  },
  {
   "cell_type": "code",
   "execution_count": 94,
   "metadata": {
    "ExecuteTime": {
     "end_time": "2022-10-06T15:44:18.710956Z",
     "start_time": "2022-10-06T15:44:18.671876Z"
    },
    "execution": {
     "iopub.execute_input": "2022-09-27T14:37:05.822881Z",
     "iopub.status.busy": "2022-09-27T14:37:05.819624Z",
     "iopub.status.idle": "2022-09-27T14:37:05.849166Z",
     "shell.execute_reply": "2022-09-27T14:37:05.847964Z",
     "shell.execute_reply.started": "2022-09-27T14:37:05.822840Z"
    }
   },
   "outputs": [
    {
     "data": {
      "text/plain": [
       "Customer_ID                 0.0\n",
       "Month                       0.0\n",
       "Age                         0.0\n",
       "Occupation                  0.0\n",
       "Annual_Income               0.0\n",
       "Monthly_Inhand_Salary       0.0\n",
       "Num_Bank_Accounts           0.0\n",
       "Num_Credit_Card             0.0\n",
       "Interest_Rate               0.0\n",
       "Num_of_Loan                 0.0\n",
       "Delay_from_due_date         0.0\n",
       "Num_of_Delayed_Payment      0.0\n",
       "Changed_Credit_Limit        0.0\n",
       "Num_Credit_Inquiries        0.0\n",
       "Credit_Mix                  0.0\n",
       "Outstanding_Debt            0.0\n",
       "Credit_Utilization_Ratio    0.0\n",
       "Credit_History_Age          0.0\n",
       "Payment_of_Min_Amount       0.0\n",
       "Total_EMI_per_month         0.0\n",
       "Amount_invested_monthly     0.0\n",
       "Payment_Behaviour           0.0\n",
       "Monthly_Balance             0.0\n",
       "dtype: float64"
      ]
     },
     "execution_count": 94,
     "metadata": {},
     "output_type": "execute_result"
    }
   ],
   "source": [
    "test_copy.isnull().mean()*100"
   ]
  },
  {
   "cell_type": "code",
   "execution_count": 95,
   "metadata": {
    "ExecuteTime": {
     "end_time": "2022-10-06T15:44:18.751476Z",
     "start_time": "2022-10-06T15:44:18.710956Z"
    },
    "execution": {
     "iopub.execute_input": "2022-09-27T14:37:05.850995Z",
     "iopub.status.busy": "2022-09-27T14:37:05.850669Z",
     "iopub.status.idle": "2022-09-27T14:37:05.884785Z",
     "shell.execute_reply": "2022-09-27T14:37:05.883644Z",
     "shell.execute_reply.started": "2022-09-27T14:37:05.850966Z"
    }
   },
   "outputs": [
    {
     "data": {
      "text/html": [
       "<div>\n",
       "<style scoped>\n",
       "    .dataframe tbody tr th:only-of-type {\n",
       "        vertical-align: middle;\n",
       "    }\n",
       "\n",
       "    .dataframe tbody tr th {\n",
       "        vertical-align: top;\n",
       "    }\n",
       "\n",
       "    .dataframe thead th {\n",
       "        text-align: right;\n",
       "    }\n",
       "</style>\n",
       "<table border=\"1\" class=\"dataframe\">\n",
       "  <thead>\n",
       "    <tr style=\"text-align: right;\">\n",
       "      <th></th>\n",
       "      <th>Customer_ID</th>\n",
       "      <th>Month</th>\n",
       "      <th>Age</th>\n",
       "      <th>Occupation</th>\n",
       "      <th>Annual_Income</th>\n",
       "      <th>Monthly_Inhand_Salary</th>\n",
       "      <th>Num_Bank_Accounts</th>\n",
       "      <th>Num_Credit_Card</th>\n",
       "      <th>Interest_Rate</th>\n",
       "      <th>Num_of_Loan</th>\n",
       "      <th>Delay_from_due_date</th>\n",
       "      <th>Num_of_Delayed_Payment</th>\n",
       "      <th>Changed_Credit_Limit</th>\n",
       "      <th>Num_Credit_Inquiries</th>\n",
       "      <th>Credit_Mix</th>\n",
       "      <th>Outstanding_Debt</th>\n",
       "      <th>Credit_Utilization_Ratio</th>\n",
       "      <th>Credit_History_Age</th>\n",
       "      <th>Payment_of_Min_Amount</th>\n",
       "      <th>Total_EMI_per_month</th>\n",
       "      <th>Amount_invested_monthly</th>\n",
       "      <th>Payment_Behaviour</th>\n",
       "      <th>Monthly_Balance</th>\n",
       "      <th>Credit_Score</th>\n",
       "    </tr>\n",
       "  </thead>\n",
       "  <tbody>\n",
       "    <tr>\n",
       "      <th>0</th>\n",
       "      <td>CUS_0xd40</td>\n",
       "      <td>January</td>\n",
       "      <td>23.0</td>\n",
       "      <td>Scientist</td>\n",
       "      <td>19114.12</td>\n",
       "      <td>1824.843333</td>\n",
       "      <td>3.0</td>\n",
       "      <td>4.0</td>\n",
       "      <td>3.0</td>\n",
       "      <td>4.0</td>\n",
       "      <td>3.0</td>\n",
       "      <td>7.0</td>\n",
       "      <td>11.27</td>\n",
       "      <td>4.0</td>\n",
       "      <td>_</td>\n",
       "      <td>809.98</td>\n",
       "      <td>26.822620</td>\n",
       "      <td>22.083333</td>\n",
       "      <td>No</td>\n",
       "      <td>49.574949</td>\n",
       "      <td>80.415295</td>\n",
       "      <td>High_spent_Small_value_payments</td>\n",
       "      <td>312.494089</td>\n",
       "      <td>Good</td>\n",
       "    </tr>\n",
       "    <tr>\n",
       "      <th>1</th>\n",
       "      <td>CUS_0xd40</td>\n",
       "      <td>February</td>\n",
       "      <td>23.0</td>\n",
       "      <td>Scientist</td>\n",
       "      <td>19114.12</td>\n",
       "      <td>3038.445000</td>\n",
       "      <td>3.0</td>\n",
       "      <td>4.0</td>\n",
       "      <td>3.0</td>\n",
       "      <td>4.0</td>\n",
       "      <td>17.0</td>\n",
       "      <td>14.0</td>\n",
       "      <td>11.27</td>\n",
       "      <td>4.0</td>\n",
       "      <td>Good</td>\n",
       "      <td>809.98</td>\n",
       "      <td>31.944960</td>\n",
       "      <td>18.432950</td>\n",
       "      <td>No</td>\n",
       "      <td>49.574949</td>\n",
       "      <td>118.280222</td>\n",
       "      <td>Low_spent_Large_value_payments</td>\n",
       "      <td>284.629163</td>\n",
       "      <td>Good</td>\n",
       "    </tr>\n",
       "    <tr>\n",
       "      <th>2</th>\n",
       "      <td>CUS_0xd40</td>\n",
       "      <td>March</td>\n",
       "      <td>33.0</td>\n",
       "      <td>Scientist</td>\n",
       "      <td>19114.12</td>\n",
       "      <td>3038.445000</td>\n",
       "      <td>3.0</td>\n",
       "      <td>4.0</td>\n",
       "      <td>3.0</td>\n",
       "      <td>4.0</td>\n",
       "      <td>3.0</td>\n",
       "      <td>7.0</td>\n",
       "      <td>9.47</td>\n",
       "      <td>4.0</td>\n",
       "      <td>Good</td>\n",
       "      <td>809.98</td>\n",
       "      <td>28.609352</td>\n",
       "      <td>22.250000</td>\n",
       "      <td>No</td>\n",
       "      <td>49.574949</td>\n",
       "      <td>81.699521</td>\n",
       "      <td>Low_spent_Medium_value_payments</td>\n",
       "      <td>331.209863</td>\n",
       "      <td>Good</td>\n",
       "    </tr>\n",
       "    <tr>\n",
       "      <th>3</th>\n",
       "      <td>CUS_0xd40</td>\n",
       "      <td>April</td>\n",
       "      <td>23.0</td>\n",
       "      <td>Scientist</td>\n",
       "      <td>19114.12</td>\n",
       "      <td>3038.445000</td>\n",
       "      <td>3.0</td>\n",
       "      <td>4.0</td>\n",
       "      <td>3.0</td>\n",
       "      <td>4.0</td>\n",
       "      <td>5.0</td>\n",
       "      <td>4.0</td>\n",
       "      <td>6.27</td>\n",
       "      <td>4.0</td>\n",
       "      <td>Good</td>\n",
       "      <td>809.98</td>\n",
       "      <td>31.377862</td>\n",
       "      <td>22.333333</td>\n",
       "      <td>No</td>\n",
       "      <td>49.574949</td>\n",
       "      <td>199.458074</td>\n",
       "      <td>Low_spent_Small_value_payments</td>\n",
       "      <td>223.451310</td>\n",
       "      <td>Good</td>\n",
       "    </tr>\n",
       "    <tr>\n",
       "      <th>4</th>\n",
       "      <td>CUS_0xd40</td>\n",
       "      <td>May</td>\n",
       "      <td>23.0</td>\n",
       "      <td>Scientist</td>\n",
       "      <td>19114.12</td>\n",
       "      <td>1824.843333</td>\n",
       "      <td>3.0</td>\n",
       "      <td>4.0</td>\n",
       "      <td>3.0</td>\n",
       "      <td>4.0</td>\n",
       "      <td>6.0</td>\n",
       "      <td>14.0</td>\n",
       "      <td>11.27</td>\n",
       "      <td>4.0</td>\n",
       "      <td>Good</td>\n",
       "      <td>809.98</td>\n",
       "      <td>24.797347</td>\n",
       "      <td>22.416667</td>\n",
       "      <td>No</td>\n",
       "      <td>49.574949</td>\n",
       "      <td>41.420153</td>\n",
       "      <td>High_spent_Medium_value_payments</td>\n",
       "      <td>341.489231</td>\n",
       "      <td>Good</td>\n",
       "    </tr>\n",
       "  </tbody>\n",
       "</table>\n",
       "</div>"
      ],
      "text/plain": [
       "  Customer_ID     Month   Age Occupation  Annual_Income  \\\n",
       "0   CUS_0xd40   January  23.0  Scientist       19114.12   \n",
       "1   CUS_0xd40  February  23.0  Scientist       19114.12   \n",
       "2   CUS_0xd40     March  33.0  Scientist       19114.12   \n",
       "3   CUS_0xd40     April  23.0  Scientist       19114.12   \n",
       "4   CUS_0xd40       May  23.0  Scientist       19114.12   \n",
       "\n",
       "   Monthly_Inhand_Salary  Num_Bank_Accounts  Num_Credit_Card  Interest_Rate  \\\n",
       "0            1824.843333                3.0              4.0            3.0   \n",
       "1            3038.445000                3.0              4.0            3.0   \n",
       "2            3038.445000                3.0              4.0            3.0   \n",
       "3            3038.445000                3.0              4.0            3.0   \n",
       "4            1824.843333                3.0              4.0            3.0   \n",
       "\n",
       "   Num_of_Loan  Delay_from_due_date  Num_of_Delayed_Payment  \\\n",
       "0          4.0                  3.0                     7.0   \n",
       "1          4.0                 17.0                    14.0   \n",
       "2          4.0                  3.0                     7.0   \n",
       "3          4.0                  5.0                     4.0   \n",
       "4          4.0                  6.0                    14.0   \n",
       "\n",
       "   Changed_Credit_Limit  Num_Credit_Inquiries Credit_Mix  Outstanding_Debt  \\\n",
       "0                 11.27                   4.0          _            809.98   \n",
       "1                 11.27                   4.0       Good            809.98   \n",
       "2                  9.47                   4.0       Good            809.98   \n",
       "3                  6.27                   4.0       Good            809.98   \n",
       "4                 11.27                   4.0       Good            809.98   \n",
       "\n",
       "   Credit_Utilization_Ratio  Credit_History_Age Payment_of_Min_Amount  \\\n",
       "0                 26.822620           22.083333                    No   \n",
       "1                 31.944960           18.432950                    No   \n",
       "2                 28.609352           22.250000                    No   \n",
       "3                 31.377862           22.333333                    No   \n",
       "4                 24.797347           22.416667                    No   \n",
       "\n",
       "   Total_EMI_per_month  Amount_invested_monthly  \\\n",
       "0            49.574949                80.415295   \n",
       "1            49.574949               118.280222   \n",
       "2            49.574949                81.699521   \n",
       "3            49.574949               199.458074   \n",
       "4            49.574949                41.420153   \n",
       "\n",
       "                  Payment_Behaviour  Monthly_Balance Credit_Score  \n",
       "0   High_spent_Small_value_payments       312.494089         Good  \n",
       "1    Low_spent_Large_value_payments       284.629163         Good  \n",
       "2   Low_spent_Medium_value_payments       331.209863         Good  \n",
       "3    Low_spent_Small_value_payments       223.451310         Good  \n",
       "4  High_spent_Medium_value_payments       341.489231         Good  "
      ]
     },
     "execution_count": 95,
     "metadata": {},
     "output_type": "execute_result"
    }
   ],
   "source": [
    "trial_df.head()"
   ]
  },
  {
   "cell_type": "code",
   "execution_count": 96,
   "metadata": {
    "ExecuteTime": {
     "end_time": "2022-10-06T15:44:18.879717Z",
     "start_time": "2022-10-06T15:44:18.751476Z"
    },
    "execution": {
     "iopub.execute_input": "2022-09-27T14:37:05.886461Z",
     "iopub.status.busy": "2022-09-27T14:37:05.885998Z",
     "iopub.status.idle": "2022-09-27T14:37:05.988173Z",
     "shell.execute_reply": "2022-09-27T14:37:05.986967Z",
     "shell.execute_reply.started": "2022-09-27T14:37:05.886413Z"
    }
   },
   "outputs": [
    {
     "data": {
      "text/plain": [
       "Customer_ID                 12500\n",
       "Month                           8\n",
       "Age                            43\n",
       "Occupation                     16\n",
       "Annual_Income               12266\n",
       "Monthly_Inhand_Salary       12971\n",
       "Num_Bank_Accounts              12\n",
       "Num_Credit_Card                12\n",
       "Interest_Rate                  34\n",
       "Num_of_Loan                    10\n",
       "Delay_from_due_date            55\n",
       "Num_of_Delayed_Payment         29\n",
       "Changed_Credit_Limit         2847\n",
       "Num_Credit_Inquiries           18\n",
       "Credit_Mix                      4\n",
       "Outstanding_Debt            11546\n",
       "Credit_Utilization_Ratio    99995\n",
       "Credit_History_Age            405\n",
       "Payment_of_Min_Amount           3\n",
       "Total_EMI_per_month         11197\n",
       "Amount_invested_monthly     83481\n",
       "Payment_Behaviour               7\n",
       "Monthly_Balance             91163\n",
       "Credit_Score                    3\n",
       "dtype: int64"
      ]
     },
     "execution_count": 96,
     "metadata": {},
     "output_type": "execute_result"
    }
   ],
   "source": [
    "trial_df.nunique()"
   ]
  },
  {
   "cell_type": "code",
   "execution_count": 97,
   "metadata": {
    "ExecuteTime": {
     "end_time": "2022-10-06T15:44:18.959565Z",
     "start_time": "2022-10-06T15:44:18.879717Z"
    },
    "execution": {
     "iopub.execute_input": "2022-09-27T14:37:05.989811Z",
     "iopub.status.busy": "2022-09-27T14:37:05.989468Z",
     "iopub.status.idle": "2022-09-27T14:37:06.083116Z",
     "shell.execute_reply": "2022-09-27T14:37:06.081874Z",
     "shell.execute_reply.started": "2022-09-27T14:37:05.989780Z"
    }
   },
   "outputs": [
    {
     "data": {
      "text/html": [
       "<div>\n",
       "<style scoped>\n",
       "    .dataframe tbody tr th:only-of-type {\n",
       "        vertical-align: middle;\n",
       "    }\n",
       "\n",
       "    .dataframe tbody tr th {\n",
       "        vertical-align: top;\n",
       "    }\n",
       "\n",
       "    .dataframe thead th {\n",
       "        text-align: right;\n",
       "    }\n",
       "</style>\n",
       "<table border=\"1\" class=\"dataframe\">\n",
       "  <thead>\n",
       "    <tr style=\"text-align: right;\">\n",
       "      <th></th>\n",
       "      <th>Month</th>\n",
       "      <th>Age</th>\n",
       "      <th>Occupation</th>\n",
       "      <th>Annual_Income</th>\n",
       "      <th>Monthly_Inhand_Salary</th>\n",
       "      <th>Num_Bank_Accounts</th>\n",
       "      <th>Num_Credit_Card</th>\n",
       "      <th>Interest_Rate</th>\n",
       "      <th>Num_of_Loan</th>\n",
       "      <th>Delay_from_due_date</th>\n",
       "      <th>Num_of_Delayed_Payment</th>\n",
       "      <th>Changed_Credit_Limit</th>\n",
       "      <th>Num_Credit_Inquiries</th>\n",
       "      <th>Credit_Mix</th>\n",
       "      <th>Outstanding_Debt</th>\n",
       "      <th>Credit_Utilization_Ratio</th>\n",
       "      <th>Credit_History_Age</th>\n",
       "      <th>Payment_of_Min_Amount</th>\n",
       "      <th>Total_EMI_per_month</th>\n",
       "      <th>Amount_invested_monthly</th>\n",
       "      <th>Payment_Behaviour</th>\n",
       "      <th>Monthly_Balance</th>\n",
       "      <th>Credit_Score</th>\n",
       "    </tr>\n",
       "    <tr>\n",
       "      <th>Customer_ID</th>\n",
       "      <th></th>\n",
       "      <th></th>\n",
       "      <th></th>\n",
       "      <th></th>\n",
       "      <th></th>\n",
       "      <th></th>\n",
       "      <th></th>\n",
       "      <th></th>\n",
       "      <th></th>\n",
       "      <th></th>\n",
       "      <th></th>\n",
       "      <th></th>\n",
       "      <th></th>\n",
       "      <th></th>\n",
       "      <th></th>\n",
       "      <th></th>\n",
       "      <th></th>\n",
       "      <th></th>\n",
       "      <th></th>\n",
       "      <th></th>\n",
       "      <th></th>\n",
       "      <th></th>\n",
       "      <th></th>\n",
       "    </tr>\n",
       "  </thead>\n",
       "  <tbody>\n",
       "    <tr>\n",
       "      <th>CUS_0x1000</th>\n",
       "      <td>8</td>\n",
       "      <td>8</td>\n",
       "      <td>8</td>\n",
       "      <td>8</td>\n",
       "      <td>8</td>\n",
       "      <td>8</td>\n",
       "      <td>8</td>\n",
       "      <td>8</td>\n",
       "      <td>8</td>\n",
       "      <td>8</td>\n",
       "      <td>8</td>\n",
       "      <td>8</td>\n",
       "      <td>8</td>\n",
       "      <td>8</td>\n",
       "      <td>8</td>\n",
       "      <td>8</td>\n",
       "      <td>8</td>\n",
       "      <td>8</td>\n",
       "      <td>8</td>\n",
       "      <td>8</td>\n",
       "      <td>8</td>\n",
       "      <td>8</td>\n",
       "      <td>8</td>\n",
       "    </tr>\n",
       "    <tr>\n",
       "      <th>CUS_0x1009</th>\n",
       "      <td>8</td>\n",
       "      <td>8</td>\n",
       "      <td>8</td>\n",
       "      <td>8</td>\n",
       "      <td>8</td>\n",
       "      <td>8</td>\n",
       "      <td>8</td>\n",
       "      <td>8</td>\n",
       "      <td>8</td>\n",
       "      <td>8</td>\n",
       "      <td>8</td>\n",
       "      <td>8</td>\n",
       "      <td>8</td>\n",
       "      <td>8</td>\n",
       "      <td>8</td>\n",
       "      <td>8</td>\n",
       "      <td>8</td>\n",
       "      <td>8</td>\n",
       "      <td>8</td>\n",
       "      <td>8</td>\n",
       "      <td>8</td>\n",
       "      <td>8</td>\n",
       "      <td>8</td>\n",
       "    </tr>\n",
       "    <tr>\n",
       "      <th>CUS_0x100b</th>\n",
       "      <td>8</td>\n",
       "      <td>8</td>\n",
       "      <td>8</td>\n",
       "      <td>8</td>\n",
       "      <td>8</td>\n",
       "      <td>8</td>\n",
       "      <td>8</td>\n",
       "      <td>8</td>\n",
       "      <td>8</td>\n",
       "      <td>8</td>\n",
       "      <td>8</td>\n",
       "      <td>8</td>\n",
       "      <td>8</td>\n",
       "      <td>8</td>\n",
       "      <td>8</td>\n",
       "      <td>8</td>\n",
       "      <td>8</td>\n",
       "      <td>8</td>\n",
       "      <td>8</td>\n",
       "      <td>8</td>\n",
       "      <td>8</td>\n",
       "      <td>8</td>\n",
       "      <td>8</td>\n",
       "    </tr>\n",
       "    <tr>\n",
       "      <th>CUS_0x1011</th>\n",
       "      <td>8</td>\n",
       "      <td>8</td>\n",
       "      <td>8</td>\n",
       "      <td>8</td>\n",
       "      <td>8</td>\n",
       "      <td>8</td>\n",
       "      <td>8</td>\n",
       "      <td>8</td>\n",
       "      <td>8</td>\n",
       "      <td>8</td>\n",
       "      <td>8</td>\n",
       "      <td>8</td>\n",
       "      <td>8</td>\n",
       "      <td>8</td>\n",
       "      <td>8</td>\n",
       "      <td>8</td>\n",
       "      <td>8</td>\n",
       "      <td>8</td>\n",
       "      <td>8</td>\n",
       "      <td>8</td>\n",
       "      <td>8</td>\n",
       "      <td>8</td>\n",
       "      <td>8</td>\n",
       "    </tr>\n",
       "    <tr>\n",
       "      <th>CUS_0x1013</th>\n",
       "      <td>8</td>\n",
       "      <td>8</td>\n",
       "      <td>8</td>\n",
       "      <td>8</td>\n",
       "      <td>8</td>\n",
       "      <td>8</td>\n",
       "      <td>8</td>\n",
       "      <td>8</td>\n",
       "      <td>8</td>\n",
       "      <td>8</td>\n",
       "      <td>8</td>\n",
       "      <td>8</td>\n",
       "      <td>8</td>\n",
       "      <td>8</td>\n",
       "      <td>8</td>\n",
       "      <td>8</td>\n",
       "      <td>8</td>\n",
       "      <td>8</td>\n",
       "      <td>8</td>\n",
       "      <td>8</td>\n",
       "      <td>8</td>\n",
       "      <td>8</td>\n",
       "      <td>8</td>\n",
       "    </tr>\n",
       "    <tr>\n",
       "      <th>...</th>\n",
       "      <td>...</td>\n",
       "      <td>...</td>\n",
       "      <td>...</td>\n",
       "      <td>...</td>\n",
       "      <td>...</td>\n",
       "      <td>...</td>\n",
       "      <td>...</td>\n",
       "      <td>...</td>\n",
       "      <td>...</td>\n",
       "      <td>...</td>\n",
       "      <td>...</td>\n",
       "      <td>...</td>\n",
       "      <td>...</td>\n",
       "      <td>...</td>\n",
       "      <td>...</td>\n",
       "      <td>...</td>\n",
       "      <td>...</td>\n",
       "      <td>...</td>\n",
       "      <td>...</td>\n",
       "      <td>...</td>\n",
       "      <td>...</td>\n",
       "      <td>...</td>\n",
       "      <td>...</td>\n",
       "    </tr>\n",
       "    <tr>\n",
       "      <th>CUS_0xff3</th>\n",
       "      <td>8</td>\n",
       "      <td>8</td>\n",
       "      <td>8</td>\n",
       "      <td>8</td>\n",
       "      <td>8</td>\n",
       "      <td>8</td>\n",
       "      <td>8</td>\n",
       "      <td>8</td>\n",
       "      <td>8</td>\n",
       "      <td>8</td>\n",
       "      <td>8</td>\n",
       "      <td>8</td>\n",
       "      <td>8</td>\n",
       "      <td>8</td>\n",
       "      <td>8</td>\n",
       "      <td>8</td>\n",
       "      <td>8</td>\n",
       "      <td>8</td>\n",
       "      <td>8</td>\n",
       "      <td>8</td>\n",
       "      <td>8</td>\n",
       "      <td>8</td>\n",
       "      <td>8</td>\n",
       "    </tr>\n",
       "    <tr>\n",
       "      <th>CUS_0xff4</th>\n",
       "      <td>8</td>\n",
       "      <td>8</td>\n",
       "      <td>8</td>\n",
       "      <td>8</td>\n",
       "      <td>8</td>\n",
       "      <td>8</td>\n",
       "      <td>8</td>\n",
       "      <td>8</td>\n",
       "      <td>8</td>\n",
       "      <td>8</td>\n",
       "      <td>8</td>\n",
       "      <td>8</td>\n",
       "      <td>8</td>\n",
       "      <td>8</td>\n",
       "      <td>8</td>\n",
       "      <td>8</td>\n",
       "      <td>8</td>\n",
       "      <td>8</td>\n",
       "      <td>8</td>\n",
       "      <td>8</td>\n",
       "      <td>8</td>\n",
       "      <td>8</td>\n",
       "      <td>8</td>\n",
       "    </tr>\n",
       "    <tr>\n",
       "      <th>CUS_0xff6</th>\n",
       "      <td>8</td>\n",
       "      <td>8</td>\n",
       "      <td>8</td>\n",
       "      <td>8</td>\n",
       "      <td>8</td>\n",
       "      <td>8</td>\n",
       "      <td>8</td>\n",
       "      <td>8</td>\n",
       "      <td>8</td>\n",
       "      <td>8</td>\n",
       "      <td>8</td>\n",
       "      <td>8</td>\n",
       "      <td>8</td>\n",
       "      <td>8</td>\n",
       "      <td>8</td>\n",
       "      <td>8</td>\n",
       "      <td>8</td>\n",
       "      <td>8</td>\n",
       "      <td>8</td>\n",
       "      <td>8</td>\n",
       "      <td>8</td>\n",
       "      <td>8</td>\n",
       "      <td>8</td>\n",
       "    </tr>\n",
       "    <tr>\n",
       "      <th>CUS_0xffc</th>\n",
       "      <td>8</td>\n",
       "      <td>8</td>\n",
       "      <td>8</td>\n",
       "      <td>8</td>\n",
       "      <td>8</td>\n",
       "      <td>8</td>\n",
       "      <td>8</td>\n",
       "      <td>8</td>\n",
       "      <td>8</td>\n",
       "      <td>8</td>\n",
       "      <td>8</td>\n",
       "      <td>8</td>\n",
       "      <td>8</td>\n",
       "      <td>8</td>\n",
       "      <td>8</td>\n",
       "      <td>8</td>\n",
       "      <td>8</td>\n",
       "      <td>8</td>\n",
       "      <td>8</td>\n",
       "      <td>8</td>\n",
       "      <td>8</td>\n",
       "      <td>8</td>\n",
       "      <td>8</td>\n",
       "    </tr>\n",
       "    <tr>\n",
       "      <th>CUS_0xffd</th>\n",
       "      <td>8</td>\n",
       "      <td>8</td>\n",
       "      <td>8</td>\n",
       "      <td>8</td>\n",
       "      <td>8</td>\n",
       "      <td>8</td>\n",
       "      <td>8</td>\n",
       "      <td>8</td>\n",
       "      <td>8</td>\n",
       "      <td>8</td>\n",
       "      <td>8</td>\n",
       "      <td>8</td>\n",
       "      <td>8</td>\n",
       "      <td>8</td>\n",
       "      <td>8</td>\n",
       "      <td>8</td>\n",
       "      <td>8</td>\n",
       "      <td>8</td>\n",
       "      <td>8</td>\n",
       "      <td>8</td>\n",
       "      <td>8</td>\n",
       "      <td>8</td>\n",
       "      <td>8</td>\n",
       "    </tr>\n",
       "  </tbody>\n",
       "</table>\n",
       "<p>12500 rows × 23 columns</p>\n",
       "</div>"
      ],
      "text/plain": [
       "             Month  Age  Occupation  Annual_Income  Monthly_Inhand_Salary  \\\n",
       "Customer_ID                                                                 \n",
       "CUS_0x1000       8    8           8              8                      8   \n",
       "CUS_0x1009       8    8           8              8                      8   \n",
       "CUS_0x100b       8    8           8              8                      8   \n",
       "CUS_0x1011       8    8           8              8                      8   \n",
       "CUS_0x1013       8    8           8              8                      8   \n",
       "...            ...  ...         ...            ...                    ...   \n",
       "CUS_0xff3        8    8           8              8                      8   \n",
       "CUS_0xff4        8    8           8              8                      8   \n",
       "CUS_0xff6        8    8           8              8                      8   \n",
       "CUS_0xffc        8    8           8              8                      8   \n",
       "CUS_0xffd        8    8           8              8                      8   \n",
       "\n",
       "             Num_Bank_Accounts  Num_Credit_Card  Interest_Rate  Num_of_Loan  \\\n",
       "Customer_ID                                                                   \n",
       "CUS_0x1000                   8                8              8            8   \n",
       "CUS_0x1009                   8                8              8            8   \n",
       "CUS_0x100b                   8                8              8            8   \n",
       "CUS_0x1011                   8                8              8            8   \n",
       "CUS_0x1013                   8                8              8            8   \n",
       "...                        ...              ...            ...          ...   \n",
       "CUS_0xff3                    8                8              8            8   \n",
       "CUS_0xff4                    8                8              8            8   \n",
       "CUS_0xff6                    8                8              8            8   \n",
       "CUS_0xffc                    8                8              8            8   \n",
       "CUS_0xffd                    8                8              8            8   \n",
       "\n",
       "             Delay_from_due_date  Num_of_Delayed_Payment  \\\n",
       "Customer_ID                                                \n",
       "CUS_0x1000                     8                       8   \n",
       "CUS_0x1009                     8                       8   \n",
       "CUS_0x100b                     8                       8   \n",
       "CUS_0x1011                     8                       8   \n",
       "CUS_0x1013                     8                       8   \n",
       "...                          ...                     ...   \n",
       "CUS_0xff3                      8                       8   \n",
       "CUS_0xff4                      8                       8   \n",
       "CUS_0xff6                      8                       8   \n",
       "CUS_0xffc                      8                       8   \n",
       "CUS_0xffd                      8                       8   \n",
       "\n",
       "             Changed_Credit_Limit  Num_Credit_Inquiries  Credit_Mix  \\\n",
       "Customer_ID                                                           \n",
       "CUS_0x1000                      8                     8           8   \n",
       "CUS_0x1009                      8                     8           8   \n",
       "CUS_0x100b                      8                     8           8   \n",
       "CUS_0x1011                      8                     8           8   \n",
       "CUS_0x1013                      8                     8           8   \n",
       "...                           ...                   ...         ...   \n",
       "CUS_0xff3                       8                     8           8   \n",
       "CUS_0xff4                       8                     8           8   \n",
       "CUS_0xff6                       8                     8           8   \n",
       "CUS_0xffc                       8                     8           8   \n",
       "CUS_0xffd                       8                     8           8   \n",
       "\n",
       "             Outstanding_Debt  Credit_Utilization_Ratio  Credit_History_Age  \\\n",
       "Customer_ID                                                                   \n",
       "CUS_0x1000                  8                         8                   8   \n",
       "CUS_0x1009                  8                         8                   8   \n",
       "CUS_0x100b                  8                         8                   8   \n",
       "CUS_0x1011                  8                         8                   8   \n",
       "CUS_0x1013                  8                         8                   8   \n",
       "...                       ...                       ...                 ...   \n",
       "CUS_0xff3                   8                         8                   8   \n",
       "CUS_0xff4                   8                         8                   8   \n",
       "CUS_0xff6                   8                         8                   8   \n",
       "CUS_0xffc                   8                         8                   8   \n",
       "CUS_0xffd                   8                         8                   8   \n",
       "\n",
       "             Payment_of_Min_Amount  Total_EMI_per_month  \\\n",
       "Customer_ID                                               \n",
       "CUS_0x1000                       8                    8   \n",
       "CUS_0x1009                       8                    8   \n",
       "CUS_0x100b                       8                    8   \n",
       "CUS_0x1011                       8                    8   \n",
       "CUS_0x1013                       8                    8   \n",
       "...                            ...                  ...   \n",
       "CUS_0xff3                        8                    8   \n",
       "CUS_0xff4                        8                    8   \n",
       "CUS_0xff6                        8                    8   \n",
       "CUS_0xffc                        8                    8   \n",
       "CUS_0xffd                        8                    8   \n",
       "\n",
       "             Amount_invested_monthly  Payment_Behaviour  Monthly_Balance  \\\n",
       "Customer_ID                                                                \n",
       "CUS_0x1000                         8                  8                8   \n",
       "CUS_0x1009                         8                  8                8   \n",
       "CUS_0x100b                         8                  8                8   \n",
       "CUS_0x1011                         8                  8                8   \n",
       "CUS_0x1013                         8                  8                8   \n",
       "...                              ...                ...              ...   \n",
       "CUS_0xff3                          8                  8                8   \n",
       "CUS_0xff4                          8                  8                8   \n",
       "CUS_0xff6                          8                  8                8   \n",
       "CUS_0xffc                          8                  8                8   \n",
       "CUS_0xffd                          8                  8                8   \n",
       "\n",
       "             Credit_Score  \n",
       "Customer_ID                \n",
       "CUS_0x1000              8  \n",
       "CUS_0x1009              8  \n",
       "CUS_0x100b              8  \n",
       "CUS_0x1011              8  \n",
       "CUS_0x1013              8  \n",
       "...                   ...  \n",
       "CUS_0xff3               8  \n",
       "CUS_0xff4               8  \n",
       "CUS_0xff6               8  \n",
       "CUS_0xffc               8  \n",
       "CUS_0xffd               8  \n",
       "\n",
       "[12500 rows x 23 columns]"
      ]
     },
     "execution_count": 97,
     "metadata": {},
     "output_type": "execute_result"
    }
   ],
   "source": [
    "trial_df.groupby(by=\"Customer_ID\").count()"
   ]
  },
  {
   "cell_type": "markdown",
   "metadata": {},
   "source": [
    "### Looks like it is better to drop cust_id column"
   ]
  },
  {
   "cell_type": "code",
   "execution_count": 98,
   "metadata": {
    "ExecuteTime": {
     "end_time": "2022-10-06T15:44:18.991734Z",
     "start_time": "2022-10-06T15:44:18.960461Z"
    },
    "execution": {
     "iopub.execute_input": "2022-09-27T14:37:06.085990Z",
     "iopub.status.busy": "2022-09-27T14:37:06.084863Z",
     "iopub.status.idle": "2022-09-27T14:37:06.106413Z",
     "shell.execute_reply": "2022-09-27T14:37:06.105185Z",
     "shell.execute_reply.started": "2022-09-27T14:37:06.085940Z"
    }
   },
   "outputs": [],
   "source": [
    "trial_df=trial_df.drop(\"Customer_ID\",1)\n",
    "test_copy=test_copy.drop(\"Customer_ID\",1)"
   ]
  },
  {
   "cell_type": "code",
   "execution_count": 99,
   "metadata": {
    "ExecuteTime": {
     "end_time": "2022-10-06T15:44:19.011380Z",
     "start_time": "2022-10-06T15:44:18.991734Z"
    },
    "execution": {
     "iopub.execute_input": "2022-09-27T14:37:06.108892Z",
     "iopub.status.busy": "2022-09-27T14:37:06.108023Z",
     "iopub.status.idle": "2022-09-27T14:37:06.124187Z",
     "shell.execute_reply": "2022-09-27T14:37:06.122955Z",
     "shell.execute_reply.started": "2022-09-27T14:37:06.108856Z"
    }
   },
   "outputs": [
    {
     "data": {
      "text/plain": [
       "Standard    36479\n",
       "Good        24337\n",
       "_           20195\n",
       "Bad         18989\n",
       "Name: Credit_Mix, dtype: int64"
      ]
     },
     "execution_count": 99,
     "metadata": {},
     "output_type": "execute_result"
    }
   ],
   "source": [
    "trial_df[\"Credit_Mix\"].value_counts()"
   ]
  },
  {
   "cell_type": "code",
   "execution_count": 100,
   "metadata": {
    "ExecuteTime": {
     "end_time": "2022-10-06T15:44:19.031440Z",
     "start_time": "2022-10-06T15:44:19.011380Z"
    },
    "execution": {
     "iopub.execute_input": "2022-09-27T14:37:06.126366Z",
     "iopub.status.busy": "2022-09-27T14:37:06.125986Z",
     "iopub.status.idle": "2022-09-27T14:37:06.144208Z",
     "shell.execute_reply": "2022-09-27T14:37:06.142967Z",
     "shell.execute_reply.started": "2022-09-27T14:37:06.126335Z"
    }
   },
   "outputs": [],
   "source": [
    "trial_df[\"Credit_Mix\"] = trial_df[\"Credit_Mix\"].replace(\"_\",\"Other\")\n",
    "test_copy[\"Credit_Mix\"] = test_copy[\"Credit_Mix\"].replace(\"_\",\"Other\")"
   ]
  },
  {
   "cell_type": "code",
   "execution_count": 101,
   "metadata": {
    "ExecuteTime": {
     "end_time": "2022-10-06T15:44:19.051584Z",
     "start_time": "2022-10-06T15:44:19.031440Z"
    },
    "execution": {
     "iopub.execute_input": "2022-09-27T14:37:06.145773Z",
     "iopub.status.busy": "2022-09-27T14:37:06.145378Z",
     "iopub.status.idle": "2022-09-27T14:37:06.161289Z",
     "shell.execute_reply": "2022-09-27T14:37:06.159962Z",
     "shell.execute_reply.started": "2022-09-27T14:37:06.145739Z"
    }
   },
   "outputs": [
    {
     "data": {
      "text/plain": [
       "Standard    36479\n",
       "Good        24337\n",
       "Other       20195\n",
       "Bad         18989\n",
       "Name: Credit_Mix, dtype: int64"
      ]
     },
     "execution_count": 101,
     "metadata": {},
     "output_type": "execute_result"
    }
   ],
   "source": [
    "trial_df[\"Credit_Mix\"].value_counts()"
   ]
  },
  {
   "cell_type": "code",
   "execution_count": 102,
   "metadata": {
    "ExecuteTime": {
     "end_time": "2022-10-06T15:44:19.072493Z",
     "start_time": "2022-10-06T15:44:19.051584Z"
    },
    "execution": {
     "iopub.execute_input": "2022-09-27T14:37:06.163570Z",
     "iopub.status.busy": "2022-09-27T14:37:06.162861Z",
     "iopub.status.idle": "2022-09-27T14:37:06.180210Z",
     "shell.execute_reply": "2022-09-27T14:37:06.178861Z",
     "shell.execute_reply.started": "2022-09-27T14:37:06.163521Z"
    }
   },
   "outputs": [
    {
     "data": {
      "text/plain": [
       "Yes    52326\n",
       "No     35667\n",
       "NM     12007\n",
       "Name: Payment_of_Min_Amount, dtype: int64"
      ]
     },
     "execution_count": 102,
     "metadata": {},
     "output_type": "execute_result"
    }
   ],
   "source": [
    "trial_df[\"Payment_of_Min_Amount\"].value_counts()"
   ]
  },
  {
   "cell_type": "code",
   "execution_count": 103,
   "metadata": {
    "ExecuteTime": {
     "end_time": "2022-10-06T15:44:19.100969Z",
     "start_time": "2022-10-06T15:44:19.073443Z"
    },
    "execution": {
     "iopub.execute_input": "2022-09-27T14:37:06.182028Z",
     "iopub.status.busy": "2022-09-27T14:37:06.181685Z",
     "iopub.status.idle": "2022-09-27T14:37:06.198531Z",
     "shell.execute_reply": "2022-09-27T14:37:06.197464Z",
     "shell.execute_reply.started": "2022-09-27T14:37:06.181996Z"
    }
   },
   "outputs": [],
   "source": [
    "trial_df[\"Payment_of_Min_Amount\"] = trial_df[\"Payment_of_Min_Amount\"].replace(\"NM\",\"No\")\n",
    "test_copy[\"Payment_of_Min_Amount\"] = test_copy[\"Payment_of_Min_Amount\"].replace(\"NM\",\"No\")"
   ]
  },
  {
   "cell_type": "code",
   "execution_count": 104,
   "metadata": {
    "ExecuteTime": {
     "end_time": "2022-10-06T15:44:19.121208Z",
     "start_time": "2022-10-06T15:44:19.100969Z"
    },
    "execution": {
     "iopub.execute_input": "2022-09-27T14:37:06.200609Z",
     "iopub.status.busy": "2022-09-27T14:37:06.200009Z",
     "iopub.status.idle": "2022-09-27T14:37:06.217998Z",
     "shell.execute_reply": "2022-09-27T14:37:06.216687Z",
     "shell.execute_reply.started": "2022-09-27T14:37:06.200560Z"
    }
   },
   "outputs": [
    {
     "data": {
      "text/plain": [
       "Yes    52326\n",
       "No     47674\n",
       "Name: Payment_of_Min_Amount, dtype: int64"
      ]
     },
     "execution_count": 104,
     "metadata": {},
     "output_type": "execute_result"
    }
   ],
   "source": [
    "trial_df[\"Payment_of_Min_Amount\"].value_counts()"
   ]
  },
  {
   "cell_type": "code",
   "execution_count": 105,
   "metadata": {
    "ExecuteTime": {
     "end_time": "2022-10-06T15:44:19.142066Z",
     "start_time": "2022-10-06T15:44:19.121208Z"
    },
    "execution": {
     "iopub.execute_input": "2022-09-27T14:37:06.219764Z",
     "iopub.status.busy": "2022-09-27T14:37:06.219364Z",
     "iopub.status.idle": "2022-09-27T14:37:06.242096Z",
     "shell.execute_reply": "2022-09-27T14:37:06.241022Z",
     "shell.execute_reply.started": "2022-09-27T14:37:06.219730Z"
    }
   },
   "outputs": [
    {
     "data": {
      "text/plain": [
       "_______          7062\n",
       "Lawyer           6575\n",
       "Architect        6355\n",
       "Engineer         6350\n",
       "Scientist        6299\n",
       "Mechanic         6291\n",
       "Accountant       6271\n",
       "Developer        6235\n",
       "Media_Manager    6232\n",
       "Teacher          6215\n",
       "Entrepreneur     6174\n",
       "Doctor           6087\n",
       "Journalist       6085\n",
       "Manager          5973\n",
       "Musician         5911\n",
       "Writer           5885\n",
       "Name: Occupation, dtype: int64"
      ]
     },
     "execution_count": 105,
     "metadata": {},
     "output_type": "execute_result"
    }
   ],
   "source": [
    "trial_df[\"Occupation\"].value_counts()"
   ]
  },
  {
   "cell_type": "code",
   "execution_count": 106,
   "metadata": {
    "ExecuteTime": {
     "end_time": "2022-10-06T15:44:19.161536Z",
     "start_time": "2022-10-06T15:44:19.142066Z"
    },
    "execution": {
     "iopub.execute_input": "2022-09-27T14:37:06.244282Z",
     "iopub.status.busy": "2022-09-27T14:37:06.243940Z",
     "iopub.status.idle": "2022-09-27T14:37:06.258057Z",
     "shell.execute_reply": "2022-09-27T14:37:06.256640Z",
     "shell.execute_reply.started": "2022-09-27T14:37:06.244252Z"
    }
   },
   "outputs": [],
   "source": [
    "trial_df[\"Occupation\"] = trial_df[\"Occupation\"].replace(\"_______\",\"Blank\")\n",
    "test_copy[\"Occupation\"] = test_copy[\"Occupation\"].replace(\"_______\",\"Blank\")"
   ]
  },
  {
   "cell_type": "code",
   "execution_count": 107,
   "metadata": {
    "ExecuteTime": {
     "end_time": "2022-10-06T15:44:19.181353Z",
     "start_time": "2022-10-06T15:44:19.161536Z"
    },
    "execution": {
     "iopub.execute_input": "2022-09-27T14:37:06.261254Z",
     "iopub.status.busy": "2022-09-27T14:37:06.259890Z",
     "iopub.status.idle": "2022-09-27T14:37:06.281186Z",
     "shell.execute_reply": "2022-09-27T14:37:06.279508Z",
     "shell.execute_reply.started": "2022-09-27T14:37:06.261174Z"
    }
   },
   "outputs": [
    {
     "data": {
      "text/plain": [
       "Blank            7062\n",
       "Lawyer           6575\n",
       "Architect        6355\n",
       "Engineer         6350\n",
       "Scientist        6299\n",
       "Mechanic         6291\n",
       "Accountant       6271\n",
       "Developer        6235\n",
       "Media_Manager    6232\n",
       "Teacher          6215\n",
       "Entrepreneur     6174\n",
       "Doctor           6087\n",
       "Journalist       6085\n",
       "Manager          5973\n",
       "Musician         5911\n",
       "Writer           5885\n",
       "Name: Occupation, dtype: int64"
      ]
     },
     "execution_count": 107,
     "metadata": {},
     "output_type": "execute_result"
    }
   ],
   "source": [
    "trial_df[\"Occupation\"].value_counts()"
   ]
  },
  {
   "cell_type": "code",
   "execution_count": 108,
   "metadata": {
    "ExecuteTime": {
     "end_time": "2022-10-06T15:44:19.200522Z",
     "start_time": "2022-10-06T15:44:19.181353Z"
    },
    "execution": {
     "iopub.execute_input": "2022-09-27T14:37:06.283049Z",
     "iopub.status.busy": "2022-09-27T14:37:06.282701Z",
     "iopub.status.idle": "2022-09-27T14:37:06.298934Z",
     "shell.execute_reply": "2022-09-27T14:37:06.298013Z",
     "shell.execute_reply.started": "2022-09-27T14:37:06.283017Z"
    }
   },
   "outputs": [
    {
     "data": {
      "text/plain": [
       "April       12500\n",
       "March       12500\n",
       "July        12500\n",
       "January     12500\n",
       "May         12500\n",
       "August      12500\n",
       "February    12500\n",
       "June        12500\n",
       "Name: Month, dtype: int64"
      ]
     },
     "execution_count": 108,
     "metadata": {},
     "output_type": "execute_result"
    }
   ],
   "source": [
    "trial_df[\"Month\"].value_counts()"
   ]
  },
  {
   "cell_type": "code",
   "execution_count": 109,
   "metadata": {
    "ExecuteTime": {
     "end_time": "2022-10-06T15:44:19.221207Z",
     "start_time": "2022-10-06T15:44:19.200522Z"
    },
    "execution": {
     "iopub.execute_input": "2022-09-27T14:37:06.308117Z",
     "iopub.status.busy": "2022-09-27T14:37:06.307391Z",
     "iopub.status.idle": "2022-09-27T14:37:06.323908Z",
     "shell.execute_reply": "2022-09-27T14:37:06.322625Z",
     "shell.execute_reply.started": "2022-09-27T14:37:06.308080Z"
    }
   },
   "outputs": [
    {
     "data": {
      "text/plain": [
       "Low_spent_Small_value_payments      25513\n",
       "High_spent_Medium_value_payments    17540\n",
       "Low_spent_Medium_value_payments     13861\n",
       "High_spent_Large_value_payments     13721\n",
       "High_spent_Small_value_payments     11340\n",
       "Low_spent_Large_value_payments      10425\n",
       "!@9#%8                               7600\n",
       "Name: Payment_Behaviour, dtype: int64"
      ]
     },
     "execution_count": 109,
     "metadata": {},
     "output_type": "execute_result"
    }
   ],
   "source": [
    "trial_df[\"Payment_Behaviour\"].value_counts()"
   ]
  },
  {
   "cell_type": "code",
   "execution_count": 110,
   "metadata": {
    "ExecuteTime": {
     "end_time": "2022-10-06T15:44:19.241100Z",
     "start_time": "2022-10-06T15:44:19.221207Z"
    },
    "execution": {
     "iopub.execute_input": "2022-09-27T14:37:06.327063Z",
     "iopub.status.busy": "2022-09-27T14:37:06.326080Z",
     "iopub.status.idle": "2022-09-27T14:37:06.340115Z",
     "shell.execute_reply": "2022-09-27T14:37:06.338837Z",
     "shell.execute_reply.started": "2022-09-27T14:37:06.327010Z"
    }
   },
   "outputs": [
    {
     "data": {
      "text/plain": [
       "Low_spent_Small_value_payments      12694\n",
       "High_spent_Medium_value_payments     8922\n",
       "High_spent_Large_value_payments      6844\n",
       "Low_spent_Medium_value_payments      6837\n",
       "High_spent_Small_value_payments      5651\n",
       "Low_spent_Large_value_payments       5252\n",
       "!@9#%8                               3800\n",
       "Name: Payment_Behaviour, dtype: int64"
      ]
     },
     "execution_count": 110,
     "metadata": {},
     "output_type": "execute_result"
    }
   ],
   "source": [
    "test_copy[\"Payment_Behaviour\"].value_counts()"
   ]
  },
  {
   "cell_type": "code",
   "execution_count": 111,
   "metadata": {
    "ExecuteTime": {
     "end_time": "2022-10-06T15:44:19.261124Z",
     "start_time": "2022-10-06T15:44:19.241100Z"
    },
    "execution": {
     "iopub.execute_input": "2022-09-27T14:37:06.342466Z",
     "iopub.status.busy": "2022-09-27T14:37:06.342006Z",
     "iopub.status.idle": "2022-09-27T14:37:06.356442Z",
     "shell.execute_reply": "2022-09-27T14:37:06.355390Z",
     "shell.execute_reply.started": "2022-09-27T14:37:06.342416Z"
    }
   },
   "outputs": [],
   "source": [
    "trial_df[\"Payment_Behaviour\"] = trial_df[\"Payment_Behaviour\"].replace(\"!@9#%8\",\"Blanks\")\n",
    "test_copy[\"Payment_Behaviour\"] = test_copy[\"Payment_Behaviour\"].replace(\"!@9#%8\",\"Blanks\")"
   ]
  },
  {
   "cell_type": "code",
   "execution_count": 112,
   "metadata": {
    "ExecuteTime": {
     "end_time": "2022-10-06T15:44:19.281650Z",
     "start_time": "2022-10-06T15:44:19.261124Z"
    },
    "execution": {
     "iopub.execute_input": "2022-09-27T14:37:06.358914Z",
     "iopub.status.busy": "2022-09-27T14:37:06.358439Z",
     "iopub.status.idle": "2022-09-27T14:37:06.374440Z",
     "shell.execute_reply": "2022-09-27T14:37:06.373183Z",
     "shell.execute_reply.started": "2022-09-27T14:37:06.358869Z"
    }
   },
   "outputs": [
    {
     "data": {
      "text/plain": [
       "Low_spent_Small_value_payments      12694\n",
       "High_spent_Medium_value_payments     8922\n",
       "High_spent_Large_value_payments      6844\n",
       "Low_spent_Medium_value_payments      6837\n",
       "High_spent_Small_value_payments      5651\n",
       "Low_spent_Large_value_payments       5252\n",
       "Blanks                               3800\n",
       "Name: Payment_Behaviour, dtype: int64"
      ]
     },
     "execution_count": 112,
     "metadata": {},
     "output_type": "execute_result"
    }
   ],
   "source": [
    "test_copy[\"Payment_Behaviour\"].value_counts()"
   ]
  },
  {
   "cell_type": "code",
   "execution_count": 113,
   "metadata": {
    "ExecuteTime": {
     "end_time": "2022-10-06T15:44:19.301298Z",
     "start_time": "2022-10-06T15:44:19.281650Z"
    },
    "execution": {
     "iopub.execute_input": "2022-09-27T14:37:06.376870Z",
     "iopub.status.busy": "2022-09-27T14:37:06.375849Z",
     "iopub.status.idle": "2022-09-27T14:37:06.394415Z",
     "shell.execute_reply": "2022-09-27T14:37:06.393538Z",
     "shell.execute_reply.started": "2022-09-27T14:37:06.376824Z"
    }
   },
   "outputs": [
    {
     "data": {
      "text/plain": [
       "Standard    53174\n",
       "Poor        28998\n",
       "Good        17828\n",
       "Name: Credit_Score, dtype: int64"
      ]
     },
     "execution_count": 113,
     "metadata": {},
     "output_type": "execute_result"
    }
   ],
   "source": [
    "trial_df[\"Credit_Score\"].value_counts()"
   ]
  },
  {
   "cell_type": "markdown",
   "metadata": {},
   "source": [
    "### Although the dataset is having imbalance in target variable but it is not in the range of 1:10 or higher than that."
   ]
  },
  {
   "cell_type": "code",
   "execution_count": 114,
   "metadata": {
    "ExecuteTime": {
     "end_time": "2022-10-06T15:44:19.309343Z",
     "start_time": "2022-10-06T15:44:19.301298Z"
    },
    "execution": {
     "iopub.execute_input": "2022-09-27T14:37:06.396159Z",
     "iopub.status.busy": "2022-09-27T14:37:06.395497Z",
     "iopub.status.idle": "2022-09-27T14:37:06.407058Z",
     "shell.execute_reply": "2022-09-27T14:37:06.405861Z",
     "shell.execute_reply.started": "2022-09-27T14:37:06.396126Z"
    }
   },
   "outputs": [],
   "source": [
    "from sklearn.preprocessing import LabelEncoder"
   ]
  },
  {
   "cell_type": "code",
   "execution_count": 115,
   "metadata": {
    "ExecuteTime": {
     "end_time": "2022-10-06T15:44:19.321803Z",
     "start_time": "2022-10-06T15:44:19.310727Z"
    },
    "execution": {
     "iopub.execute_input": "2022-09-27T14:37:06.408793Z",
     "iopub.status.busy": "2022-09-27T14:37:06.408162Z",
     "iopub.status.idle": "2022-09-27T14:37:06.420680Z",
     "shell.execute_reply": "2022-09-27T14:37:06.419367Z",
     "shell.execute_reply.started": "2022-09-27T14:37:06.408760Z"
    }
   },
   "outputs": [],
   "source": [
    "encoder = LabelEncoder()"
   ]
  },
  {
   "cell_type": "code",
   "execution_count": 116,
   "metadata": {
    "ExecuteTime": {
     "end_time": "2022-10-06T15:44:19.361009Z",
     "start_time": "2022-10-06T15:44:19.321803Z"
    },
    "execution": {
     "iopub.execute_input": "2022-09-27T14:37:06.422144Z",
     "iopub.status.busy": "2022-09-27T14:37:06.421746Z",
     "iopub.status.idle": "2022-09-27T14:37:06.464560Z",
     "shell.execute_reply": "2022-09-27T14:37:06.463326Z",
     "shell.execute_reply.started": "2022-09-27T14:37:06.422112Z"
    }
   },
   "outputs": [],
   "source": [
    "trial_df[\"Credit_Score\"] =encoder.fit_transform(trial_df[\"Credit_Score\"])"
   ]
  },
  {
   "cell_type": "code",
   "execution_count": 117,
   "metadata": {
    "ExecuteTime": {
     "end_time": "2022-10-06T15:44:19.381314Z",
     "start_time": "2022-10-06T15:44:19.361009Z"
    },
    "execution": {
     "iopub.execute_input": "2022-09-27T14:37:06.466519Z",
     "iopub.status.busy": "2022-09-27T14:37:06.466082Z",
     "iopub.status.idle": "2022-09-27T14:37:06.473973Z",
     "shell.execute_reply": "2022-09-27T14:37:06.473153Z",
     "shell.execute_reply.started": "2022-09-27T14:37:06.466484Z"
    }
   },
   "outputs": [
    {
     "data": {
      "text/plain": [
       "array(['Good', 'Poor', 'Standard'], dtype=object)"
      ]
     },
     "execution_count": 117,
     "metadata": {},
     "output_type": "execute_result"
    }
   ],
   "source": [
    "encoder.classes_"
   ]
  },
  {
   "cell_type": "markdown",
   "metadata": {},
   "source": [
    "#  Good=0, Poor=1, Standard=2"
   ]
  },
  {
   "cell_type": "code",
   "execution_count": 118,
   "metadata": {
    "ExecuteTime": {
     "end_time": "2022-10-06T15:44:19.421041Z",
     "start_time": "2022-10-06T15:44:19.381314Z"
    },
    "execution": {
     "iopub.execute_input": "2022-09-27T14:37:06.476163Z",
     "iopub.status.busy": "2022-09-27T14:37:06.475130Z",
     "iopub.status.idle": "2022-09-27T14:37:06.511506Z",
     "shell.execute_reply": "2022-09-27T14:37:06.510163Z",
     "shell.execute_reply.started": "2022-09-27T14:37:06.476128Z"
    }
   },
   "outputs": [
    {
     "data": {
      "text/html": [
       "<div>\n",
       "<style scoped>\n",
       "    .dataframe tbody tr th:only-of-type {\n",
       "        vertical-align: middle;\n",
       "    }\n",
       "\n",
       "    .dataframe tbody tr th {\n",
       "        vertical-align: top;\n",
       "    }\n",
       "\n",
       "    .dataframe thead th {\n",
       "        text-align: right;\n",
       "    }\n",
       "</style>\n",
       "<table border=\"1\" class=\"dataframe\">\n",
       "  <thead>\n",
       "    <tr style=\"text-align: right;\">\n",
       "      <th></th>\n",
       "      <th>Month</th>\n",
       "      <th>Age</th>\n",
       "      <th>Occupation</th>\n",
       "      <th>Annual_Income</th>\n",
       "      <th>Monthly_Inhand_Salary</th>\n",
       "      <th>Num_Bank_Accounts</th>\n",
       "      <th>Num_Credit_Card</th>\n",
       "      <th>Interest_Rate</th>\n",
       "      <th>Num_of_Loan</th>\n",
       "      <th>Delay_from_due_date</th>\n",
       "      <th>Num_of_Delayed_Payment</th>\n",
       "      <th>Changed_Credit_Limit</th>\n",
       "      <th>Num_Credit_Inquiries</th>\n",
       "      <th>Credit_Mix</th>\n",
       "      <th>Outstanding_Debt</th>\n",
       "      <th>Credit_Utilization_Ratio</th>\n",
       "      <th>Credit_History_Age</th>\n",
       "      <th>Payment_of_Min_Amount</th>\n",
       "      <th>Total_EMI_per_month</th>\n",
       "      <th>Amount_invested_monthly</th>\n",
       "      <th>Payment_Behaviour</th>\n",
       "      <th>Monthly_Balance</th>\n",
       "      <th>Credit_Score</th>\n",
       "    </tr>\n",
       "  </thead>\n",
       "  <tbody>\n",
       "    <tr>\n",
       "      <th>0</th>\n",
       "      <td>January</td>\n",
       "      <td>23.0</td>\n",
       "      <td>Scientist</td>\n",
       "      <td>19114.12</td>\n",
       "      <td>1824.843333</td>\n",
       "      <td>3.0</td>\n",
       "      <td>4.0</td>\n",
       "      <td>3.0</td>\n",
       "      <td>4.0</td>\n",
       "      <td>3.0</td>\n",
       "      <td>7.0</td>\n",
       "      <td>11.27</td>\n",
       "      <td>4.0</td>\n",
       "      <td>Other</td>\n",
       "      <td>809.98</td>\n",
       "      <td>26.822620</td>\n",
       "      <td>22.083333</td>\n",
       "      <td>No</td>\n",
       "      <td>49.574949</td>\n",
       "      <td>80.415295</td>\n",
       "      <td>High_spent_Small_value_payments</td>\n",
       "      <td>312.494089</td>\n",
       "      <td>0</td>\n",
       "    </tr>\n",
       "    <tr>\n",
       "      <th>1</th>\n",
       "      <td>February</td>\n",
       "      <td>23.0</td>\n",
       "      <td>Scientist</td>\n",
       "      <td>19114.12</td>\n",
       "      <td>3038.445000</td>\n",
       "      <td>3.0</td>\n",
       "      <td>4.0</td>\n",
       "      <td>3.0</td>\n",
       "      <td>4.0</td>\n",
       "      <td>17.0</td>\n",
       "      <td>14.0</td>\n",
       "      <td>11.27</td>\n",
       "      <td>4.0</td>\n",
       "      <td>Good</td>\n",
       "      <td>809.98</td>\n",
       "      <td>31.944960</td>\n",
       "      <td>18.432950</td>\n",
       "      <td>No</td>\n",
       "      <td>49.574949</td>\n",
       "      <td>118.280222</td>\n",
       "      <td>Low_spent_Large_value_payments</td>\n",
       "      <td>284.629163</td>\n",
       "      <td>0</td>\n",
       "    </tr>\n",
       "    <tr>\n",
       "      <th>2</th>\n",
       "      <td>March</td>\n",
       "      <td>33.0</td>\n",
       "      <td>Scientist</td>\n",
       "      <td>19114.12</td>\n",
       "      <td>3038.445000</td>\n",
       "      <td>3.0</td>\n",
       "      <td>4.0</td>\n",
       "      <td>3.0</td>\n",
       "      <td>4.0</td>\n",
       "      <td>3.0</td>\n",
       "      <td>7.0</td>\n",
       "      <td>9.47</td>\n",
       "      <td>4.0</td>\n",
       "      <td>Good</td>\n",
       "      <td>809.98</td>\n",
       "      <td>28.609352</td>\n",
       "      <td>22.250000</td>\n",
       "      <td>No</td>\n",
       "      <td>49.574949</td>\n",
       "      <td>81.699521</td>\n",
       "      <td>Low_spent_Medium_value_payments</td>\n",
       "      <td>331.209863</td>\n",
       "      <td>0</td>\n",
       "    </tr>\n",
       "    <tr>\n",
       "      <th>3</th>\n",
       "      <td>April</td>\n",
       "      <td>23.0</td>\n",
       "      <td>Scientist</td>\n",
       "      <td>19114.12</td>\n",
       "      <td>3038.445000</td>\n",
       "      <td>3.0</td>\n",
       "      <td>4.0</td>\n",
       "      <td>3.0</td>\n",
       "      <td>4.0</td>\n",
       "      <td>5.0</td>\n",
       "      <td>4.0</td>\n",
       "      <td>6.27</td>\n",
       "      <td>4.0</td>\n",
       "      <td>Good</td>\n",
       "      <td>809.98</td>\n",
       "      <td>31.377862</td>\n",
       "      <td>22.333333</td>\n",
       "      <td>No</td>\n",
       "      <td>49.574949</td>\n",
       "      <td>199.458074</td>\n",
       "      <td>Low_spent_Small_value_payments</td>\n",
       "      <td>223.451310</td>\n",
       "      <td>0</td>\n",
       "    </tr>\n",
       "    <tr>\n",
       "      <th>4</th>\n",
       "      <td>May</td>\n",
       "      <td>23.0</td>\n",
       "      <td>Scientist</td>\n",
       "      <td>19114.12</td>\n",
       "      <td>1824.843333</td>\n",
       "      <td>3.0</td>\n",
       "      <td>4.0</td>\n",
       "      <td>3.0</td>\n",
       "      <td>4.0</td>\n",
       "      <td>6.0</td>\n",
       "      <td>14.0</td>\n",
       "      <td>11.27</td>\n",
       "      <td>4.0</td>\n",
       "      <td>Good</td>\n",
       "      <td>809.98</td>\n",
       "      <td>24.797347</td>\n",
       "      <td>22.416667</td>\n",
       "      <td>No</td>\n",
       "      <td>49.574949</td>\n",
       "      <td>41.420153</td>\n",
       "      <td>High_spent_Medium_value_payments</td>\n",
       "      <td>341.489231</td>\n",
       "      <td>0</td>\n",
       "    </tr>\n",
       "  </tbody>\n",
       "</table>\n",
       "</div>"
      ],
      "text/plain": [
       "      Month   Age Occupation  Annual_Income  Monthly_Inhand_Salary  \\\n",
       "0   January  23.0  Scientist       19114.12            1824.843333   \n",
       "1  February  23.0  Scientist       19114.12            3038.445000   \n",
       "2     March  33.0  Scientist       19114.12            3038.445000   \n",
       "3     April  23.0  Scientist       19114.12            3038.445000   \n",
       "4       May  23.0  Scientist       19114.12            1824.843333   \n",
       "\n",
       "   Num_Bank_Accounts  Num_Credit_Card  Interest_Rate  Num_of_Loan  \\\n",
       "0                3.0              4.0            3.0          4.0   \n",
       "1                3.0              4.0            3.0          4.0   \n",
       "2                3.0              4.0            3.0          4.0   \n",
       "3                3.0              4.0            3.0          4.0   \n",
       "4                3.0              4.0            3.0          4.0   \n",
       "\n",
       "   Delay_from_due_date  Num_of_Delayed_Payment  Changed_Credit_Limit  \\\n",
       "0                  3.0                     7.0                 11.27   \n",
       "1                 17.0                    14.0                 11.27   \n",
       "2                  3.0                     7.0                  9.47   \n",
       "3                  5.0                     4.0                  6.27   \n",
       "4                  6.0                    14.0                 11.27   \n",
       "\n",
       "   Num_Credit_Inquiries Credit_Mix  Outstanding_Debt  \\\n",
       "0                   4.0      Other            809.98   \n",
       "1                   4.0       Good            809.98   \n",
       "2                   4.0       Good            809.98   \n",
       "3                   4.0       Good            809.98   \n",
       "4                   4.0       Good            809.98   \n",
       "\n",
       "   Credit_Utilization_Ratio  Credit_History_Age Payment_of_Min_Amount  \\\n",
       "0                 26.822620           22.083333                    No   \n",
       "1                 31.944960           18.432950                    No   \n",
       "2                 28.609352           22.250000                    No   \n",
       "3                 31.377862           22.333333                    No   \n",
       "4                 24.797347           22.416667                    No   \n",
       "\n",
       "   Total_EMI_per_month  Amount_invested_monthly  \\\n",
       "0            49.574949                80.415295   \n",
       "1            49.574949               118.280222   \n",
       "2            49.574949                81.699521   \n",
       "3            49.574949               199.458074   \n",
       "4            49.574949                41.420153   \n",
       "\n",
       "                  Payment_Behaviour  Monthly_Balance  Credit_Score  \n",
       "0   High_spent_Small_value_payments       312.494089             0  \n",
       "1    Low_spent_Large_value_payments       284.629163             0  \n",
       "2   Low_spent_Medium_value_payments       331.209863             0  \n",
       "3    Low_spent_Small_value_payments       223.451310             0  \n",
       "4  High_spent_Medium_value_payments       341.489231             0  "
      ]
     },
     "execution_count": 118,
     "metadata": {},
     "output_type": "execute_result"
    }
   ],
   "source": [
    "trial_df.head()"
   ]
  },
  {
   "cell_type": "code",
   "execution_count": 119,
   "metadata": {
    "ExecuteTime": {
     "end_time": "2022-10-06T15:44:19.442730Z",
     "start_time": "2022-10-06T15:44:19.421041Z"
    },
    "execution": {
     "iopub.execute_input": "2022-09-27T14:37:06.513384Z",
     "iopub.status.busy": "2022-09-27T14:37:06.513054Z",
     "iopub.status.idle": "2022-09-27T14:37:06.523772Z",
     "shell.execute_reply": "2022-09-27T14:37:06.522605Z",
     "shell.execute_reply.started": "2022-09-27T14:37:06.513354Z"
    }
   },
   "outputs": [],
   "source": [
    "object_col_trial_list = [] "
   ]
  },
  {
   "cell_type": "code",
   "execution_count": 120,
   "metadata": {
    "ExecuteTime": {
     "end_time": "2022-10-06T15:44:19.519635Z",
     "start_time": "2022-10-06T15:44:19.442730Z"
    },
    "execution": {
     "iopub.execute_input": "2022-09-27T14:37:06.526155Z",
     "iopub.status.busy": "2022-09-27T14:37:06.525525Z",
     "iopub.status.idle": "2022-09-27T14:37:06.579546Z",
     "shell.execute_reply": "2022-09-27T14:37:06.578363Z",
     "shell.execute_reply.started": "2022-09-27T14:37:06.526109Z"
    }
   },
   "outputs": [
    {
     "name": "stdout",
     "output_type": "stream",
     "text": [
      "April       12.5\n",
      "March       12.5\n",
      "July        12.5\n",
      "January     12.5\n",
      "May         12.5\n",
      "August      12.5\n",
      "February    12.5\n",
      "June        12.5\n",
      "Name: Month, dtype: float64\n",
      "Blank            7.062\n",
      "Lawyer           6.575\n",
      "Architect        6.355\n",
      "Engineer         6.350\n",
      "Scientist        6.299\n",
      "Mechanic         6.291\n",
      "Accountant       6.271\n",
      "Developer        6.235\n",
      "Media_Manager    6.232\n",
      "Teacher          6.215\n",
      "Entrepreneur     6.174\n",
      "Doctor           6.087\n",
      "Journalist       6.085\n",
      "Manager          5.973\n",
      "Musician         5.911\n",
      "Writer           5.885\n",
      "Name: Occupation, dtype: float64\n",
      "Standard    36.479\n",
      "Good        24.337\n",
      "Other       20.195\n",
      "Bad         18.989\n",
      "Name: Credit_Mix, dtype: float64\n",
      "Yes    52.326\n",
      "No     47.674\n",
      "Name: Payment_of_Min_Amount, dtype: float64\n",
      "Low_spent_Small_value_payments      25.513\n",
      "High_spent_Medium_value_payments    17.540\n",
      "Low_spent_Medium_value_payments     13.861\n",
      "High_spent_Large_value_payments     13.721\n",
      "High_spent_Small_value_payments     11.340\n",
      "Low_spent_Large_value_payments      10.425\n",
      "Blanks                               7.600\n",
      "Name: Payment_Behaviour, dtype: float64\n"
     ]
    }
   ],
   "source": [
    "for col in trial_df.columns:\n",
    "    if trial_df[col].dtype==\"O\":\n",
    "        print(trial_df[col].value_counts(normalize=True)*100)\n",
    "        object_col_trial_list.append(col)"
   ]
  },
  {
   "cell_type": "code",
   "execution_count": 121,
   "metadata": {
    "ExecuteTime": {
     "end_time": "2022-10-06T15:44:19.531398Z",
     "start_time": "2022-10-06T15:44:19.519635Z"
    },
    "execution": {
     "iopub.execute_input": "2022-09-27T14:37:06.582197Z",
     "iopub.status.busy": "2022-09-27T14:37:06.581054Z",
     "iopub.status.idle": "2022-09-27T14:37:06.588861Z",
     "shell.execute_reply": "2022-09-27T14:37:06.587669Z",
     "shell.execute_reply.started": "2022-09-27T14:37:06.582157Z"
    }
   },
   "outputs": [
    {
     "data": {
      "text/plain": [
       "['Month',\n",
       " 'Occupation',\n",
       " 'Credit_Mix',\n",
       " 'Payment_of_Min_Amount',\n",
       " 'Payment_Behaviour']"
      ]
     },
     "execution_count": 121,
     "metadata": {},
     "output_type": "execute_result"
    }
   ],
   "source": [
    "object_col_trial_list"
   ]
  },
  {
   "cell_type": "code",
   "execution_count": 122,
   "metadata": {
    "ExecuteTime": {
     "end_time": "2022-10-06T15:44:19.560730Z",
     "start_time": "2022-10-06T15:44:19.531398Z"
    },
    "execution": {
     "iopub.execute_input": "2022-09-27T14:37:06.590971Z",
     "iopub.status.busy": "2022-09-27T14:37:06.589995Z",
     "iopub.status.idle": "2022-09-27T14:37:06.613875Z",
     "shell.execute_reply": "2022-09-27T14:37:06.612964Z",
     "shell.execute_reply.started": "2022-09-27T14:37:06.590925Z"
    }
   },
   "outputs": [],
   "source": [
    "training_numerical = trial_df.drop(object_col_trial_list,1)\n",
    "training_dummy =  trial_df[object_col_trial_list]\n",
    "\n",
    "testing_numerical = test_copy.drop(object_col_trial_list,1)\n",
    "testing_dummy =  test_copy[object_col_trial_list]"
   ]
  },
  {
   "cell_type": "code",
   "execution_count": 123,
   "metadata": {
    "ExecuteTime": {
     "end_time": "2022-10-06T15:44:19.600517Z",
     "start_time": "2022-10-06T15:44:19.560730Z"
    },
    "execution": {
     "iopub.execute_input": "2022-09-27T14:37:06.615788Z",
     "iopub.status.busy": "2022-09-27T14:37:06.615315Z",
     "iopub.status.idle": "2022-09-27T14:37:06.645217Z",
     "shell.execute_reply": "2022-09-27T14:37:06.643937Z",
     "shell.execute_reply.started": "2022-09-27T14:37:06.615743Z"
    }
   },
   "outputs": [
    {
     "data": {
      "text/html": [
       "<div>\n",
       "<style scoped>\n",
       "    .dataframe tbody tr th:only-of-type {\n",
       "        vertical-align: middle;\n",
       "    }\n",
       "\n",
       "    .dataframe tbody tr th {\n",
       "        vertical-align: top;\n",
       "    }\n",
       "\n",
       "    .dataframe thead th {\n",
       "        text-align: right;\n",
       "    }\n",
       "</style>\n",
       "<table border=\"1\" class=\"dataframe\">\n",
       "  <thead>\n",
       "    <tr style=\"text-align: right;\">\n",
       "      <th></th>\n",
       "      <th>Age</th>\n",
       "      <th>Annual_Income</th>\n",
       "      <th>Monthly_Inhand_Salary</th>\n",
       "      <th>Num_Bank_Accounts</th>\n",
       "      <th>Num_Credit_Card</th>\n",
       "      <th>Interest_Rate</th>\n",
       "      <th>Num_of_Loan</th>\n",
       "      <th>Delay_from_due_date</th>\n",
       "      <th>Num_of_Delayed_Payment</th>\n",
       "      <th>Changed_Credit_Limit</th>\n",
       "      <th>Num_Credit_Inquiries</th>\n",
       "      <th>Outstanding_Debt</th>\n",
       "      <th>Credit_Utilization_Ratio</th>\n",
       "      <th>Credit_History_Age</th>\n",
       "      <th>Total_EMI_per_month</th>\n",
       "      <th>Amount_invested_monthly</th>\n",
       "      <th>Monthly_Balance</th>\n",
       "      <th>Credit_Score</th>\n",
       "    </tr>\n",
       "  </thead>\n",
       "  <tbody>\n",
       "    <tr>\n",
       "      <th>0</th>\n",
       "      <td>23.0</td>\n",
       "      <td>19114.12</td>\n",
       "      <td>1824.843333</td>\n",
       "      <td>3.0</td>\n",
       "      <td>4.0</td>\n",
       "      <td>3.0</td>\n",
       "      <td>4.0</td>\n",
       "      <td>3.0</td>\n",
       "      <td>7.0</td>\n",
       "      <td>11.27</td>\n",
       "      <td>4.0</td>\n",
       "      <td>809.98</td>\n",
       "      <td>26.822620</td>\n",
       "      <td>22.083333</td>\n",
       "      <td>49.574949</td>\n",
       "      <td>80.415295</td>\n",
       "      <td>312.494089</td>\n",
       "      <td>0</td>\n",
       "    </tr>\n",
       "    <tr>\n",
       "      <th>1</th>\n",
       "      <td>23.0</td>\n",
       "      <td>19114.12</td>\n",
       "      <td>3038.445000</td>\n",
       "      <td>3.0</td>\n",
       "      <td>4.0</td>\n",
       "      <td>3.0</td>\n",
       "      <td>4.0</td>\n",
       "      <td>17.0</td>\n",
       "      <td>14.0</td>\n",
       "      <td>11.27</td>\n",
       "      <td>4.0</td>\n",
       "      <td>809.98</td>\n",
       "      <td>31.944960</td>\n",
       "      <td>18.432950</td>\n",
       "      <td>49.574949</td>\n",
       "      <td>118.280222</td>\n",
       "      <td>284.629163</td>\n",
       "      <td>0</td>\n",
       "    </tr>\n",
       "    <tr>\n",
       "      <th>2</th>\n",
       "      <td>33.0</td>\n",
       "      <td>19114.12</td>\n",
       "      <td>3038.445000</td>\n",
       "      <td>3.0</td>\n",
       "      <td>4.0</td>\n",
       "      <td>3.0</td>\n",
       "      <td>4.0</td>\n",
       "      <td>3.0</td>\n",
       "      <td>7.0</td>\n",
       "      <td>9.47</td>\n",
       "      <td>4.0</td>\n",
       "      <td>809.98</td>\n",
       "      <td>28.609352</td>\n",
       "      <td>22.250000</td>\n",
       "      <td>49.574949</td>\n",
       "      <td>81.699521</td>\n",
       "      <td>331.209863</td>\n",
       "      <td>0</td>\n",
       "    </tr>\n",
       "    <tr>\n",
       "      <th>3</th>\n",
       "      <td>23.0</td>\n",
       "      <td>19114.12</td>\n",
       "      <td>3038.445000</td>\n",
       "      <td>3.0</td>\n",
       "      <td>4.0</td>\n",
       "      <td>3.0</td>\n",
       "      <td>4.0</td>\n",
       "      <td>5.0</td>\n",
       "      <td>4.0</td>\n",
       "      <td>6.27</td>\n",
       "      <td>4.0</td>\n",
       "      <td>809.98</td>\n",
       "      <td>31.377862</td>\n",
       "      <td>22.333333</td>\n",
       "      <td>49.574949</td>\n",
       "      <td>199.458074</td>\n",
       "      <td>223.451310</td>\n",
       "      <td>0</td>\n",
       "    </tr>\n",
       "    <tr>\n",
       "      <th>4</th>\n",
       "      <td>23.0</td>\n",
       "      <td>19114.12</td>\n",
       "      <td>1824.843333</td>\n",
       "      <td>3.0</td>\n",
       "      <td>4.0</td>\n",
       "      <td>3.0</td>\n",
       "      <td>4.0</td>\n",
       "      <td>6.0</td>\n",
       "      <td>14.0</td>\n",
       "      <td>11.27</td>\n",
       "      <td>4.0</td>\n",
       "      <td>809.98</td>\n",
       "      <td>24.797347</td>\n",
       "      <td>22.416667</td>\n",
       "      <td>49.574949</td>\n",
       "      <td>41.420153</td>\n",
       "      <td>341.489231</td>\n",
       "      <td>0</td>\n",
       "    </tr>\n",
       "  </tbody>\n",
       "</table>\n",
       "</div>"
      ],
      "text/plain": [
       "    Age  Annual_Income  Monthly_Inhand_Salary  Num_Bank_Accounts  \\\n",
       "0  23.0       19114.12            1824.843333                3.0   \n",
       "1  23.0       19114.12            3038.445000                3.0   \n",
       "2  33.0       19114.12            3038.445000                3.0   \n",
       "3  23.0       19114.12            3038.445000                3.0   \n",
       "4  23.0       19114.12            1824.843333                3.0   \n",
       "\n",
       "   Num_Credit_Card  Interest_Rate  Num_of_Loan  Delay_from_due_date  \\\n",
       "0              4.0            3.0          4.0                  3.0   \n",
       "1              4.0            3.0          4.0                 17.0   \n",
       "2              4.0            3.0          4.0                  3.0   \n",
       "3              4.0            3.0          4.0                  5.0   \n",
       "4              4.0            3.0          4.0                  6.0   \n",
       "\n",
       "   Num_of_Delayed_Payment  Changed_Credit_Limit  Num_Credit_Inquiries  \\\n",
       "0                     7.0                 11.27                   4.0   \n",
       "1                    14.0                 11.27                   4.0   \n",
       "2                     7.0                  9.47                   4.0   \n",
       "3                     4.0                  6.27                   4.0   \n",
       "4                    14.0                 11.27                   4.0   \n",
       "\n",
       "   Outstanding_Debt  Credit_Utilization_Ratio  Credit_History_Age  \\\n",
       "0            809.98                 26.822620           22.083333   \n",
       "1            809.98                 31.944960           18.432950   \n",
       "2            809.98                 28.609352           22.250000   \n",
       "3            809.98                 31.377862           22.333333   \n",
       "4            809.98                 24.797347           22.416667   \n",
       "\n",
       "   Total_EMI_per_month  Amount_invested_monthly  Monthly_Balance  Credit_Score  \n",
       "0            49.574949                80.415295       312.494089             0  \n",
       "1            49.574949               118.280222       284.629163             0  \n",
       "2            49.574949                81.699521       331.209863             0  \n",
       "3            49.574949               199.458074       223.451310             0  \n",
       "4            49.574949                41.420153       341.489231             0  "
      ]
     },
     "execution_count": 123,
     "metadata": {},
     "output_type": "execute_result"
    }
   ],
   "source": [
    "training_numerical.head()"
   ]
  },
  {
   "cell_type": "code",
   "execution_count": 124,
   "metadata": {
    "ExecuteTime": {
     "end_time": "2022-10-06T15:44:19.691005Z",
     "start_time": "2022-10-06T15:44:19.600517Z"
    },
    "execution": {
     "iopub.execute_input": "2022-09-27T14:37:06.647437Z",
     "iopub.status.busy": "2022-09-27T14:37:06.646962Z",
     "iopub.status.idle": "2022-09-27T14:37:06.734170Z",
     "shell.execute_reply": "2022-09-27T14:37:06.732958Z",
     "shell.execute_reply.started": "2022-09-27T14:37:06.647385Z"
    }
   },
   "outputs": [],
   "source": [
    "training_dummy= pd.get_dummies(training_dummy) "
   ]
  },
  {
   "cell_type": "code",
   "execution_count": 125,
   "metadata": {
    "ExecuteTime": {
     "end_time": "2022-10-06T15:44:19.742801Z",
     "start_time": "2022-10-06T15:44:19.691005Z"
    },
    "execution": {
     "iopub.execute_input": "2022-09-27T14:37:06.736509Z",
     "iopub.status.busy": "2022-09-27T14:37:06.736020Z",
     "iopub.status.idle": "2022-09-27T14:37:06.785551Z",
     "shell.execute_reply": "2022-09-27T14:37:06.784162Z",
     "shell.execute_reply.started": "2022-09-27T14:37:06.736466Z"
    }
   },
   "outputs": [],
   "source": [
    "testing_dummy= pd.get_dummies(testing_dummy) "
   ]
  },
  {
   "cell_type": "code",
   "execution_count": 126,
   "metadata": {
    "ExecuteTime": {
     "end_time": "2022-10-06T15:44:19.771464Z",
     "start_time": "2022-10-06T15:44:19.743631Z"
    },
    "execution": {
     "iopub.execute_input": "2022-09-27T14:37:06.787616Z",
     "iopub.status.busy": "2022-09-27T14:37:06.787226Z",
     "iopub.status.idle": "2022-09-27T14:37:06.811651Z",
     "shell.execute_reply": "2022-09-27T14:37:06.810280Z",
     "shell.execute_reply.started": "2022-09-27T14:37:06.787568Z"
    }
   },
   "outputs": [
    {
     "data": {
      "text/html": [
       "<div>\n",
       "<style scoped>\n",
       "    .dataframe tbody tr th:only-of-type {\n",
       "        vertical-align: middle;\n",
       "    }\n",
       "\n",
       "    .dataframe tbody tr th {\n",
       "        vertical-align: top;\n",
       "    }\n",
       "\n",
       "    .dataframe thead th {\n",
       "        text-align: right;\n",
       "    }\n",
       "</style>\n",
       "<table border=\"1\" class=\"dataframe\">\n",
       "  <thead>\n",
       "    <tr style=\"text-align: right;\">\n",
       "      <th></th>\n",
       "      <th>Month_April</th>\n",
       "      <th>Month_August</th>\n",
       "      <th>Month_February</th>\n",
       "      <th>Month_January</th>\n",
       "      <th>Month_July</th>\n",
       "      <th>Month_June</th>\n",
       "      <th>Month_March</th>\n",
       "      <th>Month_May</th>\n",
       "      <th>Occupation_Accountant</th>\n",
       "      <th>Occupation_Architect</th>\n",
       "      <th>Occupation_Blank</th>\n",
       "      <th>Occupation_Developer</th>\n",
       "      <th>Occupation_Doctor</th>\n",
       "      <th>Occupation_Engineer</th>\n",
       "      <th>Occupation_Entrepreneur</th>\n",
       "      <th>Occupation_Journalist</th>\n",
       "      <th>Occupation_Lawyer</th>\n",
       "      <th>Occupation_Manager</th>\n",
       "      <th>Occupation_Mechanic</th>\n",
       "      <th>Occupation_Media_Manager</th>\n",
       "      <th>Occupation_Musician</th>\n",
       "      <th>Occupation_Scientist</th>\n",
       "      <th>Occupation_Teacher</th>\n",
       "      <th>Occupation_Writer</th>\n",
       "      <th>Credit_Mix_Bad</th>\n",
       "      <th>Credit_Mix_Good</th>\n",
       "      <th>Credit_Mix_Other</th>\n",
       "      <th>Credit_Mix_Standard</th>\n",
       "      <th>Payment_of_Min_Amount_No</th>\n",
       "      <th>Payment_of_Min_Amount_Yes</th>\n",
       "      <th>Payment_Behaviour_Blanks</th>\n",
       "      <th>Payment_Behaviour_High_spent_Large_value_payments</th>\n",
       "      <th>Payment_Behaviour_High_spent_Medium_value_payments</th>\n",
       "      <th>Payment_Behaviour_High_spent_Small_value_payments</th>\n",
       "      <th>Payment_Behaviour_Low_spent_Large_value_payments</th>\n",
       "      <th>Payment_Behaviour_Low_spent_Medium_value_payments</th>\n",
       "      <th>Payment_Behaviour_Low_spent_Small_value_payments</th>\n",
       "    </tr>\n",
       "  </thead>\n",
       "  <tbody>\n",
       "    <tr>\n",
       "      <th>0</th>\n",
       "      <td>0</td>\n",
       "      <td>0</td>\n",
       "      <td>0</td>\n",
       "      <td>1</td>\n",
       "      <td>0</td>\n",
       "      <td>0</td>\n",
       "      <td>0</td>\n",
       "      <td>0</td>\n",
       "      <td>0</td>\n",
       "      <td>0</td>\n",
       "      <td>0</td>\n",
       "      <td>0</td>\n",
       "      <td>0</td>\n",
       "      <td>0</td>\n",
       "      <td>0</td>\n",
       "      <td>0</td>\n",
       "      <td>0</td>\n",
       "      <td>0</td>\n",
       "      <td>0</td>\n",
       "      <td>0</td>\n",
       "      <td>0</td>\n",
       "      <td>1</td>\n",
       "      <td>0</td>\n",
       "      <td>0</td>\n",
       "      <td>0</td>\n",
       "      <td>0</td>\n",
       "      <td>1</td>\n",
       "      <td>0</td>\n",
       "      <td>1</td>\n",
       "      <td>0</td>\n",
       "      <td>0</td>\n",
       "      <td>0</td>\n",
       "      <td>0</td>\n",
       "      <td>1</td>\n",
       "      <td>0</td>\n",
       "      <td>0</td>\n",
       "      <td>0</td>\n",
       "    </tr>\n",
       "  </tbody>\n",
       "</table>\n",
       "</div>"
      ],
      "text/plain": [
       "   Month_April  Month_August  Month_February  Month_January  Month_July  \\\n",
       "0            0             0               0              1           0   \n",
       "\n",
       "   Month_June  Month_March  Month_May  Occupation_Accountant  \\\n",
       "0           0            0          0                      0   \n",
       "\n",
       "   Occupation_Architect  Occupation_Blank  Occupation_Developer  \\\n",
       "0                     0                 0                     0   \n",
       "\n",
       "   Occupation_Doctor  Occupation_Engineer  Occupation_Entrepreneur  \\\n",
       "0                  0                    0                        0   \n",
       "\n",
       "   Occupation_Journalist  Occupation_Lawyer  Occupation_Manager  \\\n",
       "0                      0                  0                   0   \n",
       "\n",
       "   Occupation_Mechanic  Occupation_Media_Manager  Occupation_Musician  \\\n",
       "0                    0                         0                    0   \n",
       "\n",
       "   Occupation_Scientist  Occupation_Teacher  Occupation_Writer  \\\n",
       "0                     1                   0                  0   \n",
       "\n",
       "   Credit_Mix_Bad  Credit_Mix_Good  Credit_Mix_Other  Credit_Mix_Standard  \\\n",
       "0               0                0                 1                    0   \n",
       "\n",
       "   Payment_of_Min_Amount_No  Payment_of_Min_Amount_Yes  \\\n",
       "0                         1                          0   \n",
       "\n",
       "   Payment_Behaviour_Blanks  \\\n",
       "0                         0   \n",
       "\n",
       "   Payment_Behaviour_High_spent_Large_value_payments  \\\n",
       "0                                                  0   \n",
       "\n",
       "   Payment_Behaviour_High_spent_Medium_value_payments  \\\n",
       "0                                                  0    \n",
       "\n",
       "   Payment_Behaviour_High_spent_Small_value_payments  \\\n",
       "0                                                  1   \n",
       "\n",
       "   Payment_Behaviour_Low_spent_Large_value_payments  \\\n",
       "0                                                 0   \n",
       "\n",
       "   Payment_Behaviour_Low_spent_Medium_value_payments  \\\n",
       "0                                                  0   \n",
       "\n",
       "   Payment_Behaviour_Low_spent_Small_value_payments  \n",
       "0                                                 0  "
      ]
     },
     "execution_count": 126,
     "metadata": {},
     "output_type": "execute_result"
    }
   ],
   "source": [
    "training_dummy.head(1)"
   ]
  },
  {
   "cell_type": "code",
   "execution_count": 127,
   "metadata": {
    "ExecuteTime": {
     "end_time": "2022-10-06T15:44:19.801427Z",
     "start_time": "2022-10-06T15:44:19.771464Z"
    },
    "execution": {
     "iopub.execute_input": "2022-09-27T14:37:06.813843Z",
     "iopub.status.busy": "2022-09-27T14:37:06.813420Z",
     "iopub.status.idle": "2022-09-27T14:37:06.836741Z",
     "shell.execute_reply": "2022-09-27T14:37:06.835439Z",
     "shell.execute_reply.started": "2022-09-27T14:37:06.813807Z"
    }
   },
   "outputs": [
    {
     "data": {
      "text/html": [
       "<div>\n",
       "<style scoped>\n",
       "    .dataframe tbody tr th:only-of-type {\n",
       "        vertical-align: middle;\n",
       "    }\n",
       "\n",
       "    .dataframe tbody tr th {\n",
       "        vertical-align: top;\n",
       "    }\n",
       "\n",
       "    .dataframe thead th {\n",
       "        text-align: right;\n",
       "    }\n",
       "</style>\n",
       "<table border=\"1\" class=\"dataframe\">\n",
       "  <thead>\n",
       "    <tr style=\"text-align: right;\">\n",
       "      <th></th>\n",
       "      <th>Month_December</th>\n",
       "      <th>Month_November</th>\n",
       "      <th>Month_October</th>\n",
       "      <th>Month_September</th>\n",
       "      <th>Occupation_Accountant</th>\n",
       "      <th>Occupation_Architect</th>\n",
       "      <th>Occupation_Blank</th>\n",
       "      <th>Occupation_Developer</th>\n",
       "      <th>Occupation_Doctor</th>\n",
       "      <th>Occupation_Engineer</th>\n",
       "      <th>Occupation_Entrepreneur</th>\n",
       "      <th>Occupation_Journalist</th>\n",
       "      <th>Occupation_Lawyer</th>\n",
       "      <th>Occupation_Manager</th>\n",
       "      <th>Occupation_Mechanic</th>\n",
       "      <th>Occupation_Media_Manager</th>\n",
       "      <th>Occupation_Musician</th>\n",
       "      <th>Occupation_Scientist</th>\n",
       "      <th>Occupation_Teacher</th>\n",
       "      <th>Occupation_Writer</th>\n",
       "      <th>Credit_Mix_Bad</th>\n",
       "      <th>Credit_Mix_Good</th>\n",
       "      <th>Credit_Mix_Other</th>\n",
       "      <th>Credit_Mix_Standard</th>\n",
       "      <th>Payment_of_Min_Amount_No</th>\n",
       "      <th>Payment_of_Min_Amount_Yes</th>\n",
       "      <th>Payment_Behaviour_Blanks</th>\n",
       "      <th>Payment_Behaviour_High_spent_Large_value_payments</th>\n",
       "      <th>Payment_Behaviour_High_spent_Medium_value_payments</th>\n",
       "      <th>Payment_Behaviour_High_spent_Small_value_payments</th>\n",
       "      <th>Payment_Behaviour_Low_spent_Large_value_payments</th>\n",
       "      <th>Payment_Behaviour_Low_spent_Medium_value_payments</th>\n",
       "      <th>Payment_Behaviour_Low_spent_Small_value_payments</th>\n",
       "    </tr>\n",
       "  </thead>\n",
       "  <tbody>\n",
       "    <tr>\n",
       "      <th>0</th>\n",
       "      <td>0</td>\n",
       "      <td>0</td>\n",
       "      <td>0</td>\n",
       "      <td>1</td>\n",
       "      <td>0</td>\n",
       "      <td>0</td>\n",
       "      <td>0</td>\n",
       "      <td>0</td>\n",
       "      <td>0</td>\n",
       "      <td>0</td>\n",
       "      <td>0</td>\n",
       "      <td>0</td>\n",
       "      <td>0</td>\n",
       "      <td>0</td>\n",
       "      <td>0</td>\n",
       "      <td>0</td>\n",
       "      <td>0</td>\n",
       "      <td>1</td>\n",
       "      <td>0</td>\n",
       "      <td>0</td>\n",
       "      <td>0</td>\n",
       "      <td>1</td>\n",
       "      <td>0</td>\n",
       "      <td>0</td>\n",
       "      <td>1</td>\n",
       "      <td>0</td>\n",
       "      <td>0</td>\n",
       "      <td>0</td>\n",
       "      <td>0</td>\n",
       "      <td>0</td>\n",
       "      <td>0</td>\n",
       "      <td>0</td>\n",
       "      <td>1</td>\n",
       "    </tr>\n",
       "  </tbody>\n",
       "</table>\n",
       "</div>"
      ],
      "text/plain": [
       "   Month_December  Month_November  Month_October  Month_September  \\\n",
       "0               0               0              0                1   \n",
       "\n",
       "   Occupation_Accountant  Occupation_Architect  Occupation_Blank  \\\n",
       "0                      0                     0                 0   \n",
       "\n",
       "   Occupation_Developer  Occupation_Doctor  Occupation_Engineer  \\\n",
       "0                     0                  0                    0   \n",
       "\n",
       "   Occupation_Entrepreneur  Occupation_Journalist  Occupation_Lawyer  \\\n",
       "0                        0                      0                  0   \n",
       "\n",
       "   Occupation_Manager  Occupation_Mechanic  Occupation_Media_Manager  \\\n",
       "0                   0                    0                         0   \n",
       "\n",
       "   Occupation_Musician  Occupation_Scientist  Occupation_Teacher  \\\n",
       "0                    0                     1                   0   \n",
       "\n",
       "   Occupation_Writer  Credit_Mix_Bad  Credit_Mix_Good  Credit_Mix_Other  \\\n",
       "0                  0               0                1                 0   \n",
       "\n",
       "   Credit_Mix_Standard  Payment_of_Min_Amount_No  Payment_of_Min_Amount_Yes  \\\n",
       "0                    0                         1                          0   \n",
       "\n",
       "   Payment_Behaviour_Blanks  \\\n",
       "0                         0   \n",
       "\n",
       "   Payment_Behaviour_High_spent_Large_value_payments  \\\n",
       "0                                                  0   \n",
       "\n",
       "   Payment_Behaviour_High_spent_Medium_value_payments  \\\n",
       "0                                                  0    \n",
       "\n",
       "   Payment_Behaviour_High_spent_Small_value_payments  \\\n",
       "0                                                  0   \n",
       "\n",
       "   Payment_Behaviour_Low_spent_Large_value_payments  \\\n",
       "0                                                 0   \n",
       "\n",
       "   Payment_Behaviour_Low_spent_Medium_value_payments  \\\n",
       "0                                                  0   \n",
       "\n",
       "   Payment_Behaviour_Low_spent_Small_value_payments  \n",
       "0                                                 1  "
      ]
     },
     "execution_count": 127,
     "metadata": {},
     "output_type": "execute_result"
    }
   ],
   "source": [
    "testing_dummy.head(1)"
   ]
  },
  {
   "cell_type": "code",
   "execution_count": 128,
   "metadata": {
    "ExecuteTime": {
     "end_time": "2022-10-06T15:44:19.821426Z",
     "start_time": "2022-10-06T15:44:19.801427Z"
    },
    "execution": {
     "iopub.execute_input": "2022-09-27T14:37:06.838247Z",
     "iopub.status.busy": "2022-09-27T14:37:06.837913Z",
     "iopub.status.idle": "2022-09-27T14:37:06.860040Z",
     "shell.execute_reply": "2022-09-27T14:37:06.858525Z",
     "shell.execute_reply.started": "2022-09-27T14:37:06.838217Z"
    }
   },
   "outputs": [
    {
     "data": {
      "text/plain": [
       "April       12500\n",
       "March       12500\n",
       "July        12500\n",
       "January     12500\n",
       "May         12500\n",
       "August      12500\n",
       "February    12500\n",
       "June        12500\n",
       "Name: Month, dtype: int64"
      ]
     },
     "execution_count": 128,
     "metadata": {},
     "output_type": "execute_result"
    }
   ],
   "source": [
    "trial_df[\"Month\"].value_counts()"
   ]
  },
  {
   "cell_type": "code",
   "execution_count": 129,
   "metadata": {
    "ExecuteTime": {
     "end_time": "2022-10-06T15:44:19.840571Z",
     "start_time": "2022-10-06T15:44:19.821426Z"
    },
    "execution": {
     "iopub.execute_input": "2022-09-27T14:37:06.863202Z",
     "iopub.status.busy": "2022-09-27T14:37:06.862665Z",
     "iopub.status.idle": "2022-09-27T14:37:06.878925Z",
     "shell.execute_reply": "2022-09-27T14:37:06.877811Z",
     "shell.execute_reply.started": "2022-09-27T14:37:06.863150Z"
    }
   },
   "outputs": [
    {
     "data": {
      "text/plain": [
       "October      12500\n",
       "November     12500\n",
       "December     12500\n",
       "September    12500\n",
       "Name: Month, dtype: int64"
      ]
     },
     "execution_count": 129,
     "metadata": {},
     "output_type": "execute_result"
    }
   ],
   "source": [
    "test_copy[\"Month\"].value_counts()"
   ]
  },
  {
   "cell_type": "markdown",
   "metadata": {},
   "source": [
    "### We should drop Month column as test dataframe has different value and train dataframe has different value"
   ]
  },
  {
   "cell_type": "code",
   "execution_count": 130,
   "metadata": {
    "ExecuteTime": {
     "end_time": "2022-10-06T15:44:19.860997Z",
     "start_time": "2022-10-06T15:44:19.840571Z"
    },
    "execution": {
     "iopub.execute_input": "2022-09-27T14:37:06.880580Z",
     "iopub.status.busy": "2022-09-27T14:37:06.880246Z",
     "iopub.status.idle": "2022-09-27T14:37:06.890931Z",
     "shell.execute_reply": "2022-09-27T14:37:06.889556Z",
     "shell.execute_reply.started": "2022-09-27T14:37:06.880550Z"
    }
   },
   "outputs": [],
   "source": [
    "object_col_trial_list.remove(\"Month\")"
   ]
  },
  {
   "cell_type": "code",
   "execution_count": 131,
   "metadata": {
    "ExecuteTime": {
     "end_time": "2022-10-06T15:44:19.879022Z",
     "start_time": "2022-10-06T15:44:19.862513Z"
    },
    "execution": {
     "iopub.execute_input": "2022-09-27T14:38:07.832699Z",
     "iopub.status.busy": "2022-09-27T14:38:07.832283Z",
     "iopub.status.idle": "2022-09-27T14:38:07.840621Z",
     "shell.execute_reply": "2022-09-27T14:38:07.839505Z",
     "shell.execute_reply.started": "2022-09-27T14:38:07.832664Z"
    }
   },
   "outputs": [
    {
     "data": {
      "text/plain": [
       "['Occupation', 'Credit_Mix', 'Payment_of_Min_Amount', 'Payment_Behaviour']"
      ]
     },
     "execution_count": 131,
     "metadata": {},
     "output_type": "execute_result"
    }
   ],
   "source": [
    "object_col_trial_list"
   ]
  },
  {
   "cell_type": "code",
   "execution_count": 132,
   "metadata": {
    "ExecuteTime": {
     "end_time": "2022-10-06T15:44:19.911676Z",
     "start_time": "2022-10-06T15:44:19.879985Z"
    },
    "execution": {
     "iopub.execute_input": "2022-09-27T14:38:07.856171Z",
     "iopub.status.busy": "2022-09-27T14:38:07.855431Z",
     "iopub.status.idle": "2022-09-27T14:38:07.883508Z",
     "shell.execute_reply": "2022-09-27T14:38:07.882480Z",
     "shell.execute_reply.started": "2022-09-27T14:38:07.856107Z"
    }
   },
   "outputs": [],
   "source": [
    "training_numerical = trial_df.drop(['Occupation', 'Credit_Mix', 'Payment_of_Min_Amount', 'Payment_Behaviour',\"Month\"],1)\n",
    "training_dummy =  trial_df[object_col_trial_list]\n",
    "\n",
    "testing_numerical = test_copy.drop(['Occupation', 'Credit_Mix', 'Payment_of_Min_Amount', 'Payment_Behaviour',\"Month\"],1)\n",
    "testing_dummy =  test_copy[object_col_trial_list]"
   ]
  },
  {
   "cell_type": "code",
   "execution_count": 133,
   "metadata": {
    "ExecuteTime": {
     "end_time": "2022-10-06T15:44:19.970844Z",
     "start_time": "2022-10-06T15:44:19.911676Z"
    },
    "execution": {
     "iopub.execute_input": "2022-09-27T14:38:07.886129Z",
     "iopub.status.busy": "2022-09-27T14:38:07.885104Z",
     "iopub.status.idle": "2022-09-27T14:38:07.956250Z",
     "shell.execute_reply": "2022-09-27T14:38:07.955126Z",
     "shell.execute_reply.started": "2022-09-27T14:38:07.886090Z"
    }
   },
   "outputs": [],
   "source": [
    "training_dummy= pd.get_dummies(training_dummy) "
   ]
  },
  {
   "cell_type": "code",
   "execution_count": 134,
   "metadata": {
    "ExecuteTime": {
     "end_time": "2022-10-06T15:44:20.011509Z",
     "start_time": "2022-10-06T15:44:19.970844Z"
    },
    "execution": {
     "iopub.execute_input": "2022-09-27T14:38:07.958751Z",
     "iopub.status.busy": "2022-09-27T14:38:07.958368Z",
     "iopub.status.idle": "2022-09-27T14:38:07.997929Z",
     "shell.execute_reply": "2022-09-27T14:38:07.996839Z",
     "shell.execute_reply.started": "2022-09-27T14:38:07.958716Z"
    }
   },
   "outputs": [],
   "source": [
    "testing_dummy= pd.get_dummies(testing_dummy) "
   ]
  },
  {
   "cell_type": "code",
   "execution_count": 135,
   "metadata": {
    "ExecuteTime": {
     "end_time": "2022-10-06T15:44:20.027566Z",
     "start_time": "2022-10-06T15:44:20.011509Z"
    },
    "execution": {
     "iopub.execute_input": "2022-09-27T14:38:07.999804Z",
     "iopub.status.busy": "2022-09-27T14:38:07.999446Z",
     "iopub.status.idle": "2022-09-27T14:38:08.006853Z",
     "shell.execute_reply": "2022-09-27T14:38:08.005675Z",
     "shell.execute_reply.started": "2022-09-27T14:38:07.999771Z"
    }
   },
   "outputs": [
    {
     "data": {
      "text/plain": [
       "array([ True,  True,  True,  True,  True,  True,  True,  True,  True,\n",
       "        True,  True,  True,  True,  True,  True,  True,  True,  True,\n",
       "        True,  True,  True,  True,  True,  True,  True,  True,  True,\n",
       "        True,  True])"
      ]
     },
     "execution_count": 135,
     "metadata": {},
     "output_type": "execute_result"
    }
   ],
   "source": [
    "training_dummy.columns == testing_dummy.columns"
   ]
  },
  {
   "cell_type": "code",
   "execution_count": 136,
   "metadata": {
    "ExecuteTime": {
     "end_time": "2022-10-06T15:44:20.049607Z",
     "start_time": "2022-10-06T15:44:20.027566Z"
    },
    "execution": {
     "iopub.execute_input": "2022-09-27T14:38:08.010086Z",
     "iopub.status.busy": "2022-09-27T14:38:08.009641Z",
     "iopub.status.idle": "2022-09-27T14:38:08.033747Z",
     "shell.execute_reply": "2022-09-27T14:38:08.031770Z",
     "shell.execute_reply.started": "2022-09-27T14:38:08.010042Z"
    }
   },
   "outputs": [],
   "source": [
    "final_training = pd.concat([training_dummy,training_numerical],axis=1)"
   ]
  },
  {
   "cell_type": "code",
   "execution_count": 137,
   "metadata": {
    "ExecuteTime": {
     "end_time": "2022-10-06T15:44:20.081453Z",
     "start_time": "2022-10-06T15:44:20.051180Z"
    },
    "execution": {
     "iopub.execute_input": "2022-09-27T14:38:08.037100Z",
     "iopub.status.busy": "2022-09-27T14:38:08.035491Z",
     "iopub.status.idle": "2022-09-27T14:38:08.087854Z",
     "shell.execute_reply": "2022-09-27T14:38:08.086362Z",
     "shell.execute_reply.started": "2022-09-27T14:38:08.036997Z"
    }
   },
   "outputs": [
    {
     "data": {
      "text/html": [
       "<div>\n",
       "<style scoped>\n",
       "    .dataframe tbody tr th:only-of-type {\n",
       "        vertical-align: middle;\n",
       "    }\n",
       "\n",
       "    .dataframe tbody tr th {\n",
       "        vertical-align: top;\n",
       "    }\n",
       "\n",
       "    .dataframe thead th {\n",
       "        text-align: right;\n",
       "    }\n",
       "</style>\n",
       "<table border=\"1\" class=\"dataframe\">\n",
       "  <thead>\n",
       "    <tr style=\"text-align: right;\">\n",
       "      <th></th>\n",
       "      <th>Occupation_Accountant</th>\n",
       "      <th>Occupation_Architect</th>\n",
       "      <th>Occupation_Blank</th>\n",
       "      <th>Occupation_Developer</th>\n",
       "      <th>Occupation_Doctor</th>\n",
       "      <th>Occupation_Engineer</th>\n",
       "      <th>Occupation_Entrepreneur</th>\n",
       "      <th>Occupation_Journalist</th>\n",
       "      <th>Occupation_Lawyer</th>\n",
       "      <th>Occupation_Manager</th>\n",
       "      <th>Occupation_Mechanic</th>\n",
       "      <th>Occupation_Media_Manager</th>\n",
       "      <th>Occupation_Musician</th>\n",
       "      <th>Occupation_Scientist</th>\n",
       "      <th>Occupation_Teacher</th>\n",
       "      <th>Occupation_Writer</th>\n",
       "      <th>Credit_Mix_Bad</th>\n",
       "      <th>Credit_Mix_Good</th>\n",
       "      <th>Credit_Mix_Other</th>\n",
       "      <th>Credit_Mix_Standard</th>\n",
       "      <th>Payment_of_Min_Amount_No</th>\n",
       "      <th>Payment_of_Min_Amount_Yes</th>\n",
       "      <th>Payment_Behaviour_Blanks</th>\n",
       "      <th>Payment_Behaviour_High_spent_Large_value_payments</th>\n",
       "      <th>Payment_Behaviour_High_spent_Medium_value_payments</th>\n",
       "      <th>Payment_Behaviour_High_spent_Small_value_payments</th>\n",
       "      <th>Payment_Behaviour_Low_spent_Large_value_payments</th>\n",
       "      <th>Payment_Behaviour_Low_spent_Medium_value_payments</th>\n",
       "      <th>Payment_Behaviour_Low_spent_Small_value_payments</th>\n",
       "      <th>Age</th>\n",
       "      <th>Annual_Income</th>\n",
       "      <th>Monthly_Inhand_Salary</th>\n",
       "      <th>Num_Bank_Accounts</th>\n",
       "      <th>Num_Credit_Card</th>\n",
       "      <th>Interest_Rate</th>\n",
       "      <th>Num_of_Loan</th>\n",
       "      <th>Delay_from_due_date</th>\n",
       "      <th>Num_of_Delayed_Payment</th>\n",
       "      <th>Changed_Credit_Limit</th>\n",
       "      <th>Num_Credit_Inquiries</th>\n",
       "      <th>Outstanding_Debt</th>\n",
       "      <th>Credit_Utilization_Ratio</th>\n",
       "      <th>Credit_History_Age</th>\n",
       "      <th>Total_EMI_per_month</th>\n",
       "      <th>Amount_invested_monthly</th>\n",
       "      <th>Monthly_Balance</th>\n",
       "      <th>Credit_Score</th>\n",
       "    </tr>\n",
       "  </thead>\n",
       "  <tbody>\n",
       "    <tr>\n",
       "      <th>0</th>\n",
       "      <td>0</td>\n",
       "      <td>0</td>\n",
       "      <td>0</td>\n",
       "      <td>0</td>\n",
       "      <td>0</td>\n",
       "      <td>0</td>\n",
       "      <td>0</td>\n",
       "      <td>0</td>\n",
       "      <td>0</td>\n",
       "      <td>0</td>\n",
       "      <td>0</td>\n",
       "      <td>0</td>\n",
       "      <td>0</td>\n",
       "      <td>1</td>\n",
       "      <td>0</td>\n",
       "      <td>0</td>\n",
       "      <td>0</td>\n",
       "      <td>0</td>\n",
       "      <td>1</td>\n",
       "      <td>0</td>\n",
       "      <td>1</td>\n",
       "      <td>0</td>\n",
       "      <td>0</td>\n",
       "      <td>0</td>\n",
       "      <td>0</td>\n",
       "      <td>1</td>\n",
       "      <td>0</td>\n",
       "      <td>0</td>\n",
       "      <td>0</td>\n",
       "      <td>23.0</td>\n",
       "      <td>19114.12</td>\n",
       "      <td>1824.843333</td>\n",
       "      <td>3.0</td>\n",
       "      <td>4.0</td>\n",
       "      <td>3.0</td>\n",
       "      <td>4.0</td>\n",
       "      <td>3.0</td>\n",
       "      <td>7.0</td>\n",
       "      <td>11.27</td>\n",
       "      <td>4.0</td>\n",
       "      <td>809.98</td>\n",
       "      <td>26.822620</td>\n",
       "      <td>22.083333</td>\n",
       "      <td>49.574949</td>\n",
       "      <td>80.415295</td>\n",
       "      <td>312.494089</td>\n",
       "      <td>0</td>\n",
       "    </tr>\n",
       "    <tr>\n",
       "      <th>1</th>\n",
       "      <td>0</td>\n",
       "      <td>0</td>\n",
       "      <td>0</td>\n",
       "      <td>0</td>\n",
       "      <td>0</td>\n",
       "      <td>0</td>\n",
       "      <td>0</td>\n",
       "      <td>0</td>\n",
       "      <td>0</td>\n",
       "      <td>0</td>\n",
       "      <td>0</td>\n",
       "      <td>0</td>\n",
       "      <td>0</td>\n",
       "      <td>1</td>\n",
       "      <td>0</td>\n",
       "      <td>0</td>\n",
       "      <td>0</td>\n",
       "      <td>1</td>\n",
       "      <td>0</td>\n",
       "      <td>0</td>\n",
       "      <td>1</td>\n",
       "      <td>0</td>\n",
       "      <td>0</td>\n",
       "      <td>0</td>\n",
       "      <td>0</td>\n",
       "      <td>0</td>\n",
       "      <td>1</td>\n",
       "      <td>0</td>\n",
       "      <td>0</td>\n",
       "      <td>23.0</td>\n",
       "      <td>19114.12</td>\n",
       "      <td>3038.445000</td>\n",
       "      <td>3.0</td>\n",
       "      <td>4.0</td>\n",
       "      <td>3.0</td>\n",
       "      <td>4.0</td>\n",
       "      <td>17.0</td>\n",
       "      <td>14.0</td>\n",
       "      <td>11.27</td>\n",
       "      <td>4.0</td>\n",
       "      <td>809.98</td>\n",
       "      <td>31.944960</td>\n",
       "      <td>18.432950</td>\n",
       "      <td>49.574949</td>\n",
       "      <td>118.280222</td>\n",
       "      <td>284.629163</td>\n",
       "      <td>0</td>\n",
       "    </tr>\n",
       "    <tr>\n",
       "      <th>2</th>\n",
       "      <td>0</td>\n",
       "      <td>0</td>\n",
       "      <td>0</td>\n",
       "      <td>0</td>\n",
       "      <td>0</td>\n",
       "      <td>0</td>\n",
       "      <td>0</td>\n",
       "      <td>0</td>\n",
       "      <td>0</td>\n",
       "      <td>0</td>\n",
       "      <td>0</td>\n",
       "      <td>0</td>\n",
       "      <td>0</td>\n",
       "      <td>1</td>\n",
       "      <td>0</td>\n",
       "      <td>0</td>\n",
       "      <td>0</td>\n",
       "      <td>1</td>\n",
       "      <td>0</td>\n",
       "      <td>0</td>\n",
       "      <td>1</td>\n",
       "      <td>0</td>\n",
       "      <td>0</td>\n",
       "      <td>0</td>\n",
       "      <td>0</td>\n",
       "      <td>0</td>\n",
       "      <td>0</td>\n",
       "      <td>1</td>\n",
       "      <td>0</td>\n",
       "      <td>33.0</td>\n",
       "      <td>19114.12</td>\n",
       "      <td>3038.445000</td>\n",
       "      <td>3.0</td>\n",
       "      <td>4.0</td>\n",
       "      <td>3.0</td>\n",
       "      <td>4.0</td>\n",
       "      <td>3.0</td>\n",
       "      <td>7.0</td>\n",
       "      <td>9.47</td>\n",
       "      <td>4.0</td>\n",
       "      <td>809.98</td>\n",
       "      <td>28.609352</td>\n",
       "      <td>22.250000</td>\n",
       "      <td>49.574949</td>\n",
       "      <td>81.699521</td>\n",
       "      <td>331.209863</td>\n",
       "      <td>0</td>\n",
       "    </tr>\n",
       "    <tr>\n",
       "      <th>3</th>\n",
       "      <td>0</td>\n",
       "      <td>0</td>\n",
       "      <td>0</td>\n",
       "      <td>0</td>\n",
       "      <td>0</td>\n",
       "      <td>0</td>\n",
       "      <td>0</td>\n",
       "      <td>0</td>\n",
       "      <td>0</td>\n",
       "      <td>0</td>\n",
       "      <td>0</td>\n",
       "      <td>0</td>\n",
       "      <td>0</td>\n",
       "      <td>1</td>\n",
       "      <td>0</td>\n",
       "      <td>0</td>\n",
       "      <td>0</td>\n",
       "      <td>1</td>\n",
       "      <td>0</td>\n",
       "      <td>0</td>\n",
       "      <td>1</td>\n",
       "      <td>0</td>\n",
       "      <td>0</td>\n",
       "      <td>0</td>\n",
       "      <td>0</td>\n",
       "      <td>0</td>\n",
       "      <td>0</td>\n",
       "      <td>0</td>\n",
       "      <td>1</td>\n",
       "      <td>23.0</td>\n",
       "      <td>19114.12</td>\n",
       "      <td>3038.445000</td>\n",
       "      <td>3.0</td>\n",
       "      <td>4.0</td>\n",
       "      <td>3.0</td>\n",
       "      <td>4.0</td>\n",
       "      <td>5.0</td>\n",
       "      <td>4.0</td>\n",
       "      <td>6.27</td>\n",
       "      <td>4.0</td>\n",
       "      <td>809.98</td>\n",
       "      <td>31.377862</td>\n",
       "      <td>22.333333</td>\n",
       "      <td>49.574949</td>\n",
       "      <td>199.458074</td>\n",
       "      <td>223.451310</td>\n",
       "      <td>0</td>\n",
       "    </tr>\n",
       "    <tr>\n",
       "      <th>4</th>\n",
       "      <td>0</td>\n",
       "      <td>0</td>\n",
       "      <td>0</td>\n",
       "      <td>0</td>\n",
       "      <td>0</td>\n",
       "      <td>0</td>\n",
       "      <td>0</td>\n",
       "      <td>0</td>\n",
       "      <td>0</td>\n",
       "      <td>0</td>\n",
       "      <td>0</td>\n",
       "      <td>0</td>\n",
       "      <td>0</td>\n",
       "      <td>1</td>\n",
       "      <td>0</td>\n",
       "      <td>0</td>\n",
       "      <td>0</td>\n",
       "      <td>1</td>\n",
       "      <td>0</td>\n",
       "      <td>0</td>\n",
       "      <td>1</td>\n",
       "      <td>0</td>\n",
       "      <td>0</td>\n",
       "      <td>0</td>\n",
       "      <td>1</td>\n",
       "      <td>0</td>\n",
       "      <td>0</td>\n",
       "      <td>0</td>\n",
       "      <td>0</td>\n",
       "      <td>23.0</td>\n",
       "      <td>19114.12</td>\n",
       "      <td>1824.843333</td>\n",
       "      <td>3.0</td>\n",
       "      <td>4.0</td>\n",
       "      <td>3.0</td>\n",
       "      <td>4.0</td>\n",
       "      <td>6.0</td>\n",
       "      <td>14.0</td>\n",
       "      <td>11.27</td>\n",
       "      <td>4.0</td>\n",
       "      <td>809.98</td>\n",
       "      <td>24.797347</td>\n",
       "      <td>22.416667</td>\n",
       "      <td>49.574949</td>\n",
       "      <td>41.420153</td>\n",
       "      <td>341.489231</td>\n",
       "      <td>0</td>\n",
       "    </tr>\n",
       "  </tbody>\n",
       "</table>\n",
       "</div>"
      ],
      "text/plain": [
       "   Occupation_Accountant  Occupation_Architect  Occupation_Blank  \\\n",
       "0                      0                     0                 0   \n",
       "1                      0                     0                 0   \n",
       "2                      0                     0                 0   \n",
       "3                      0                     0                 0   \n",
       "4                      0                     0                 0   \n",
       "\n",
       "   Occupation_Developer  Occupation_Doctor  Occupation_Engineer  \\\n",
       "0                     0                  0                    0   \n",
       "1                     0                  0                    0   \n",
       "2                     0                  0                    0   \n",
       "3                     0                  0                    0   \n",
       "4                     0                  0                    0   \n",
       "\n",
       "   Occupation_Entrepreneur  Occupation_Journalist  Occupation_Lawyer  \\\n",
       "0                        0                      0                  0   \n",
       "1                        0                      0                  0   \n",
       "2                        0                      0                  0   \n",
       "3                        0                      0                  0   \n",
       "4                        0                      0                  0   \n",
       "\n",
       "   Occupation_Manager  Occupation_Mechanic  Occupation_Media_Manager  \\\n",
       "0                   0                    0                         0   \n",
       "1                   0                    0                         0   \n",
       "2                   0                    0                         0   \n",
       "3                   0                    0                         0   \n",
       "4                   0                    0                         0   \n",
       "\n",
       "   Occupation_Musician  Occupation_Scientist  Occupation_Teacher  \\\n",
       "0                    0                     1                   0   \n",
       "1                    0                     1                   0   \n",
       "2                    0                     1                   0   \n",
       "3                    0                     1                   0   \n",
       "4                    0                     1                   0   \n",
       "\n",
       "   Occupation_Writer  Credit_Mix_Bad  Credit_Mix_Good  Credit_Mix_Other  \\\n",
       "0                  0               0                0                 1   \n",
       "1                  0               0                1                 0   \n",
       "2                  0               0                1                 0   \n",
       "3                  0               0                1                 0   \n",
       "4                  0               0                1                 0   \n",
       "\n",
       "   Credit_Mix_Standard  Payment_of_Min_Amount_No  Payment_of_Min_Amount_Yes  \\\n",
       "0                    0                         1                          0   \n",
       "1                    0                         1                          0   \n",
       "2                    0                         1                          0   \n",
       "3                    0                         1                          0   \n",
       "4                    0                         1                          0   \n",
       "\n",
       "   Payment_Behaviour_Blanks  \\\n",
       "0                         0   \n",
       "1                         0   \n",
       "2                         0   \n",
       "3                         0   \n",
       "4                         0   \n",
       "\n",
       "   Payment_Behaviour_High_spent_Large_value_payments  \\\n",
       "0                                                  0   \n",
       "1                                                  0   \n",
       "2                                                  0   \n",
       "3                                                  0   \n",
       "4                                                  0   \n",
       "\n",
       "   Payment_Behaviour_High_spent_Medium_value_payments  \\\n",
       "0                                                  0    \n",
       "1                                                  0    \n",
       "2                                                  0    \n",
       "3                                                  0    \n",
       "4                                                  1    \n",
       "\n",
       "   Payment_Behaviour_High_spent_Small_value_payments  \\\n",
       "0                                                  1   \n",
       "1                                                  0   \n",
       "2                                                  0   \n",
       "3                                                  0   \n",
       "4                                                  0   \n",
       "\n",
       "   Payment_Behaviour_Low_spent_Large_value_payments  \\\n",
       "0                                                 0   \n",
       "1                                                 1   \n",
       "2                                                 0   \n",
       "3                                                 0   \n",
       "4                                                 0   \n",
       "\n",
       "   Payment_Behaviour_Low_spent_Medium_value_payments  \\\n",
       "0                                                  0   \n",
       "1                                                  0   \n",
       "2                                                  1   \n",
       "3                                                  0   \n",
       "4                                                  0   \n",
       "\n",
       "   Payment_Behaviour_Low_spent_Small_value_payments   Age  Annual_Income  \\\n",
       "0                                                 0  23.0       19114.12   \n",
       "1                                                 0  23.0       19114.12   \n",
       "2                                                 0  33.0       19114.12   \n",
       "3                                                 1  23.0       19114.12   \n",
       "4                                                 0  23.0       19114.12   \n",
       "\n",
       "   Monthly_Inhand_Salary  Num_Bank_Accounts  Num_Credit_Card  Interest_Rate  \\\n",
       "0            1824.843333                3.0              4.0            3.0   \n",
       "1            3038.445000                3.0              4.0            3.0   \n",
       "2            3038.445000                3.0              4.0            3.0   \n",
       "3            3038.445000                3.0              4.0            3.0   \n",
       "4            1824.843333                3.0              4.0            3.0   \n",
       "\n",
       "   Num_of_Loan  Delay_from_due_date  Num_of_Delayed_Payment  \\\n",
       "0          4.0                  3.0                     7.0   \n",
       "1          4.0                 17.0                    14.0   \n",
       "2          4.0                  3.0                     7.0   \n",
       "3          4.0                  5.0                     4.0   \n",
       "4          4.0                  6.0                    14.0   \n",
       "\n",
       "   Changed_Credit_Limit  Num_Credit_Inquiries  Outstanding_Debt  \\\n",
       "0                 11.27                   4.0            809.98   \n",
       "1                 11.27                   4.0            809.98   \n",
       "2                  9.47                   4.0            809.98   \n",
       "3                  6.27                   4.0            809.98   \n",
       "4                 11.27                   4.0            809.98   \n",
       "\n",
       "   Credit_Utilization_Ratio  Credit_History_Age  Total_EMI_per_month  \\\n",
       "0                 26.822620           22.083333            49.574949   \n",
       "1                 31.944960           18.432950            49.574949   \n",
       "2                 28.609352           22.250000            49.574949   \n",
       "3                 31.377862           22.333333            49.574949   \n",
       "4                 24.797347           22.416667            49.574949   \n",
       "\n",
       "   Amount_invested_monthly  Monthly_Balance  Credit_Score  \n",
       "0                80.415295       312.494089             0  \n",
       "1               118.280222       284.629163             0  \n",
       "2                81.699521       331.209863             0  \n",
       "3               199.458074       223.451310             0  \n",
       "4                41.420153       341.489231             0  "
      ]
     },
     "execution_count": 137,
     "metadata": {},
     "output_type": "execute_result"
    }
   ],
   "source": [
    "final_training.head()"
   ]
  },
  {
   "cell_type": "code",
   "execution_count": 138,
   "metadata": {
    "ExecuteTime": {
     "end_time": "2022-10-06T15:44:20.102750Z",
     "start_time": "2022-10-06T15:44:20.081453Z"
    },
    "execution": {
     "iopub.execute_input": "2022-09-27T14:38:08.091048Z",
     "iopub.status.busy": "2022-09-27T14:38:08.090400Z",
     "iopub.status.idle": "2022-09-27T14:38:08.099091Z",
     "shell.execute_reply": "2022-09-27T14:38:08.097882Z",
     "shell.execute_reply.started": "2022-09-27T14:38:08.091006Z"
    }
   },
   "outputs": [],
   "source": [
    "final_testing = pd.concat([testing_dummy,testing_numerical],axis=1)"
   ]
  },
  {
   "cell_type": "code",
   "execution_count": 139,
   "metadata": {
    "ExecuteTime": {
     "end_time": "2022-10-06T15:44:20.141674Z",
     "start_time": "2022-10-06T15:44:20.103594Z"
    },
    "execution": {
     "iopub.execute_input": "2022-09-27T14:38:08.101671Z",
     "iopub.status.busy": "2022-09-27T14:38:08.100945Z",
     "iopub.status.idle": "2022-09-27T14:38:08.146266Z",
     "shell.execute_reply": "2022-09-27T14:38:08.145086Z",
     "shell.execute_reply.started": "2022-09-27T14:38:08.101627Z"
    }
   },
   "outputs": [
    {
     "data": {
      "text/html": [
       "<div>\n",
       "<style scoped>\n",
       "    .dataframe tbody tr th:only-of-type {\n",
       "        vertical-align: middle;\n",
       "    }\n",
       "\n",
       "    .dataframe tbody tr th {\n",
       "        vertical-align: top;\n",
       "    }\n",
       "\n",
       "    .dataframe thead th {\n",
       "        text-align: right;\n",
       "    }\n",
       "</style>\n",
       "<table border=\"1\" class=\"dataframe\">\n",
       "  <thead>\n",
       "    <tr style=\"text-align: right;\">\n",
       "      <th></th>\n",
       "      <th>Occupation_Accountant</th>\n",
       "      <th>Occupation_Architect</th>\n",
       "      <th>Occupation_Blank</th>\n",
       "      <th>Occupation_Developer</th>\n",
       "      <th>Occupation_Doctor</th>\n",
       "      <th>Occupation_Engineer</th>\n",
       "      <th>Occupation_Entrepreneur</th>\n",
       "      <th>Occupation_Journalist</th>\n",
       "      <th>Occupation_Lawyer</th>\n",
       "      <th>Occupation_Manager</th>\n",
       "      <th>Occupation_Mechanic</th>\n",
       "      <th>Occupation_Media_Manager</th>\n",
       "      <th>Occupation_Musician</th>\n",
       "      <th>Occupation_Scientist</th>\n",
       "      <th>Occupation_Teacher</th>\n",
       "      <th>Occupation_Writer</th>\n",
       "      <th>Credit_Mix_Bad</th>\n",
       "      <th>Credit_Mix_Good</th>\n",
       "      <th>Credit_Mix_Other</th>\n",
       "      <th>Credit_Mix_Standard</th>\n",
       "      <th>Payment_of_Min_Amount_No</th>\n",
       "      <th>Payment_of_Min_Amount_Yes</th>\n",
       "      <th>Payment_Behaviour_Blanks</th>\n",
       "      <th>Payment_Behaviour_High_spent_Large_value_payments</th>\n",
       "      <th>Payment_Behaviour_High_spent_Medium_value_payments</th>\n",
       "      <th>Payment_Behaviour_High_spent_Small_value_payments</th>\n",
       "      <th>Payment_Behaviour_Low_spent_Large_value_payments</th>\n",
       "      <th>Payment_Behaviour_Low_spent_Medium_value_payments</th>\n",
       "      <th>Payment_Behaviour_Low_spent_Small_value_payments</th>\n",
       "      <th>Age</th>\n",
       "      <th>Annual_Income</th>\n",
       "      <th>Monthly_Inhand_Salary</th>\n",
       "      <th>Num_Bank_Accounts</th>\n",
       "      <th>Num_Credit_Card</th>\n",
       "      <th>Interest_Rate</th>\n",
       "      <th>Num_of_Loan</th>\n",
       "      <th>Delay_from_due_date</th>\n",
       "      <th>Num_of_Delayed_Payment</th>\n",
       "      <th>Changed_Credit_Limit</th>\n",
       "      <th>Num_Credit_Inquiries</th>\n",
       "      <th>Outstanding_Debt</th>\n",
       "      <th>Credit_Utilization_Ratio</th>\n",
       "      <th>Credit_History_Age</th>\n",
       "      <th>Total_EMI_per_month</th>\n",
       "      <th>Amount_invested_monthly</th>\n",
       "      <th>Monthly_Balance</th>\n",
       "    </tr>\n",
       "  </thead>\n",
       "  <tbody>\n",
       "    <tr>\n",
       "      <th>0</th>\n",
       "      <td>0</td>\n",
       "      <td>0</td>\n",
       "      <td>0</td>\n",
       "      <td>0</td>\n",
       "      <td>0</td>\n",
       "      <td>0</td>\n",
       "      <td>0</td>\n",
       "      <td>0</td>\n",
       "      <td>0</td>\n",
       "      <td>0</td>\n",
       "      <td>0</td>\n",
       "      <td>0</td>\n",
       "      <td>0</td>\n",
       "      <td>1</td>\n",
       "      <td>0</td>\n",
       "      <td>0</td>\n",
       "      <td>0</td>\n",
       "      <td>1</td>\n",
       "      <td>0</td>\n",
       "      <td>0</td>\n",
       "      <td>1</td>\n",
       "      <td>0</td>\n",
       "      <td>0</td>\n",
       "      <td>0</td>\n",
       "      <td>0</td>\n",
       "      <td>0</td>\n",
       "      <td>0</td>\n",
       "      <td>0</td>\n",
       "      <td>1</td>\n",
       "      <td>23.0</td>\n",
       "      <td>19114.12</td>\n",
       "      <td>1824.843333</td>\n",
       "      <td>3.0</td>\n",
       "      <td>4.0</td>\n",
       "      <td>3.0</td>\n",
       "      <td>4.0</td>\n",
       "      <td>3.0</td>\n",
       "      <td>7.0</td>\n",
       "      <td>11.27</td>\n",
       "      <td>5.0</td>\n",
       "      <td>809.98</td>\n",
       "      <td>35.030402</td>\n",
       "      <td>22.750000</td>\n",
       "      <td>49.574949</td>\n",
       "      <td>236.642682</td>\n",
       "      <td>186.266702</td>\n",
       "    </tr>\n",
       "    <tr>\n",
       "      <th>1</th>\n",
       "      <td>0</td>\n",
       "      <td>0</td>\n",
       "      <td>0</td>\n",
       "      <td>0</td>\n",
       "      <td>0</td>\n",
       "      <td>0</td>\n",
       "      <td>0</td>\n",
       "      <td>0</td>\n",
       "      <td>0</td>\n",
       "      <td>0</td>\n",
       "      <td>0</td>\n",
       "      <td>0</td>\n",
       "      <td>0</td>\n",
       "      <td>1</td>\n",
       "      <td>0</td>\n",
       "      <td>0</td>\n",
       "      <td>0</td>\n",
       "      <td>1</td>\n",
       "      <td>0</td>\n",
       "      <td>0</td>\n",
       "      <td>1</td>\n",
       "      <td>0</td>\n",
       "      <td>0</td>\n",
       "      <td>0</td>\n",
       "      <td>1</td>\n",
       "      <td>0</td>\n",
       "      <td>0</td>\n",
       "      <td>0</td>\n",
       "      <td>0</td>\n",
       "      <td>24.0</td>\n",
       "      <td>19114.12</td>\n",
       "      <td>1824.843333</td>\n",
       "      <td>3.0</td>\n",
       "      <td>4.0</td>\n",
       "      <td>3.0</td>\n",
       "      <td>4.0</td>\n",
       "      <td>3.0</td>\n",
       "      <td>9.0</td>\n",
       "      <td>13.27</td>\n",
       "      <td>4.0</td>\n",
       "      <td>809.98</td>\n",
       "      <td>33.053114</td>\n",
       "      <td>22.833333</td>\n",
       "      <td>49.574949</td>\n",
       "      <td>21.465380</td>\n",
       "      <td>361.444004</td>\n",
       "    </tr>\n",
       "    <tr>\n",
       "      <th>2</th>\n",
       "      <td>0</td>\n",
       "      <td>0</td>\n",
       "      <td>0</td>\n",
       "      <td>0</td>\n",
       "      <td>0</td>\n",
       "      <td>0</td>\n",
       "      <td>0</td>\n",
       "      <td>0</td>\n",
       "      <td>0</td>\n",
       "      <td>0</td>\n",
       "      <td>0</td>\n",
       "      <td>0</td>\n",
       "      <td>0</td>\n",
       "      <td>1</td>\n",
       "      <td>0</td>\n",
       "      <td>0</td>\n",
       "      <td>0</td>\n",
       "      <td>1</td>\n",
       "      <td>0</td>\n",
       "      <td>0</td>\n",
       "      <td>1</td>\n",
       "      <td>0</td>\n",
       "      <td>0</td>\n",
       "      <td>0</td>\n",
       "      <td>0</td>\n",
       "      <td>0</td>\n",
       "      <td>0</td>\n",
       "      <td>1</td>\n",
       "      <td>0</td>\n",
       "      <td>24.0</td>\n",
       "      <td>19114.12</td>\n",
       "      <td>1824.843333</td>\n",
       "      <td>3.0</td>\n",
       "      <td>4.0</td>\n",
       "      <td>3.0</td>\n",
       "      <td>4.0</td>\n",
       "      <td>17.0</td>\n",
       "      <td>4.0</td>\n",
       "      <td>12.27</td>\n",
       "      <td>4.0</td>\n",
       "      <td>809.98</td>\n",
       "      <td>33.811894</td>\n",
       "      <td>18.937598</td>\n",
       "      <td>49.574949</td>\n",
       "      <td>148.233938</td>\n",
       "      <td>264.675446</td>\n",
       "    </tr>\n",
       "    <tr>\n",
       "      <th>3</th>\n",
       "      <td>0</td>\n",
       "      <td>0</td>\n",
       "      <td>0</td>\n",
       "      <td>0</td>\n",
       "      <td>0</td>\n",
       "      <td>0</td>\n",
       "      <td>0</td>\n",
       "      <td>0</td>\n",
       "      <td>0</td>\n",
       "      <td>0</td>\n",
       "      <td>0</td>\n",
       "      <td>0</td>\n",
       "      <td>0</td>\n",
       "      <td>1</td>\n",
       "      <td>0</td>\n",
       "      <td>0</td>\n",
       "      <td>0</td>\n",
       "      <td>1</td>\n",
       "      <td>0</td>\n",
       "      <td>0</td>\n",
       "      <td>1</td>\n",
       "      <td>0</td>\n",
       "      <td>0</td>\n",
       "      <td>0</td>\n",
       "      <td>1</td>\n",
       "      <td>0</td>\n",
       "      <td>0</td>\n",
       "      <td>0</td>\n",
       "      <td>0</td>\n",
       "      <td>33.0</td>\n",
       "      <td>19114.12</td>\n",
       "      <td>3038.445000</td>\n",
       "      <td>3.0</td>\n",
       "      <td>4.0</td>\n",
       "      <td>3.0</td>\n",
       "      <td>4.0</td>\n",
       "      <td>4.0</td>\n",
       "      <td>5.0</td>\n",
       "      <td>11.27</td>\n",
       "      <td>4.0</td>\n",
       "      <td>809.98</td>\n",
       "      <td>32.430559</td>\n",
       "      <td>23.000000</td>\n",
       "      <td>49.574949</td>\n",
       "      <td>39.082511</td>\n",
       "      <td>343.826873</td>\n",
       "    </tr>\n",
       "    <tr>\n",
       "      <th>4</th>\n",
       "      <td>0</td>\n",
       "      <td>0</td>\n",
       "      <td>1</td>\n",
       "      <td>0</td>\n",
       "      <td>0</td>\n",
       "      <td>0</td>\n",
       "      <td>0</td>\n",
       "      <td>0</td>\n",
       "      <td>0</td>\n",
       "      <td>0</td>\n",
       "      <td>0</td>\n",
       "      <td>0</td>\n",
       "      <td>0</td>\n",
       "      <td>0</td>\n",
       "      <td>0</td>\n",
       "      <td>0</td>\n",
       "      <td>0</td>\n",
       "      <td>1</td>\n",
       "      <td>0</td>\n",
       "      <td>0</td>\n",
       "      <td>1</td>\n",
       "      <td>0</td>\n",
       "      <td>0</td>\n",
       "      <td>1</td>\n",
       "      <td>0</td>\n",
       "      <td>0</td>\n",
       "      <td>0</td>\n",
       "      <td>0</td>\n",
       "      <td>0</td>\n",
       "      <td>28.0</td>\n",
       "      <td>34847.84</td>\n",
       "      <td>3037.986667</td>\n",
       "      <td>2.0</td>\n",
       "      <td>4.0</td>\n",
       "      <td>6.0</td>\n",
       "      <td>1.0</td>\n",
       "      <td>3.0</td>\n",
       "      <td>1.0</td>\n",
       "      <td>5.42</td>\n",
       "      <td>5.0</td>\n",
       "      <td>605.03</td>\n",
       "      <td>25.926822</td>\n",
       "      <td>27.250000</td>\n",
       "      <td>18.816215</td>\n",
       "      <td>39.684018</td>\n",
       "      <td>485.298434</td>\n",
       "    </tr>\n",
       "  </tbody>\n",
       "</table>\n",
       "</div>"
      ],
      "text/plain": [
       "   Occupation_Accountant  Occupation_Architect  Occupation_Blank  \\\n",
       "0                      0                     0                 0   \n",
       "1                      0                     0                 0   \n",
       "2                      0                     0                 0   \n",
       "3                      0                     0                 0   \n",
       "4                      0                     0                 1   \n",
       "\n",
       "   Occupation_Developer  Occupation_Doctor  Occupation_Engineer  \\\n",
       "0                     0                  0                    0   \n",
       "1                     0                  0                    0   \n",
       "2                     0                  0                    0   \n",
       "3                     0                  0                    0   \n",
       "4                     0                  0                    0   \n",
       "\n",
       "   Occupation_Entrepreneur  Occupation_Journalist  Occupation_Lawyer  \\\n",
       "0                        0                      0                  0   \n",
       "1                        0                      0                  0   \n",
       "2                        0                      0                  0   \n",
       "3                        0                      0                  0   \n",
       "4                        0                      0                  0   \n",
       "\n",
       "   Occupation_Manager  Occupation_Mechanic  Occupation_Media_Manager  \\\n",
       "0                   0                    0                         0   \n",
       "1                   0                    0                         0   \n",
       "2                   0                    0                         0   \n",
       "3                   0                    0                         0   \n",
       "4                   0                    0                         0   \n",
       "\n",
       "   Occupation_Musician  Occupation_Scientist  Occupation_Teacher  \\\n",
       "0                    0                     1                   0   \n",
       "1                    0                     1                   0   \n",
       "2                    0                     1                   0   \n",
       "3                    0                     1                   0   \n",
       "4                    0                     0                   0   \n",
       "\n",
       "   Occupation_Writer  Credit_Mix_Bad  Credit_Mix_Good  Credit_Mix_Other  \\\n",
       "0                  0               0                1                 0   \n",
       "1                  0               0                1                 0   \n",
       "2                  0               0                1                 0   \n",
       "3                  0               0                1                 0   \n",
       "4                  0               0                1                 0   \n",
       "\n",
       "   Credit_Mix_Standard  Payment_of_Min_Amount_No  Payment_of_Min_Amount_Yes  \\\n",
       "0                    0                         1                          0   \n",
       "1                    0                         1                          0   \n",
       "2                    0                         1                          0   \n",
       "3                    0                         1                          0   \n",
       "4                    0                         1                          0   \n",
       "\n",
       "   Payment_Behaviour_Blanks  \\\n",
       "0                         0   \n",
       "1                         0   \n",
       "2                         0   \n",
       "3                         0   \n",
       "4                         0   \n",
       "\n",
       "   Payment_Behaviour_High_spent_Large_value_payments  \\\n",
       "0                                                  0   \n",
       "1                                                  0   \n",
       "2                                                  0   \n",
       "3                                                  0   \n",
       "4                                                  1   \n",
       "\n",
       "   Payment_Behaviour_High_spent_Medium_value_payments  \\\n",
       "0                                                  0    \n",
       "1                                                  1    \n",
       "2                                                  0    \n",
       "3                                                  1    \n",
       "4                                                  0    \n",
       "\n",
       "   Payment_Behaviour_High_spent_Small_value_payments  \\\n",
       "0                                                  0   \n",
       "1                                                  0   \n",
       "2                                                  0   \n",
       "3                                                  0   \n",
       "4                                                  0   \n",
       "\n",
       "   Payment_Behaviour_Low_spent_Large_value_payments  \\\n",
       "0                                                 0   \n",
       "1                                                 0   \n",
       "2                                                 0   \n",
       "3                                                 0   \n",
       "4                                                 0   \n",
       "\n",
       "   Payment_Behaviour_Low_spent_Medium_value_payments  \\\n",
       "0                                                  0   \n",
       "1                                                  0   \n",
       "2                                                  1   \n",
       "3                                                  0   \n",
       "4                                                  0   \n",
       "\n",
       "   Payment_Behaviour_Low_spent_Small_value_payments   Age  Annual_Income  \\\n",
       "0                                                 1  23.0       19114.12   \n",
       "1                                                 0  24.0       19114.12   \n",
       "2                                                 0  24.0       19114.12   \n",
       "3                                                 0  33.0       19114.12   \n",
       "4                                                 0  28.0       34847.84   \n",
       "\n",
       "   Monthly_Inhand_Salary  Num_Bank_Accounts  Num_Credit_Card  Interest_Rate  \\\n",
       "0            1824.843333                3.0              4.0            3.0   \n",
       "1            1824.843333                3.0              4.0            3.0   \n",
       "2            1824.843333                3.0              4.0            3.0   \n",
       "3            3038.445000                3.0              4.0            3.0   \n",
       "4            3037.986667                2.0              4.0            6.0   \n",
       "\n",
       "   Num_of_Loan  Delay_from_due_date  Num_of_Delayed_Payment  \\\n",
       "0          4.0                  3.0                     7.0   \n",
       "1          4.0                  3.0                     9.0   \n",
       "2          4.0                 17.0                     4.0   \n",
       "3          4.0                  4.0                     5.0   \n",
       "4          1.0                  3.0                     1.0   \n",
       "\n",
       "   Changed_Credit_Limit  Num_Credit_Inquiries  Outstanding_Debt  \\\n",
       "0                 11.27                   5.0            809.98   \n",
       "1                 13.27                   4.0            809.98   \n",
       "2                 12.27                   4.0            809.98   \n",
       "3                 11.27                   4.0            809.98   \n",
       "4                  5.42                   5.0            605.03   \n",
       "\n",
       "   Credit_Utilization_Ratio  Credit_History_Age  Total_EMI_per_month  \\\n",
       "0                 35.030402           22.750000            49.574949   \n",
       "1                 33.053114           22.833333            49.574949   \n",
       "2                 33.811894           18.937598            49.574949   \n",
       "3                 32.430559           23.000000            49.574949   \n",
       "4                 25.926822           27.250000            18.816215   \n",
       "\n",
       "   Amount_invested_monthly  Monthly_Balance  \n",
       "0               236.642682       186.266702  \n",
       "1                21.465380       361.444004  \n",
       "2               148.233938       264.675446  \n",
       "3                39.082511       343.826873  \n",
       "4                39.684018       485.298434  "
      ]
     },
     "execution_count": 139,
     "metadata": {},
     "output_type": "execute_result"
    }
   ],
   "source": [
    "final_testing.head()"
   ]
  },
  {
   "cell_type": "code",
   "execution_count": 140,
   "metadata": {
    "ExecuteTime": {
     "end_time": "2022-10-06T15:44:20.160818Z",
     "start_time": "2022-10-06T15:44:20.141674Z"
    },
    "execution": {
     "iopub.execute_input": "2022-09-27T14:38:08.265541Z",
     "iopub.status.busy": "2022-09-27T14:38:08.264871Z",
     "iopub.status.idle": "2022-09-27T14:38:08.272569Z",
     "shell.execute_reply": "2022-09-27T14:38:08.271418Z",
     "shell.execute_reply.started": "2022-09-27T14:38:08.265504Z"
    }
   },
   "outputs": [
    {
     "data": {
      "text/plain": [
       "Index(['Occupation_Accountant', 'Occupation_Architect', 'Occupation_Blank',\n",
       "       'Occupation_Developer', 'Occupation_Doctor', 'Occupation_Engineer',\n",
       "       'Occupation_Entrepreneur', 'Occupation_Journalist', 'Occupation_Lawyer',\n",
       "       'Occupation_Manager', 'Occupation_Mechanic', 'Occupation_Media_Manager',\n",
       "       'Occupation_Musician', 'Occupation_Scientist', 'Occupation_Teacher',\n",
       "       'Occupation_Writer', 'Credit_Mix_Bad', 'Credit_Mix_Good',\n",
       "       'Credit_Mix_Other', 'Credit_Mix_Standard', 'Payment_of_Min_Amount_No',\n",
       "       'Payment_of_Min_Amount_Yes', 'Payment_Behaviour_Blanks',\n",
       "       'Payment_Behaviour_High_spent_Large_value_payments',\n",
       "       'Payment_Behaviour_High_spent_Medium_value_payments',\n",
       "       'Payment_Behaviour_High_spent_Small_value_payments',\n",
       "       'Payment_Behaviour_Low_spent_Large_value_payments',\n",
       "       'Payment_Behaviour_Low_spent_Medium_value_payments',\n",
       "       'Payment_Behaviour_Low_spent_Small_value_payments', 'Age',\n",
       "       'Annual_Income', 'Monthly_Inhand_Salary', 'Num_Bank_Accounts',\n",
       "       'Num_Credit_Card', 'Interest_Rate', 'Num_of_Loan',\n",
       "       'Delay_from_due_date', 'Num_of_Delayed_Payment', 'Changed_Credit_Limit',\n",
       "       'Num_Credit_Inquiries', 'Outstanding_Debt', 'Credit_Utilization_Ratio',\n",
       "       'Credit_History_Age', 'Total_EMI_per_month', 'Amount_invested_monthly',\n",
       "       'Monthly_Balance', 'Credit_Score'],\n",
       "      dtype='object')"
      ]
     },
     "execution_count": 140,
     "metadata": {},
     "output_type": "execute_result"
    }
   ],
   "source": [
    "final_training.columns"
   ]
  },
  {
   "cell_type": "code",
   "execution_count": 141,
   "metadata": {
    "ExecuteTime": {
     "end_time": "2022-10-06T15:44:20.182470Z",
     "start_time": "2022-10-06T15:44:20.160818Z"
    },
    "execution": {
     "iopub.execute_input": "2022-09-27T14:38:08.316356Z",
     "iopub.status.busy": "2022-09-27T14:38:08.315662Z",
     "iopub.status.idle": "2022-09-27T14:38:08.322404Z",
     "shell.execute_reply": "2022-09-27T14:38:08.321566Z",
     "shell.execute_reply.started": "2022-09-27T14:38:08.316318Z"
    }
   },
   "outputs": [
    {
     "data": {
      "text/plain": [
       "Index(['Occupation_Accountant', 'Occupation_Architect', 'Occupation_Blank',\n",
       "       'Occupation_Developer', 'Occupation_Doctor', 'Occupation_Engineer',\n",
       "       'Occupation_Entrepreneur', 'Occupation_Journalist', 'Occupation_Lawyer',\n",
       "       'Occupation_Manager', 'Occupation_Mechanic', 'Occupation_Media_Manager',\n",
       "       'Occupation_Musician', 'Occupation_Scientist', 'Occupation_Teacher',\n",
       "       'Occupation_Writer', 'Credit_Mix_Bad', 'Credit_Mix_Good',\n",
       "       'Credit_Mix_Other', 'Credit_Mix_Standard', 'Payment_of_Min_Amount_No',\n",
       "       'Payment_of_Min_Amount_Yes', 'Payment_Behaviour_Blanks',\n",
       "       'Payment_Behaviour_High_spent_Large_value_payments',\n",
       "       'Payment_Behaviour_High_spent_Medium_value_payments',\n",
       "       'Payment_Behaviour_High_spent_Small_value_payments',\n",
       "       'Payment_Behaviour_Low_spent_Large_value_payments',\n",
       "       'Payment_Behaviour_Low_spent_Medium_value_payments',\n",
       "       'Payment_Behaviour_Low_spent_Small_value_payments', 'Age',\n",
       "       'Annual_Income', 'Monthly_Inhand_Salary', 'Num_Bank_Accounts',\n",
       "       'Num_Credit_Card', 'Interest_Rate', 'Num_of_Loan',\n",
       "       'Delay_from_due_date', 'Num_of_Delayed_Payment', 'Changed_Credit_Limit',\n",
       "       'Num_Credit_Inquiries', 'Outstanding_Debt', 'Credit_Utilization_Ratio',\n",
       "       'Credit_History_Age', 'Total_EMI_per_month', 'Amount_invested_monthly',\n",
       "       'Monthly_Balance'],\n",
       "      dtype='object')"
      ]
     },
     "execution_count": 141,
     "metadata": {},
     "output_type": "execute_result"
    }
   ],
   "source": [
    "final_testing.columns"
   ]
  },
  {
   "cell_type": "code",
   "execution_count": 142,
   "metadata": {
    "ExecuteTime": {
     "end_time": "2022-10-06T15:44:20.191268Z",
     "start_time": "2022-10-06T15:44:20.182470Z"
    },
    "execution": {
     "iopub.execute_input": "2022-09-27T14:38:08.349899Z",
     "iopub.status.busy": "2022-09-27T14:38:08.348630Z",
     "iopub.status.idle": "2022-09-27T14:38:08.358803Z",
     "shell.execute_reply": "2022-09-27T14:38:08.357652Z",
     "shell.execute_reply.started": "2022-09-27T14:38:08.349786Z"
    }
   },
   "outputs": [
    {
     "data": {
      "text/plain": [
       "array([ True,  True,  True,  True,  True,  True,  True,  True,  True,\n",
       "        True,  True,  True,  True,  True,  True,  True,  True,  True,\n",
       "        True,  True,  True,  True,  True,  True,  True,  True,  True,\n",
       "        True,  True,  True,  True,  True,  True,  True,  True,  True,\n",
       "        True,  True,  True,  True,  True,  True,  True,  True,  True,\n",
       "        True])"
      ]
     },
     "execution_count": 142,
     "metadata": {},
     "output_type": "execute_result"
    }
   ],
   "source": [
    "final_training.columns.drop(\"Credit_Score\") == final_testing.columns"
   ]
  },
  {
   "cell_type": "markdown",
   "metadata": {},
   "source": [
    "## Now we are ready for EDA"
   ]
  },
  {
   "cell_type": "code",
   "execution_count": 143,
   "metadata": {
    "ExecuteTime": {
     "end_time": "2022-10-06T15:44:20.220924Z",
     "start_time": "2022-10-06T15:44:20.191268Z"
    },
    "execution": {
     "iopub.execute_input": "2022-09-27T14:38:08.378809Z",
     "iopub.status.busy": "2022-09-27T14:38:08.378373Z",
     "iopub.status.idle": "2022-09-27T14:38:08.409943Z",
     "shell.execute_reply": "2022-09-27T14:38:08.408673Z",
     "shell.execute_reply.started": "2022-09-27T14:38:08.378771Z"
    }
   },
   "outputs": [
    {
     "data": {
      "text/html": [
       "<div>\n",
       "<style scoped>\n",
       "    .dataframe tbody tr th:only-of-type {\n",
       "        vertical-align: middle;\n",
       "    }\n",
       "\n",
       "    .dataframe tbody tr th {\n",
       "        vertical-align: top;\n",
       "    }\n",
       "\n",
       "    .dataframe thead th {\n",
       "        text-align: right;\n",
       "    }\n",
       "</style>\n",
       "<table border=\"1\" class=\"dataframe\">\n",
       "  <thead>\n",
       "    <tr style=\"text-align: right;\">\n",
       "      <th></th>\n",
       "      <th>Month</th>\n",
       "      <th>Age</th>\n",
       "      <th>Occupation</th>\n",
       "      <th>Annual_Income</th>\n",
       "      <th>Monthly_Inhand_Salary</th>\n",
       "      <th>Num_Bank_Accounts</th>\n",
       "      <th>Num_Credit_Card</th>\n",
       "      <th>Interest_Rate</th>\n",
       "      <th>Num_of_Loan</th>\n",
       "      <th>Delay_from_due_date</th>\n",
       "      <th>Num_of_Delayed_Payment</th>\n",
       "      <th>Changed_Credit_Limit</th>\n",
       "      <th>Num_Credit_Inquiries</th>\n",
       "      <th>Credit_Mix</th>\n",
       "      <th>Outstanding_Debt</th>\n",
       "      <th>Credit_Utilization_Ratio</th>\n",
       "      <th>Credit_History_Age</th>\n",
       "      <th>Payment_of_Min_Amount</th>\n",
       "      <th>Total_EMI_per_month</th>\n",
       "      <th>Amount_invested_monthly</th>\n",
       "      <th>Payment_Behaviour</th>\n",
       "      <th>Monthly_Balance</th>\n",
       "      <th>Credit_Score</th>\n",
       "    </tr>\n",
       "  </thead>\n",
       "  <tbody>\n",
       "    <tr>\n",
       "      <th>0</th>\n",
       "      <td>January</td>\n",
       "      <td>23.0</td>\n",
       "      <td>Scientist</td>\n",
       "      <td>19114.12</td>\n",
       "      <td>1824.843333</td>\n",
       "      <td>3.0</td>\n",
       "      <td>4.0</td>\n",
       "      <td>3.0</td>\n",
       "      <td>4.0</td>\n",
       "      <td>3.0</td>\n",
       "      <td>7.0</td>\n",
       "      <td>11.27</td>\n",
       "      <td>4.0</td>\n",
       "      <td>Other</td>\n",
       "      <td>809.98</td>\n",
       "      <td>26.822620</td>\n",
       "      <td>22.083333</td>\n",
       "      <td>No</td>\n",
       "      <td>49.574949</td>\n",
       "      <td>80.415295</td>\n",
       "      <td>High_spent_Small_value_payments</td>\n",
       "      <td>312.494089</td>\n",
       "      <td>0</td>\n",
       "    </tr>\n",
       "    <tr>\n",
       "      <th>1</th>\n",
       "      <td>February</td>\n",
       "      <td>23.0</td>\n",
       "      <td>Scientist</td>\n",
       "      <td>19114.12</td>\n",
       "      <td>3038.445000</td>\n",
       "      <td>3.0</td>\n",
       "      <td>4.0</td>\n",
       "      <td>3.0</td>\n",
       "      <td>4.0</td>\n",
       "      <td>17.0</td>\n",
       "      <td>14.0</td>\n",
       "      <td>11.27</td>\n",
       "      <td>4.0</td>\n",
       "      <td>Good</td>\n",
       "      <td>809.98</td>\n",
       "      <td>31.944960</td>\n",
       "      <td>18.432950</td>\n",
       "      <td>No</td>\n",
       "      <td>49.574949</td>\n",
       "      <td>118.280222</td>\n",
       "      <td>Low_spent_Large_value_payments</td>\n",
       "      <td>284.629163</td>\n",
       "      <td>0</td>\n",
       "    </tr>\n",
       "    <tr>\n",
       "      <th>2</th>\n",
       "      <td>March</td>\n",
       "      <td>33.0</td>\n",
       "      <td>Scientist</td>\n",
       "      <td>19114.12</td>\n",
       "      <td>3038.445000</td>\n",
       "      <td>3.0</td>\n",
       "      <td>4.0</td>\n",
       "      <td>3.0</td>\n",
       "      <td>4.0</td>\n",
       "      <td>3.0</td>\n",
       "      <td>7.0</td>\n",
       "      <td>9.47</td>\n",
       "      <td>4.0</td>\n",
       "      <td>Good</td>\n",
       "      <td>809.98</td>\n",
       "      <td>28.609352</td>\n",
       "      <td>22.250000</td>\n",
       "      <td>No</td>\n",
       "      <td>49.574949</td>\n",
       "      <td>81.699521</td>\n",
       "      <td>Low_spent_Medium_value_payments</td>\n",
       "      <td>331.209863</td>\n",
       "      <td>0</td>\n",
       "    </tr>\n",
       "    <tr>\n",
       "      <th>3</th>\n",
       "      <td>April</td>\n",
       "      <td>23.0</td>\n",
       "      <td>Scientist</td>\n",
       "      <td>19114.12</td>\n",
       "      <td>3038.445000</td>\n",
       "      <td>3.0</td>\n",
       "      <td>4.0</td>\n",
       "      <td>3.0</td>\n",
       "      <td>4.0</td>\n",
       "      <td>5.0</td>\n",
       "      <td>4.0</td>\n",
       "      <td>6.27</td>\n",
       "      <td>4.0</td>\n",
       "      <td>Good</td>\n",
       "      <td>809.98</td>\n",
       "      <td>31.377862</td>\n",
       "      <td>22.333333</td>\n",
       "      <td>No</td>\n",
       "      <td>49.574949</td>\n",
       "      <td>199.458074</td>\n",
       "      <td>Low_spent_Small_value_payments</td>\n",
       "      <td>223.451310</td>\n",
       "      <td>0</td>\n",
       "    </tr>\n",
       "    <tr>\n",
       "      <th>4</th>\n",
       "      <td>May</td>\n",
       "      <td>23.0</td>\n",
       "      <td>Scientist</td>\n",
       "      <td>19114.12</td>\n",
       "      <td>1824.843333</td>\n",
       "      <td>3.0</td>\n",
       "      <td>4.0</td>\n",
       "      <td>3.0</td>\n",
       "      <td>4.0</td>\n",
       "      <td>6.0</td>\n",
       "      <td>14.0</td>\n",
       "      <td>11.27</td>\n",
       "      <td>4.0</td>\n",
       "      <td>Good</td>\n",
       "      <td>809.98</td>\n",
       "      <td>24.797347</td>\n",
       "      <td>22.416667</td>\n",
       "      <td>No</td>\n",
       "      <td>49.574949</td>\n",
       "      <td>41.420153</td>\n",
       "      <td>High_spent_Medium_value_payments</td>\n",
       "      <td>341.489231</td>\n",
       "      <td>0</td>\n",
       "    </tr>\n",
       "  </tbody>\n",
       "</table>\n",
       "</div>"
      ],
      "text/plain": [
       "      Month   Age Occupation  Annual_Income  Monthly_Inhand_Salary  \\\n",
       "0   January  23.0  Scientist       19114.12            1824.843333   \n",
       "1  February  23.0  Scientist       19114.12            3038.445000   \n",
       "2     March  33.0  Scientist       19114.12            3038.445000   \n",
       "3     April  23.0  Scientist       19114.12            3038.445000   \n",
       "4       May  23.0  Scientist       19114.12            1824.843333   \n",
       "\n",
       "   Num_Bank_Accounts  Num_Credit_Card  Interest_Rate  Num_of_Loan  \\\n",
       "0                3.0              4.0            3.0          4.0   \n",
       "1                3.0              4.0            3.0          4.0   \n",
       "2                3.0              4.0            3.0          4.0   \n",
       "3                3.0              4.0            3.0          4.0   \n",
       "4                3.0              4.0            3.0          4.0   \n",
       "\n",
       "   Delay_from_due_date  Num_of_Delayed_Payment  Changed_Credit_Limit  \\\n",
       "0                  3.0                     7.0                 11.27   \n",
       "1                 17.0                    14.0                 11.27   \n",
       "2                  3.0                     7.0                  9.47   \n",
       "3                  5.0                     4.0                  6.27   \n",
       "4                  6.0                    14.0                 11.27   \n",
       "\n",
       "   Num_Credit_Inquiries Credit_Mix  Outstanding_Debt  \\\n",
       "0                   4.0      Other            809.98   \n",
       "1                   4.0       Good            809.98   \n",
       "2                   4.0       Good            809.98   \n",
       "3                   4.0       Good            809.98   \n",
       "4                   4.0       Good            809.98   \n",
       "\n",
       "   Credit_Utilization_Ratio  Credit_History_Age Payment_of_Min_Amount  \\\n",
       "0                 26.822620           22.083333                    No   \n",
       "1                 31.944960           18.432950                    No   \n",
       "2                 28.609352           22.250000                    No   \n",
       "3                 31.377862           22.333333                    No   \n",
       "4                 24.797347           22.416667                    No   \n",
       "\n",
       "   Total_EMI_per_month  Amount_invested_monthly  \\\n",
       "0            49.574949                80.415295   \n",
       "1            49.574949               118.280222   \n",
       "2            49.574949                81.699521   \n",
       "3            49.574949               199.458074   \n",
       "4            49.574949                41.420153   \n",
       "\n",
       "                  Payment_Behaviour  Monthly_Balance  Credit_Score  \n",
       "0   High_spent_Small_value_payments       312.494089             0  \n",
       "1    Low_spent_Large_value_payments       284.629163             0  \n",
       "2   Low_spent_Medium_value_payments       331.209863             0  \n",
       "3    Low_spent_Small_value_payments       223.451310             0  \n",
       "4  High_spent_Medium_value_payments       341.489231             0  "
      ]
     },
     "execution_count": 143,
     "metadata": {},
     "output_type": "execute_result"
    }
   ],
   "source": [
    "trial_df.head()"
   ]
  },
  {
   "cell_type": "markdown",
   "metadata": {},
   "source": [
    "#  Good=0, Poor=1, Standard=2"
   ]
  },
  {
   "cell_type": "code",
   "execution_count": 144,
   "metadata": {
    "ExecuteTime": {
     "end_time": "2022-10-06T15:44:20.611845Z",
     "start_time": "2022-10-06T15:44:20.220924Z"
    },
    "execution": {
     "iopub.execute_input": "2022-09-27T14:38:08.415423Z",
     "iopub.status.busy": "2022-09-27T14:38:08.415078Z",
     "iopub.status.idle": "2022-09-27T14:38:08.853041Z",
     "shell.execute_reply": "2022-09-27T14:38:08.851973Z",
     "shell.execute_reply.started": "2022-09-27T14:38:08.415393Z"
    }
   },
   "outputs": [
    {
     "data": {
      "text/plain": [
       "<AxesSubplot:xlabel='Month', ylabel='count'>"
      ]
     },
     "execution_count": 144,
     "metadata": {},
     "output_type": "execute_result"
    },
    {
     "data": {
      "image/png": "[encoded data removed]",
      "text/plain": [
       "<Figure size 1440x576 with 1 Axes>"
      ]
     },
     "metadata": {
      "needs_background": "light"
     },
     "output_type": "display_data"
    }
   ],
   "source": [
    "plt.figure(figsize=(20,8))\n",
    "sns.countplot(data=trial_df,x=\"Month\",hue=\"Credit_Score\")"
   ]
  },
  {
   "cell_type": "code",
   "execution_count": 145,
   "metadata": {
    "ExecuteTime": {
     "end_time": "2022-10-06T15:44:21.078242Z",
     "start_time": "2022-10-06T15:44:20.611845Z"
    },
    "execution": {
     "iopub.execute_input": "2022-09-27T14:38:08.855210Z",
     "iopub.status.busy": "2022-09-27T14:38:08.854885Z",
     "iopub.status.idle": "2022-09-27T14:38:09.410298Z",
     "shell.execute_reply": "2022-09-27T14:38:09.409129Z",
     "shell.execute_reply.started": "2022-09-27T14:38:08.855180Z"
    },
    "scrolled": false
   },
   "outputs": [
    {
     "data": {
      "text/plain": [
       "<AxesSubplot:xlabel='Occupation', ylabel='count'>"
      ]
     },
     "execution_count": 145,
     "metadata": {},
     "output_type": "execute_result"
    },
    {
     "data": {
      "image/png": "[encoded data removed]",
      "text/plain": [
       "<Figure size 1440x576 with 1 Axes>"
      ]
     },
     "metadata": {
      "needs_background": "light"
     },
     "output_type": "display_data"
    }
   ],
   "source": [
    "plt.figure(figsize=(20,8))\n",
    "sns.countplot(data=trial_df,x=\"Occupation\",hue=\"Credit_Score\")"
   ]
  },
  {
   "cell_type": "code",
   "execution_count": 146,
   "metadata": {
    "ExecuteTime": {
     "end_time": "2022-10-06T15:44:21.093656Z",
     "start_time": "2022-10-06T15:44:21.078242Z"
    },
    "execution": {
     "iopub.execute_input": "2022-09-27T14:38:09.412410Z",
     "iopub.status.busy": "2022-09-27T14:38:09.411602Z",
     "iopub.status.idle": "2022-09-27T14:38:09.419831Z",
     "shell.execute_reply": "2022-09-27T14:38:09.418445Z",
     "shell.execute_reply.started": "2022-09-27T14:38:09.412375Z"
    }
   },
   "outputs": [
    {
     "data": {
      "text/plain": [
       "Index(['Month', 'Age', 'Occupation', 'Annual_Income', 'Monthly_Inhand_Salary',\n",
       "       'Num_Bank_Accounts', 'Num_Credit_Card', 'Interest_Rate', 'Num_of_Loan',\n",
       "       'Delay_from_due_date', 'Num_of_Delayed_Payment', 'Changed_Credit_Limit',\n",
       "       'Num_Credit_Inquiries', 'Credit_Mix', 'Outstanding_Debt',\n",
       "       'Credit_Utilization_Ratio', 'Credit_History_Age',\n",
       "       'Payment_of_Min_Amount', 'Total_EMI_per_month',\n",
       "       'Amount_invested_monthly', 'Payment_Behaviour', 'Monthly_Balance',\n",
       "       'Credit_Score'],\n",
       "      dtype='object')"
      ]
     },
     "execution_count": 146,
     "metadata": {},
     "output_type": "execute_result"
    }
   ],
   "source": [
    "trial_df.columns"
   ]
  },
  {
   "cell_type": "code",
   "execution_count": 159,
   "metadata": {
    "ExecuteTime": {
     "end_time": "2022-10-06T15:47:29.107006Z",
     "start_time": "2022-10-06T15:47:28.173630Z"
    }
   },
   "outputs": [
    {
     "data": {
      "image/png": "[encoded data removed]",
      "text/plain": [
       "<Figure size 1440x576 with 1 Axes>"
      ]
     },
     "metadata": {
      "needs_background": "light"
     },
     "output_type": "display_data"
    }
   ],
   "source": [
    "plt.figure(figsize=(20,8))\n",
    "sns.barplot(data=trial_df,y=\"Num_of_Loan\",x=\"Credit_Score\")\n",
    "plt.xticks(rotation=90)\n",
    "plt.show()"
   ]
  },
  {
   "cell_type": "code",
   "execution_count": 158,
   "metadata": {
    "ExecuteTime": {
     "end_time": "2022-10-06T15:47:07.879688Z",
     "start_time": "2022-10-06T15:47:06.881715Z"
    }
   },
   "outputs": [
    {
     "data": {
      "image/png": "[encoded data removed]",
      "text/plain": [
       "<Figure size 1440x576 with 1 Axes>"
      ]
     },
     "metadata": {
      "needs_background": "light"
     },
     "output_type": "display_data"
    }
   ],
   "source": [
    "plt.figure(figsize=(20,8))\n",
    "sns.barplot(data=trial_df,y=\"Interest_Rate\",x=\"Credit_Score\")\n",
    "plt.xticks(rotation=90)\n",
    "plt.show()"
   ]
  },
  {
   "cell_type": "code",
   "execution_count": null,
   "metadata": {},
   "outputs": [],
   "source": []
  },
  {
   "cell_type": "code",
   "execution_count": 157,
   "metadata": {
    "ExecuteTime": {
     "end_time": "2022-10-06T15:46:30.859197Z",
     "start_time": "2022-10-06T15:46:29.813535Z"
    },
    "execution": {
     "iopub.execute_input": "2022-09-27T14:38:12.760689Z",
     "iopub.status.busy": "2022-09-27T14:38:12.760290Z",
     "iopub.status.idle": "2022-09-27T14:38:14.082086Z",
     "shell.execute_reply": "2022-09-27T14:38:14.080974Z",
     "shell.execute_reply.started": "2022-09-27T14:38:12.760640Z"
    }
   },
   "outputs": [
    {
     "data": {
      "image/png": "[encoded data removed]",
      "text/plain": [
       "<Figure size 1440x576 with 1 Axes>"
      ]
     },
     "metadata": {
      "needs_background": "light"
     },
     "output_type": "display_data"
    }
   ],
   "source": [
    "plt.figure(figsize=(20,8))\n",
    "sns.barplot(data=trial_df,y=\"Num_Credit_Card\",x=\"Credit_Score\")\n",
    "plt.xticks(rotation=90)\n",
    "plt.show()"
   ]
  },
  {
   "cell_type": "code",
   "execution_count": 162,
   "metadata": {
    "ExecuteTime": {
     "end_time": "2022-10-05T14:22:59.430646Z",
     "start_time": "2022-10-05T14:22:58.467341Z"
    },
    "execution": {
     "iopub.execute_input": "2022-09-27T14:38:14.085565Z",
     "iopub.status.busy": "2022-09-27T14:38:14.085124Z",
     "iopub.status.idle": "2022-09-27T14:38:15.420182Z",
     "shell.execute_reply": "2022-09-27T14:38:15.419041Z",
     "shell.execute_reply.started": "2022-09-27T14:38:14.085522Z"
    }
   },
   "outputs": [
    {
     "data": {
      "text/plain": [
       "<AxesSubplot:xlabel='Credit_Score', ylabel='Annual_Income'>"
      ]
     },
     "execution_count": 162,
     "metadata": {},
     "output_type": "execute_result"
    },
    {
     "data": {
      "image/png": "[encoded data removed]",
      "text/plain": [
       "<Figure size 1440x576 with 1 Axes>"
      ]
     },
     "metadata": {
      "needs_background": "light"
     },
     "output_type": "display_data"
    }
   ],
   "source": [
    "plt.figure(figsize=(20,8))\n",
    "sns.barplot(data=trial_df,y=\"Annual_Income\",x=\"Credit_Score\")"
   ]
  },
  {
   "cell_type": "code",
   "execution_count": 161,
   "metadata": {
    "ExecuteTime": {
     "end_time": "2022-10-06T15:58:07.479823Z",
     "start_time": "2022-10-06T15:58:06.553366Z"
    }
   },
   "outputs": [
    {
     "data": {
      "text/plain": [
       "<AxesSubplot:xlabel='Credit_Score', ylabel='Num_of_Delayed_Payment'>"
      ]
     },
     "execution_count": 161,
     "metadata": {},
     "output_type": "execute_result"
    },
    {
     "data": {
      "image/png": "[encoded data removed]",
      "text/plain": [
       "<Figure size 1440x576 with 1 Axes>"
      ]
     },
     "metadata": {
      "needs_background": "light"
     },
     "output_type": "display_data"
    }
   ],
   "source": [
    "plt.figure(figsize=(20,8))\n",
    "sns.barplot(data=trial_df,y=\"Num_of_Delayed_Payment\",x=\"Credit_Score\")"
   ]
  },
  {
   "cell_type": "code",
   "execution_count": 163,
   "metadata": {
    "ExecuteTime": {
     "end_time": "2022-10-05T14:23:00.429575Z",
     "start_time": "2022-10-05T14:22:59.431612Z"
    },
    "execution": {
     "iopub.execute_input": "2022-09-27T14:38:15.422384Z",
     "iopub.status.busy": "2022-09-27T14:38:15.422063Z",
     "iopub.status.idle": "2022-09-27T14:38:16.744452Z",
     "shell.execute_reply": "2022-09-27T14:38:16.742987Z",
     "shell.execute_reply.started": "2022-09-27T14:38:15.422355Z"
    }
   },
   "outputs": [
    {
     "data": {
      "text/plain": [
       "<AxesSubplot:xlabel='Credit_Score', ylabel='Monthly_Inhand_Salary'>"
      ]
     },
     "execution_count": 163,
     "metadata": {},
     "output_type": "execute_result"
    },
    {
     "data": {
      "image/png": "[encoded data removed]",
      "text/plain": [
       "<Figure size 1440x576 with 1 Axes>"
      ]
     },
     "metadata": {
      "needs_background": "light"
     },
     "output_type": "display_data"
    }
   ],
   "source": [
    "plt.figure(figsize=(20,8))\n",
    "sns.barplot(data=trial_df,y=\"Monthly_Inhand_Salary\",x=\"Credit_Score\")"
   ]
  },
  {
   "cell_type": "code",
   "execution_count": 164,
   "metadata": {
    "ExecuteTime": {
     "end_time": "2022-10-05T14:23:01.360450Z",
     "start_time": "2022-10-05T14:23:00.431570Z"
    },
    "execution": {
     "iopub.execute_input": "2022-09-27T14:38:16.747386Z",
     "iopub.status.busy": "2022-09-27T14:38:16.746315Z",
     "iopub.status.idle": "2022-09-27T14:38:18.172265Z",
     "shell.execute_reply": "2022-09-27T14:38:18.171166Z",
     "shell.execute_reply.started": "2022-09-27T14:38:16.747350Z"
    }
   },
   "outputs": [
    {
     "data": {
      "text/plain": [
       "<AxesSubplot:xlabel='Credit_Score', ylabel='Interest_Rate'>"
      ]
     },
     "execution_count": 164,
     "metadata": {},
     "output_type": "execute_result"
    },
    {
     "data": {
      "image/png": "[encoded data removed]",
      "text/plain": [
       "<Figure size 1440x576 with 1 Axes>"
      ]
     },
     "metadata": {
      "needs_background": "light"
     },
     "output_type": "display_data"
    }
   ],
   "source": [
    "plt.figure(figsize=(20,8))\n",
    "sns.barplot(data=trial_df,y=\"Interest_Rate\",x=\"Credit_Score\")"
   ]
  },
  {
   "cell_type": "code",
   "execution_count": 165,
   "metadata": {
    "ExecuteTime": {
     "end_time": "2022-10-05T14:23:02.326454Z",
     "start_time": "2022-10-05T14:23:01.361446Z"
    },
    "execution": {
     "iopub.execute_input": "2022-09-27T14:38:18.174415Z",
     "iopub.status.busy": "2022-09-27T14:38:18.173815Z",
     "iopub.status.idle": "2022-09-27T14:38:19.610164Z",
     "shell.execute_reply": "2022-09-27T14:38:19.608844Z",
     "shell.execute_reply.started": "2022-09-27T14:38:18.174381Z"
    }
   },
   "outputs": [
    {
     "data": {
      "text/plain": [
       "<AxesSubplot:xlabel='Credit_Score', ylabel='Delay_from_due_date'>"
      ]
     },
     "execution_count": 165,
     "metadata": {},
     "output_type": "execute_result"
    },
    {
     "data": {
      "image/png": "[encoded data removed]",
      "text/plain": [
       "<Figure size 1440x576 with 1 Axes>"
      ]
     },
     "metadata": {
      "needs_background": "light"
     },
     "output_type": "display_data"
    }
   ],
   "source": [
    "plt.figure(figsize=(20,8))\n",
    "sns.barplot(data=trial_df,y=\"Delay_from_due_date\",x=\"Credit_Score\")"
   ]
  },
  {
   "cell_type": "code",
   "execution_count": 166,
   "metadata": {
    "ExecuteTime": {
     "end_time": "2022-10-05T14:23:03.239827Z",
     "start_time": "2022-10-05T14:23:02.327412Z"
    },
    "execution": {
     "iopub.execute_input": "2022-09-27T14:38:19.612298Z",
     "iopub.status.busy": "2022-09-27T14:38:19.611824Z",
     "iopub.status.idle": "2022-09-27T14:38:21.000906Z",
     "shell.execute_reply": "2022-09-27T14:38:21.000096Z",
     "shell.execute_reply.started": "2022-09-27T14:38:19.612248Z"
    }
   },
   "outputs": [
    {
     "data": {
      "text/plain": [
       "<AxesSubplot:xlabel='Credit_Score', ylabel='Changed_Credit_Limit'>"
      ]
     },
     "execution_count": 166,
     "metadata": {},
     "output_type": "execute_result"
    },
    {
     "data": {
      "image/png": "[encoded data removed]",
      "text/plain": [
       "<Figure size 1440x576 with 1 Axes>"
      ]
     },
     "metadata": {
      "needs_background": "light"
     },
     "output_type": "display_data"
    }
   ],
   "source": [
    "plt.figure(figsize=(20,8))\n",
    "sns.barplot(data=trial_df,y=\"Changed_Credit_Limit\",x=\"Credit_Score\")"
   ]
  },
  {
   "cell_type": "code",
   "execution_count": 167,
   "metadata": {
    "ExecuteTime": {
     "end_time": "2022-10-05T14:23:04.172660Z",
     "start_time": "2022-10-05T14:23:03.240825Z"
    },
    "execution": {
     "iopub.execute_input": "2022-09-27T14:38:21.003204Z",
     "iopub.status.busy": "2022-09-27T14:38:21.002185Z",
     "iopub.status.idle": "2022-09-27T14:38:22.394086Z",
     "shell.execute_reply": "2022-09-27T14:38:22.392721Z",
     "shell.execute_reply.started": "2022-09-27T14:38:21.003168Z"
    }
   },
   "outputs": [
    {
     "data": {
      "text/plain": [
       "<AxesSubplot:xlabel='Credit_Score', ylabel='Outstanding_Debt'>"
      ]
     },
     "execution_count": 167,
     "metadata": {},
     "output_type": "execute_result"
    },
    {
     "data": {
      "image/png": "[encoded data removed]",
      "text/plain": [
       "<Figure size 1440x576 with 1 Axes>"
      ]
     },
     "metadata": {
      "needs_background": "light"
     },
     "output_type": "display_data"
    }
   ],
   "source": [
    "plt.figure(figsize=(20,8))\n",
    "sns.barplot(data=trial_df,y=\"Outstanding_Debt\",x=\"Credit_Score\")"
   ]
  },
  {
   "cell_type": "code",
   "execution_count": 168,
   "metadata": {
    "ExecuteTime": {
     "end_time": "2022-10-05T14:23:05.169595Z",
     "start_time": "2022-10-05T14:23:04.174693Z"
    },
    "execution": {
     "iopub.execute_input": "2022-09-27T14:38:22.395998Z",
     "iopub.status.busy": "2022-09-27T14:38:22.395625Z",
     "iopub.status.idle": "2022-09-27T14:38:23.802362Z",
     "shell.execute_reply": "2022-09-27T14:38:23.801164Z",
     "shell.execute_reply.started": "2022-09-27T14:38:22.395964Z"
    }
   },
   "outputs": [
    {
     "data": {
      "text/plain": [
       "<AxesSubplot:xlabel='Credit_Score', ylabel='Credit_Utilization_Ratio'>"
      ]
     },
     "execution_count": 168,
     "metadata": {},
     "output_type": "execute_result"
    },
    {
     "data": {
      "image/png": "[encoded data removed]",
      "text/plain": [
       "<Figure size 1440x576 with 1 Axes>"
      ]
     },
     "metadata": {
      "needs_background": "light"
     },
     "output_type": "display_data"
    }
   ],
   "source": [
    "plt.figure(figsize=(20,8))\n",
    "sns.barplot(data=trial_df,y=\"Credit_Utilization_Ratio\",x=\"Credit_Score\")"
   ]
  },
  {
   "cell_type": "code",
   "execution_count": 169,
   "metadata": {
    "ExecuteTime": {
     "end_time": "2022-10-05T14:23:06.085124Z",
     "start_time": "2022-10-05T14:23:05.171557Z"
    },
    "execution": {
     "iopub.execute_input": "2022-09-27T14:38:23.804616Z",
     "iopub.status.busy": "2022-09-27T14:38:23.803751Z",
     "iopub.status.idle": "2022-09-27T14:38:25.185537Z",
     "shell.execute_reply": "2022-09-27T14:38:25.184286Z",
     "shell.execute_reply.started": "2022-09-27T14:38:23.804568Z"
    }
   },
   "outputs": [
    {
     "data": {
      "text/plain": [
       "<AxesSubplot:xlabel='Credit_Score', ylabel='Credit_History_Age'>"
      ]
     },
     "execution_count": 169,
     "metadata": {},
     "output_type": "execute_result"
    },
    {
     "data": {
      "image/png": "[encoded data removed]",
      "text/plain": [
       "<Figure size 1440x576 with 1 Axes>"
      ]
     },
     "metadata": {
      "needs_background": "light"
     },
     "output_type": "display_data"
    }
   ],
   "source": [
    "plt.figure(figsize=(20,8))\n",
    "sns.barplot(data=trial_df,y=\"Credit_History_Age\",x=\"Credit_Score\")"
   ]
  },
  {
   "cell_type": "code",
   "execution_count": 170,
   "metadata": {
    "ExecuteTime": {
     "end_time": "2022-10-05T14:23:07.033278Z",
     "start_time": "2022-10-05T14:23:06.087058Z"
    },
    "execution": {
     "iopub.execute_input": "2022-09-27T14:38:25.187451Z",
     "iopub.status.busy": "2022-09-27T14:38:25.187134Z",
     "iopub.status.idle": "2022-09-27T14:38:26.584077Z",
     "shell.execute_reply": "2022-09-27T14:38:26.582771Z",
     "shell.execute_reply.started": "2022-09-27T14:38:25.187422Z"
    }
   },
   "outputs": [
    {
     "data": {
      "text/plain": [
       "<AxesSubplot:xlabel='Credit_Score', ylabel='Total_EMI_per_month'>"
      ]
     },
     "execution_count": 170,
     "metadata": {},
     "output_type": "execute_result"
    },
    {
     "data": {
      "image/png": "[encoded data removed]",
      "text/plain": [
       "<Figure size 1440x576 with 1 Axes>"
      ]
     },
     "metadata": {
      "needs_background": "light"
     },
     "output_type": "display_data"
    }
   ],
   "source": [
    "plt.figure(figsize=(20,8))\n",
    "sns.barplot(data=trial_df,y=\"Total_EMI_per_month\",x=\"Credit_Score\")"
   ]
  },
  {
   "cell_type": "code",
   "execution_count": 171,
   "metadata": {
    "ExecuteTime": {
     "end_time": "2022-10-05T14:23:07.964512Z",
     "start_time": "2022-10-05T14:23:07.034277Z"
    },
    "execution": {
     "iopub.execute_input": "2022-09-27T14:38:26.586577Z",
     "iopub.status.busy": "2022-09-27T14:38:26.586018Z",
     "iopub.status.idle": "2022-09-27T14:38:28.004141Z",
     "shell.execute_reply": "2022-09-27T14:38:28.002870Z",
     "shell.execute_reply.started": "2022-09-27T14:38:26.586530Z"
    }
   },
   "outputs": [
    {
     "data": {
      "text/plain": [
       "<AxesSubplot:xlabel='Credit_Score', ylabel='Amount_invested_monthly'>"
      ]
     },
     "execution_count": 171,
     "metadata": {},
     "output_type": "execute_result"
    },
    {
     "data": {
      "image/png": "[encoded data removed]",
      "text/plain": [
       "<Figure size 1440x576 with 1 Axes>"
      ]
     },
     "metadata": {
      "needs_background": "light"
     },
     "output_type": "display_data"
    }
   ],
   "source": [
    "plt.figure(figsize=(20,8))\n",
    "sns.barplot(data=trial_df,y=\"Amount_invested_monthly\",x=\"Credit_Score\")"
   ]
  },
  {
   "cell_type": "code",
   "execution_count": 172,
   "metadata": {
    "ExecuteTime": {
     "end_time": "2022-10-05T14:23:08.927107Z",
     "start_time": "2022-10-05T14:23:07.965516Z"
    },
    "execution": {
     "iopub.execute_input": "2022-09-27T14:38:28.006018Z",
     "iopub.status.busy": "2022-09-27T14:38:28.005647Z",
     "iopub.status.idle": "2022-09-27T14:38:29.408166Z",
     "shell.execute_reply": "2022-09-27T14:38:29.406864Z",
     "shell.execute_reply.started": "2022-09-27T14:38:28.005984Z"
    }
   },
   "outputs": [
    {
     "data": {
      "text/plain": [
       "<AxesSubplot:xlabel='Credit_Score', ylabel='Monthly_Balance'>"
      ]
     },
     "execution_count": 172,
     "metadata": {},
     "output_type": "execute_result"
    },
    {
     "data": {
      "image/png": "[encoded data removed]",
      "text/plain": [
       "<Figure size 1440x576 with 1 Axes>"
      ]
     },
     "metadata": {
      "needs_background": "light"
     },
     "output_type": "display_data"
    }
   ],
   "source": [
    "plt.figure(figsize=(20,8))\n",
    "sns.barplot(data=trial_df,y=\"Monthly_Balance\",x=\"Credit_Score\")"
   ]
  },
  {
   "cell_type": "code",
   "execution_count": 173,
   "metadata": {
    "ExecuteTime": {
     "end_time": "2022-10-05T14:23:09.539428Z",
     "start_time": "2022-10-05T14:23:08.927107Z"
    },
    "execution": {
     "iopub.execute_input": "2022-09-27T14:38:29.410217Z",
     "iopub.status.busy": "2022-09-27T14:38:29.409872Z",
     "iopub.status.idle": "2022-09-27T14:38:30.065986Z",
     "shell.execute_reply": "2022-09-27T14:38:30.064507Z",
     "shell.execute_reply.started": "2022-09-27T14:38:29.410186Z"
    }
   },
   "outputs": [],
   "source": [
    "correlation = final_training.corr()"
   ]
  },
  {
   "cell_type": "code",
   "execution_count": 174,
   "metadata": {
    "ExecuteTime": {
     "end_time": "2022-10-05T14:23:09.554683Z",
     "start_time": "2022-10-05T14:23:09.539428Z"
    },
    "execution": {
     "iopub.execute_input": "2022-09-27T14:38:30.068052Z",
     "iopub.status.busy": "2022-09-27T14:38:30.067569Z",
     "iopub.status.idle": "2022-09-27T14:38:30.079353Z",
     "shell.execute_reply": "2022-09-27T14:38:30.077935Z",
     "shell.execute_reply.started": "2022-09-27T14:38:30.068005Z"
    }
   },
   "outputs": [
    {
     "data": {
      "text/plain": [
       "Credit_Score                                          1.000000\n",
       "Credit_Mix_Standard                                   0.316132\n",
       "Payment_of_Min_Amount_Yes                             0.243400\n",
       "Changed_Credit_Limit                                  0.185117\n",
       "Num_of_Delayed_Payment                                0.184748\n",
       "Num_Bank_Accounts                                     0.175975\n",
       "Interest_Rate                                         0.119451\n",
       "Delay_from_due_date                                   0.118345\n",
       "Num_Credit_Card                                       0.112387\n",
       "Num_Credit_Inquiries                                  0.066175\n",
       "Num_of_Loan                                           0.060368\n",
       "Payment_Behaviour_Low_spent_Small_value_payments      0.024717\n",
       "Occupation_Writer                                     0.019548\n",
       "Outstanding_Debt                                      0.015313\n",
       "Credit_Mix_Bad                                        0.009738\n",
       "Occupation_Mechanic                                   0.006643\n",
       "Occupation_Lawyer                                     0.006172\n",
       "Occupation_Doctor                                     0.006041\n",
       "Occupation_Architect                                  0.004650\n",
       "Occupation_Media_Manager                              0.003366\n",
       "Occupation_Blank                                      0.002494\n",
       "Payment_Behaviour_Low_spent_Large_value_payments      0.002104\n",
       "Payment_Behaviour_High_spent_Small_value_payments     0.000650\n",
       "Occupation_Developer                                 -0.001558\n",
       "Credit_Mix_Other                                     -0.001828\n",
       "Total_EMI_per_month                                  -0.002126\n",
       "Occupation_Entrepreneur                              -0.003491\n",
       "Occupation_Manager                                   -0.003653\n",
       "Occupation_Musician                                  -0.003786\n",
       "Payment_Behaviour_Blanks                             -0.003813\n",
       "Occupation_Accountant                                -0.004343\n",
       "Payment_Behaviour_High_spent_Medium_value_payments   -0.005043\n",
       "Occupation_Scientist                                 -0.005513\n",
       "Occupation_Journalist                                -0.007482\n",
       "Payment_Behaviour_Low_spent_Medium_value_payments    -0.008071\n",
       "Occupation_Teacher                                   -0.008813\n",
       "Occupation_Engineer                                  -0.010211\n",
       "Credit_Utilization_Ratio                             -0.014400\n",
       "Payment_Behaviour_High_spent_Large_value_payments    -0.017168\n",
       "Amount_invested_monthly                              -0.017863\n",
       "Monthly_Balance                                      -0.022250\n",
       "Monthly_Inhand_Salary                                -0.040773\n",
       "Annual_Income                                        -0.050406\n",
       "Age                                                  -0.056491\n",
       "Credit_History_Age                                   -0.097560\n",
       "Payment_of_Min_Amount_No                             -0.243400\n",
       "Credit_Mix_Good                                      -0.361818\n",
       "Name: Credit_Score, dtype: float64"
      ]
     },
     "execution_count": 174,
     "metadata": {},
     "output_type": "execute_result"
    }
   ],
   "source": [
    "correlation[\"Credit_Score\"].sort_values(ascending=False)"
   ]
  },
  {
   "cell_type": "code",
   "execution_count": 175,
   "metadata": {
    "ExecuteTime": {
     "end_time": "2022-10-05T14:23:09.582303Z",
     "start_time": "2022-10-05T14:23:09.555207Z"
    },
    "execution": {
     "iopub.execute_input": "2022-09-27T15:30:32.076504Z",
     "iopub.status.busy": "2022-09-27T15:30:32.076048Z",
     "iopub.status.idle": "2022-09-27T15:30:32.089430Z",
     "shell.execute_reply": "2022-09-27T15:30:32.088166Z",
     "shell.execute_reply.started": "2022-09-27T15:30:32.076465Z"
    }
   },
   "outputs": [],
   "source": [
    "X=final_training.drop(\"Credit_Score\",1)\n",
    "Y=final_training[\"Credit_Score\"]"
   ]
  },
  {
   "cell_type": "code",
   "execution_count": 176,
   "metadata": {
    "ExecuteTime": {
     "end_time": "2022-10-05T14:23:09.597946Z",
     "start_time": "2022-10-05T14:23:09.582303Z"
    },
    "execution": {
     "iopub.execute_input": "2022-09-27T14:38:30.108731Z",
     "iopub.status.busy": "2022-09-27T14:38:30.108087Z",
     "iopub.status.idle": "2022-09-27T14:38:30.119849Z",
     "shell.execute_reply": "2022-09-27T14:38:30.118478Z",
     "shell.execute_reply.started": "2022-09-27T14:38:30.108691Z"
    }
   },
   "outputs": [
    {
     "data": {
      "text/plain": [
       "Occupation_Accountant                                   uint8\n",
       "Occupation_Architect                                    uint8\n",
       "Occupation_Blank                                        uint8\n",
       "Occupation_Developer                                    uint8\n",
       "Occupation_Doctor                                       uint8\n",
       "Occupation_Engineer                                     uint8\n",
       "Occupation_Entrepreneur                                 uint8\n",
       "Occupation_Journalist                                   uint8\n",
       "Occupation_Lawyer                                       uint8\n",
       "Occupation_Manager                                      uint8\n",
       "Occupation_Mechanic                                     uint8\n",
       "Occupation_Media_Manager                                uint8\n",
       "Occupation_Musician                                     uint8\n",
       "Occupation_Scientist                                    uint8\n",
       "Occupation_Teacher                                      uint8\n",
       "Occupation_Writer                                       uint8\n",
       "Credit_Mix_Bad                                          uint8\n",
       "Credit_Mix_Good                                         uint8\n",
       "Credit_Mix_Other                                        uint8\n",
       "Credit_Mix_Standard                                     uint8\n",
       "Payment_of_Min_Amount_No                                uint8\n",
       "Payment_of_Min_Amount_Yes                               uint8\n",
       "Payment_Behaviour_Blanks                                uint8\n",
       "Payment_Behaviour_High_spent_Large_value_payments       uint8\n",
       "Payment_Behaviour_High_spent_Medium_value_payments      uint8\n",
       "Payment_Behaviour_High_spent_Small_value_payments       uint8\n",
       "Payment_Behaviour_Low_spent_Large_value_payments        uint8\n",
       "Payment_Behaviour_Low_spent_Medium_value_payments       uint8\n",
       "Payment_Behaviour_Low_spent_Small_value_payments        uint8\n",
       "Age                                                   float64\n",
       "Annual_Income                                         float64\n",
       "Monthly_Inhand_Salary                                 float64\n",
       "Num_Bank_Accounts                                     float64\n",
       "Num_Credit_Card                                       float64\n",
       "Interest_Rate                                         float64\n",
       "Num_of_Loan                                           float64\n",
       "Delay_from_due_date                                   float64\n",
       "Num_of_Delayed_Payment                                float64\n",
       "Changed_Credit_Limit                                  float64\n",
       "Num_Credit_Inquiries                                  float64\n",
       "Outstanding_Debt                                      float64\n",
       "Credit_Utilization_Ratio                              float64\n",
       "Credit_History_Age                                    float64\n",
       "Total_EMI_per_month                                   float64\n",
       "Amount_invested_monthly                               float64\n",
       "Monthly_Balance                                       float64\n",
       "dtype: object"
      ]
     },
     "execution_count": 176,
     "metadata": {},
     "output_type": "execute_result"
    }
   ],
   "source": [
    "X.dtypes"
   ]
  },
  {
   "cell_type": "markdown",
   "metadata": {},
   "source": [
    "# Let's find important columns for our dataset using statistic"
   ]
  },
  {
   "cell_type": "code",
   "execution_count": 177,
   "metadata": {
    "ExecuteTime": {
     "end_time": "2022-10-05T14:23:10.363104Z",
     "start_time": "2022-10-05T14:23:09.600261Z"
    },
    "execution": {
     "iopub.execute_input": "2022-09-27T14:38:30.122077Z",
     "iopub.status.busy": "2022-09-27T14:38:30.121719Z",
     "iopub.status.idle": "2022-09-27T14:38:30.130888Z",
     "shell.execute_reply": "2022-09-27T14:38:30.129420Z",
     "shell.execute_reply.started": "2022-09-27T14:38:30.122044Z"
    }
   },
   "outputs": [],
   "source": [
    "import statsmodels.api as sm"
   ]
  },
  {
   "cell_type": "code",
   "execution_count": 237,
   "metadata": {
    "ExecuteTime": {
     "end_time": "2022-10-05T14:39:47.697202Z",
     "start_time": "2022-10-05T14:39:47.205112Z"
    },
    "execution": {
     "iopub.execute_input": "2022-09-27T14:38:30.133697Z",
     "iopub.status.busy": "2022-09-27T14:38:30.132605Z",
     "iopub.status.idle": "2022-09-27T14:38:33.215788Z",
     "shell.execute_reply": "2022-09-27T14:38:33.214153Z",
     "shell.execute_reply.started": "2022-09-27T14:38:30.133519Z"
    }
   },
   "outputs": [
    {
     "name": "stdout",
     "output_type": "stream",
     "text": [
      "Index(['Age', 'Num_of_Loan', 'Annual_Income', 'Num_Bank_Accounts',\n",
      "       'Monthly_Inhand_Salary', 'Monthly_Balance', 'Delay_from_due_date',\n",
      "       'Credit_Mix_Bad', 'Num_of_Delayed_Payment', 'Interest_Rate',\n",
      "       'Outstanding_Debt', 'Num_Credit_Card', 'Num_Credit_Inquiries',\n",
      "       'Changed_Credit_Limit', 'Payment_of_Min_Amount_Yes', 'Credit_Mix_Good',\n",
      "       'Credit_Mix_Standard', 'Payment_of_Min_Amount_No'],\n",
      "      dtype='object')  \n",
      "Index(['Num_of_Loan', 'Annual_Income', 'Monthly_Inhand_Salary',\n",
      "       'Num_Bank_Accounts', 'Monthly_Balance', 'Delay_from_due_date',\n",
      "       'Credit_Mix_Bad', 'Num_of_Delayed_Payment', 'Interest_Rate',\n",
      "       'Outstanding_Debt', 'Num_Credit_Card', 'Num_Credit_Inquiries',\n",
      "       'Changed_Credit_Limit', 'Payment_of_Min_Amount_Yes', 'Credit_Mix_Good',\n",
      "       'Credit_Mix_Standard', 'Payment_of_Min_Amount_No'],\n",
      "      dtype='object')  \n"
     ]
    }
   ],
   "source": [
    "X_new =X.copy()\n",
    "while 1<2:\n",
    "\n",
    "    model = sm.OLS(Y, X_new).fit()\n",
    "    new_df = pd.DataFrame()\n",
    "    new_df[\"feature\"] = model.params\n",
    "    new_df[\"p_value\"] = model.pvalues\n",
    "    new_df = new_df.sort_values(by=\"p_value\",ascending=False)\n",
    "    new_df=new_df.reset_index()\n",
    "    new_df=new_df.drop(\"feature\",1)\n",
    "    new_df[\"feature\"] = new_df[\"index\"]\n",
    "    new_df = new_df.drop(\"index\",1)\n",
    "    if new_df.iloc[0,0] >0.05:\n",
    "        new_df = new_df.drop(0,0)\n",
    "        new_df =new_df.reset_index().drop(\"index\",1)\n",
    "    else:\n",
    "        break\n",
    "    X_new = X_new[list(new_df[\"feature\"])]\n",
    "    print(X_new.columns,\" \")"
   ]
  },
  {
   "cell_type": "code",
   "execution_count": 238,
   "metadata": {
    "ExecuteTime": {
     "end_time": "2022-10-05T14:39:47.776236Z",
     "start_time": "2022-10-05T14:39:47.699441Z"
    },
    "execution": {
     "iopub.execute_input": "2022-09-27T14:42:49.884305Z",
     "iopub.status.busy": "2022-09-27T14:42:49.883850Z",
     "iopub.status.idle": "2022-09-27T14:42:50.002451Z",
     "shell.execute_reply": "2022-09-27T14:42:50.001072Z",
     "shell.execute_reply.started": "2022-09-27T14:42:49.884270Z"
    }
   },
   "outputs": [],
   "source": [
    "from sklearn.feature_selection import SelectKBest,f_classif\n",
    "FI_1 = SelectKBest(f_classif,k=\"all\")\n",
    "FI_1.fit(X,Y)\n",
    "New_FI = pd.DataFrame()\n",
    "New_FI[\"Name\"]=FI_1.feature_names_in_\n",
    "New_FI[\"Importance\"]=FI_1.scores_\n",
    "New_FI=New_FI.sort_values(by=\"Importance\",ascending=False)"
   ]
  },
  {
   "cell_type": "code",
   "execution_count": 239,
   "metadata": {
    "ExecuteTime": {
     "end_time": "2022-10-05T14:39:47.792192Z",
     "start_time": "2022-10-05T14:39:47.778230Z"
    },
    "execution": {
     "iopub.execute_input": "2022-09-27T15:27:14.660962Z",
     "iopub.status.busy": "2022-09-27T15:27:14.660518Z",
     "iopub.status.idle": "2022-09-27T15:27:14.667395Z",
     "shell.execute_reply": "2022-09-27T15:27:14.666078Z",
     "shell.execute_reply.started": "2022-09-27T15:27:14.660911Z"
    }
   },
   "outputs": [],
   "source": [
    "filt=New_FI[\"Importance\"]>4000\n",
    "imp_cols=New_FI.loc[filt][\"Name\"]"
   ]
  },
  {
   "cell_type": "code",
   "execution_count": 240,
   "metadata": {
    "ExecuteTime": {
     "end_time": "2022-10-05T14:39:47.808150Z",
     "start_time": "2022-10-05T14:39:47.795186Z"
    },
    "execution": {
     "iopub.execute_input": "2022-09-27T15:29:32.126728Z",
     "iopub.status.busy": "2022-09-27T15:29:32.126296Z",
     "iopub.status.idle": "2022-09-27T15:29:32.133487Z",
     "shell.execute_reply": "2022-09-27T15:29:32.131897Z",
     "shell.execute_reply.started": "2022-09-27T15:29:32.126694Z"
    }
   },
   "outputs": [],
   "source": [
    "imp_cols=list(imp_cols.iloc[:,])"
   ]
  },
  {
   "cell_type": "code",
   "execution_count": 241,
   "metadata": {
    "ExecuteTime": {
     "end_time": "2022-10-05T14:39:47.824110Z",
     "start_time": "2022-10-05T14:39:47.810145Z"
    },
    "execution": {
     "iopub.execute_input": "2022-09-27T15:29:33.360952Z",
     "iopub.status.busy": "2022-09-27T15:29:33.360204Z",
     "iopub.status.idle": "2022-09-27T15:29:33.368952Z",
     "shell.execute_reply": "2022-09-27T15:29:33.367817Z",
     "shell.execute_reply.started": "2022-09-27T15:29:33.360895Z"
    }
   },
   "outputs": [
    {
     "data": {
      "text/plain": [
       "['Interest_Rate',\n",
       " 'Credit_Mix_Good',\n",
       " 'Num_Credit_Inquiries',\n",
       " 'Payment_of_Min_Amount_Yes',\n",
       " 'Payment_of_Min_Amount_No',\n",
       " 'Outstanding_Debt',\n",
       " 'Num_Credit_Card',\n",
       " 'Delay_from_due_date',\n",
       " 'Num_Bank_Accounts',\n",
       " 'Credit_History_Age',\n",
       " 'Num_of_Delayed_Payment',\n",
       " 'Credit_Mix_Bad',\n",
       " 'Num_of_Loan',\n",
       " 'Credit_Mix_Standard']"
      ]
     },
     "execution_count": 241,
     "metadata": {},
     "output_type": "execute_result"
    }
   ],
   "source": [
    "imp_cols"
   ]
  },
  {
   "cell_type": "code",
   "execution_count": 242,
   "metadata": {
    "ExecuteTime": {
     "end_time": "2022-10-05T14:39:47.839069Z",
     "start_time": "2022-10-05T14:39:47.826104Z"
    }
   },
   "outputs": [
    {
     "data": {
      "text/plain": [
       "(100000, 19)"
      ]
     },
     "execution_count": 242,
     "metadata": {},
     "output_type": "execute_result"
    }
   ],
   "source": [
    "X.shape"
   ]
  },
  {
   "cell_type": "code",
   "execution_count": 243,
   "metadata": {
    "ExecuteTime": {
     "end_time": "2022-10-05T14:39:47.854027Z",
     "start_time": "2022-10-05T14:39:47.842061Z"
    }
   },
   "outputs": [
    {
     "data": {
      "text/plain": [
       "14"
      ]
     },
     "execution_count": 243,
     "metadata": {},
     "output_type": "execute_result"
    }
   ],
   "source": [
    "len(imp_cols)"
   ]
  },
  {
   "cell_type": "code",
   "execution_count": 244,
   "metadata": {
    "ExecuteTime": {
     "end_time": "2022-10-05T14:39:48.215653Z",
     "start_time": "2022-10-05T14:39:47.858017Z"
    },
    "execution": {
     "iopub.execute_input": "2022-09-27T15:29:57.614999Z",
     "iopub.status.busy": "2022-09-27T15:29:57.614569Z",
     "iopub.status.idle": "2022-09-27T15:29:58.529555Z",
     "shell.execute_reply": "2022-09-27T15:29:58.528338Z",
     "shell.execute_reply.started": "2022-09-27T15:29:57.614964Z"
    }
   },
   "outputs": [
    {
     "data": {
      "text/plain": [
       "<AxesSubplot:xlabel='Importance', ylabel='Name'>"
      ]
     },
     "execution_count": 244,
     "metadata": {},
     "output_type": "execute_result"
    },
    {
     "data": {
      "image/png": "[encoded data removed]",
      "text/plain": [
       "<Figure size 504x1440 with 1 Axes>"
      ]
     },
     "metadata": {
      "needs_background": "light"
     },
     "output_type": "display_data"
    }
   ],
   "source": [
    "plt.figure(figsize=(7,20))\n",
    "sns.barplot(data=New_FI,x=\"Importance\",y=\"Name\")"
   ]
  },
  {
   "cell_type": "code",
   "execution_count": 245,
   "metadata": {
    "ExecuteTime": {
     "end_time": "2022-10-05T14:39:48.231788Z",
     "start_time": "2022-10-05T14:39:48.216560Z"
    },
    "execution": {
     "iopub.execute_input": "2022-09-27T15:42:25.708725Z",
     "iopub.status.busy": "2022-09-27T15:42:25.708259Z",
     "iopub.status.idle": "2022-09-27T15:42:25.725770Z",
     "shell.execute_reply": "2022-09-27T15:42:25.724675Z",
     "shell.execute_reply.started": "2022-09-27T15:42:25.708686Z"
    }
   },
   "outputs": [],
   "source": [
    "X=X[imp_cols]"
   ]
  },
  {
   "cell_type": "code",
   "execution_count": 246,
   "metadata": {
    "ExecuteTime": {
     "end_time": "2022-10-05T14:39:48.302710Z",
     "start_time": "2022-10-05T14:39:48.234162Z"
    },
    "execution": {
     "iopub.execute_input": "2022-09-27T15:42:25.733165Z",
     "iopub.status.busy": "2022-09-27T15:42:25.732138Z",
     "iopub.status.idle": "2022-09-27T15:42:25.801425Z",
     "shell.execute_reply": "2022-09-27T15:42:25.800507Z",
     "shell.execute_reply.started": "2022-09-27T15:42:25.733117Z"
    }
   },
   "outputs": [],
   "source": [
    "from sklearn.model_selection import train_test_split\n",
    "\n",
    "xtrain,xtest,ytrain,ytest = train_test_split(X,Y,train_size=0.8,random_state=42,stratify=Y)"
   ]
  },
  {
   "cell_type": "code",
   "execution_count": 247,
   "metadata": {
    "ExecuteTime": {
     "end_time": "2022-10-05T14:39:48.315845Z",
     "start_time": "2022-10-05T14:39:48.304670Z"
    },
    "execution": {
     "iopub.execute_input": "2022-09-27T15:42:25.803876Z",
     "iopub.status.busy": "2022-09-27T15:42:25.803195Z",
     "iopub.status.idle": "2022-09-27T15:42:25.809248Z",
     "shell.execute_reply": "2022-09-27T15:42:25.807715Z",
     "shell.execute_reply.started": "2022-09-27T15:42:25.803840Z"
    }
   },
   "outputs": [],
   "source": [
    "from sklearn.ensemble import RandomForestClassifier"
   ]
  },
  {
   "cell_type": "code",
   "execution_count": 248,
   "metadata": {
    "ExecuteTime": {
     "end_time": "2022-10-05T14:39:48.331538Z",
     "start_time": "2022-10-05T14:39:48.315845Z"
    },
    "execution": {
     "iopub.execute_input": "2022-09-27T15:42:25.838526Z",
     "iopub.status.busy": "2022-09-27T15:42:25.838112Z",
     "iopub.status.idle": "2022-09-27T15:42:25.845974Z",
     "shell.execute_reply": "2022-09-27T15:42:25.844843Z",
     "shell.execute_reply.started": "2022-09-27T15:42:25.838491Z"
    }
   },
   "outputs": [],
   "source": [
    "forest = RandomForestClassifier(n_estimators=100,\n",
    "    criterion='gini',\n",
    "    max_depth=None,\n",
    "    min_samples_split=2,\n",
    "    min_samples_leaf=1,\n",
    "    min_weight_fraction_leaf=0.0,\n",
    "    max_features='auto',\n",
    "    max_leaf_nodes=None,\n",
    "    min_impurity_decrease=0.0,\n",
    "    bootstrap=True,\n",
    "    oob_score=True,\n",
    "    n_jobs=-1,\n",
    "    random_state=42,\n",
    "    verbose=1,\n",
    "    warm_start=False,\n",
    "    class_weight=None,\n",
    "    ccp_alpha=0.0,\n",
    "    max_samples=None)"
   ]
  },
  {
   "cell_type": "code",
   "execution_count": 249,
   "metadata": {
    "ExecuteTime": {
     "end_time": "2022-10-05T14:39:53.017493Z",
     "start_time": "2022-10-05T14:39:48.331538Z"
    },
    "execution": {
     "iopub.execute_input": "2022-09-27T15:42:25.879804Z",
     "iopub.status.busy": "2022-09-27T15:42:25.879177Z",
     "iopub.status.idle": "2022-09-27T15:42:40.642345Z",
     "shell.execute_reply": "2022-09-27T15:42:40.640817Z",
     "shell.execute_reply.started": "2022-09-27T15:42:25.879766Z"
    }
   },
   "outputs": [
    {
     "name": "stderr",
     "output_type": "stream",
     "text": [
      "[Parallel(n_jobs=-1)]: Using backend ThreadingBackend with 8 concurrent workers.\n",
      "[Parallel(n_jobs=-1)]: Done  34 tasks      | elapsed:    1.1s\n",
      "[Parallel(n_jobs=-1)]: Done 100 out of 100 | elapsed:    3.2s finished\n"
     ]
    },
    {
     "data": {
      "text/html": [
       "<style>#sk-container-id-7 {color: black;background-color: white;}#sk-container-id-7 pre{padding: 0;}#sk-container-id-7 div.sk-toggleable {background-color: white;}#sk-container-id-7 label.sk-toggleable__label {cursor: pointer;display: block;width: 100%;margin-bottom: 0;padding: 0.3em;box-sizing: border-box;text-align: center;}#sk-container-id-7 label.sk-toggleable__label-arrow:before {content: \"▸\";float: left;margin-right: 0.25em;color: #696969;}#sk-container-id-7 label.sk-toggleable__label-arrow:hover:before {color: black;}#sk-container-id-7 div.sk-estimator:hover label.sk-toggleable__label-arrow:before {color: black;}#sk-container-id-7 div.sk-toggleable__content {max-height: 0;max-width: 0;overflow: hidden;text-align: left;background-color: #f0f8ff;}#sk-container-id-7 div.sk-toggleable__content pre {margin: 0.2em;color: black;border-radius: 0.25em;background-color: #f0f8ff;}#sk-container-id-7 input.sk-toggleable__control:checked~div.sk-toggleable__content {max-height: 200px;max-width: 100%;overflow: auto;}#sk-container-id-7 input.sk-toggleable__control:checked~label.sk-toggleable__label-arrow:before {content: \"▾\";}#sk-container-id-7 div.sk-estimator input.sk-toggleable__control:checked~label.sk-toggleable__label {background-color: #d4ebff;}#sk-container-id-7 div.sk-label input.sk-toggleable__control:checked~label.sk-toggleable__label {background-color: #d4ebff;}#sk-container-id-7 input.sk-hidden--visually {border: 0;clip: rect(1px 1px 1px 1px);clip: rect(1px, 1px, 1px, 1px);height: 1px;margin: -1px;overflow: hidden;padding: 0;position: absolute;width: 1px;}#sk-container-id-7 div.sk-estimator {font-family: monospace;background-color: #f0f8ff;border: 1px dotted black;border-radius: 0.25em;box-sizing: border-box;margin-bottom: 0.5em;}#sk-container-id-7 div.sk-estimator:hover {background-color: #d4ebff;}#sk-container-id-7 div.sk-parallel-item::after {content: \"\";width: 100%;border-bottom: 1px solid gray;flex-grow: 1;}#sk-container-id-7 div.sk-label:hover label.sk-toggleable__label {background-color: #d4ebff;}#sk-container-id-7 div.sk-serial::before {content: \"\";position: absolute;border-left: 1px solid gray;box-sizing: border-box;top: 0;bottom: 0;left: 50%;z-index: 0;}#sk-container-id-7 div.sk-serial {display: flex;flex-direction: column;align-items: center;background-color: white;padding-right: 0.2em;padding-left: 0.2em;position: relative;}#sk-container-id-7 div.sk-item {position: relative;z-index: 1;}#sk-container-id-7 div.sk-parallel {display: flex;align-items: stretch;justify-content: center;background-color: white;position: relative;}#sk-container-id-7 div.sk-item::before, #sk-container-id-7 div.sk-parallel-item::before {content: \"\";position: absolute;border-left: 1px solid gray;box-sizing: border-box;top: 0;bottom: 0;left: 50%;z-index: -1;}#sk-container-id-7 div.sk-parallel-item {display: flex;flex-direction: column;z-index: 1;position: relative;background-color: white;}#sk-container-id-7 div.sk-parallel-item:first-child::after {align-self: flex-end;width: 50%;}#sk-container-id-7 div.sk-parallel-item:last-child::after {align-self: flex-start;width: 50%;}#sk-container-id-7 div.sk-parallel-item:only-child::after {width: 0;}#sk-container-id-7 div.sk-dashed-wrapped {border: 1px dashed gray;margin: 0 0.4em 0.5em 0.4em;box-sizing: border-box;padding-bottom: 0.4em;background-color: white;}#sk-container-id-7 div.sk-label label {font-family: monospace;font-weight: bold;display: inline-block;line-height: 1.2em;}#sk-container-id-7 div.sk-label-container {text-align: center;}#sk-container-id-7 div.sk-container {/* jupyter's `normalize.less` sets `[hidden] { display: none; }` but bootstrap.min.css set `[hidden] { display: none !important; }` so we also need the `!important` here to be able to override the default hidden behavior on the sphinx rendered scikit-learn.org. See: https://github.com/scikit-learn/scikit-learn/issues/21755 */display: inline-block !important;position: relative;}#sk-container-id-7 div.sk-text-repr-fallback {display: none;}</style><div id=\"sk-container-id-7\" class=\"sk-top-container\"><div class=\"sk-text-repr-fallback\"><pre>RandomForestClassifier(max_features=&#x27;auto&#x27;, n_jobs=-1, oob_score=True,\n",
       "                       random_state=42, verbose=1)</pre><b>In a Jupyter environment, please rerun this cell to show the HTML representation or trust the notebook. <br />On GitHub, the HTML representation is unable to render, please try loading this page with nbviewer.org.</b></div><div class=\"sk-container\" hidden><div class=\"sk-item\"><div class=\"sk-estimator sk-toggleable\"><input class=\"sk-toggleable__control sk-hidden--visually\" id=\"sk-estimator-id-11\" type=\"checkbox\" checked><label for=\"sk-estimator-id-11\" class=\"sk-toggleable__label sk-toggleable__label-arrow\">RandomForestClassifier</label><div class=\"sk-toggleable__content\"><pre>RandomForestClassifier(max_features=&#x27;auto&#x27;, n_jobs=-1, oob_score=True,\n",
       "                       random_state=42, verbose=1)</pre></div></div></div></div></div>"
      ],
      "text/plain": [
       "RandomForestClassifier(max_features='auto', n_jobs=-1, oob_score=True,\n",
       "                       random_state=42, verbose=1)"
      ]
     },
     "execution_count": 249,
     "metadata": {},
     "output_type": "execute_result"
    }
   ],
   "source": [
    "forest.fit(xtrain,ytrain)"
   ]
  },
  {
   "cell_type": "code",
   "execution_count": 250,
   "metadata": {
    "ExecuteTime": {
     "end_time": "2022-10-05T14:39:53.025944Z",
     "start_time": "2022-10-05T14:39:53.018459Z"
    },
    "execution": {
     "iopub.execute_input": "2022-09-27T15:42:40.645456Z",
     "iopub.status.busy": "2022-09-27T15:42:40.644902Z",
     "iopub.status.idle": "2022-09-27T15:42:40.653403Z",
     "shell.execute_reply": "2022-09-27T15:42:40.652031Z",
     "shell.execute_reply.started": "2022-09-27T15:42:40.645409Z"
    }
   },
   "outputs": [
    {
     "data": {
      "text/plain": [
       "0.7747"
      ]
     },
     "execution_count": 250,
     "metadata": {},
     "output_type": "execute_result"
    }
   ],
   "source": [
    "forest.oob_score_"
   ]
  },
  {
   "cell_type": "code",
   "execution_count": 251,
   "metadata": {
    "ExecuteTime": {
     "end_time": "2022-10-05T14:39:54.089398Z",
     "start_time": "2022-10-05T14:39:53.025944Z"
    },
    "execution": {
     "iopub.execute_input": "2022-09-27T15:42:40.656329Z",
     "iopub.status.busy": "2022-09-27T15:42:40.655778Z",
     "iopub.status.idle": "2022-09-27T15:42:41.984421Z",
     "shell.execute_reply": "2022-09-27T15:42:41.983021Z",
     "shell.execute_reply.started": "2022-09-27T15:42:40.656292Z"
    }
   },
   "outputs": [
    {
     "name": "stderr",
     "output_type": "stream",
     "text": [
      "[Parallel(n_jobs=8)]: Using backend ThreadingBackend with 8 concurrent workers.\n",
      "[Parallel(n_jobs=8)]: Done  34 tasks      | elapsed:    0.2s\n"
     ]
    },
    {
     "name": "stdout",
     "output_type": "stream",
     "text": [
      " \n",
      "accuracy score: \n",
      "0.9997\n",
      " \n",
      "precision score macro: \n",
      "0.9996150695753453\n",
      " \n",
      "recall score macro: \n",
      "0.9997441411862376\n",
      " \n",
      "f1 score macro: \n",
      "0.9996795603226455\n",
      " \n",
      "confusion matrix original: \n",
      "[[14261     0     1]\n",
      " [    0 23191     8]\n",
      " [   11     4 42524]]\n",
      " \n",
      "confusion matrix in %: \n",
      "[[1.782625e+01 0.000000e+00 1.250000e-03]\n",
      " [0.000000e+00 2.898875e+01 1.000000e-02]\n",
      " [1.375000e-02 5.000000e-03 5.315500e+01]]\n",
      " \n",
      "classification report: \n",
      "              precision    recall  f1-score   support\n",
      "\n",
      "           0       1.00      1.00      1.00     14262\n",
      "           1       1.00      1.00      1.00     23199\n",
      "           2       1.00      1.00      1.00     42539\n",
      "\n",
      "    accuracy                           1.00     80000\n",
      "   macro avg       1.00      1.00      1.00     80000\n",
      "weighted avg       1.00      1.00      1.00     80000\n",
      "\n"
     ]
    },
    {
     "name": "stderr",
     "output_type": "stream",
     "text": [
      "[Parallel(n_jobs=8)]: Done 100 out of 100 | elapsed:    0.8s finished\n"
     ]
    }
   ],
   "source": [
    "all_score_report.score_clf(ytrain,forest.predict(xtrain))"
   ]
  },
  {
   "cell_type": "code",
   "execution_count": 252,
   "metadata": {
    "ExecuteTime": {
     "end_time": "2022-10-05T14:39:54.388357Z",
     "start_time": "2022-10-05T14:39:54.090396Z"
    },
    "execution": {
     "iopub.execute_input": "2022-09-27T15:42:41.988575Z",
     "iopub.status.busy": "2022-09-27T15:42:41.987818Z",
     "iopub.status.idle": "2022-09-27T15:42:42.374708Z",
     "shell.execute_reply": "2022-09-27T15:42:42.373452Z",
     "shell.execute_reply.started": "2022-09-27T15:42:41.988466Z"
    }
   },
   "outputs": [
    {
     "name": "stderr",
     "output_type": "stream",
     "text": [
      "[Parallel(n_jobs=8)]: Using backend ThreadingBackend with 8 concurrent workers.\n",
      "[Parallel(n_jobs=8)]: Done  34 tasks      | elapsed:    0.0s\n"
     ]
    },
    {
     "name": "stdout",
     "output_type": "stream",
     "text": [
      " \n",
      "accuracy score: \n",
      "0.78005\n",
      " \n",
      "precision score macro: \n",
      "0.7681911975480925\n",
      " \n",
      "recall score macro: \n",
      "0.7670979405130752\n",
      " \n",
      "f1 score macro: \n",
      "0.7676248548182235\n",
      " \n",
      "confusion matrix original: \n",
      "[[2565   19  982]\n",
      " [ 103 4543 1153]\n",
      " [ 846 1296 8493]]\n",
      " \n",
      "confusion matrix in %: \n",
      "[[12.825  0.095  4.91 ]\n",
      " [ 0.515 22.715  5.765]\n",
      " [ 4.23   6.48  42.465]]\n",
      " \n",
      "classification report: \n",
      "              precision    recall  f1-score   support\n",
      "\n",
      "           0       0.73      0.72      0.72      3566\n",
      "           1       0.78      0.78      0.78      5799\n",
      "           2       0.80      0.80      0.80     10635\n",
      "\n",
      "    accuracy                           0.78     20000\n",
      "   macro avg       0.77      0.77      0.77     20000\n",
      "weighted avg       0.78      0.78      0.78     20000\n",
      "\n"
     ]
    },
    {
     "name": "stderr",
     "output_type": "stream",
     "text": [
      "[Parallel(n_jobs=8)]: Done 100 out of 100 | elapsed:    0.1s finished\n"
     ]
    }
   ],
   "source": [
    "all_score_report.score_clf(ytest,forest.predict(xtest))"
   ]
  },
  {
   "cell_type": "code",
   "execution_count": 253,
   "metadata": {
    "ExecuteTime": {
     "end_time": "2022-10-05T14:39:54.403830Z",
     "start_time": "2022-10-05T14:39:54.389461Z"
    },
    "execution": {
     "iopub.execute_input": "2022-09-27T15:56:19.606913Z",
     "iopub.status.busy": "2022-09-27T15:56:19.606451Z",
     "iopub.status.idle": "2022-09-27T15:56:19.612682Z",
     "shell.execute_reply": "2022-09-27T15:56:19.611420Z",
     "shell.execute_reply.started": "2022-09-27T15:56:19.606876Z"
    }
   },
   "outputs": [],
   "source": [
    "from sklearn.model_selection import RandomizedSearchCV"
   ]
  },
  {
   "cell_type": "code",
   "execution_count": 254,
   "metadata": {
    "ExecuteTime": {
     "end_time": "2022-10-05T14:39:54.422007Z",
     "start_time": "2022-10-05T14:39:54.406550Z"
    },
    "execution": {
     "iopub.execute_input": "2022-09-27T15:56:19.615389Z",
     "iopub.status.busy": "2022-09-27T15:56:19.614971Z",
     "iopub.status.idle": "2022-09-27T15:56:19.627841Z",
     "shell.execute_reply": "2022-09-27T15:56:19.626408Z",
     "shell.execute_reply.started": "2022-09-27T15:56:19.615355Z"
    }
   },
   "outputs": [],
   "source": [
    "param_grid = {\"n_estimators\":[50],   \n",
    "    \"max_depth\":[5,10,15,20,25,30,None],\n",
    "    \"min_samples_split\":[2,4,6,8,10,12,14],\n",
    "    \"n_jobs\":[-1]}"
   ]
  },
  {
   "cell_type": "code",
   "execution_count": 255,
   "metadata": {
    "ExecuteTime": {
     "end_time": "2022-10-05T14:39:54.443692Z",
     "start_time": "2022-10-05T14:39:54.424999Z"
    },
    "execution": {
     "iopub.execute_input": "2022-09-27T15:56:19.630944Z",
     "iopub.status.busy": "2022-09-27T15:56:19.629841Z",
     "iopub.status.idle": "2022-09-27T15:56:19.640604Z",
     "shell.execute_reply": "2022-09-27T15:56:19.639651Z",
     "shell.execute_reply.started": "2022-09-27T15:56:19.630888Z"
    }
   },
   "outputs": [],
   "source": [
    "grid = RandomizedSearchCV(forest,param_distributions=param_grid,n_iter=50,scoring=\"f1_macro\",n_jobs=-1)"
   ]
  },
  {
   "cell_type": "code",
   "execution_count": 256,
   "metadata": {
    "ExecuteTime": {
     "end_time": "2022-10-05T14:39:54.459307Z",
     "start_time": "2022-10-05T14:39:54.446848Z"
    },
    "execution": {
     "iopub.execute_input": "2022-09-27T15:56:19.642417Z",
     "iopub.status.busy": "2022-09-27T15:56:19.641970Z",
     "iopub.status.idle": "2022-09-27T15:56:19.656403Z",
     "shell.execute_reply": "2022-09-27T15:56:19.655387Z",
     "shell.execute_reply.started": "2022-09-27T15:56:19.642383Z"
    }
   },
   "outputs": [
    {
     "data": {
      "text/plain": [
       "(80000, 14)"
      ]
     },
     "execution_count": 256,
     "metadata": {},
     "output_type": "execute_result"
    }
   ],
   "source": [
    "xtrain.shape"
   ]
  },
  {
   "cell_type": "code",
   "execution_count": 257,
   "metadata": {
    "ExecuteTime": {
     "end_time": "2022-10-05T14:39:54.470562Z",
     "start_time": "2022-10-05T14:39:54.461299Z"
    },
    "execution": {
     "iopub.execute_input": "2022-09-27T15:56:19.660436Z",
     "iopub.status.busy": "2022-09-27T15:56:19.659093Z",
     "iopub.status.idle": "2022-09-27T15:56:19.668912Z",
     "shell.execute_reply": "2022-09-27T15:56:19.667983Z",
     "shell.execute_reply.started": "2022-09-27T15:56:19.660393Z"
    }
   },
   "outputs": [],
   "source": [
    "x_for_grid = xtrain[:5000]\n",
    "y_for_grid = ytrain[:5000]"
   ]
  },
  {
   "cell_type": "code",
   "execution_count": 258,
   "metadata": {
    "ExecuteTime": {
     "end_time": "2022-10-05T14:39:54.485899Z",
     "start_time": "2022-10-05T14:39:54.473934Z"
    },
    "execution": {
     "iopub.execute_input": "2022-09-27T15:56:19.671027Z",
     "iopub.status.busy": "2022-09-27T15:56:19.670320Z",
     "iopub.status.idle": "2022-09-27T15:56:19.685398Z",
     "shell.execute_reply": "2022-09-27T15:56:19.684425Z",
     "shell.execute_reply.started": "2022-09-27T15:56:19.670992Z"
    }
   },
   "outputs": [
    {
     "data": {
      "text/plain": [
       "2    2662\n",
       "1    1418\n",
       "0     920\n",
       "Name: Credit_Score, dtype: int64"
      ]
     },
     "execution_count": 258,
     "metadata": {},
     "output_type": "execute_result"
    }
   ],
   "source": [
    "y_for_grid.value_counts()"
   ]
  },
  {
   "cell_type": "code",
   "execution_count": 259,
   "metadata": {
    "ExecuteTime": {
     "end_time": "2022-10-05T14:40:23.904759Z",
     "start_time": "2022-10-05T14:39:54.491258Z"
    },
    "execution": {
     "iopub.execute_input": "2022-09-27T15:56:19.687729Z",
     "iopub.status.busy": "2022-09-27T15:56:19.686951Z",
     "iopub.status.idle": "2022-09-27T15:57:14.143199Z",
     "shell.execute_reply": "2022-09-27T15:57:14.141990Z",
     "shell.execute_reply.started": "2022-09-27T15:56:19.687688Z"
    }
   },
   "outputs": [
    {
     "name": "stderr",
     "output_type": "stream",
     "text": [
      "[Parallel(n_jobs=-1)]: Using backend ThreadingBackend with 8 concurrent workers.\n",
      "[Parallel(n_jobs=-1)]: Done  34 tasks      | elapsed:    0.0s\n",
      "[Parallel(n_jobs=-1)]: Done  50 out of  50 | elapsed:    0.1s finished\n"
     ]
    },
    {
     "data": {
      "text/html": [
       "<style>#sk-container-id-8 {color: black;background-color: white;}#sk-container-id-8 pre{padding: 0;}#sk-container-id-8 div.sk-toggleable {background-color: white;}#sk-container-id-8 label.sk-toggleable__label {cursor: pointer;display: block;width: 100%;margin-bottom: 0;padding: 0.3em;box-sizing: border-box;text-align: center;}#sk-container-id-8 label.sk-toggleable__label-arrow:before {content: \"▸\";float: left;margin-right: 0.25em;color: #696969;}#sk-container-id-8 label.sk-toggleable__label-arrow:hover:before {color: black;}#sk-container-id-8 div.sk-estimator:hover label.sk-toggleable__label-arrow:before {color: black;}#sk-container-id-8 div.sk-toggleable__content {max-height: 0;max-width: 0;overflow: hidden;text-align: left;background-color: #f0f8ff;}#sk-container-id-8 div.sk-toggleable__content pre {margin: 0.2em;color: black;border-radius: 0.25em;background-color: #f0f8ff;}#sk-container-id-8 input.sk-toggleable__control:checked~div.sk-toggleable__content {max-height: 200px;max-width: 100%;overflow: auto;}#sk-container-id-8 input.sk-toggleable__control:checked~label.sk-toggleable__label-arrow:before {content: \"▾\";}#sk-container-id-8 div.sk-estimator input.sk-toggleable__control:checked~label.sk-toggleable__label {background-color: #d4ebff;}#sk-container-id-8 div.sk-label input.sk-toggleable__control:checked~label.sk-toggleable__label {background-color: #d4ebff;}#sk-container-id-8 input.sk-hidden--visually {border: 0;clip: rect(1px 1px 1px 1px);clip: rect(1px, 1px, 1px, 1px);height: 1px;margin: -1px;overflow: hidden;padding: 0;position: absolute;width: 1px;}#sk-container-id-8 div.sk-estimator {font-family: monospace;background-color: #f0f8ff;border: 1px dotted black;border-radius: 0.25em;box-sizing: border-box;margin-bottom: 0.5em;}#sk-container-id-8 div.sk-estimator:hover {background-color: #d4ebff;}#sk-container-id-8 div.sk-parallel-item::after {content: \"\";width: 100%;border-bottom: 1px solid gray;flex-grow: 1;}#sk-container-id-8 div.sk-label:hover label.sk-toggleable__label {background-color: #d4ebff;}#sk-container-id-8 div.sk-serial::before {content: \"\";position: absolute;border-left: 1px solid gray;box-sizing: border-box;top: 0;bottom: 0;left: 50%;z-index: 0;}#sk-container-id-8 div.sk-serial {display: flex;flex-direction: column;align-items: center;background-color: white;padding-right: 0.2em;padding-left: 0.2em;position: relative;}#sk-container-id-8 div.sk-item {position: relative;z-index: 1;}#sk-container-id-8 div.sk-parallel {display: flex;align-items: stretch;justify-content: center;background-color: white;position: relative;}#sk-container-id-8 div.sk-item::before, #sk-container-id-8 div.sk-parallel-item::before {content: \"\";position: absolute;border-left: 1px solid gray;box-sizing: border-box;top: 0;bottom: 0;left: 50%;z-index: -1;}#sk-container-id-8 div.sk-parallel-item {display: flex;flex-direction: column;z-index: 1;position: relative;background-color: white;}#sk-container-id-8 div.sk-parallel-item:first-child::after {align-self: flex-end;width: 50%;}#sk-container-id-8 div.sk-parallel-item:last-child::after {align-self: flex-start;width: 50%;}#sk-container-id-8 div.sk-parallel-item:only-child::after {width: 0;}#sk-container-id-8 div.sk-dashed-wrapped {border: 1px dashed gray;margin: 0 0.4em 0.5em 0.4em;box-sizing: border-box;padding-bottom: 0.4em;background-color: white;}#sk-container-id-8 div.sk-label label {font-family: monospace;font-weight: bold;display: inline-block;line-height: 1.2em;}#sk-container-id-8 div.sk-label-container {text-align: center;}#sk-container-id-8 div.sk-container {/* jupyter's `normalize.less` sets `[hidden] { display: none; }` but bootstrap.min.css set `[hidden] { display: none !important; }` so we also need the `!important` here to be able to override the default hidden behavior on the sphinx rendered scikit-learn.org. See: https://github.com/scikit-learn/scikit-learn/issues/21755 */display: inline-block !important;position: relative;}#sk-container-id-8 div.sk-text-repr-fallback {display: none;}</style><div id=\"sk-container-id-8\" class=\"sk-top-container\"><div class=\"sk-text-repr-fallback\"><pre>RandomizedSearchCV(estimator=RandomForestClassifier(max_features=&#x27;auto&#x27;,\n",
       "                                                    n_jobs=-1, oob_score=True,\n",
       "                                                    random_state=42,\n",
       "                                                    verbose=1),\n",
       "                   n_iter=50, n_jobs=-1,\n",
       "                   param_distributions={&#x27;max_depth&#x27;: [5, 10, 15, 20, 25, 30,\n",
       "                                                      None],\n",
       "                                        &#x27;min_samples_split&#x27;: [2, 4, 6, 8, 10,\n",
       "                                                              12, 14],\n",
       "                                        &#x27;n_estimators&#x27;: [50], &#x27;n_jobs&#x27;: [-1]},\n",
       "                   scoring=&#x27;f1_macro&#x27;)</pre><b>In a Jupyter environment, please rerun this cell to show the HTML representation or trust the notebook. <br />On GitHub, the HTML representation is unable to render, please try loading this page with nbviewer.org.</b></div><div class=\"sk-container\" hidden><div class=\"sk-item sk-dashed-wrapped\"><div class=\"sk-label-container\"><div class=\"sk-label sk-toggleable\"><input class=\"sk-toggleable__control sk-hidden--visually\" id=\"sk-estimator-id-12\" type=\"checkbox\" ><label for=\"sk-estimator-id-12\" class=\"sk-toggleable__label sk-toggleable__label-arrow\">RandomizedSearchCV</label><div class=\"sk-toggleable__content\"><pre>RandomizedSearchCV(estimator=RandomForestClassifier(max_features=&#x27;auto&#x27;,\n",
       "                                                    n_jobs=-1, oob_score=True,\n",
       "                                                    random_state=42,\n",
       "                                                    verbose=1),\n",
       "                   n_iter=50, n_jobs=-1,\n",
       "                   param_distributions={&#x27;max_depth&#x27;: [5, 10, 15, 20, 25, 30,\n",
       "                                                      None],\n",
       "                                        &#x27;min_samples_split&#x27;: [2, 4, 6, 8, 10,\n",
       "                                                              12, 14],\n",
       "                                        &#x27;n_estimators&#x27;: [50], &#x27;n_jobs&#x27;: [-1]},\n",
       "                   scoring=&#x27;f1_macro&#x27;)</pre></div></div></div><div class=\"sk-parallel\"><div class=\"sk-parallel-item\"><div class=\"sk-item\"><div class=\"sk-label-container\"><div class=\"sk-label sk-toggleable\"><input class=\"sk-toggleable__control sk-hidden--visually\" id=\"sk-estimator-id-13\" type=\"checkbox\" ><label for=\"sk-estimator-id-13\" class=\"sk-toggleable__label sk-toggleable__label-arrow\">estimator: RandomForestClassifier</label><div class=\"sk-toggleable__content\"><pre>RandomForestClassifier(max_features=&#x27;auto&#x27;, n_jobs=-1, oob_score=True,\n",
       "                       random_state=42, verbose=1)</pre></div></div></div><div class=\"sk-serial\"><div class=\"sk-item\"><div class=\"sk-estimator sk-toggleable\"><input class=\"sk-toggleable__control sk-hidden--visually\" id=\"sk-estimator-id-14\" type=\"checkbox\" ><label for=\"sk-estimator-id-14\" class=\"sk-toggleable__label sk-toggleable__label-arrow\">RandomForestClassifier</label><div class=\"sk-toggleable__content\"><pre>RandomForestClassifier(max_features=&#x27;auto&#x27;, n_jobs=-1, oob_score=True,\n",
       "                       random_state=42, verbose=1)</pre></div></div></div></div></div></div></div></div></div></div>"
      ],
      "text/plain": [
       "RandomizedSearchCV(estimator=RandomForestClassifier(max_features='auto',\n",
       "                                                    n_jobs=-1, oob_score=True,\n",
       "                                                    random_state=42,\n",
       "                                                    verbose=1),\n",
       "                   n_iter=50, n_jobs=-1,\n",
       "                   param_distributions={'max_depth': [5, 10, 15, 20, 25, 30,\n",
       "                                                      None],\n",
       "                                        'min_samples_split': [2, 4, 6, 8, 10,\n",
       "                                                              12, 14],\n",
       "                                        'n_estimators': [50], 'n_jobs': [-1]},\n",
       "                   scoring='f1_macro')"
      ]
     },
     "execution_count": 259,
     "metadata": {},
     "output_type": "execute_result"
    }
   ],
   "source": [
    "grid.fit(x_for_grid,y_for_grid)"
   ]
  },
  {
   "cell_type": "code",
   "execution_count": 260,
   "metadata": {
    "ExecuteTime": {
     "end_time": "2022-10-05T14:40:23.920383Z",
     "start_time": "2022-10-05T14:40:23.904759Z"
    },
    "execution": {
     "iopub.execute_input": "2022-09-27T15:57:14.146729Z",
     "iopub.status.busy": "2022-09-27T15:57:14.146314Z",
     "iopub.status.idle": "2022-09-27T15:57:14.155081Z",
     "shell.execute_reply": "2022-09-27T15:57:14.153739Z",
     "shell.execute_reply.started": "2022-09-27T15:57:14.146692Z"
    }
   },
   "outputs": [
    {
     "data": {
      "text/plain": [
       "{'n_jobs': -1, 'n_estimators': 50, 'min_samples_split': 6, 'max_depth': 15}"
      ]
     },
     "execution_count": 260,
     "metadata": {},
     "output_type": "execute_result"
    }
   ],
   "source": [
    "grid.best_params_"
   ]
  },
  {
   "cell_type": "code",
   "execution_count": 266,
   "metadata": {
    "ExecuteTime": {
     "end_time": "2022-10-05T14:41:29.339088Z",
     "start_time": "2022-10-05T14:41:29.333072Z"
    },
    "execution": {
     "iopub.execute_input": "2022-09-27T15:59:38.267374Z",
     "iopub.status.busy": "2022-09-27T15:59:38.266927Z",
     "iopub.status.idle": "2022-09-27T15:59:38.276086Z",
     "shell.execute_reply": "2022-09-27T15:59:38.274667Z",
     "shell.execute_reply.started": "2022-09-27T15:59:38.267338Z"
    }
   },
   "outputs": [
    {
     "data": {
      "text/plain": [
       "0.6642429930123998"
      ]
     },
     "execution_count": 266,
     "metadata": {},
     "output_type": "execute_result"
    }
   ],
   "source": [
    "grid.best_score_"
   ]
  },
  {
   "cell_type": "code",
   "execution_count": 267,
   "metadata": {
    "ExecuteTime": {
     "end_time": "2022-10-05T14:41:29.355002Z",
     "start_time": "2022-10-05T14:41:29.340627Z"
    },
    "execution": {
     "iopub.execute_input": "2022-09-27T15:59:38.280647Z",
     "iopub.status.busy": "2022-09-27T15:59:38.280273Z",
     "iopub.status.idle": "2022-09-27T15:59:38.290286Z",
     "shell.execute_reply": "2022-09-27T15:59:38.289096Z",
     "shell.execute_reply.started": "2022-09-27T15:59:38.280615Z"
    }
   },
   "outputs": [],
   "source": [
    "clf = RandomForestClassifier(n_estimators=1000,\n",
    "    max_depth=grid.best_params_[\"max_depth\"],\n",
    "    min_samples_split=grid.best_params_[\"min_samples_split\"],\n",
    "\n",
    "    bootstrap=True,\n",
    "    oob_score=True,\n",
    "    n_jobs=-1,\n",
    "    random_state=42,\n",
    "    verbose=2\n",
    ")"
   ]
  },
  {
   "cell_type": "code",
   "execution_count": 268,
   "metadata": {
    "ExecuteTime": {
     "end_time": "2022-10-05T14:42:08.196837Z",
     "start_time": "2022-10-05T14:41:29.356999Z"
    },
    "execution": {
     "iopub.execute_input": "2022-09-27T15:59:38.293090Z",
     "iopub.status.busy": "2022-09-27T15:59:38.292568Z",
     "iopub.status.idle": "2022-09-27T15:59:48.445580Z",
     "shell.execute_reply": "2022-09-27T15:59:48.444191Z",
     "shell.execute_reply.started": "2022-09-27T15:59:38.293043Z"
    }
   },
   "outputs": [
    {
     "name": "stderr",
     "output_type": "stream",
     "text": [
      "[Parallel(n_jobs=-1)]: Using backend ThreadingBackend with 8 concurrent workers.\n"
     ]
    },
    {
     "name": "stdout",
     "output_type": "stream",
     "text": [
      "building tree 1 of 1000\n",
      "building tree 2 of 1000\n",
      "building tree 3 of 1000\n",
      "building tree 4 of 1000\n",
      "building tree 5 of 1000\n",
      "building tree 6 of 1000\n",
      "building tree 7 of 1000\n",
      "building tree 8 of 1000\n",
      "building tree 9 of 1000\n",
      "building tree 10 of 1000\n",
      "building tree 11 of 1000\n",
      "building tree 12 of 1000\n",
      "building tree 13 of 1000\n",
      "building tree 14 of 1000\n",
      "building tree 15 of 1000\n",
      "building tree 16 of 1000\n",
      "building tree 17 of 1000\n",
      "building tree 18 of 1000\n",
      "building tree 19 of 1000\n",
      "building tree 20 of 1000\n",
      "building tree 21 of 1000\n",
      "building tree 22 of 1000\n",
      "building tree 23 of 1000\n",
      "building tree 24 of 1000\n",
      "building tree 25 of 1000\n",
      "building tree 26 of 1000\n",
      "building tree 27 of 1000\n",
      "building tree 28 of 1000\n",
      "building tree 29 of 1000\n",
      "building tree 30 of 1000\n",
      "building tree 31 of 1000\n",
      "building tree 32 of 1000\n",
      "building tree 33 of 1000\n",
      "building tree 34 of 1000\n",
      "building tree 35 of 1000\n",
      "building tree 36 of 1000\n",
      "building tree 37 of 1000\n",
      "building tree 38 of 1000\n",
      "building tree 39 of 1000\n",
      "building tree 40 of 1000\n"
     ]
    },
    {
     "name": "stderr",
     "output_type": "stream",
     "text": [
      "[Parallel(n_jobs=-1)]: Done  25 tasks      | elapsed:    0.7s\n"
     ]
    },
    {
     "name": "stdout",
     "output_type": "stream",
     "text": [
      "building tree 41 of 1000\n",
      "building tree 42 of 1000\n",
      "building tree 43 of 1000\n",
      "building tree 44 of 1000\n",
      "building tree 45 of 1000\n",
      "building tree 46 of 1000\n",
      "building tree 47 of 1000\n",
      "building tree 48 of 1000\n",
      "building tree 49 of 1000\n",
      "building tree 50 of 1000\n",
      "building tree 51 of 1000\n",
      "building tree 52 of 1000\n",
      "building tree 53 of 1000\n",
      "building tree 54 of 1000\n",
      "building tree 55 of 1000\n",
      "building tree 56 of 1000\n",
      "building tree 57 of 1000\n",
      "building tree 58 of 1000\n",
      "building tree 59 of 1000\n",
      "building tree 60 of 1000\n",
      "building tree 61 of 1000\n",
      "building tree 62 of 1000\n",
      "building tree 63 of 1000\n",
      "building tree 64 of 1000\n",
      "building tree 65 of 1000\n",
      "building tree 66 of 1000\n",
      "building tree 67 of 1000\n",
      "building tree 68 of 1000\n",
      "building tree 69 of 1000\n",
      "building tree 70 of 1000\n",
      "building tree 71 of 1000\n",
      "building tree 72 of 1000\n",
      "building tree 73 of 1000\n",
      "building tree 74 of 1000\n",
      "building tree 75 of 1000\n",
      "building tree 76 of 1000\n",
      "building tree 77 of 1000\n",
      "building tree 78 of 1000\n",
      "building tree 79 of 1000\n",
      "building tree 80 of 1000\n",
      "building tree 81 of 1000\n",
      "building tree 82 of 1000\n",
      "building tree 83 of 1000\n",
      "building tree 84 of 1000\n",
      "building tree 85 of 1000\n",
      "building tree 86 of 1000\n",
      "building tree 87 of 1000\n",
      "building tree 88 of 1000\n",
      "building tree 89 of 1000\n",
      "building tree 90 of 1000\n",
      "building tree 91 of 1000\n",
      "building tree 92 of 1000\n",
      "building tree 93 of 1000\n",
      "building tree 94 of 1000\n",
      "building tree 95 of 1000\n",
      "building tree 96 of 1000\n",
      "building tree 97 of 1000\n",
      "building tree 98 of 1000\n",
      "building tree 99 of 1000\n",
      "building tree 100 of 1000\n",
      "building tree 101 of 1000\n",
      "building tree 102 of 1000\n",
      "building tree 103 of 1000\n",
      "building tree 104 of 1000\n",
      "building tree 105 of 1000\n",
      "building tree 106 of 1000\n",
      "building tree 107 of 1000\n",
      "building tree 108 of 1000\n",
      "building tree 109 of 1000\n",
      "building tree 110 of 1000\n",
      "building tree 111 of 1000\n",
      "building tree 112 of 1000building tree 113 of 1000\n",
      "\n",
      "building tree 114 of 1000\n",
      "building tree 115 of 1000\n",
      "building tree 116 of 1000\n",
      "building tree 117 of 1000\n",
      "building tree 118 of 1000\n",
      "building tree 119 of 1000\n",
      "building tree 120 of 1000\n",
      "building tree 121 of 1000\n",
      "building tree 122 of 1000\n",
      "building tree 123 of 1000\n",
      "building tree 124 of 1000\n",
      "building tree 125 of 1000\n",
      "building tree 126 of 1000\n",
      "building tree 127 of 1000\n",
      "building tree 128 of 1000\n",
      "building tree 129 of 1000\n",
      "building tree 130 of 1000\n",
      "building tree 131 of 1000\n",
      "building tree 132 of 1000\n",
      "building tree 133 of 1000\n",
      "building tree 134 of 1000\n",
      "building tree 135 of 1000\n",
      "building tree 136 of 1000\n",
      "building tree 137 of 1000\n",
      "building tree 138 of 1000\n",
      "building tree 139 of 1000\n",
      "building tree 140 of 1000\n",
      "building tree 141 of 1000\n",
      "building tree 142 of 1000\n",
      "building tree 143 of 1000\n",
      "building tree 144 of 1000\n",
      "building tree 145 of 1000\n",
      "building tree 146 of 1000\n",
      "building tree 147 of 1000\n",
      "building tree 148 of 1000\n",
      "building tree 149 of 1000\n",
      "building tree 150 of 1000\n",
      "building tree 151 of 1000\n",
      "building tree 152 of 1000\n",
      "building tree 153 of 1000\n",
      "building tree 154 of 1000\n",
      "building tree 155 of 1000\n",
      "building tree 156 of 1000\n"
     ]
    },
    {
     "name": "stderr",
     "output_type": "stream",
     "text": [
      "[Parallel(n_jobs=-1)]: Done 146 tasks      | elapsed:    3.9s\n"
     ]
    },
    {
     "name": "stdout",
     "output_type": "stream",
     "text": [
      "building tree 157 of 1000\n",
      "building tree 158 of 1000\n",
      "building tree 159 of 1000\n",
      "building tree 160 of 1000\n",
      "building tree 161 of 1000\n",
      "building tree 162 of 1000\n",
      "building tree 163 of 1000\n",
      "building tree 164 of 1000\n",
      "building tree 165 of 1000\n",
      "building tree 166 of 1000\n",
      "building tree 167 of 1000\n",
      "building tree 168 of 1000\n",
      "building tree 169 of 1000\n",
      "building tree 170 of 1000\n",
      "building tree 171 of 1000\n",
      "building tree 172 of 1000\n",
      "building tree 173 of 1000\n",
      "building tree 174 of 1000\n",
      "building tree 175 of 1000\n",
      "building tree 176 of 1000\n",
      "building tree 177 of 1000\n",
      "building tree 178 of 1000\n",
      "building tree 179 of 1000\n",
      "building tree 180 of 1000\n",
      "building tree 181 of 1000\n",
      "building tree 182 of 1000\n",
      "building tree 183 of 1000\n",
      "building tree 184 of 1000\n",
      "building tree 185 of 1000\n",
      "building tree 186 of 1000\n",
      "building tree 187 of 1000\n",
      "building tree 188 of 1000\n",
      "building tree 189 of 1000\n",
      "building tree 190 of 1000\n",
      "building tree 191 of 1000\n",
      "building tree 192 of 1000\n",
      "building tree 193 of 1000\n",
      "building tree 194 of 1000\n",
      "building tree 195 of 1000building tree 196 of 1000\n",
      "\n",
      "building tree 197 of 1000\n",
      "building tree 198 of 1000building tree 199 of 1000\n",
      "\n",
      "building tree 200 of 1000\n",
      "building tree 201 of 1000\n",
      "building tree 202 of 1000\n",
      "building tree 203 of 1000\n",
      "building tree 204 of 1000\n",
      "building tree 205 of 1000\n",
      "building tree 206 of 1000\n",
      "building tree 207 of 1000\n",
      "building tree 208 of 1000\n",
      "building tree 209 of 1000\n",
      "building tree 210 of 1000\n",
      "building tree 211 of 1000\n",
      "building tree 212 of 1000\n",
      "building tree 213 of 1000\n",
      "building tree 214 of 1000\n",
      "building tree 215 of 1000\n",
      "building tree 216 of 1000\n",
      "building tree 217 of 1000\n",
      "building tree 218 of 1000\n",
      "building tree 219 of 1000\n",
      "building tree 220 of 1000\n",
      "building tree 221 of 1000\n",
      "building tree 222 of 1000\n",
      "building tree 223 of 1000\n",
      "building tree 224 of 1000\n",
      "building tree 225 of 1000\n",
      "building tree 226 of 1000\n",
      "building tree 227 of 1000\n",
      "building tree 228 of 1000\n",
      "building tree 229 of 1000\n",
      "building tree 230 of 1000\n",
      "building tree 231 of 1000\n",
      "building tree 232 of 1000\n",
      "building tree 233 of 1000\n",
      "building tree 234 of 1000\n",
      "building tree 235 of 1000\n",
      "building tree 236 of 1000\n",
      "building tree 237 of 1000\n",
      "building tree 238 of 1000\n",
      "building tree 239 of 1000\n",
      "building tree 240 of 1000\n",
      "building tree 241 of 1000\n",
      "building tree 242 of 1000\n",
      "building tree 243 of 1000\n",
      "building tree 244 of 1000\n",
      "building tree 245 of 1000\n",
      "building tree 246 of 1000\n",
      "building tree 247 of 1000\n",
      "building tree 248 of 1000\n",
      "building tree 249 of 1000\n",
      "building tree 250 of 1000\n",
      "building tree 251 of 1000\n",
      "building tree 252 of 1000\n",
      "building tree 253 of 1000\n",
      "building tree 254 of 1000\n",
      "building tree 255 of 1000\n",
      "building tree 256 of 1000\n",
      "building tree 257 of 1000\n",
      "building tree 258 of 1000\n",
      "building tree 259 of 1000\n",
      "building tree 260 of 1000\n",
      "building tree 261 of 1000\n",
      "building tree 262 of 1000\n",
      "building tree 263 of 1000\n",
      "building tree 264 of 1000\n",
      "building tree 265 of 1000\n",
      "building tree 266 of 1000\n",
      "building tree 267 of 1000\n",
      "building tree 268 of 1000\n",
      "building tree 269 of 1000\n",
      "building tree 270 of 1000\n",
      "building tree 271 of 1000\n",
      "building tree 272 of 1000\n",
      "building tree 273 of 1000\n",
      "building tree 274 of 1000\n",
      "building tree 275 of 1000\n",
      "building tree 276 of 1000\n",
      "building tree 277 of 1000\n",
      "building tree 278 of 1000\n",
      "building tree 279 of 1000\n",
      "building tree 280 of 1000\n",
      "building tree 281 of 1000\n",
      "building tree 282 of 1000\n",
      "building tree 283 of 1000\n",
      "building tree 284 of 1000\n",
      "building tree 285 of 1000\n",
      "building tree 286 of 1000\n",
      "building tree 287 of 1000\n",
      "building tree 288 of 1000\n",
      "building tree 289 of 1000\n",
      "building tree 290 of 1000\n",
      "building tree 291 of 1000\n",
      "building tree 292 of 1000\n",
      "building tree 293 of 1000\n",
      "building tree 294 of 1000\n",
      "building tree 295 of 1000\n",
      "building tree 296 of 1000\n",
      "building tree 297 of 1000\n",
      "building tree 298 of 1000\n",
      "building tree 299 of 1000\n",
      "building tree 300 of 1000\n",
      "building tree 301 of 1000\n",
      "building tree 302 of 1000\n",
      "building tree 303 of 1000\n",
      "building tree 304 of 1000\n",
      "building tree 305 of 1000\n",
      "building tree 306 of 1000\n",
      "building tree 307 of 1000\n",
      "building tree 308 of 1000\n",
      "building tree 309 of 1000\n",
      "building tree 310 of 1000\n",
      "building tree 311 of 1000\n",
      "building tree 312 of 1000\n",
      "building tree 313 of 1000\n",
      "building tree 314 of 1000\n",
      "building tree 315 of 1000\n",
      "building tree 316 of 1000\n",
      "building tree 317 of 1000\n",
      "building tree 318 of 1000\n",
      "building tree 319 of 1000\n",
      "building tree 320 of 1000\n",
      "building tree 321 of 1000\n",
      "building tree 322 of 1000\n",
      "building tree 323 of 1000\n",
      "building tree 324 of 1000\n",
      "building tree 325 of 1000\n",
      "building tree 326 of 1000\n",
      "building tree 327 of 1000\n",
      "building tree 328 of 1000\n",
      "building tree 329 of 1000\n",
      "building tree 330 of 1000\n",
      "building tree 331 of 1000\n",
      "building tree 332 of 1000\n",
      "building tree 333 of 1000\n",
      "building tree 334 of 1000\n",
      "building tree 335 of 1000\n",
      "building tree 336 of 1000\n",
      "building tree 337 of 1000\n",
      "building tree 338 of 1000\n",
      "building tree 339 of 1000\n",
      "building tree 340 of 1000\n",
      "building tree 341 of 1000\n",
      "building tree 342 of 1000\n",
      "building tree 343 of 1000\n",
      "building tree 344 of 1000\n",
      "building tree 345 of 1000\n",
      "building tree 346 of 1000\n",
      "building tree 347 of 1000\n",
      "building tree 348 of 1000\n",
      "building tree 349 of 1000\n",
      "building tree 350 of 1000\n",
      "building tree 351 of 1000building tree 352 of 1000\n",
      "\n",
      "building tree 353 of 1000\n",
      "building tree 354 of 1000building tree 355 of 1000\n",
      "\n",
      "building tree 356 of 1000\n",
      "building tree 357 of 1000\n"
     ]
    },
    {
     "name": "stderr",
     "output_type": "stream",
     "text": [
      "[Parallel(n_jobs=-1)]: Done 349 tasks      | elapsed:    9.0s\n"
     ]
    },
    {
     "name": "stdout",
     "output_type": "stream",
     "text": [
      "building tree 358 of 1000\n",
      "building tree 359 of 1000\n",
      "building tree 360 of 1000\n",
      "building tree 361 of 1000\n",
      "building tree 362 of 1000\n",
      "building tree 363 of 1000\n",
      "building tree 364 of 1000\n",
      "building tree 365 of 1000\n",
      "building tree 366 of 1000\n",
      "building tree 367 of 1000\n",
      "building tree 368 of 1000\n",
      "building tree 369 of 1000\n",
      "building tree 370 of 1000\n",
      "building tree 371 of 1000\n",
      "building tree 372 of 1000\n",
      "building tree 373 of 1000\n",
      "building tree 374 of 1000\n",
      "building tree 375 of 1000\n",
      "building tree 376 of 1000\n",
      "building tree 377 of 1000\n",
      "building tree 378 of 1000\n",
      "building tree 379 of 1000\n",
      "building tree 380 of 1000\n",
      "building tree 381 of 1000\n",
      "building tree 382 of 1000\n",
      "building tree 383 of 1000\n",
      "building tree 384 of 1000\n",
      "building tree 385 of 1000\n",
      "building tree 386 of 1000\n",
      "building tree 387 of 1000\n",
      "building tree 388 of 1000\n",
      "building tree 389 of 1000\n",
      "building tree 390 of 1000\n",
      "building tree 391 of 1000\n",
      "building tree 392 of 1000\n",
      "building tree 393 of 1000\n",
      "building tree 394 of 1000\n",
      "building tree 395 of 1000\n",
      "building tree 396 of 1000\n",
      "building tree 397 of 1000\n",
      "building tree 398 of 1000\n",
      "building tree 399 of 1000\n",
      "building tree 400 of 1000\n",
      "building tree 401 of 1000\n",
      "building tree 402 of 1000\n",
      "building tree 403 of 1000\n",
      "building tree 404 of 1000\n",
      "building tree 405 of 1000\n",
      "building tree 406 of 1000\n",
      "building tree 407 of 1000\n",
      "building tree 408 of 1000\n",
      "building tree 409 of 1000\n",
      "building tree 410 of 1000\n",
      "building tree 411 of 1000\n",
      "building tree 412 of 1000\n",
      "building tree 413 of 1000\n",
      "building tree 414 of 1000\n",
      "building tree 415 of 1000\n",
      "building tree 416 of 1000\n",
      "building tree 417 of 1000\n",
      "building tree 418 of 1000\n",
      "building tree 419 of 1000\n",
      "building tree 420 of 1000\n",
      "building tree 421 of 1000\n",
      "building tree 422 of 1000\n",
      "building tree 423 of 1000\n",
      "building tree 424 of 1000\n",
      "building tree 425 of 1000\n",
      "building tree 426 of 1000\n",
      "building tree 427 of 1000\n",
      "building tree 428 of 1000\n",
      "building tree 429 of 1000\n",
      "building tree 430 of 1000\n",
      "building tree 431 of 1000\n",
      "building tree 432 of 1000\n",
      "building tree 433 of 1000\n",
      "building tree 434 of 1000\n",
      "building tree 435 of 1000\n",
      "building tree 436 of 1000\n",
      "building tree 437 of 1000\n",
      "building tree 438 of 1000\n",
      "building tree 439 of 1000\n",
      "building tree 440 of 1000\n",
      "building tree 441 of 1000\n",
      "building tree 442 of 1000\n",
      "building tree 443 of 1000\n",
      "building tree 444 of 1000\n",
      "building tree 445 of 1000\n",
      "building tree 446 of 1000\n",
      "building tree 447 of 1000\n",
      "building tree 448 of 1000\n",
      "building tree 449 of 1000\n",
      "building tree 450 of 1000\n",
      "building tree 451 of 1000\n",
      "building tree 452 of 1000\n",
      "building tree 453 of 1000\n",
      "building tree 454 of 1000\n",
      "building tree 455 of 1000\n",
      "building tree 456 of 1000\n",
      "building tree 457 of 1000\n",
      "building tree 458 of 1000\n",
      "building tree 459 of 1000\n",
      "building tree 460 of 1000\n",
      "building tree 461 of 1000\n",
      "building tree 462 of 1000\n",
      "building tree 463 of 1000\n",
      "building tree 464 of 1000\n",
      "building tree 465 of 1000\n",
      "building tree 466 of 1000\n",
      "building tree 467 of 1000\n",
      "building tree 468 of 1000\n",
      "building tree 469 of 1000\n",
      "building tree 470 of 1000\n",
      "building tree 471 of 1000\n",
      "building tree 472 of 1000\n",
      "building tree 473 of 1000\n",
      "building tree 474 of 1000\n",
      "building tree 475 of 1000\n",
      "building tree 476 of 1000\n",
      "building tree 477 of 1000\n",
      "building tree 478 of 1000\n",
      "building tree 479 of 1000\n",
      "building tree 480 of 1000\n",
      "building tree 481 of 1000\n",
      "building tree 482 of 1000\n",
      "building tree 483 of 1000\n",
      "building tree 484 of 1000\n",
      "building tree 485 of 1000\n",
      "building tree 486 of 1000\n",
      "building tree 487 of 1000\n",
      "building tree 488 of 1000\n",
      "building tree 489 of 1000\n",
      "building tree 490 of 1000\n",
      "building tree 491 of 1000\n",
      "building tree 492 of 1000\n",
      "building tree 493 of 1000\n",
      "building tree 494 of 1000\n",
      "building tree 495 of 1000\n",
      "building tree 496 of 1000\n",
      "building tree 497 of 1000\n",
      "building tree 498 of 1000\n",
      "building tree 499 of 1000\n",
      "building tree 500 of 1000\n",
      "building tree 501 of 1000\n",
      "building tree 502 of 1000\n",
      "building tree 503 of 1000\n",
      "building tree 504 of 1000\n",
      "building tree 505 of 1000\n",
      "building tree 506 of 1000\n",
      "building tree 507 of 1000\n",
      "building tree 508 of 1000\n",
      "building tree 509 of 1000\n",
      "building tree 510 of 1000\n",
      "building tree 511 of 1000\n",
      "building tree 512 of 1000\n",
      "building tree 513 of 1000\n",
      "building tree 514 of 1000\n",
      "building tree 515 of 1000\n",
      "building tree 516 of 1000\n",
      "building tree 517 of 1000\n",
      "building tree 518 of 1000\n",
      "building tree 519 of 1000\n",
      "building tree 520 of 1000\n",
      "building tree 521 of 1000\n",
      "building tree 522 of 1000\n",
      "building tree 523 of 1000\n",
      "building tree 524 of 1000\n",
      "building tree 525 of 1000\n",
      "building tree 526 of 1000\n",
      "building tree 527 of 1000\n",
      "building tree 528 of 1000\n",
      "building tree 529 of 1000\n",
      "building tree 530 of 1000\n",
      "building tree 531 of 1000\n",
      "building tree 532 of 1000\n",
      "building tree 533 of 1000\n",
      "building tree 534 of 1000\n",
      "building tree 535 of 1000\n",
      "building tree 536 of 1000\n",
      "building tree 537 of 1000\n",
      "building tree 538 of 1000\n",
      "building tree 539 of 1000\n",
      "building tree 540 of 1000\n",
      "building tree 541 of 1000\n",
      "building tree 542 of 1000\n",
      "building tree 543 of 1000\n",
      "building tree 544 of 1000\n",
      "building tree 545 of 1000\n",
      "building tree 546 of 1000\n",
      "building tree 547 of 1000\n",
      "building tree 548 of 1000\n",
      "building tree 549 of 1000\n",
      "building tree 550 of 1000\n",
      "building tree 551 of 1000\n",
      "building tree 552 of 1000\n",
      "building tree 553 of 1000\n",
      "building tree 554 of 1000\n",
      "building tree 555 of 1000\n",
      "building tree 556 of 1000building tree 557 of 1000\n",
      "\n",
      "building tree 558 of 1000\n",
      "building tree 559 of 1000\n",
      "building tree 560 of 1000\n",
      "building tree 561 of 1000\n",
      "building tree 562 of 1000\n",
      "building tree 563 of 1000\n",
      "building tree 564 of 1000\n",
      "building tree 565 of 1000\n",
      "building tree 566 of 1000\n",
      "building tree 567 of 1000\n",
      "building tree 568 of 1000\n",
      "building tree 569 of 1000\n",
      "building tree 570 of 1000\n",
      "building tree 571 of 1000\n",
      "building tree 572 of 1000\n",
      "building tree 573 of 1000\n",
      "building tree 574 of 1000building tree 575 of 1000\n",
      "\n",
      "building tree 576 of 1000\n",
      "building tree 577 of 1000\n",
      "building tree 578 of 1000\n",
      "building tree 579 of 1000\n",
      "building tree 580 of 1000\n",
      "building tree 581 of 1000\n",
      "building tree 582 of 1000\n",
      "building tree 583 of 1000\n",
      "building tree 584 of 1000\n",
      "building tree 585 of 1000\n",
      "building tree 586 of 1000\n",
      "building tree 587 of 1000\n",
      "building tree 588 of 1000building tree 589 of 1000\n",
      "\n",
      "building tree 590 of 1000building tree 591 of 1000\n",
      "\n",
      "building tree 592 of 1000\n",
      "building tree 593 of 1000\n",
      "building tree 594 of 1000\n",
      "building tree 595 of 1000\n",
      "building tree 596 of 1000\n",
      "building tree 597 of 1000\n",
      "building tree 598 of 1000\n",
      "building tree 599 of 1000\n",
      "building tree 600 of 1000\n",
      "building tree 601 of 1000\n",
      "building tree 602 of 1000\n",
      "building tree 603 of 1000\n",
      "building tree 604 of 1000\n",
      "building tree 605 of 1000\n",
      "building tree 606 of 1000\n",
      "building tree 607 of 1000\n",
      "building tree 608 of 1000\n",
      "building tree 609 of 1000\n",
      "building tree 610 of 1000\n",
      "building tree 611 of 1000\n",
      "building tree 612 of 1000\n",
      "building tree 613 of 1000\n",
      "building tree 614 of 1000\n",
      "building tree 615 of 1000\n",
      "building tree 616 of 1000building tree 617 of 1000\n",
      "\n",
      "building tree 618 of 1000\n",
      "building tree 619 of 1000\n",
      "building tree 620 of 1000\n",
      "building tree 621 of 1000\n",
      "building tree 622 of 1000\n",
      "building tree 623 of 1000\n",
      "building tree 624 of 1000building tree 625 of 1000\n",
      "\n",
      "building tree 626 of 1000\n",
      "building tree 627 of 1000\n",
      "building tree 628 of 1000\n",
      "building tree 629 of 1000\n",
      "building tree 630 of 1000\n",
      "building tree 631 of 1000\n",
      "building tree 632 of 1000\n",
      "building tree 633 of 1000\n",
      "building tree 634 of 1000\n",
      "building tree 635 of 1000\n",
      "building tree 636 of 1000\n",
      "building tree 637 of 1000\n",
      "building tree 638 of 1000\n",
      "building tree 639 of 1000\n",
      "building tree 640 of 1000\n",
      "building tree 641 of 1000\n",
      "building tree 642 of 1000\n"
     ]
    },
    {
     "name": "stderr",
     "output_type": "stream",
     "text": [
      "[Parallel(n_jobs=-1)]: Done 632 tasks      | elapsed:   16.3s\n"
     ]
    },
    {
     "name": "stdout",
     "output_type": "stream",
     "text": [
      "building tree 643 of 1000\n",
      "building tree 644 of 1000\n",
      "building tree 645 of 1000\n",
      "building tree 646 of 1000\n",
      "building tree 647 of 1000\n",
      "building tree 648 of 1000\n",
      "building tree 649 of 1000\n",
      "building tree 650 of 1000\n",
      "building tree 651 of 1000\n",
      "building tree 652 of 1000\n",
      "building tree 653 of 1000\n",
      "building tree 654 of 1000\n",
      "building tree 655 of 1000\n",
      "building tree 656 of 1000\n",
      "building tree 657 of 1000\n",
      "building tree 658 of 1000\n",
      "building tree 659 of 1000\n",
      "building tree 660 of 1000\n",
      "building tree 661 of 1000\n",
      "building tree 662 of 1000\n",
      "building tree 663 of 1000\n",
      "building tree 664 of 1000\n",
      "building tree 665 of 1000\n",
      "building tree 666 of 1000\n",
      "building tree 667 of 1000\n",
      "building tree 668 of 1000\n",
      "building tree 669 of 1000\n",
      "building tree 670 of 1000\n",
      "building tree 671 of 1000\n",
      "building tree 672 of 1000\n",
      "building tree 673 of 1000\n",
      "building tree 674 of 1000\n",
      "building tree 675 of 1000\n",
      "building tree 676 of 1000\n",
      "building tree 677 of 1000\n",
      "building tree 678 of 1000\n",
      "building tree 679 of 1000\n",
      "building tree 680 of 1000\n",
      "building tree 681 of 1000\n",
      "building tree 682 of 1000\n",
      "building tree 683 of 1000\n",
      "building tree 684 of 1000\n",
      "building tree 685 of 1000\n",
      "building tree 686 of 1000\n",
      "building tree 687 of 1000\n",
      "building tree 688 of 1000\n",
      "building tree 689 of 1000\n",
      "building tree 690 of 1000\n",
      "building tree 691 of 1000\n",
      "building tree 692 of 1000\n",
      "building tree 693 of 1000\n",
      "building tree 694 of 1000\n",
      "building tree 695 of 1000\n",
      "building tree 696 of 1000\n",
      "building tree 697 of 1000\n",
      "building tree 698 of 1000\n",
      "building tree 699 of 1000\n",
      "building tree 700 of 1000\n",
      "building tree 701 of 1000\n",
      "building tree 702 of 1000\n",
      "building tree 703 of 1000\n",
      "building tree 704 of 1000\n",
      "building tree 705 of 1000\n",
      "building tree 706 of 1000\n",
      "building tree 707 of 1000\n",
      "building tree 708 of 1000\n",
      "building tree 709 of 1000\n",
      "building tree 710 of 1000\n",
      "building tree 711 of 1000\n",
      "building tree 712 of 1000\n",
      "building tree 713 of 1000\n",
      "building tree 714 of 1000\n",
      "building tree 715 of 1000\n",
      "building tree 716 of 1000\n",
      "building tree 717 of 1000\n",
      "building tree 718 of 1000\n",
      "building tree 719 of 1000\n",
      "building tree 720 of 1000\n",
      "building tree 721 of 1000\n",
      "building tree 722 of 1000\n",
      "building tree 723 of 1000\n",
      "building tree 724 of 1000\n",
      "building tree 725 of 1000\n",
      "building tree 726 of 1000\n",
      "building tree 727 of 1000\n",
      "building tree 728 of 1000\n",
      "building tree 729 of 1000\n",
      "building tree 730 of 1000\n",
      "building tree 731 of 1000\n",
      "building tree 732 of 1000\n",
      "building tree 733 of 1000\n",
      "building tree 734 of 1000\n",
      "building tree 735 of 1000\n",
      "building tree 736 of 1000\n",
      "building tree 737 of 1000\n",
      "building tree 738 of 1000\n",
      "building tree 739 of 1000\n",
      "building tree 740 of 1000\n",
      "building tree 741 of 1000\n",
      "building tree 742 of 1000\n",
      "building tree 743 of 1000\n",
      "building tree 744 of 1000\n",
      "building tree 745 of 1000\n",
      "building tree 746 of 1000\n",
      "building tree 747 of 1000\n",
      "building tree 748 of 1000\n",
      "building tree 749 of 1000\n",
      "building tree 750 of 1000\n",
      "building tree 751 of 1000\n",
      "building tree 752 of 1000\n",
      "building tree 753 of 1000\n",
      "building tree 754 of 1000\n",
      "building tree 755 of 1000\n",
      "building tree 756 of 1000\n",
      "building tree 757 of 1000\n",
      "building tree 758 of 1000\n",
      "building tree 759 of 1000\n",
      "building tree 760 of 1000\n",
      "building tree 761 of 1000\n",
      "building tree 762 of 1000\n",
      "building tree 763 of 1000\n",
      "building tree 764 of 1000\n",
      "building tree 765 of 1000\n",
      "building tree 766 of 1000\n",
      "building tree 767 of 1000\n",
      "building tree 768 of 1000\n",
      "building tree 769 of 1000\n",
      "building tree 770 of 1000\n",
      "building tree 771 of 1000\n",
      "building tree 772 of 1000\n",
      "building tree 773 of 1000\n",
      "building tree 774 of 1000building tree 775 of 1000\n",
      "\n",
      "building tree 776 of 1000\n",
      "building tree 777 of 1000\n",
      "building tree 778 of 1000\n",
      "building tree 779 of 1000\n",
      "building tree 780 of 1000\n",
      "building tree 781 of 1000\n",
      "building tree 782 of 1000\n",
      "building tree 783 of 1000\n",
      "building tree 784 of 1000\n",
      "building tree 785 of 1000\n",
      "building tree 786 of 1000\n",
      "building tree 787 of 1000\n",
      "building tree 788 of 1000\n",
      "building tree 789 of 1000\n",
      "building tree 790 of 1000\n",
      "building tree 791 of 1000\n",
      "building tree 792 of 1000\n",
      "building tree 793 of 1000\n",
      "building tree 794 of 1000\n",
      "building tree 795 of 1000\n",
      "building tree 796 of 1000\n",
      "building tree 797 of 1000\n",
      "building tree 798 of 1000\n",
      "building tree 799 of 1000\n",
      "building tree 800 of 1000\n",
      "building tree 801 of 1000\n",
      "building tree 802 of 1000\n",
      "building tree 803 of 1000\n",
      "building tree 804 of 1000\n",
      "building tree 805 of 1000\n",
      "building tree 806 of 1000\n",
      "building tree 807 of 1000\n",
      "building tree 808 of 1000\n",
      "building tree 809 of 1000\n",
      "building tree 810 of 1000\n",
      "building tree 811 of 1000\n",
      "building tree 812 of 1000\n",
      "building tree 813 of 1000\n",
      "building tree 814 of 1000\n",
      "building tree 815 of 1000\n",
      "building tree 816 of 1000\n",
      "building tree 817 of 1000\n",
      "building tree 818 of 1000\n",
      "building tree 819 of 1000\n",
      "building tree 820 of 1000\n",
      "building tree 821 of 1000\n",
      "building tree 822 of 1000\n",
      "building tree 823 of 1000\n",
      "building tree 824 of 1000\n",
      "building tree 825 of 1000\n",
      "building tree 826 of 1000\n",
      "building tree 827 of 1000\n",
      "building tree 828 of 1000\n",
      "building tree 829 of 1000\n",
      "building tree 830 of 1000\n",
      "building tree 831 of 1000\n",
      "building tree 832 of 1000\n",
      "building tree 833 of 1000building tree 834 of 1000\n",
      "\n",
      "building tree 835 of 1000\n",
      "building tree 836 of 1000\n",
      "building tree 837 of 1000\n",
      "building tree 838 of 1000\n",
      "building tree 839 of 1000\n",
      "building tree 840 of 1000\n",
      "building tree 841 of 1000\n",
      "building tree 842 of 1000\n",
      "building tree 843 of 1000\n",
      "building tree 844 of 1000\n",
      "building tree 845 of 1000\n",
      "building tree 846 of 1000\n",
      "building tree 847 of 1000\n",
      "building tree 848 of 1000\n",
      "building tree 849 of 1000\n",
      "building tree 850 of 1000\n",
      "building tree 851 of 1000\n",
      "building tree 852 of 1000\n",
      "building tree 853 of 1000\n",
      "building tree 854 of 1000\n",
      "building tree 855 of 1000\n",
      "building tree 856 of 1000\n",
      "building tree 857 of 1000\n",
      "building tree 858 of 1000\n",
      "building tree 859 of 1000\n",
      "building tree 860 of 1000\n",
      "building tree 861 of 1000\n",
      "building tree 862 of 1000\n",
      "building tree 863 of 1000\n",
      "building tree 864 of 1000\n",
      "building tree 865 of 1000\n",
      "building tree 866 of 1000\n",
      "building tree 867 of 1000\n",
      "building tree 868 of 1000\n",
      "building tree 869 of 1000\n",
      "building tree 870 of 1000\n",
      "building tree 871 of 1000\n",
      "building tree 872 of 1000\n",
      "building tree 873 of 1000\n",
      "building tree 874 of 1000\n",
      "building tree 875 of 1000\n",
      "building tree 876 of 1000\n",
      "building tree 877 of 1000\n",
      "building tree 878 of 1000\n",
      "building tree 879 of 1000\n",
      "building tree 880 of 1000\n",
      "building tree 881 of 1000\n",
      "building tree 882 of 1000\n",
      "building tree 883 of 1000\n",
      "building tree 884 of 1000\n",
      "building tree 885 of 1000\n",
      "building tree 886 of 1000\n",
      "building tree 887 of 1000\n",
      "building tree 888 of 1000\n",
      "building tree 889 of 1000\n",
      "building tree 890 of 1000\n",
      "building tree 891 of 1000\n",
      "building tree 892 of 1000\n",
      "building tree 893 of 1000\n",
      "building tree 894 of 1000\n",
      "building tree 895 of 1000\n",
      "building tree 896 of 1000\n",
      "building tree 897 of 1000\n",
      "building tree 898 of 1000\n",
      "building tree 899 of 1000\n",
      "building tree 900 of 1000\n",
      "building tree 901 of 1000\n",
      "building tree 902 of 1000\n",
      "building tree 903 of 1000\n",
      "building tree 904 of 1000\n",
      "building tree 905 of 1000\n",
      "building tree 906 of 1000\n",
      "building tree 907 of 1000\n",
      "building tree 908 of 1000\n",
      "building tree 909 of 1000\n",
      "building tree 910 of 1000\n",
      "building tree 911 of 1000\n",
      "building tree 912 of 1000\n",
      "building tree 913 of 1000\n",
      "building tree 914 of 1000building tree 915 of 1000\n",
      "\n",
      "building tree 916 of 1000\n",
      "building tree 917 of 1000\n",
      "building tree 918 of 1000\n",
      "building tree 919 of 1000\n",
      "building tree 920 of 1000\n",
      "building tree 921 of 1000\n",
      "building tree 922 of 1000\n",
      "building tree 923 of 1000\n",
      "building tree 924 of 1000\n",
      "building tree 925 of 1000\n",
      "building tree 926 of 1000\n",
      "building tree 927 of 1000\n",
      "building tree 928 of 1000\n",
      "building tree 929 of 1000\n",
      "building tree 930 of 1000\n",
      "building tree 931 of 1000\n",
      "building tree 932 of 1000\n",
      "building tree 933 of 1000\n",
      "building tree 934 of 1000\n",
      "building tree 935 of 1000\n",
      "building tree 936 of 1000\n",
      "building tree 937 of 1000\n",
      "building tree 938 of 1000\n",
      "building tree 939 of 1000\n",
      "building tree 940 of 1000\n",
      "building tree 941 of 1000\n",
      "building tree 942 of 1000\n",
      "building tree 943 of 1000\n",
      "building tree 944 of 1000\n",
      "building tree 945 of 1000\n",
      "building tree 946 of 1000\n",
      "building tree 947 of 1000\n",
      "building tree 948 of 1000\n",
      "building tree 949 of 1000\n",
      "building tree 950 of 1000\n",
      "building tree 951 of 1000\n",
      "building tree 952 of 1000\n",
      "building tree 953 of 1000\n",
      "building tree 954 of 1000\n",
      "building tree 955 of 1000\n",
      "building tree 956 of 1000\n",
      "building tree 957 of 1000\n",
      "building tree 958 of 1000\n",
      "building tree 959 of 1000\n",
      "building tree 960 of 1000\n",
      "building tree 961 of 1000\n",
      "building tree 962 of 1000\n",
      "building tree 963 of 1000\n",
      "building tree 964 of 1000\n"
     ]
    },
    {
     "name": "stdout",
     "output_type": "stream",
     "text": [
      "building tree 965 of 1000\n",
      "building tree 966 of 1000\n",
      "building tree 967 of 1000\n",
      "building tree 968 of 1000\n",
      "building tree 969 of 1000\n",
      "building tree 970 of 1000\n",
      "building tree 971 of 1000\n",
      "building tree 972 of 1000\n",
      "building tree 973 of 1000\n",
      "building tree 974 of 1000\n",
      "building tree 975 of 1000\n",
      "building tree 976 of 1000\n",
      "building tree 977 of 1000\n",
      "building tree 978 of 1000\n",
      "building tree 979 of 1000\n",
      "building tree 980 of 1000\n",
      "building tree 981 of 1000\n",
      "building tree 982 of 1000\n",
      "building tree 983 of 1000\n",
      "building tree 984 of 1000\n",
      "building tree 985 of 1000\n",
      "building tree 986 of 1000\n",
      "building tree 987 of 1000\n",
      "building tree 988 of 1000\n",
      "building tree 989 of 1000\n",
      "building tree 990 of 1000\n",
      "building tree 991 of 1000\n",
      "building tree 992 of 1000\n",
      "building tree 993 of 1000building tree 994 of 1000\n",
      "\n",
      "building tree 995 of 1000\n",
      "building tree 996 of 1000\n",
      "building tree 997 of 1000\n",
      "building tree 998 of 1000\n",
      "building tree 999 of 1000\n",
      "building tree 1000 of 1000\n"
     ]
    },
    {
     "name": "stderr",
     "output_type": "stream",
     "text": [
      "[Parallel(n_jobs=-1)]: Done 1000 out of 1000 | elapsed:   27.3s finished\n"
     ]
    },
    {
     "data": {
      "text/html": [
       "<style>#sk-container-id-10 {color: black;background-color: white;}#sk-container-id-10 pre{padding: 0;}#sk-container-id-10 div.sk-toggleable {background-color: white;}#sk-container-id-10 label.sk-toggleable__label {cursor: pointer;display: block;width: 100%;margin-bottom: 0;padding: 0.3em;box-sizing: border-box;text-align: center;}#sk-container-id-10 label.sk-toggleable__label-arrow:before {content: \"▸\";float: left;margin-right: 0.25em;color: #696969;}#sk-container-id-10 label.sk-toggleable__label-arrow:hover:before {color: black;}#sk-container-id-10 div.sk-estimator:hover label.sk-toggleable__label-arrow:before {color: black;}#sk-container-id-10 div.sk-toggleable__content {max-height: 0;max-width: 0;overflow: hidden;text-align: left;background-color: #f0f8ff;}#sk-container-id-10 div.sk-toggleable__content pre {margin: 0.2em;color: black;border-radius: 0.25em;background-color: #f0f8ff;}#sk-container-id-10 input.sk-toggleable__control:checked~div.sk-toggleable__content {max-height: 200px;max-width: 100%;overflow: auto;}#sk-container-id-10 input.sk-toggleable__control:checked~label.sk-toggleable__label-arrow:before {content: \"▾\";}#sk-container-id-10 div.sk-estimator input.sk-toggleable__control:checked~label.sk-toggleable__label {background-color: #d4ebff;}#sk-container-id-10 div.sk-label input.sk-toggleable__control:checked~label.sk-toggleable__label {background-color: #d4ebff;}#sk-container-id-10 input.sk-hidden--visually {border: 0;clip: rect(1px 1px 1px 1px);clip: rect(1px, 1px, 1px, 1px);height: 1px;margin: -1px;overflow: hidden;padding: 0;position: absolute;width: 1px;}#sk-container-id-10 div.sk-estimator {font-family: monospace;background-color: #f0f8ff;border: 1px dotted black;border-radius: 0.25em;box-sizing: border-box;margin-bottom: 0.5em;}#sk-container-id-10 div.sk-estimator:hover {background-color: #d4ebff;}#sk-container-id-10 div.sk-parallel-item::after {content: \"\";width: 100%;border-bottom: 1px solid gray;flex-grow: 1;}#sk-container-id-10 div.sk-label:hover label.sk-toggleable__label {background-color: #d4ebff;}#sk-container-id-10 div.sk-serial::before {content: \"\";position: absolute;border-left: 1px solid gray;box-sizing: border-box;top: 0;bottom: 0;left: 50%;z-index: 0;}#sk-container-id-10 div.sk-serial {display: flex;flex-direction: column;align-items: center;background-color: white;padding-right: 0.2em;padding-left: 0.2em;position: relative;}#sk-container-id-10 div.sk-item {position: relative;z-index: 1;}#sk-container-id-10 div.sk-parallel {display: flex;align-items: stretch;justify-content: center;background-color: white;position: relative;}#sk-container-id-10 div.sk-item::before, #sk-container-id-10 div.sk-parallel-item::before {content: \"\";position: absolute;border-left: 1px solid gray;box-sizing: border-box;top: 0;bottom: 0;left: 50%;z-index: -1;}#sk-container-id-10 div.sk-parallel-item {display: flex;flex-direction: column;z-index: 1;position: relative;background-color: white;}#sk-container-id-10 div.sk-parallel-item:first-child::after {align-self: flex-end;width: 50%;}#sk-container-id-10 div.sk-parallel-item:last-child::after {align-self: flex-start;width: 50%;}#sk-container-id-10 div.sk-parallel-item:only-child::after {width: 0;}#sk-container-id-10 div.sk-dashed-wrapped {border: 1px dashed gray;margin: 0 0.4em 0.5em 0.4em;box-sizing: border-box;padding-bottom: 0.4em;background-color: white;}#sk-container-id-10 div.sk-label label {font-family: monospace;font-weight: bold;display: inline-block;line-height: 1.2em;}#sk-container-id-10 div.sk-label-container {text-align: center;}#sk-container-id-10 div.sk-container {/* jupyter's `normalize.less` sets `[hidden] { display: none; }` but bootstrap.min.css set `[hidden] { display: none !important; }` so we also need the `!important` here to be able to override the default hidden behavior on the sphinx rendered scikit-learn.org. See: https://github.com/scikit-learn/scikit-learn/issues/21755 */display: inline-block !important;position: relative;}#sk-container-id-10 div.sk-text-repr-fallback {display: none;}</style><div id=\"sk-container-id-10\" class=\"sk-top-container\"><div class=\"sk-text-repr-fallback\"><pre>RandomForestClassifier(max_depth=15, min_samples_split=6, n_estimators=1000,\n",
       "                       n_jobs=-1, oob_score=True, random_state=42, verbose=2)</pre><b>In a Jupyter environment, please rerun this cell to show the HTML representation or trust the notebook. <br />On GitHub, the HTML representation is unable to render, please try loading this page with nbviewer.org.</b></div><div class=\"sk-container\" hidden><div class=\"sk-item\"><div class=\"sk-estimator sk-toggleable\"><input class=\"sk-toggleable__control sk-hidden--visually\" id=\"sk-estimator-id-16\" type=\"checkbox\" checked><label for=\"sk-estimator-id-16\" class=\"sk-toggleable__label sk-toggleable__label-arrow\">RandomForestClassifier</label><div class=\"sk-toggleable__content\"><pre>RandomForestClassifier(max_depth=15, min_samples_split=6, n_estimators=1000,\n",
       "                       n_jobs=-1, oob_score=True, random_state=42, verbose=2)</pre></div></div></div></div></div>"
      ],
      "text/plain": [
       "RandomForestClassifier(max_depth=15, min_samples_split=6, n_estimators=1000,\n",
       "                       n_jobs=-1, oob_score=True, random_state=42, verbose=2)"
      ]
     },
     "execution_count": 268,
     "metadata": {},
     "output_type": "execute_result"
    }
   ],
   "source": [
    "clf.fit(xtrain,ytrain)"
   ]
  },
  {
   "cell_type": "code",
   "execution_count": 269,
   "metadata": {
    "ExecuteTime": {
     "end_time": "2022-10-05T14:42:13.261365Z",
     "start_time": "2022-10-05T14:42:08.197807Z"
    },
    "execution": {
     "iopub.execute_input": "2022-09-27T15:59:48.448282Z",
     "iopub.status.busy": "2022-09-27T15:59:48.447906Z",
     "iopub.status.idle": "2022-09-27T15:59:49.344632Z",
     "shell.execute_reply": "2022-09-27T15:59:49.343265Z",
     "shell.execute_reply.started": "2022-09-27T15:59:48.448250Z"
    }
   },
   "outputs": [
    {
     "name": "stderr",
     "output_type": "stream",
     "text": [
      "[Parallel(n_jobs=8)]: Using backend ThreadingBackend with 8 concurrent workers.\n",
      "[Parallel(n_jobs=8)]: Done  25 tasks      | elapsed:    0.0s\n",
      "[Parallel(n_jobs=8)]: Done 146 tasks      | elapsed:    0.6s\n",
      "[Parallel(n_jobs=8)]: Done 349 tasks      | elapsed:    1.6s\n",
      "[Parallel(n_jobs=8)]: Done 632 tasks      | elapsed:    3.0s\n",
      "[Parallel(n_jobs=8)]: Done 1000 out of 1000 | elapsed:    4.7s finished\n"
     ]
    },
    {
     "name": "stdout",
     "output_type": "stream",
     "text": [
      " \n",
      "accuracy score: \n",
      "0.8104\n",
      " \n",
      "precision score macro: \n",
      "0.7878434023004627\n",
      " \n",
      "recall score macro: \n",
      "0.8000062161003946\n",
      " \n",
      "f1 score macro: \n",
      "0.7933373643241558\n",
      " \n",
      "confusion matrix original: \n",
      "[[10784   136  3342]\n",
      " [ 1146 19050  3003]\n",
      " [ 3730  3811 34998]]\n",
      " \n",
      "confusion matrix in %: \n",
      "[[13.48     0.17     4.1775 ]\n",
      " [ 1.4325  23.8125   3.75375]\n",
      " [ 4.6625   4.76375 43.7475 ]]\n",
      " \n",
      "classification report: \n",
      "              precision    recall  f1-score   support\n",
      "\n",
      "           0       0.69      0.76      0.72     14262\n",
      "           1       0.83      0.82      0.82     23199\n",
      "           2       0.85      0.82      0.83     42539\n",
      "\n",
      "    accuracy                           0.81     80000\n",
      "   macro avg       0.79      0.80      0.79     80000\n",
      "weighted avg       0.81      0.81      0.81     80000\n",
      "\n"
     ]
    }
   ],
   "source": [
    "all_score_report.score_clf(ytrain,clf.predict(xtrain))"
   ]
  },
  {
   "cell_type": "code",
   "execution_count": 270,
   "metadata": {
    "ExecuteTime": {
     "end_time": "2022-10-05T14:42:14.764285Z",
     "start_time": "2022-10-05T14:42:13.263456Z"
    },
    "execution": {
     "iopub.execute_input": "2022-09-27T15:59:49.347083Z",
     "iopub.status.busy": "2022-09-27T15:59:49.346123Z",
     "iopub.status.idle": "2022-09-27T15:59:49.632609Z",
     "shell.execute_reply": "2022-09-27T15:59:49.630245Z",
     "shell.execute_reply.started": "2022-09-27T15:59:49.347048Z"
    }
   },
   "outputs": [
    {
     "name": "stderr",
     "output_type": "stream",
     "text": [
      "[Parallel(n_jobs=8)]: Using backend ThreadingBackend with 8 concurrent workers.\n",
      "[Parallel(n_jobs=8)]: Done  25 tasks      | elapsed:    0.0s\n",
      "[Parallel(n_jobs=8)]: Done 146 tasks      | elapsed:    0.1s\n",
      "[Parallel(n_jobs=8)]: Done 349 tasks      | elapsed:    0.4s\n",
      "[Parallel(n_jobs=8)]: Done 632 tasks      | elapsed:    0.8s\n"
     ]
    },
    {
     "name": "stdout",
     "output_type": "stream",
     "text": [
      " \n",
      "accuracy score: \n",
      "0.74495\n",
      " \n",
      "precision score macro: \n",
      "0.7209743205578848\n",
      " \n",
      "recall score macro: \n",
      "0.7362668130180731\n",
      " \n",
      "f1 score macro: \n",
      "0.727720498839522\n",
      " \n",
      "confusion matrix original: \n",
      "[[2502   46 1018]\n",
      " [ 333 4355 1111]\n",
      " [1179 1414 8042]]\n",
      " \n",
      "confusion matrix in %: \n",
      "[[12.51   0.23   5.09 ]\n",
      " [ 1.665 21.775  5.555]\n",
      " [ 5.895  7.07  40.21 ]]\n",
      " \n",
      "classification report: \n",
      "              precision    recall  f1-score   support\n",
      "\n",
      "           0       0.62      0.70      0.66      3566\n",
      "           1       0.75      0.75      0.75      5799\n",
      "           2       0.79      0.76      0.77     10635\n",
      "\n",
      "    accuracy                           0.74     20000\n",
      "   macro avg       0.72      0.74      0.73     20000\n",
      "weighted avg       0.75      0.74      0.75     20000\n",
      "\n"
     ]
    },
    {
     "name": "stderr",
     "output_type": "stream",
     "text": [
      "[Parallel(n_jobs=8)]: Done 1000 out of 1000 | elapsed:    1.3s finished\n"
     ]
    }
   ],
   "source": [
    "all_score_report.score_clf(ytest,clf.predict(xtest))"
   ]
  }
 ],
 "metadata": {
  "kernelspec": {
   "display_name": "Python 3",
   "language": "python",
   "name": "python3"
  },
  "language_info": {
   "codemirror_mode": {
    "name": "ipython",
    "version": 3
   },
   "file_extension": ".py",
   "mimetype": "text/x-python",
   "name": "python",
   "nbconvert_exporter": "python",
   "pygments_lexer": "ipython3",
   "version": "3.8.8"
  }
 },
 "nbformat": 4,
 "nbformat_minor": 4
}
